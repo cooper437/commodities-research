{
 "cells": [
  {
   "cell_type": "code",
   "execution_count": null,
   "metadata": {},
   "outputs": [],
   "source": [
    "import pandas as pd\n",
    "import os\n",
    "import datetime\n",
    "from tqdm.notebook import trange, tqdm"
   ]
  },
  {
   "cell_type": "markdown",
   "metadata": {},
   "source": [
    "A quick and dirty way to test out if there is any meaningful correlation between the intraday price change at minute 60 after the open and the price difference between the market open and  a prior days settlement prices. \n",
    "We do this two ways:\n",
    "- First we generate a histogram for each combination of open type and and interval lookback period showing the frequency of occurence of various values for 'Price Difference b/w Open And Prior Day Settlement'. This allows us to see the shape of the distribution.\n",
    "- Second we graph out a scatter plot to show the relationships between these variables in on an x,y coordinate plane."
   ]
  },
  {
   "cell_type": "code",
   "execution_count": null,
   "metadata": {},
   "outputs": [],
   "source": [
    "CURRENT_DIR = os.getcwd()\n",
    "SETLLEMENT_CHANGE_DATA_PATH = os.path.join(\n",
    "    CURRENT_DIR, '../data/processed/futures_contracts/settlement_analytics'\n",
    ")\n",
    "CONTRACT_INTRADAY_SLIDING_OPEN_FILE_PATH = os.path.join(\n",
    "    CURRENT_DIR, '../data/processed/futures_contracts/contract_open_enriched_sliding_open.csv')\n",
    "CONTRACT_INTRADAY_TRUE_OPEN_FILE_PATH = os.path.join(\n",
    "    CURRENT_DIR, '../data/processed/futures_contracts/contract_open_enriched_true_open.csv')\n",
    "\n",
    "# These parameters allow us to filter out trading activity on days where the contract DTE tends to have missing open bars\n",
    "DTE_FILTER_UPPER_BOUNDARY = 140\n",
    "DTE_FILTER_LOWER_BOUNDARY = 25"
   ]
  },
  {
   "cell_type": "code",
   "execution_count": null,
   "metadata": {},
   "outputs": [],
   "source": [
    "def get_change_from_settlement_information(filename):\n",
    "    csv_as_df = pd.read_csv(\n",
    "        SETLLEMENT_CHANGE_DATA_PATH + '/' + filename,\n",
    "        parse_dates=['Date'],\n",
    "        usecols=['Date','Price Difference b/w Open And Prior Day Settlement', 'Symbol']\n",
    "    )\n",
    "    populated_price_only_df = csv_as_df[~csv_as_df['Price Difference b/w Open And Prior Day Settlement'].isnull()]\n",
    "    return (populated_price_only_df, filename)"
   ]
  },
  {
   "cell_type": "code",
   "execution_count": null,
   "metadata": {},
   "outputs": [],
   "source": [
    "def intraday_open_csv_to_df(filename) -> pd.DataFrame:\n",
    "    csv_as_df = pd.read_csv(\n",
    "        filename,\n",
    "        parse_dates=['DateTime'],\n",
    "        usecols=[\n",
    "            'Symbol', 'DateTime', 'Open Minutes Offset', 'Open', 'High', 'Low', 'Close',\n",
    "            'Volume', 'Price Change From Intraday Open', 'Expiration Date', 'DTE'\n",
    "        ]\n",
    "    )\n",
    "    return csv_as_df"
   ]
  },
  {
   "cell_type": "code",
   "execution_count": null,
   "metadata": {},
   "outputs": [],
   "source": [
    "def filter_bars_for_dte_with_frequently_missing_open(\n",
    "    intraday_open_df: pd.DataFrame,\n",
    "    dte_filter_lower_boundary: int,\n",
    "    dte_filter_upper_boundary: int\n",
    ") -> pd.DataFrame:\n",
    "    '''Filter out days associated with a DTE that is often missing a true open bar'''\n",
    "    filtered_df = intraday_open_df[(intraday_open_df['DTE'] >= dte_filter_lower_boundary) & (\n",
    "        intraday_open_df['DTE'] <= dte_filter_upper_boundary)]\n",
    "    return filtered_df"
   ]
  },
  {
   "cell_type": "code",
   "execution_count": null,
   "metadata": {},
   "outputs": [],
   "source": [
    "def get_settlement_price_change_for_date(a_date: datetime.date, a_settlement_df: pd.DataFrame):\n",
    "  rows_with_date = a_settlement_df[a_settlement_df['Date'].dt.date == a_date]\n",
    "  if rows_with_date.empty: return None\n",
    "  return rows_with_date.iloc[0]['Price Difference b/w Open And Prior Day Settlement']"
   ]
  },
  {
   "cell_type": "code",
   "execution_count": null,
   "metadata": {},
   "outputs": [],
   "source": [
    "def get_intraday_price_change_at_minute_sixty(a_date: datetime.date, intraday_df: pd.DataFrame):\n",
    "    rows_with_date = intraday_df[intraday_df['DateTime'].dt.date == a_date]\n",
    "    if rows_with_date.empty: return None\n",
    "    t_sixty_row = rows_with_date[rows_with_date['Open Minutes Offset'] == 59]\n",
    "    if t_sixty_row.empty: return None\n",
    "    return t_sixty_row.iloc[0]['Price Change From Intraday Open']"
   ]
  },
  {
   "cell_type": "code",
   "execution_count": null,
   "metadata": {},
   "outputs": [],
   "source": [
    "files = os.listdir(SETLLEMENT_CHANGE_DATA_PATH)\n",
    "del files[3]\n",
    "files"
   ]
  },
  {
   "cell_type": "code",
   "execution_count": null,
   "metadata": {},
   "outputs": [],
   "source": [
    "settlement_change_datasets = [get_change_from_settlement_information(x) for x in files]"
   ]
  },
  {
   "cell_type": "markdown",
   "metadata": {},
   "source": [
    "Generate a histogram for each combination of open type and and interval lookback period showing the frequency of occurence of various values for 'Price Difference b/w Open And Prior Day Settlement'. This allows us to see the shape of the distribution."
   ]
  },
  {
   "cell_type": "code",
   "execution_count": null,
   "metadata": {},
   "outputs": [],
   "source": [
    "for settlement_change_dataset in settlement_change_datasets:\n",
    "  a_df_price_diff_only = settlement_change_dataset[0][['Price Difference b/w Open And Prior Day Settlement']]\n",
    "  a_df_price_diff_only.plot.hist(bins=30, figsize=(30, 8), title=settlement_change_dataset[1])"
   ]
  },
  {
   "cell_type": "code",
   "execution_count": null,
   "metadata": {},
   "outputs": [],
   "source": [
    "sliding_open_df = intraday_open_csv_to_df(CONTRACT_INTRADAY_SLIDING_OPEN_FILE_PATH)\n",
    "true_open_df = intraday_open_csv_to_df(CONTRACT_INTRADAY_TRUE_OPEN_FILE_PATH)\n",
    "sliding_open_df = filter_bars_for_dte_with_frequently_missing_open(\n",
    "    intraday_open_df=sliding_open_df,\n",
    "    dte_filter_lower_boundary=DTE_FILTER_LOWER_BOUNDARY,\n",
    "    dte_filter_upper_boundary=DTE_FILTER_UPPER_BOUNDARY\n",
    ")\n",
    "true_open_df = filter_bars_for_dte_with_frequently_missing_open(\n",
    "    intraday_open_df=true_open_df,\n",
    "    dte_filter_lower_boundary=DTE_FILTER_LOWER_BOUNDARY,\n",
    "    dte_filter_upper_boundary=DTE_FILTER_UPPER_BOUNDARY\n",
    ")"
   ]
  },
  {
   "cell_type": "code",
   "execution_count": null,
   "metadata": {},
   "outputs": [],
   "source": [
    "unique_symbols = sliding_open_df['Symbol'].drop_duplicates().to_list()"
   ]
  },
  {
   "cell_type": "code",
   "execution_count": null,
   "metadata": {},
   "outputs": [],
   "source": [
    "corellation_matrix = {}\n",
    "for a_settlement_change_dataset_index in trange(len(settlement_change_datasets), desc=\"settlement change dataset\"):\n",
    "  a_settlement_change_dataset = settlement_change_datasets[a_settlement_change_dataset_index]\n",
    "  corellation_matrix[a_settlement_change_dataset[1]] = []\n",
    "  if a_settlement_change_dataset[1] == \"true\":\n",
    "    intraday_df = true_open_df\n",
    "  else:\n",
    "    intraday_df = sliding_open_df\n",
    "  for a_symbol_index in trange(len(unique_symbols), desc=\"Contract symbols fpr dataset\"):\n",
    "    a_symbol = unique_symbols[a_symbol_index]\n",
    "    a_settlement_change_dataset_for_symbol = a_settlement_change_dataset[0][a_settlement_change_dataset[0]['Symbol'] == a_symbol]\n",
    "    intraday_df_for_symbol = intraday_df[intraday_df['Symbol'] == a_symbol]\n",
    "    unique_dates = a_settlement_change_dataset_for_symbol['Date'].dt.date.drop_duplicates().tolist()\n",
    "    for a_date in unique_dates:\n",
    "      settlement_price_diff = get_settlement_price_change_for_date(a_date=a_date, a_settlement_df=a_settlement_change_dataset_for_symbol)\n",
    "      intraday_cfo = get_intraday_price_change_at_minute_sixty(a_date=a_date,intraday_df=intraday_df_for_symbol)\n",
    "      if (settlement_price_diff is None) or (intraday_cfo is None):\n",
    "        continue\n",
    "      else:\n",
    "        prices_for_date = {\n",
    "          'Symbol': a_symbol,\n",
    "          'Date': a_date,\n",
    "          'Price Difference b/w Open And Prior Day Settlement': settlement_price_diff,\n",
    "          'CFO At Open t+60': intraday_cfo\n",
    "        }\n",
    "      corellation_matrix[a_settlement_change_dataset[1]].append(prices_for_date)\n",
    "  \n",
    "  "
   ]
  },
  {
   "cell_type": "markdown",
   "metadata": {},
   "source": [
    "Generate out scatter plots"
   ]
  },
  {
   "cell_type": "code",
   "execution_count": null,
   "metadata": {},
   "outputs": [],
   "source": [
    "for title, a_dict in corellation_matrix.items():\n",
    "  a_df = pd.DataFrame(a_dict)\n",
    "  a_df_filtered = a_df[['Price Difference b/w Open And Prior Day Settlement', 'CFO At Open t+60']]\n",
    "  a_df_filtered.plot.scatter(x='Price Difference b/w Open And Prior Day Settlement', y='CFO At Open t+60', title=title, figsize=(10, 10))"
   ]
  }
 ],
 "metadata": {
  "interpreter": {
   "hash": "fc9b2adfd8d07c9e74bcd120a93e3d1d789bdde0783d0fce0e7b36defd2a455c"
  },
  "kernelspec": {
   "display_name": "Python 3.10.0 64-bit ('fund-research-7X-ytICj': venv)",
   "language": "python",
   "name": "python3"
  },
  "language_info": {
   "codemirror_mode": {
    "name": "ipython",
    "version": 3
   },
   "file_extension": ".py",
   "mimetype": "text/x-python",
   "name": "python",
   "nbconvert_exporter": "python",
   "pygments_lexer": "ipython3",
   "version": "3.10.0"
  },
  "orig_nbformat": 4
 },
 "nbformat": 4,
 "nbformat_minor": 2
}
