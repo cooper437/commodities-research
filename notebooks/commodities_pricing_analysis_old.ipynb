{
 "cells": [
  {
   "cell_type": "code",
   "execution_count": 1,
   "metadata": {},
   "outputs": [],
   "source": [
    "import pandas as pd\n",
    "from typing import Tuple, NamedTuple, List\n",
    "from collections import namedtuple\n",
    "import plotly.express as px\n",
    "import plotly.graph_objects as go\n",
    "from tqdm.notebook import trange, tqdm\n",
    "from pandas.tseries.offsets import DateOffset\n",
    "import datetime"
   ]
  },
  {
   "cell_type": "code",
   "execution_count": 2,
   "metadata": {},
   "outputs": [],
   "source": [
    "COMMITMENT_OF_TRADERS_FUTURES_AND_OPTIONS_FILE_PATH = '../data/raw/nasdaq_data_link/commitment_of_trade/CFTC-057642_FO_ALL_OI.csv'\n",
    "CONTRACT_INTRADAY_SLIDING_OPEN_FILE_PATH = '../data/processed/futures_contracts/contract_open_enriched_sliding_open.csv'\n",
    "CONTRACT_INTRADAY_TRUE_OPEN_FILE_PATH = '../data/processed/futures_contracts/contract_open_enriched_true_open.csv'\n",
    "# CONTRACT_OVERNIGHT_CHANGES_SLIDING_OPEN_FILE_PATH = '../data/processed/futures_contracts/overnight_changes_by_contract_sliding_open.csv'\n",
    "# CONTRACT_OVERNIGHT_CHANGES_TRUE_OPEN_FILE_PATH = '../data/processed/futures_contracts/overnight_changes_by_contract_true_open.csv'"
   ]
  },
  {
   "cell_type": "code",
   "execution_count": 3,
   "metadata": {},
   "outputs": [],
   "source": [
    "# These parameters allow us to filter out trading activity on days where the contract DTE tends to have missing open bars\n",
    "FILTER_OUT_DTE_WITH_FREQUENTLY_MISSING_OPEN = True\n",
    "DTE_FILTER_UPPER_BOUNDARY = 140\n",
    "DTE_FILTER_LOWER_BOUNDARY = 25"
   ]
  },
  {
   "cell_type": "code",
   "execution_count": 4,
   "metadata": {},
   "outputs": [],
   "source": [
    "def intraday_open_csv_to_df(filename) -> pd.DataFrame:\n",
    "    csv_as_df = pd.read_csv(\n",
    "        filename,\n",
    "        parse_dates=['DateTime'], \n",
    "        usecols=[\n",
    "          'Symbol','DateTime','Open Minutes Offset','Open','High','Low','Close',\n",
    "            'Volume','Price Change From Intraday Open','Expiration Date','DTE'\n",
    "          ]\n",
    "    )\n",
    "    return csv_as_df"
   ]
  },
  {
   "cell_type": "code",
   "execution_count": 5,
   "metadata": {},
   "outputs": [],
   "source": [
    "def cot_csv_to_df(filename) -> pd.DataFrame:\n",
    "  '''Convert the commitment of traders report to a dataframe with the relevant columns'''\n",
    "  csv_as_df = pd.read_csv(\n",
    "      filename,\n",
    "      parse_dates=['Date'], \n",
    "      usecols=['Date', 'Producer/Merchant/Processor/User Shorts - % of OI']\n",
    "  )\n",
    "  return csv_as_df"
   ]
  },
  {
   "cell_type": "code",
   "execution_count": 6,
   "metadata": {},
   "outputs": [],
   "source": [
    "def overnight_changes_csv_to_df(filename) -> pd.DataFrame:\n",
    "  csv_as_df = pd.read_csv(\n",
    "    filename,\n",
    "    parse_dates=['Date'],\n",
    "    usecols=['Symbol','Date','12:59 Change','13:04 Change','Last Bar Change']\n",
    "  )\n",
    "  return csv_as_df"
   ]
  },
  {
   "cell_type": "code",
   "execution_count": 7,
   "metadata": {},
   "outputs": [],
   "source": [
    "def filter_and_split_cot_shorts_around_median(\n",
    "  cot_df: pd.DataFrame\n",
    ") -> NamedTuple:\n",
    "  median_pmpu_shorts_percentage = cot_df['Producer/Merchant/Processor/User Shorts - % of OI'].median()\n",
    "  cot_pmpu_shorts_above_median_df = cot_df[cot_df['Producer/Merchant/Processor/User Shorts - % of OI'] >= median_pmpu_shorts_percentage].copy().reset_index(drop=True)\n",
    "  cot_pmpu_shorts_below_median_df = cot_df[cot_df['Producer/Merchant/Processor/User Shorts - % of OI'] < median_pmpu_shorts_percentage].copy().reset_index(drop=True)\n",
    "  pmpu_shorts_split_by_median = namedtuple('pmpu_around_median', ['above_median_df', 'below_median_df'])\n",
    "  return pmpu_shorts_split_by_median(cot_pmpu_shorts_above_median_df, cot_pmpu_shorts_below_median_df)"
   ]
  },
  {
   "cell_type": "code",
   "execution_count": 8,
   "metadata": {},
   "outputs": [],
   "source": [
    "def filter_and_split_overnight_changes(\n",
    "  overnight_changes_df: pd.DataFrame,\n",
    "  close_bar_column_name: str # For example '12:59 Change'\n",
    ") -> NamedTuple:\n",
    "  '''\n",
    "  Filter an overnight changes dataset to only include those days where a particular close bar column has changes. Then split those days/rows into two dataframes\n",
    "  based on whether they have a positive or negative value\n",
    "  '''\n",
    "  overnight_where_change_exists_df = overnight_changes_df[overnight_changes_df[close_bar_column_name].notna()]\n",
    "  overnight_positive_change_df = overnight_where_change_exists_df[overnight_where_change_exists_df[close_bar_column_name] >= 0]\n",
    "  overnight_negative_change_df = overnight_where_change_exists_df[overnight_where_change_exists_df[close_bar_column_name] < 0]\n",
    "  overnight_changes = namedtuple('overnight_changes', ['positive_change_df', 'negative_change_df'])\n",
    "  return overnight_changes(overnight_positive_change_df, overnight_negative_change_df)"
   ]
  },
  {
   "cell_type": "code",
   "execution_count": 9,
   "metadata": {},
   "outputs": [],
   "source": [
    "def split_intraday_activity_by_overnight_change_for_symbol(\n",
    "  contract_symbol: str,\n",
    "  overnight_positive_change_from_close_df: pd.DataFrame,\n",
    "  overnight_negative_change_from_close_df: pd.DataFrame,\n",
    "  intraday_df: pd.DataFrame\n",
    "  ) -> NamedTuple:\n",
    "    '''\n",
    "    Split the intraday minutes for a given contract symbol into those days minutes which correspond to a positive overnight close change and those days minutes that correspond to a negative overnight close change.\n",
    "    Return the split data as a tuple of dataframes accordingly\n",
    "    '''\n",
    "    # Get a series of dates representing the days where there was a positive change from the prior days close bar for this symbol\n",
    "    dates_of_positive_change_series = overnight_positive_change_from_close_df[overnight_positive_change_from_close_df['Symbol'] == contract_symbol]['Date'].dt.date\n",
    "    # Get a series of dates representing the days where there was a negative change from the prior days close bar for this symbol\n",
    "    dates_of_negative_change_series = overnight_negative_change_from_close_df[overnight_negative_change_from_close_df['Symbol'] == contract_symbol]['Date'].dt.date\n",
    "    # Filter down our intraday enriched contract data to only include those items matching the the symbol we are currently analyzing\n",
    "    intraday_for_symbol_df = intraday_df[intraday_df['Symbol'] == contract_symbol]\n",
    "    # Filter down the rows in the intraday data for this symbol to only those associated with a day where there was a negative overnight change for this type of close\n",
    "    intraday_minutes_negative_change_df = intraday_for_symbol_df[intraday_for_symbol_df['DateTime'].dt.date.isin(dates_of_negative_change_series)]\n",
    "    # Filter down the rows in the intraday data for this symbol to only those associated with a day where there was a positive overnight change for this type of close\n",
    "    intraday_minutes_positive_change_df = intraday_for_symbol_df[intraday_for_symbol_df['DateTime'].dt.date.isin(dates_of_positive_change_series)]\n",
    "    intraday_minute_changes = namedtuple('intraday_minute_changes', ['positive_change_df', 'negative_change_df'])\n",
    "    return intraday_minute_changes(intraday_minutes_positive_change_df, intraday_minutes_negative_change_df)"
   ]
  },
  {
   "cell_type": "code",
   "execution_count": 10,
   "metadata": {},
   "outputs": [],
   "source": [
    "def split_intraday_activity_by_overnight_change_all_symbols(\n",
    "  symbols: List[str],\n",
    "  overnight_positive_change_from_close_df: pd.DataFrame,\n",
    "  overnight_negative_change_from_close_df: pd.DataFrame,\n",
    "  intraday_df: pd.DataFrame\n",
    ") -> NamedTuple:\n",
    "  '''\n",
    "  Split the intraday minutes for a list of symbols into those days minutes which correspond to a positive overnight close change and those days minutes that correspond to a negative overnight close change.\n",
    "  Return the split data as a tuple of dataframes accordingly\n",
    "  '''\n",
    "  open_bars_where_close_was_positive_df = pd.DataFrame()\n",
    "  open_bars_where_close_was_negative_df = pd.DataFrame()\n",
    "  for i in trange(len(symbols), desc=\"Splitting intraday activity by overnight change for each contract\"):\n",
    "    symbol = symbols[i]\n",
    "    intraday_minute_changes = split_intraday_activity_by_overnight_change_for_symbol(\n",
    "      contract_symbol=symbol,\n",
    "      overnight_positive_change_from_close_df=overnight_positive_change_from_close_df,\n",
    "      overnight_negative_change_from_close_df=overnight_negative_change_from_close_df,\n",
    "      intraday_df=intraday_df\n",
    "      )\n",
    "    open_bars_where_close_was_positive_df = pd.concat([open_bars_where_close_was_positive_df, intraday_minute_changes.positive_change_df], ignore_index=True)\n",
    "    open_bars_where_close_was_negative_df = pd.concat([open_bars_where_close_was_negative_df, intraday_minute_changes.negative_change_df], ignore_index=True)\n",
    "  intraday_minute_bars_split = namedtuple('intraday_minute_bars_split', ['positive_change_df', 'negative_change_df'])\n",
    "  return intraday_minute_bars_split(open_bars_where_close_was_positive_df, open_bars_where_close_was_negative_df)"
   ]
  },
  {
   "cell_type": "code",
   "execution_count": 11,
   "metadata": {},
   "outputs": [],
   "source": [
    "def is_date_inside_range_of_dataframe(a_date: pd.Timestamp, cot_pmpu_shorts_df: pd.DataFrame) -> bool:\n",
    "  rows_with_a_date_inside = cot_pmpu_shorts_df[(cot_pmpu_shorts_df['Begin Apply Date Range'] <= a_date) & (cot_pmpu_shorts_df['End Apply Date Range'] >= a_date)]\n",
    "  contains_rows_with_date_inside = rows_with_a_date_inside['Date'].any()\n",
    "  if contains_rows_with_date_inside:\n",
    "    print('True')\n",
    "  return contains_rows_with_date_inside"
   ]
  },
  {
   "cell_type": "code",
   "execution_count": 27,
   "metadata": {},
   "outputs": [],
   "source": [
    "def date_of_preceding_tuesday(a_date: pd.Timestamp) -> pd.Timestamp:\n",
    "  day_of_week = a_date.date().weekday()\n",
    "  match day_of_week:\n",
    "    case 0: # Monday\n",
    "      days_since_preceding_tuesday = 6\n",
    "    case 1: # Tuesday\n",
    "      days_since_preceding_tuesday = 0\n",
    "    case 2: # Wednesday\n",
    "      days_since_preceding_tuesday = 1\n",
    "    case 3: # Thursday\n",
    "      days_since_preceding_tuesday = 2\n",
    "    case 4: # Friday\n",
    "      days_since_preceding_tuesday = 3\n",
    "    case 5: # Saturday\n",
    "      days_since_preceding_tuesday = 4\n",
    "    case 6: # Sunday\n",
    "      days_since_preceding_tuesday = 5\n",
    "  preceding_tuesday_date = a_date - datetime.timedelta(days=days_since_preceding_tuesday)\n",
    "  return preceding_tuesday_date"
   ]
  },
  {
   "cell_type": "code",
   "execution_count": 13,
   "metadata": {},
   "outputs": [],
   "source": [
    "def split_intraday_activity_by_cot_median(\n",
    "  cot_pmpu_shorts_above_median_df: pd.DataFrame,\n",
    "  cot_pmpu_shorts_below_median_df: pd.DataFrame,\n",
    "  intraday_df: pd.DataFrame\n",
    ") -> NamedTuple:\n",
    "  # open_bars_where_cot_pmpu_shorts_above_median_df = pd.DataFrame()\n",
    "  # open_bars_where_cot_pmpu_shorts_above_median_df = pd.DataFrame()\n",
    "  open_bars_where_cot_pmpu_shorts_above_median_df = intraday_df.apply(lambda x: is_date_inside_range_of_dataframe(a_date=x['DateTime'], cot_pmpu_shorts_df=cot_pmpu_shorts_above_median_df), axis=0)\n",
    "  open_bars_where_cot_pmpu_shorts_below_median_df = intraday_df.apply(lambda x: is_date_inside_range_of_dataframe(a_date=x['DateTime'], cot_pmpu_shorts_df=cot_pmpu_shorts_below_median_df), axis=0)\n",
    "  # for i in trange(len(symbols), desc=\"Splitting intraday activity by commitment of trade PMPU short interest above and below median\"):\n",
    "  #   symbol = symbols[i]\n",
    "  #   intraday_minute_changes = split_intraday_activity_by_overnight_change_for_symbol(\n",
    "  #     contract_symbol=symbol,\n",
    "  #     cot_pmpu_shorts_above_median_df=cot_pmpu_shorts_above_median_df,\n",
    "  #     cot_pmpu_shorts_below_median_df=cot_pmpu_shorts_below_median_df,\n",
    "  #     intraday_df=intraday_df\n",
    "  #     )\n",
    "  #   open_bars_where_cot_pmpu_shorts_above_median_df = pd.concat([open_bars_where_cot_pmpu_shorts_above_median_df, intraday_minute_changes.positive_change_df], ignore_index=True)\n",
    "  #   open_bars_where_cot_pmpu_shorts_above_median_df = pd.concat([open_bars_where_cot_pmpu_shorts_above_median_df, intraday_minute_changes.negative_change_df], ignore_index=True)\n",
    "  intraday_minute_bars_split = namedtuple('intraday_minute_bars_split', ['above_median', 'below_median'])\n",
    "  return intraday_minute_bars_split(open_bars_where_cot_pmpu_shorts_above_median_df, open_bars_where_cot_pmpu_shorts_below_median_df)"
   ]
  },
  {
   "cell_type": "code",
   "execution_count": 14,
   "metadata": {},
   "outputs": [],
   "source": [
    "def calculate_average_intraday_price_change_grouped_by_open_minutes_offset(intraday_minute_bars_df: pd.DataFrame) -> pd.DataFrame:\n",
    "  '''\n",
    "  Group the intraday minute bars by their Open Minutes Offset and calculate the mean for each minute. Return all that as a single dataframe\n",
    "  '''\n",
    "  overnight_positive_change_df = intraday_minute_bars_df.positive_change_df.groupby('Open Minutes Offset', as_index=False)['Price Change From Intraday Open'].mean()\n",
    "  overnight_negative_change_df = intraday_minute_bars_df.negative_change_df.groupby('Open Minutes Offset', as_index=False)['Price Change From Intraday Open'].mean()\n",
    "  to_return_df = pd.DataFrame({\n",
    "    'Open Minutes Offset': overnight_positive_change_df['Open Minutes Offset'],\n",
    "    'Avg Intraday Price Change When Overnight Change >= 0': overnight_positive_change_df['Price Change From Intraday Open'],\n",
    "    'Avg Intraday Price Change When Overnight Change < 0': overnight_negative_change_df['Price Change From Intraday Open']\n",
    "  })\n",
    "  return to_return_df"
   ]
  },
  {
   "cell_type": "code",
   "execution_count": 15,
   "metadata": {},
   "outputs": [],
   "source": [
    "def generate_figure(intraday_price_changes_split_df: pd.DataFrame, fig_title: str) -> go.Figure:\n",
    "  fig = go.Figure()\n",
    "  fig.add_trace(go.Scatter(\n",
    "    x=intraday_price_changes_split_df['Open Minutes Offset'],\n",
    "    y=intraday_price_changes_split_df['Avg Intraday Price Change When Overnight Change >= 0'],\n",
    "    mode='lines+markers',\n",
    "    name='When Overnight Change >= 0')\n",
    "    )\n",
    "  fig.add_trace(go.Scatter(\n",
    "    x=intraday_price_changes_split_df['Open Minutes Offset'],\n",
    "    y=intraday_price_changes_split_df['Avg Intraday Price Change When Overnight Change < 0'],\n",
    "    mode='lines+markers',\n",
    "    name='When Overnight Change < 0')\n",
    "    )\n",
    "  fig.update_xaxes(title_text='Minutes After Open')\n",
    "  fig.update_yaxes(title_text='Avg Price Change From Open')\n",
    "  fig.update_layout(title_text=fig_title)\n",
    "  return fig"
   ]
  },
  {
   "cell_type": "code",
   "execution_count": 16,
   "metadata": {},
   "outputs": [],
   "source": [
    "def calc_begin_cot_apply_date_range(report_observation_date: pd.Timestamp) -> Tuple[pd.Timestamp, pd.Timestamp]:\n",
    "  begin_apply_date = report_observation_date + DateOffset(days=6)\n",
    "  return begin_apply_date\n"
   ]
  },
  {
   "cell_type": "code",
   "execution_count": 17,
   "metadata": {},
   "outputs": [],
   "source": [
    "def calc_end_cot_apply_date_range(report_observation_date: pd.Timestamp) -> Tuple[pd.Timestamp, pd.Timestamp]:\n",
    "  end_apply_date = report_observation_date + DateOffset(days=12)\n",
    "  return end_apply_date"
   ]
  },
  {
   "cell_type": "code",
   "execution_count": 18,
   "metadata": {},
   "outputs": [],
   "source": [
    "def enrich_with_apply_dates(cot_df: pd.DataFrame) -> pd.DataFrame:\n",
    "  begin_apply_date_series = cot_df['Date'].apply(calc_begin_cot_apply_date_range)\n",
    "  end_apply_date_series = cot_df['Date'].apply(calc_end_cot_apply_date_range)\n",
    "  enriched_df = cot_df.copy()\n",
    "  enriched_df['Begin Apply Date Range'] = begin_apply_date_series\n",
    "  enriched_df['End Apply Date Range'] = end_apply_date_series\n",
    "  return enriched_df"
   ]
  },
  {
   "cell_type": "code",
   "execution_count": 19,
   "metadata": {},
   "outputs": [],
   "source": [
    "def filter_bars_for_dte_with_frequently_missing_open(\n",
    "  intraday_open_df: pd.DataFrame,\n",
    "  dte_filter_lower_boundary: int,\n",
    "  dte_filter_upper_boundary: int\n",
    "  ) -> pd.DataFrame:\n",
    "  '''Filter out days associated with a DTE that is often missing a true open bar'''\n",
    "  filtered_df = intraday_open_df[(intraday_open_df['DTE'] >= dte_filter_lower_boundary) & (intraday_open_df['DTE'] <= dte_filter_upper_boundary)]\n",
    "  return filtered_df"
   ]
  },
  {
   "cell_type": "code",
   "execution_count": 20,
   "metadata": {},
   "outputs": [],
   "source": [
    "intraday_sliding_open_df = intraday_open_csv_to_df(CONTRACT_INTRADAY_SLIDING_OPEN_FILE_PATH)\n",
    "intraday_true_open_df = intraday_open_csv_to_df(CONTRACT_INTRADAY_TRUE_OPEN_FILE_PATH)\n",
    "cot_df = cot_csv_to_df(COMMITMENT_OF_TRADERS_FUTURES_AND_OPTIONS_FILE_PATH)\n",
    "# overnight_sliding_open_df = overnight_changes_csv_to_df(CONTRACT_OVERNIGHT_CHANGES_SLIDING_OPEN_FILE_PATH)\n",
    "# overnight_true_open_df = overnight_changes_csv_to_df(CONTRACT_OVERNIGHT_CHANGES_TRUE_OPEN_FILE_PATH)"
   ]
  },
  {
   "cell_type": "code",
   "execution_count": 21,
   "metadata": {},
   "outputs": [],
   "source": [
    "cot_df = enrich_with_apply_dates(cot_df)"
   ]
  },
  {
   "cell_type": "markdown",
   "metadata": {},
   "source": [
    "Segment the overnight true open dataset into 3 datasets one for each close bar. Each of those datasets is further divided into two data frames one containing positive overnight changes for the bar and the other containing negative overnight changes for that bar"
   ]
  },
  {
   "cell_type": "code",
   "execution_count": 22,
   "metadata": {},
   "outputs": [],
   "source": [
    "unique_symbols = list(intraday_true_open_df.Symbol.unique())"
   ]
  },
  {
   "cell_type": "code",
   "execution_count": 23,
   "metadata": {},
   "outputs": [],
   "source": [
    "pmpu_shorts_split_by_median = filter_and_split_cot_shorts_around_median(cot_df)"
   ]
  },
  {
   "cell_type": "code",
   "execution_count": 26,
   "metadata": {},
   "outputs": [],
   "source": [
    "intraday_true_open_df['Date Of Preceding Tuesday'] = intraday_true_open_df['DateTime'].apply(date_of_preceding_tuesday)"
   ]
  },
  {
   "cell_type": "code",
   "execution_count": null,
   "metadata": {},
   "outputs": [],
   "source": [
    "intraday_true_open_df.loc"
   ]
  },
  {
   "cell_type": "code",
   "execution_count": null,
   "metadata": {},
   "outputs": [],
   "source": [
    "intraday_minute_bars_split = split_intraday_activity_by_cot_median(\n",
    "  cot_pmpu_shorts_above_median_df=pmpu_shorts_split_by_median.above_median_df,\n",
    "  cot_pmpu_shorts_below_median_df=pmpu_shorts_split_by_median.below_median_df,\n",
    "  intraday_df=intraday_true_open_df\n",
    "  )"
   ]
  },
  {
   "cell_type": "markdown",
   "metadata": {},
   "source": [
    "Get all the overnight changes for the true open approach"
   ]
  },
  {
   "cell_type": "code",
   "execution_count": null,
   "metadata": {},
   "outputs": [],
   "source": [
    "# overnight_twelve_fifty_nine_true_open_changes = filter_and_split_overnight_changes(\n",
    "#   overnight_changes_df=overnight_true_open_df,\n",
    "#   close_bar_column_name='12:59 Change'\n",
    "# )\n",
    "# overnight_thirteen_oh_four_true_open_changes = filter_and_split_overnight_changes(\n",
    "#   overnight_changes_df=overnight_true_open_df,\n",
    "#   close_bar_column_name='13:04 Change'\n",
    "# )\n",
    "# overnight_last_bar_true_open_changes = filter_and_split_overnight_changes(\n",
    "#   overnight_changes_df=overnight_true_open_df,\n",
    "#   close_bar_column_name='Last Bar Change'\n",
    "# )"
   ]
  },
  {
   "cell_type": "markdown",
   "metadata": {},
   "source": [
    "Get all the overnight changes for the sliding open approach"
   ]
  },
  {
   "cell_type": "code",
   "execution_count": null,
   "metadata": {},
   "outputs": [],
   "source": [
    "# overnight_twelve_fifty_nine_sliding_open_changes = filter_and_split_overnight_changes(\n",
    "#   overnight_changes_df=overnight_sliding_open_df,\n",
    "#   close_bar_column_name='12:59 Change'\n",
    "# )\n",
    "# overnight_thirteen_oh_four_sliding_open_changes = filter_and_split_overnight_changes(\n",
    "#   overnight_changes_df=overnight_sliding_open_df,\n",
    "#   close_bar_column_name='13:04 Change'\n",
    "# )\n",
    "# overnight_last_bar_sliding_open_changes = filter_and_split_overnight_changes(\n",
    "#   overnight_changes_df=overnight_sliding_open_df,\n",
    "#   close_bar_column_name='Last Bar Change'\n",
    "# )"
   ]
  },
  {
   "cell_type": "code",
   "execution_count": null,
   "metadata": {},
   "outputs": [],
   "source": [
    "# if FILTER_OUT_DTE_WITH_FREQUENTLY_MISSING_OPEN:\n",
    "#   intraday_true_open_df = filter_bars_for_dte_with_frequently_missing_open(intraday_open_df=intraday_true_open_df, dte_filter_lower_boundary=DTE_FILTER_LOWER_BOUNDARY, dte_filter_upper_boundary=DTE_FILTER_UPPER_BOUNDARY)\n",
    "#   intraday_sliding_open_df = filter_bars_for_dte_with_frequently_missing_open(intraday_open_df=intraday_sliding_open_df, dte_filter_lower_boundary=DTE_FILTER_LOWER_BOUNDARY, dte_filter_upper_boundary=DTE_FILTER_UPPER_BOUNDARY)"
   ]
  },
  {
   "cell_type": "markdown",
   "metadata": {},
   "source": [
    "Segment the intraday true open dataset into 3 datasets one associated with each type of close. Each of those datasets is further split into two dataframes one containing the intraday changes associated with a positive overnight change and the other of which contains the intraday changes associated with a negative overnight change"
   ]
  },
  {
   "cell_type": "code",
   "execution_count": null,
   "metadata": {},
   "outputs": [],
   "source": [
    "print(\"Gathering Intraday split data for true open @ 12:59\")\n",
    "true_open_twelve_fifty_nine_intraday_minute_bars_split = split_intraday_activity_by_overnight_change_all_symbols(\n",
    "  symbols=unique_symbols,\n",
    "  overnight_positive_change_from_close_df=overnight_twelve_fifty_nine_true_open_changes.positive_change_df,\n",
    "  overnight_negative_change_from_close_df=overnight_twelve_fifty_nine_true_open_changes.negative_change_df,\n",
    "  intraday_df=intraday_true_open_df\n",
    ")\n",
    "print(\"Gathering Intraday split data for true open @ 13:04\")\n",
    "true_open_thirteen_oh_four_intraday_minute_bars_split = split_intraday_activity_by_overnight_change_all_symbols(\n",
    "  symbols=unique_symbols,\n",
    "  overnight_positive_change_from_close_df=overnight_thirteen_oh_four_true_open_changes.positive_change_df,\n",
    "  overnight_negative_change_from_close_df=overnight_thirteen_oh_four_true_open_changes.negative_change_df,\n",
    "  intraday_df=intraday_true_open_df\n",
    ")\n",
    "print(\"Gathering Intraday split data for true open @ last bar of day\")\n",
    "true_open_last_bar_intraday_minute_bars_split = split_intraday_activity_by_overnight_change_all_symbols(\n",
    "  symbols=unique_symbols,\n",
    "  overnight_positive_change_from_close_df=overnight_last_bar_true_open_changes.positive_change_df,\n",
    "  overnight_negative_change_from_close_df=overnight_last_bar_true_open_changes.negative_change_df,\n",
    "  intraday_df=intraday_true_open_df\n",
    ")"
   ]
  },
  {
   "cell_type": "markdown",
   "metadata": {},
   "source": [
    "Do the same for the sliding open datasets"
   ]
  },
  {
   "cell_type": "code",
   "execution_count": null,
   "metadata": {},
   "outputs": [],
   "source": [
    "print(\"Gathering Intraday split data for sliding open @ 12:59\")\n",
    "sliding_open_twelve_fifty_nine_intraday_minute_bars_split = split_intraday_activity_by_overnight_change_all_symbols(\n",
    "  symbols=unique_symbols,\n",
    "  overnight_positive_change_from_close_df=overnight_twelve_fifty_nine_sliding_open_changes.positive_change_df,\n",
    "  overnight_negative_change_from_close_df=overnight_twelve_fifty_nine_sliding_open_changes.negative_change_df,\n",
    "  intraday_df=intraday_sliding_open_df\n",
    ")\n",
    "print(\"Gathering Intraday split data for sliding open @ 13:04\")\n",
    "sliding_open_thirteen_oh_four_intraday_minute_bars_split = split_intraday_activity_by_overnight_change_all_symbols(\n",
    "  symbols=unique_symbols,\n",
    "  overnight_positive_change_from_close_df=overnight_thirteen_oh_four_sliding_open_changes.positive_change_df,\n",
    "  overnight_negative_change_from_close_df=overnight_thirteen_oh_four_sliding_open_changes.negative_change_df,\n",
    "  intraday_df=intraday_sliding_open_df\n",
    ")\n",
    "print(\"Gathering Intraday split data for sliding open @ last bar of day\")\n",
    "sliding_open_last_bar_intraday_minute_bars_split = split_intraday_activity_by_overnight_change_all_symbols(\n",
    "  symbols=unique_symbols,\n",
    "  overnight_positive_change_from_close_df=overnight_last_bar_sliding_open_changes.positive_change_df,\n",
    "  overnight_negative_change_from_close_df=overnight_last_bar_sliding_open_changes.negative_change_df,\n",
    "  intraday_df=intraday_sliding_open_df\n",
    ")"
   ]
  },
  {
   "cell_type": "markdown",
   "metadata": {},
   "source": [
    "Calculate intraday average price changes by minute split by overnight price change <= 0 vs overnight price change < 0 for every dataset"
   ]
  },
  {
   "cell_type": "code",
   "execution_count": null,
   "metadata": {},
   "outputs": [],
   "source": [
    "# True Open\n",
    "true_open_twelve_fifty_nine_intraday_average_changes_df = calculate_average_intraday_price_change_grouped_by_open_minutes_offset(true_open_twelve_fifty_nine_intraday_minute_bars_split)\n",
    "true_open_thirteen_oh_four_intraday_average_changes_df = calculate_average_intraday_price_change_grouped_by_open_minutes_offset(true_open_thirteen_oh_four_intraday_minute_bars_split)\n",
    "true_open_last_bar_intraday_average_changes_df = calculate_average_intraday_price_change_grouped_by_open_minutes_offset(true_open_last_bar_intraday_minute_bars_split)\n",
    "# Sliding Open\n",
    "sliding_open_twelve_fifty_nine_intraday_average_changes_df = calculate_average_intraday_price_change_grouped_by_open_minutes_offset(sliding_open_twelve_fifty_nine_intraday_minute_bars_split)\n",
    "sliding_open_thirteen_oh_four_intraday_average_changes_df = calculate_average_intraday_price_change_grouped_by_open_minutes_offset(sliding_open_thirteen_oh_four_intraday_minute_bars_split)\n",
    "sliding_open_last_bar_intraday_average_changes_df = calculate_average_intraday_price_change_grouped_by_open_minutes_offset(sliding_open_last_bar_intraday_minute_bars_split)"
   ]
  },
  {
   "cell_type": "markdown",
   "metadata": {},
   "source": [
    "Generate the figures"
   ]
  },
  {
   "cell_type": "code",
   "execution_count": null,
   "metadata": {},
   "outputs": [],
   "source": [
    "fig1 = generate_figure(\n",
    "  intraday_price_changes_split_df=true_open_twelve_fifty_nine_intraday_average_changes_df,\n",
    "  fig_title='True Open 12:59 Change'\n",
    "  )\n",
    "fig2 = generate_figure(\n",
    "  intraday_price_changes_split_df=true_open_thirteen_oh_four_intraday_average_changes_df,\n",
    "  fig_title='True Open 13:04 Change'\n",
    "  )\n",
    "fig3 = generate_figure(\n",
    "  intraday_price_changes_split_df=true_open_last_bar_intraday_average_changes_df,\n",
    "  fig_title='True Open Last Bar Change'\n",
    "  )\n",
    "fig4 = generate_figure(\n",
    "  intraday_price_changes_split_df=sliding_open_twelve_fifty_nine_intraday_average_changes_df,\n",
    "  fig_title='Sliding Open 12:59 Change'\n",
    "  )\n",
    "fig5 = generate_figure(\n",
    "  intraday_price_changes_split_df=sliding_open_thirteen_oh_four_intraday_average_changes_df,\n",
    "  fig_title='Sliding Open 13:04 Change'\n",
    "  )\n",
    "fig6 = generate_figure(\n",
    "  intraday_price_changes_split_df=sliding_open_last_bar_intraday_average_changes_df,\n",
    "  fig_title='Sliding Open Last Bar Change'\n",
    "  )\n"
   ]
  },
  {
   "cell_type": "markdown",
   "metadata": {},
   "source": [
    "Show the figures"
   ]
  },
  {
   "cell_type": "code",
   "execution_count": null,
   "metadata": {},
   "outputs": [],
   "source": [
    "figures = [fig1, fig2, fig3, fig4, fig5, fig6]\n",
    "for fig in figures:\n",
    "  fig.show()"
   ]
  }
 ],
 "metadata": {
  "interpreter": {
   "hash": "3067ead486e059ec00ffe7555bdb889e6e264a24dc711bf108106cc7baee8d5d"
  },
  "kernelspec": {
   "display_name": "Python 3.9.7 64-bit ('base': conda)",
   "language": "python",
   "name": "python3"
  },
  "language_info": {
   "codemirror_mode": {
    "name": "ipython",
    "version": 3
   },
   "file_extension": ".py",
   "mimetype": "text/x-python",
   "name": "python",
   "nbconvert_exporter": "python",
   "pygments_lexer": "ipython3",
   "version": "3.10.0"
  },
  "orig_nbformat": 4
 },
 "nbformat": 4,
 "nbformat_minor": 2
}
