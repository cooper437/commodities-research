{
 "cells": [
  {
   "cell_type": "code",
   "execution_count": 32,
   "metadata": {},
   "outputs": [],
   "source": [
    "import pandas as pd\n",
    "from typing import Tuple, NamedTuple, List\n",
    "from collections import namedtuple\n",
    "import plotly.express as px\n",
    "import plotly.graph_objects as go\n",
    "from tqdm.notebook import trange, tqdm"
   ]
  },
  {
   "cell_type": "code",
   "execution_count": 2,
   "metadata": {},
   "outputs": [],
   "source": [
    "CONTRACT_INTRADAY_SLIDING_OPEN_FILE_PATH = '../data/processed/futures_contracts/contract_open_enriched_sliding_open.csv'\n",
    "CONTRACT_INTRADAY_TRUE_OPEN_FILE_PATH = '../data/processed/futures_contracts/contract_open_enriched_true_open.csv'\n",
    "CONTRACT_OVERNIGHT_CHANGES_SLIDING_OPEN_FILE_PATH = '../data/processed/futures_contracts/overnight_changes_by_contract_sliding_open.csv'\n",
    "CONTRACT_OVERNIGHT_CHANGES_TRUE_OPEN_FILE_PATH = '../data/processed/futures_contracts/overnight_changes_by_contract_true_open.csv'"
   ]
  },
  {
   "cell_type": "code",
   "execution_count": 3,
   "metadata": {},
   "outputs": [],
   "source": [
    "def intraday_open_csv_to_df(filename) -> pd.DataFrame:\n",
    "    csv_as_df = pd.read_csv(\n",
    "        filename,\n",
    "        parse_dates=['DateTime'], \n",
    "        usecols=[\n",
    "          'Symbol','DateTime','Open Minutes Offset','Open','High','Low','Close',\n",
    "            'Volume','Price Change From Intraday Open','Expiration Date','DTE'\n",
    "          ]\n",
    "    )\n",
    "    return csv_as_df"
   ]
  },
  {
   "cell_type": "code",
   "execution_count": 4,
   "metadata": {},
   "outputs": [],
   "source": [
    "def overnight_changes_csv_to_df(filename) -> pd.DataFrame:\n",
    "  csv_as_df = pd.read_csv(\n",
    "    filename,\n",
    "    parse_dates=['Date'],\n",
    "    usecols=['Symbol','Date','12:59 Change','13:04 Change','Last Bar Change']\n",
    "  )\n",
    "  return csv_as_df"
   ]
  },
  {
   "cell_type": "code",
   "execution_count": 5,
   "metadata": {},
   "outputs": [],
   "source": [
    "def filter_and_split_overnight_changes(\n",
    "  overnight_changes_df: pd.DataFrame,\n",
    "  close_bar_column_name: str # For example '12:59 Change'\n",
    ") -> NamedTuple:\n",
    "  '''\n",
    "  Filter an overnight changes dataset to only include those days where a particular close bar column has changes. Then split those days/rows into two dataframes\n",
    "  based on whether they have a positive or negative value\n",
    "  '''\n",
    "  overnight_where_change_exists_df = overnight_changes_df[overnight_changes_df[close_bar_column_name].notna()]\n",
    "  overnight_positive_change_df = overnight_where_change_exists_df[overnight_where_change_exists_df[close_bar_column_name] >= 0]\n",
    "  overnight_negative_change_df = overnight_where_change_exists_df[overnight_where_change_exists_df[close_bar_column_name] < 0]\n",
    "  overnight_changes = namedtuple('overnight_changes', ['positive_change_df', 'negative_change_df'])\n",
    "  return overnight_changes(overnight_positive_change_df, overnight_negative_change_df)"
   ]
  },
  {
   "cell_type": "code",
   "execution_count": 6,
   "metadata": {},
   "outputs": [],
   "source": [
    "def split_intraday_activity_by_overnight_change_for_symbol(\n",
    "  contract_symbol: str,\n",
    "  overnight_positive_change_from_close_df: pd.DataFrame,\n",
    "  overnight_negative_change_from_close_df: pd.DataFrame,\n",
    "  intraday_df: pd.DataFrame\n",
    "  ) -> NamedTuple:\n",
    "    '''\n",
    "    Split the intraday minutes for a given contract symbol into those days minutes which correspond to a positive overnight close change and those days minutes that correspond to a negative overnight close change.\n",
    "    Return the split data as a tuple of dataframes accordingly\n",
    "    '''\n",
    "    # Get a series of dates representing the days where there was a positive change from the prior days close bar for this symbol\n",
    "    dates_of_positive_change_series = overnight_positive_change_from_close_df[overnight_positive_change_from_close_df['Symbol'] == contract_symbol]['Date'].dt.date\n",
    "    # Get a series of dates representing the days where there was a negative change from the prior days close bar for this symbol\n",
    "    dates_of_negative_change_series = overnight_negative_change_from_close_df[overnight_negative_change_from_close_df['Symbol'] == contract_symbol]['Date'].dt.date\n",
    "    # Filter down our intraday enriched contract data to only include those items matching the the symbol we are currently analyzing\n",
    "    intraday_for_symbol_df = intraday_df[intraday_df['Symbol'] == contract_symbol]\n",
    "    # Filter down the rows in the intraday data for this symbol to only those associated with a day where there was a negative overnight change for this type of close\n",
    "    intraday_minutes_negative_change_df = intraday_for_symbol_df[intraday_for_symbol_df['DateTime'].dt.date.isin(dates_of_negative_change_series)]\n",
    "    # Filter down the rows in the intraday data for this symbol to only those associated with a day where there was a positive overnight change for this type of close\n",
    "    intraday_minutes_positive_change_df = intraday_for_symbol_df[intraday_for_symbol_df['DateTime'].dt.date.isin(dates_of_positive_change_series)]\n",
    "    intraday_minute_changes = namedtuple('intraday_minute_changes', ['positive_change_df', 'negative_change_df'])\n",
    "    return intraday_minute_changes(intraday_minutes_positive_change_df, intraday_minutes_negative_change_df)"
   ]
  },
  {
   "cell_type": "code",
   "execution_count": 36,
   "metadata": {},
   "outputs": [],
   "source": [
    "def split_intraday_activity_by_overnight_change_all_symbols(\n",
    "  symbols: List[str],\n",
    "  overnight_positive_change_from_close_df: pd.DataFrame,\n",
    "  overnight_negative_change_from_close_df: pd.DataFrame,\n",
    "  intraday_df: pd.DataFrame\n",
    ") -> NamedTuple:\n",
    "  '''\n",
    "  Split the intraday minutes for a list of symbols into those days minutes which correspond to a positive overnight close change and those days minutes that correspond to a negative overnight close change.\n",
    "  Return the split data as a tuple of dataframes accordingly\n",
    "  '''\n",
    "  open_bars_where_close_was_positive_df = pd.DataFrame()\n",
    "  open_bars_where_close_was_negative_df = pd.DataFrame()\n",
    "  for i in trange(len(symbols), desc=\"Splitting intraday activity by overnight change for each contract\"):\n",
    "    symbol = symbols[i]\n",
    "    intraday_minute_changes = split_intraday_activity_by_overnight_change_for_symbol(\n",
    "      contract_symbol=symbol,\n",
    "      overnight_positive_change_from_close_df=overnight_positive_change_from_close_df,\n",
    "      overnight_negative_change_from_close_df=overnight_negative_change_from_close_df,\n",
    "      intraday_df=intraday_df\n",
    "      )\n",
    "    open_bars_where_close_was_positive_df = pd.concat([open_bars_where_close_was_positive_df, intraday_minute_changes.positive_change_df], ignore_index=True)\n",
    "    open_bars_where_close_was_negative_df = pd.concat([open_bars_where_close_was_negative_df, intraday_minute_changes.negative_change_df], ignore_index=True)\n",
    "  intraday_minute_bars_split = namedtuple('intraday_minute_bars_split', ['positive_change_df', 'negative_change_df'])\n",
    "  return intraday_minute_bars_split(open_bars_where_close_was_positive_df, open_bars_where_close_was_negative_df)"
   ]
  },
  {
   "cell_type": "code",
   "execution_count": 8,
   "metadata": {},
   "outputs": [],
   "source": [
    "def calculate_average_intraday_price_change_grouped_by_open_minutes_offset(intraday_minute_bars_df: pd.DataFrame) -> pd.DataFrame:\n",
    "  '''\n",
    "  Group the intraday minute bars by their Open Minutes Offset and calculate the mean for each minute. Return all that as a single dataframe\n",
    "  '''\n",
    "  overnight_positive_change_df = intraday_minute_bars_df.positive_change_df.groupby('Open Minutes Offset', as_index=False)['Price Change From Intraday Open'].mean()\n",
    "  overnight_negative_change_df = intraday_minute_bars_df.negative_change_df.groupby('Open Minutes Offset', as_index=False)['Price Change From Intraday Open'].mean()\n",
    "  to_return_df = pd.DataFrame({\n",
    "    'Open Minutes Offset': overnight_positive_change_df['Open Minutes Offset'],\n",
    "    'Avg Intraday Price Change When Overnight Change >= 0': overnight_positive_change_df['Price Change From Intraday Open'],\n",
    "    'Avg Intraday Price Change When Overnight Change < 0': overnight_negative_change_df['Price Change From Intraday Open']\n",
    "  })\n",
    "  return to_return_df"
   ]
  },
  {
   "cell_type": "code",
   "execution_count": 9,
   "metadata": {},
   "outputs": [],
   "source": [
    "def generate_figure(intraday_price_changes_split_df: pd.DataFrame, fig_title: str) -> go.Figure:\n",
    "  fig = go.Figure()\n",
    "  fig.add_trace(go.Scatter(\n",
    "    x=intraday_price_changes_split_df['Open Minutes Offset'],\n",
    "    y=intraday_price_changes_split_df['Avg Intraday Price Change When Overnight Change >= 0'],\n",
    "    mode='lines+markers',\n",
    "    name='When Overnight Change >= 0')\n",
    "    )\n",
    "  fig.add_trace(go.Scatter(\n",
    "    x=intraday_price_changes_split_df['Open Minutes Offset'],\n",
    "    y=intraday_price_changes_split_df['Avg Intraday Price Change When Overnight Change < 0'],\n",
    "    mode='lines+markers',\n",
    "    name='When Overnight Change < 0')\n",
    "    )\n",
    "  fig.update_xaxes(title_text='Minutes After Open')\n",
    "  fig.update_yaxes(title_text='Avg Price Change From Open')\n",
    "  fig.update_layout(title_text=fig_title)\n",
    "  return fig"
   ]
  },
  {
   "cell_type": "code",
   "execution_count": 10,
   "metadata": {},
   "outputs": [],
   "source": [
    "intraday_sliding_open_df = intraday_open_csv_to_df(CONTRACT_INTRADAY_SLIDING_OPEN_FILE_PATH)\n",
    "intraday_true_open_df = intraday_open_csv_to_df(CONTRACT_INTRADAY_TRUE_OPEN_FILE_PATH)\n",
    "overnight_sliding_open_df = overnight_changes_csv_to_df(CONTRACT_OVERNIGHT_CHANGES_SLIDING_OPEN_FILE_PATH)\n",
    "overnight_true_open_df = overnight_changes_csv_to_df(CONTRACT_OVERNIGHT_CHANGES_TRUE_OPEN_FILE_PATH)"
   ]
  },
  {
   "cell_type": "markdown",
   "metadata": {},
   "source": [
    "Segment the overnight true open dataset into 3 datasets one for each close bar. Each of those datasets is further divided into two data frames one containing positive overnight changes for the bar and the other containing negative overnight changes for that bar"
   ]
  },
  {
   "cell_type": "code",
   "execution_count": 11,
   "metadata": {},
   "outputs": [],
   "source": [
    "unique_symbols = list(intraday_true_open_df.Symbol.unique())"
   ]
  },
  {
   "cell_type": "markdown",
   "metadata": {},
   "source": [
    "Get all the overnight changes for the true open approach"
   ]
  },
  {
   "cell_type": "code",
   "execution_count": 12,
   "metadata": {},
   "outputs": [],
   "source": [
    "overnight_twelve_fifty_nine_true_open_changes = filter_and_split_overnight_changes(\n",
    "  overnight_changes_df=overnight_true_open_df,\n",
    "  close_bar_column_name='12:59 Change'\n",
    ")\n",
    "overnight_thirteen_oh_four_true_open_changes = filter_and_split_overnight_changes(\n",
    "  overnight_changes_df=overnight_true_open_df,\n",
    "  close_bar_column_name='13:04 Change'\n",
    ")\n",
    "overnight_last_bar_true_open_changes = filter_and_split_overnight_changes(\n",
    "  overnight_changes_df=overnight_true_open_df,\n",
    "  close_bar_column_name='Last Bar Change'\n",
    ")"
   ]
  },
  {
   "cell_type": "markdown",
   "metadata": {},
   "source": [
    "Get all the overnight changes for the sliding open approach"
   ]
  },
  {
   "cell_type": "code",
   "execution_count": 25,
   "metadata": {},
   "outputs": [],
   "source": [
    "overnight_twelve_fifty_nine_sliding_open_changes = filter_and_split_overnight_changes(\n",
    "  overnight_changes_df=overnight_sliding_open_df,\n",
    "  close_bar_column_name='12:59 Change'\n",
    ")\n",
    "overnight_thirteen_oh_four_sliding_open_changes = filter_and_split_overnight_changes(\n",
    "  overnight_changes_df=overnight_sliding_open_df,\n",
    "  close_bar_column_name='13:04 Change'\n",
    ")\n",
    "overnight_last_bar_sliding_open_changes = filter_and_split_overnight_changes(\n",
    "  overnight_changes_df=overnight_sliding_open_df,\n",
    "  close_bar_column_name='Last Bar Change'\n",
    ")"
   ]
  },
  {
   "cell_type": "markdown",
   "metadata": {},
   "source": [
    "Segment the intraday true open dataset into 3 datasets one associated with each type of close. Each of those datasets is further split into two dataframes one containing the intraday changes associated with a positive overnight change and the other of which contains the intraday changes associated with a negative overnight change"
   ]
  },
  {
   "cell_type": "code",
   "execution_count": 42,
   "metadata": {},
   "outputs": [
    {
     "name": "stdout",
     "output_type": "stream",
     "text": [
      "Gathering Intraday split data for true open @ 12:59\n"
     ]
    },
    {
     "data": {
      "application/vnd.jupyter.widget-view+json": {
       "model_id": "fd1539abcb8c4596bf57133c37161c1c",
       "version_major": 2,
       "version_minor": 0
      },
      "text/plain": [
       "Splitting intraday activity by overnight change for each contract:   0%|          | 0/77 [00:00<?, ?it/s]"
      ]
     },
     "metadata": {},
     "output_type": "display_data"
    },
    {
     "name": "stdout",
     "output_type": "stream",
     "text": [
      "Gathering Intraday split data for true open @ 13:04\n"
     ]
    },
    {
     "data": {
      "application/vnd.jupyter.widget-view+json": {
       "model_id": "696e230dae3e4ec5b1daaaf0980e22fb",
       "version_major": 2,
       "version_minor": 0
      },
      "text/plain": [
       "Splitting intraday activity by overnight change for each contract:   0%|          | 0/77 [00:00<?, ?it/s]"
      ]
     },
     "metadata": {},
     "output_type": "display_data"
    },
    {
     "name": "stdout",
     "output_type": "stream",
     "text": [
      "Gathering Intraday split data for true open @ last bar of day\n"
     ]
    },
    {
     "data": {
      "application/vnd.jupyter.widget-view+json": {
       "model_id": "60f1bae6d2774fe09a90895f32231560",
       "version_major": 2,
       "version_minor": 0
      },
      "text/plain": [
       "Splitting intraday activity by overnight change for each contract:   0%|          | 0/77 [00:00<?, ?it/s]"
      ]
     },
     "metadata": {},
     "output_type": "display_data"
    }
   ],
   "source": [
    "print(\"Gathering Intraday split data for true open @ 12:59\")\n",
    "true_open_twelve_fifty_nine_intraday_minute_bars_split = split_intraday_activity_by_overnight_change_all_symbols(\n",
    "  symbols=unique_symbols,\n",
    "  overnight_positive_change_from_close_df=overnight_twelve_fifty_nine_true_open_changes.positive_change_df,\n",
    "  overnight_negative_change_from_close_df=overnight_twelve_fifty_nine_true_open_changes.negative_change_df,\n",
    "  intraday_df=intraday_true_open_df\n",
    ")\n",
    "print(\"Gathering Intraday split data for true open @ 13:04\")\n",
    "true_open_thirteen_oh_four_intraday_minute_bars_split = split_intraday_activity_by_overnight_change_all_symbols(\n",
    "  symbols=unique_symbols,\n",
    "  overnight_positive_change_from_close_df=overnight_thirteen_oh_four_true_open_changes.positive_change_df,\n",
    "  overnight_negative_change_from_close_df=overnight_thirteen_oh_four_true_open_changes.negative_change_df,\n",
    "  intraday_df=intraday_true_open_df\n",
    ")\n",
    "print(\"Gathering Intraday split data for true open @ last bar of day\")\n",
    "true_open_last_bar_intraday_minute_bars_split = split_intraday_activity_by_overnight_change_all_symbols(\n",
    "  symbols=unique_symbols,\n",
    "  overnight_positive_change_from_close_df=overnight_last_bar_true_open_changes.positive_change_df,\n",
    "  overnight_negative_change_from_close_df=overnight_last_bar_true_open_changes.negative_change_df,\n",
    "  intraday_df=intraday_true_open_df\n",
    ")"
   ]
  },
  {
   "cell_type": "code",
   "execution_count": 38,
   "metadata": {},
   "outputs": [
    {
     "data": {
      "text/html": [
       "<div>\n",
       "<style scoped>\n",
       "    .dataframe tbody tr th:only-of-type {\n",
       "        vertical-align: middle;\n",
       "    }\n",
       "\n",
       "    .dataframe tbody tr th {\n",
       "        vertical-align: top;\n",
       "    }\n",
       "\n",
       "    .dataframe thead th {\n",
       "        text-align: right;\n",
       "    }\n",
       "</style>\n",
       "<table border=\"1\" class=\"dataframe\">\n",
       "  <thead>\n",
       "    <tr style=\"text-align: right;\">\n",
       "      <th></th>\n",
       "      <th>Symbol</th>\n",
       "      <th>DateTime</th>\n",
       "      <th>Open Minutes Offset</th>\n",
       "      <th>Open</th>\n",
       "      <th>High</th>\n",
       "      <th>Low</th>\n",
       "      <th>Close</th>\n",
       "      <th>Volume</th>\n",
       "      <th>Price Change From Intraday Open</th>\n",
       "      <th>Expiration Date</th>\n",
       "      <th>DTE</th>\n",
       "    </tr>\n",
       "  </thead>\n",
       "  <tbody>\n",
       "    <tr>\n",
       "      <th>0</th>\n",
       "      <td>LEG09</td>\n",
       "      <td>2008-08-18 10:05:00</td>\n",
       "      <td>0</td>\n",
       "      <td>107.000</td>\n",
       "      <td>107.000</td>\n",
       "      <td>107.000</td>\n",
       "      <td>107.000</td>\n",
       "      <td>1</td>\n",
       "      <td>0.000</td>\n",
       "      <td>2009-02-27</td>\n",
       "      <td>193</td>\n",
       "    </tr>\n",
       "    <tr>\n",
       "      <th>1</th>\n",
       "      <td>LEG09</td>\n",
       "      <td>2008-08-18 10:06:00</td>\n",
       "      <td>1</td>\n",
       "      <td>107.100</td>\n",
       "      <td>107.100</td>\n",
       "      <td>107.075</td>\n",
       "      <td>107.075</td>\n",
       "      <td>3</td>\n",
       "      <td>0.075</td>\n",
       "      <td>2009-02-27</td>\n",
       "      <td>193</td>\n",
       "    </tr>\n",
       "    <tr>\n",
       "      <th>2</th>\n",
       "      <td>LEG09</td>\n",
       "      <td>2008-08-18 10:08:00</td>\n",
       "      <td>3</td>\n",
       "      <td>107.100</td>\n",
       "      <td>107.100</td>\n",
       "      <td>107.100</td>\n",
       "      <td>107.100</td>\n",
       "      <td>1</td>\n",
       "      <td>0.100</td>\n",
       "      <td>2009-02-27</td>\n",
       "      <td>193</td>\n",
       "    </tr>\n",
       "    <tr>\n",
       "      <th>3</th>\n",
       "      <td>LEG09</td>\n",
       "      <td>2008-08-18 10:09:00</td>\n",
       "      <td>4</td>\n",
       "      <td>107.325</td>\n",
       "      <td>107.600</td>\n",
       "      <td>107.325</td>\n",
       "      <td>107.600</td>\n",
       "      <td>9</td>\n",
       "      <td>0.600</td>\n",
       "      <td>2009-02-27</td>\n",
       "      <td>193</td>\n",
       "    </tr>\n",
       "    <tr>\n",
       "      <th>4</th>\n",
       "      <td>LEG09</td>\n",
       "      <td>2008-08-18 10:12:00</td>\n",
       "      <td>7</td>\n",
       "      <td>107.325</td>\n",
       "      <td>107.325</td>\n",
       "      <td>107.325</td>\n",
       "      <td>107.325</td>\n",
       "      <td>1</td>\n",
       "      <td>0.325</td>\n",
       "      <td>2009-02-27</td>\n",
       "      <td>193</td>\n",
       "    </tr>\n",
       "    <tr>\n",
       "      <th>...</th>\n",
       "      <td>...</td>\n",
       "      <td>...</td>\n",
       "      <td>...</td>\n",
       "      <td>...</td>\n",
       "      <td>...</td>\n",
       "      <td>...</td>\n",
       "      <td>...</td>\n",
       "      <td>...</td>\n",
       "      <td>...</td>\n",
       "      <td>...</td>\n",
       "      <td>...</td>\n",
       "    </tr>\n",
       "    <tr>\n",
       "      <th>325529</th>\n",
       "      <td>LEZ20</td>\n",
       "      <td>2020-12-31 10:15:00</td>\n",
       "      <td>45</td>\n",
       "      <td>112.875</td>\n",
       "      <td>112.875</td>\n",
       "      <td>112.875</td>\n",
       "      <td>112.875</td>\n",
       "      <td>3</td>\n",
       "      <td>0.475</td>\n",
       "      <td>2020-12-31</td>\n",
       "      <td>0</td>\n",
       "    </tr>\n",
       "    <tr>\n",
       "      <th>325530</th>\n",
       "      <td>LEZ20</td>\n",
       "      <td>2020-12-31 10:17:00</td>\n",
       "      <td>47</td>\n",
       "      <td>112.900</td>\n",
       "      <td>112.900</td>\n",
       "      <td>112.900</td>\n",
       "      <td>112.900</td>\n",
       "      <td>2</td>\n",
       "      <td>0.500</td>\n",
       "      <td>2020-12-31</td>\n",
       "      <td>0</td>\n",
       "    </tr>\n",
       "    <tr>\n",
       "      <th>325531</th>\n",
       "      <td>LEZ20</td>\n",
       "      <td>2020-12-31 10:18:00</td>\n",
       "      <td>48</td>\n",
       "      <td>112.900</td>\n",
       "      <td>112.900</td>\n",
       "      <td>112.900</td>\n",
       "      <td>112.900</td>\n",
       "      <td>1</td>\n",
       "      <td>0.500</td>\n",
       "      <td>2020-12-31</td>\n",
       "      <td>0</td>\n",
       "    </tr>\n",
       "    <tr>\n",
       "      <th>325532</th>\n",
       "      <td>LEZ20</td>\n",
       "      <td>2020-12-31 10:20:00</td>\n",
       "      <td>50</td>\n",
       "      <td>112.900</td>\n",
       "      <td>112.900</td>\n",
       "      <td>112.900</td>\n",
       "      <td>112.900</td>\n",
       "      <td>7</td>\n",
       "      <td>0.500</td>\n",
       "      <td>2020-12-31</td>\n",
       "      <td>0</td>\n",
       "    </tr>\n",
       "    <tr>\n",
       "      <th>325533</th>\n",
       "      <td>LEZ20</td>\n",
       "      <td>2020-12-31 10:21:00</td>\n",
       "      <td>51</td>\n",
       "      <td>112.900</td>\n",
       "      <td>112.900</td>\n",
       "      <td>112.900</td>\n",
       "      <td>112.900</td>\n",
       "      <td>2</td>\n",
       "      <td>0.500</td>\n",
       "      <td>2020-12-31</td>\n",
       "      <td>0</td>\n",
       "    </tr>\n",
       "  </tbody>\n",
       "</table>\n",
       "<p>325534 rows × 11 columns</p>\n",
       "</div>"
      ],
      "text/plain": [
       "       Symbol            DateTime  Open Minutes Offset     Open     High  \\\n",
       "0       LEG09 2008-08-18 10:05:00                    0  107.000  107.000   \n",
       "1       LEG09 2008-08-18 10:06:00                    1  107.100  107.100   \n",
       "2       LEG09 2008-08-18 10:08:00                    3  107.100  107.100   \n",
       "3       LEG09 2008-08-18 10:09:00                    4  107.325  107.600   \n",
       "4       LEG09 2008-08-18 10:12:00                    7  107.325  107.325   \n",
       "...       ...                 ...                  ...      ...      ...   \n",
       "325529  LEZ20 2020-12-31 10:15:00                   45  112.875  112.875   \n",
       "325530  LEZ20 2020-12-31 10:17:00                   47  112.900  112.900   \n",
       "325531  LEZ20 2020-12-31 10:18:00                   48  112.900  112.900   \n",
       "325532  LEZ20 2020-12-31 10:20:00                   50  112.900  112.900   \n",
       "325533  LEZ20 2020-12-31 10:21:00                   51  112.900  112.900   \n",
       "\n",
       "            Low    Close  Volume  Price Change From Intraday Open  \\\n",
       "0       107.000  107.000       1                            0.000   \n",
       "1       107.075  107.075       3                            0.075   \n",
       "2       107.100  107.100       1                            0.100   \n",
       "3       107.325  107.600       9                            0.600   \n",
       "4       107.325  107.325       1                            0.325   \n",
       "...         ...      ...     ...                              ...   \n",
       "325529  112.875  112.875       3                            0.475   \n",
       "325530  112.900  112.900       2                            0.500   \n",
       "325531  112.900  112.900       1                            0.500   \n",
       "325532  112.900  112.900       7                            0.500   \n",
       "325533  112.900  112.900       2                            0.500   \n",
       "\n",
       "       Expiration Date  DTE  \n",
       "0           2009-02-27  193  \n",
       "1           2009-02-27  193  \n",
       "2           2009-02-27  193  \n",
       "3           2009-02-27  193  \n",
       "4           2009-02-27  193  \n",
       "...                ...  ...  \n",
       "325529      2020-12-31    0  \n",
       "325530      2020-12-31    0  \n",
       "325531      2020-12-31    0  \n",
       "325532      2020-12-31    0  \n",
       "325533      2020-12-31    0  \n",
       "\n",
       "[325534 rows x 11 columns]"
      ]
     },
     "execution_count": 38,
     "metadata": {},
     "output_type": "execute_result"
    }
   ],
   "source": [
    "true_open_twelve_fifty_nine_intraday_minute_bars_split.positive_change_df"
   ]
  },
  {
   "cell_type": "markdown",
   "metadata": {},
   "source": [
    "Do the same for the sliding open datasets"
   ]
  },
  {
   "cell_type": "code",
   "execution_count": null,
   "metadata": {},
   "outputs": [],
   "source": [
    "print(\"Gathering Intraday split data for sliding open @ 12:59\")\n",
    "sliding_open_twelve_fifty_nine_intraday_minute_bars_split = split_intraday_activity_by_overnight_change_all_symbols(\n",
    "  symbols=unique_symbols,\n",
    "  overnight_positive_change_from_close_df=overnight_twelve_fifty_nine_sliding_open_changes.positive_change_df,\n",
    "  overnight_negative_change_from_close_df=overnight_twelve_fifty_nine_sliding_open_changes.negative_change_df,\n",
    "  intraday_df=intraday_sliding_open_df\n",
    ")\n",
    "print(\"Gathering Intraday split data for sliding open @ 13:04\")\n",
    "sliding_open_thirteen_oh_four_intraday_minute_bars_split = split_intraday_activity_by_overnight_change_all_symbols(\n",
    "  symbols=unique_symbols,\n",
    "  overnight_positive_change_from_close_df=overnight_thirteen_oh_four_sliding_open_changes.positive_change_df,\n",
    "  overnight_negative_change_from_close_df=overnight_thirteen_oh_four_sliding_open_changes.negative_change_df,\n",
    "  intraday_df=intraday_sliding_open_df\n",
    ")\n",
    "print(\"Gathering Intraday split data for sliding open @ last bar of day\")\n",
    "sliding_open_last_bar_intraday_minute_bars_split = split_intraday_activity_by_overnight_change_all_symbols(\n",
    "  symbols=unique_symbols,\n",
    "  overnight_positive_change_from_close_df=overnight_last_bar_sliding_open_changes.positive_change_df,\n",
    "  overnight_negative_change_from_close_df=overnight_last_bar_sliding_open_changes.negative_change_df,\n",
    "  intraday_df=intraday_sliding_open_df\n",
    ")"
   ]
  },
  {
   "cell_type": "markdown",
   "metadata": {},
   "source": [
    "Calculate intraday average price changes by minute split by overnight price change <= 0 vs overnight price change < 0 for every dataset"
   ]
  },
  {
   "cell_type": "code",
   "execution_count": null,
   "metadata": {},
   "outputs": [],
   "source": [
    "# True Open\n",
    "true_open_twelve_fifty_nine_intraday_average_changes_df = calculate_average_intraday_price_change_grouped_by_open_minutes_offset(true_open_twelve_fifty_nine_intraday_minute_bars_split)\n",
    "true_open_thirteen_oh_four_intraday_average_changes_df = calculate_average_intraday_price_change_grouped_by_open_minutes_offset(true_open_thirteen_oh_four_intraday_minute_bars_split)\n",
    "true_open_last_bar_intraday_average_changes_df = calculate_average_intraday_price_change_grouped_by_open_minutes_offset(true_open_last_bar_intraday_minute_bars_split)\n",
    "# Sliding Open\n",
    "sliding_open_twelve_fifty_nine_intraday_average_changes_df = calculate_average_intraday_price_change_grouped_by_open_minutes_offset(sliding_open_twelve_fifty_nine_intraday_minute_bars_split)\n",
    "sliding_open_thirteen_oh_four_intraday_average_changes_df = calculate_average_intraday_price_change_grouped_by_open_minutes_offset(sliding_open_thirteen_oh_four_intraday_minute_bars_split)\n",
    "sliding_open_last_bar_intraday_average_changes_df = calculate_average_intraday_price_change_grouped_by_open_minutes_offset(sliding_open_last_bar_intraday_minute_bars_split)"
   ]
  },
  {
   "cell_type": "markdown",
   "metadata": {},
   "source": [
    "Generate the figures"
   ]
  },
  {
   "cell_type": "code",
   "execution_count": null,
   "metadata": {},
   "outputs": [],
   "source": [
    "fig1 = generate_figure(\n",
    "  intraday_price_changes_split_df=true_open_twelve_fifty_nine_intraday_average_changes_df,\n",
    "  fig_title='True Open 12:59 Change'\n",
    "  )\n",
    "fig2 = generate_figure(\n",
    "  intraday_price_changes_split_df=true_open_thirteen_oh_four_intraday_average_changes_df,\n",
    "  fig_title='True Open 13:04 Change'\n",
    "  )\n",
    "fig3 = generate_figure(\n",
    "  intraday_price_changes_split_df=true_open_last_bar_intraday_average_changes_df,\n",
    "  fig_title='True Open Last Bar Change'\n",
    "  )\n",
    "fig4 = generate_figure(\n",
    "  intraday_price_changes_split_df=sliding_open_twelve_fifty_nine_intraday_average_changes_df,\n",
    "  fig_title='Sliding Open 12:59 Change'\n",
    "  )\n",
    "fig5 = generate_figure(\n",
    "  intraday_price_changes_split_df=sliding_open_thirteen_oh_four_intraday_average_changes_df,\n",
    "  fig_title='Sliding Open 13:04 Change'\n",
    "  )\n",
    "fig6 = generate_figure(\n",
    "  intraday_price_changes_split_df=sliding_open_last_bar_intraday_average_changes_df,\n",
    "  fig_title='Sliding Open Last Bar Change'\n",
    "  )\n"
   ]
  },
  {
   "cell_type": "markdown",
   "metadata": {},
   "source": [
    "Show the figures"
   ]
  },
  {
   "cell_type": "code",
   "execution_count": null,
   "metadata": {},
   "outputs": [],
   "source": [
    "figures = [fig1, fig2, fig3, fig4, fig5, fig6]\n",
    "for fig in figures:\n",
    "  fig.show()"
   ]
  }
 ],
 "metadata": {
  "interpreter": {
   "hash": "3067ead486e059ec00ffe7555bdb889e6e264a24dc711bf108106cc7baee8d5d"
  },
  "kernelspec": {
   "display_name": "Python 3.9.7 64-bit ('base': conda)",
   "language": "python",
   "name": "python3"
  },
  "language_info": {
   "codemirror_mode": {
    "name": "ipython",
    "version": 3
   },
   "file_extension": ".py",
   "mimetype": "text/x-python",
   "name": "python",
   "nbconvert_exporter": "python",
   "pygments_lexer": "ipython3",
   "version": "3.10.0"
  },
  "orig_nbformat": 4
 },
 "nbformat": 4,
 "nbformat_minor": 2
}
