{
 "cells": [
  {
   "cell_type": "code",
   "execution_count": null,
   "metadata": {},
   "outputs": [],
   "source": [
    "import pandas as pd\n",
    "from typing import Tuple, NamedTuple, List\n",
    "from collections import namedtuple\n",
    "import plotly.express as px\n",
    "import plotly.graph_objects as go\n",
    "from tqdm.notebook import trange, tqdm\n",
    "import operator"
   ]
  },
  {
   "cell_type": "markdown",
   "metadata": {},
   "source": [
    "Analyze the relationship between the overnight price change (Price at Open - Price at yesterdays close) from the prior day and the price dynamics of the current day during the open window typically 60 minutes. We have three different close-bars (12:59, 13:04, and last bar of day). We also use a a true open and sliding open dataset."
   ]
  },
  {
   "cell_type": "code",
   "execution_count": null,
   "metadata": {},
   "outputs": [],
   "source": [
    "CONTRACT_INTRADAY_SLIDING_OPEN_FILE_PATH = '../data/processed/futures_contracts/contract_open_enriched_sliding_open.csv'\n",
    "CONTRACT_INTRADAY_TRUE_OPEN_FILE_PATH = '../data/processed/futures_contracts/contract_open_enriched_true_open.csv'\n",
    "CONTRACT_OVERNIGHT_CHANGES_SLIDING_OPEN_FILE_PATH = '../data/processed/futures_contracts/overnight_changes_by_contract_sliding_open.csv'\n",
    "CONTRACT_OVERNIGHT_CHANGES_TRUE_OPEN_FILE_PATH = '../data/processed/futures_contracts/overnight_changes_by_contract_true_open.csv'"
   ]
  },
  {
   "cell_type": "code",
   "execution_count": null,
   "metadata": {},
   "outputs": [],
   "source": [
    "# These parameters allow us to filter out trading activity on days where the contract DTE tends to have missing open bars\n",
    "FILTER_OUT_DTE_WITH_FREQUENTLY_MISSING_OPEN = True\n",
    "DTE_FILTER_UPPER_BOUNDARY = 140\n",
    "DTE_FILTER_LOWER_BOUNDARY = 25"
   ]
  },
  {
   "cell_type": "code",
   "execution_count": null,
   "metadata": {},
   "outputs": [],
   "source": [
    "def intraday_open_csv_to_df(filename) -> pd.DataFrame:\n",
    "    csv_as_df = pd.read_csv(\n",
    "        filename,\n",
    "        parse_dates=['DateTime'], \n",
    "        usecols=[\n",
    "          'Symbol','DateTime','Open Minutes Offset','Open','High','Low','Close',\n",
    "            'Volume','Price Change From Intraday Open','Expiration Date','DTE'\n",
    "          ]\n",
    "    )\n",
    "    return csv_as_df"
   ]
  },
  {
   "cell_type": "code",
   "execution_count": null,
   "metadata": {},
   "outputs": [],
   "source": [
    "def overnight_changes_csv_to_df(filename) -> pd.DataFrame:\n",
    "  csv_as_df = pd.read_csv(\n",
    "    filename,\n",
    "    parse_dates=['Date'],\n",
    "    usecols=['Symbol','Date','12:59 Change','13:04 Change','Last Bar Change']\n",
    "  )\n",
    "  return csv_as_df"
   ]
  },
  {
   "cell_type": "code",
   "execution_count": null,
   "metadata": {},
   "outputs": [],
   "source": [
    "def filter_and_split_overnight_changes(\n",
    "  overnight_changes_df: pd.DataFrame,\n",
    "  close_bar_column_name: str # For example '12:59 Change'\n",
    ") -> NamedTuple:\n",
    "  '''\n",
    "  Filter an overnight changes dataset to only include those days where a particular close bar column has changes. Then split those days/rows into two sets of dataframes split by quantile.\n",
    "  '''\n",
    "  overnight_where_change_exists_df = overnight_changes_df[overnight_changes_df[close_bar_column_name].notna()]\n",
    "  # overnight_positive_change_df = overnight_where_change_exists_df[overnight_where_change_exists_df[close_bar_column_name] >= 0]\n",
    "  # overnight_negative_change_df = overnight_where_change_exists_df[overnight_where_change_exists_df[close_bar_column_name] < 0]\n",
    "  sorted_overnight_close_bar_series = overnight_where_change_exists_df[close_bar_column_name].copy()\n",
    "  positive_quantile_values = calc_quantile_boundary_values(\n",
    "    a_series=sorted_overnight_close_bar_series[sorted_overnight_close_bar_series >= 0],\n",
    "    column_name=close_bar_column_name,\n",
    "    is_negative_series=False)\n",
    "  negative_quantile_values = calc_quantile_boundary_values(\n",
    "    a_series=sorted_overnight_close_bar_series[sorted_overnight_close_bar_series < 0],\n",
    "    column_name=close_bar_column_name,\n",
    "    is_negative_series=True)\n",
    "  dataframes_split_by_quantile_positive = dataframe_split_by_quantile(\n",
    "    a_df=overnight_changes_df,\n",
    "    column_name=close_bar_column_name,\n",
    "    quantile_boundary_values=positive_quantile_values,\n",
    "    is_negative_range=False\n",
    "  )\n",
    "  dataframes_split_by_quantile_negative = dataframe_split_by_quantile(\n",
    "    a_df=overnight_changes_df,\n",
    "    column_name=close_bar_column_name,\n",
    "    quantile_boundary_values=negative_quantile_values,\n",
    "    is_negative_range=True\n",
    "  )\n",
    "  overnight_changes = namedtuple('overnight_changes', ['dataframes_split_by_quantile_positive', 'dataframes_split_by_quantile_negative'])\n",
    "  return overnight_changes(dataframes_split_by_quantile_positive, dataframes_split_by_quantile_negative)"
   ]
  },
  {
   "cell_type": "code",
   "execution_count": null,
   "metadata": {},
   "outputs": [],
   "source": [
    "def dates_of_overnight_changes_by_quantile(\n",
    "  dataframes_split_by_quantile: Tuple,\n",
    "  contract_symbol: str\n",
    "  ) -> Tuple[pd.Series, pd.Series, pd.Series, pd.Series]:\n",
    "  first_quantile_df, second_quantile_df, third_quantile_df, fourth_quantile_df = dataframes_split_by_quantile\n",
    "  first_quantile_dates = first_quantile_df[first_quantile_df['Symbol'] == contract_symbol]['Date'].dt.date\n",
    "  second_quantile_dates = second_quantile_df[second_quantile_df['Symbol'] == contract_symbol]['Date'].dt.date\n",
    "  third_quantile_dates = third_quantile_df[third_quantile_df['Symbol'] == contract_symbol]['Date'].dt.date\n",
    "  fourth_quantile_dates = fourth_quantile_df[fourth_quantile_df['Symbol'] == contract_symbol]['Date'].dt.date\n",
    "  return (first_quantile_dates, second_quantile_dates, third_quantile_dates, fourth_quantile_dates)"
   ]
  },
  {
   "cell_type": "code",
   "execution_count": null,
   "metadata": {},
   "outputs": [],
   "source": [
    "def filter_intraday_minutes_by_overnight_changes_by_quantile(\n",
    "  intraday_for_symbol_df: pd.DataFrame,\n",
    "  dates_of_quantiles_change_series: Tuple\n",
    ") -> Tuple[pd.Series, pd.Series, pd.Series, pd.Series]:\n",
    "  first_quantile_dates, second_quantile_dates, third_quantile_dates, fourth_quantile_dates = dates_of_quantiles_change_series\n",
    "  first_quantile_intraday_minutes_change_df = intraday_for_symbol_df[intraday_for_symbol_df['DateTime'].dt.date.isin(first_quantile_dates)]\n",
    "  second_quantile_intraday_minutes_change_df = intraday_for_symbol_df[intraday_for_symbol_df['DateTime'].dt.date.isin(second_quantile_dates)]\n",
    "  third_quantile_intraday_minutes_change_df = intraday_for_symbol_df[intraday_for_symbol_df['DateTime'].dt.date.isin(third_quantile_dates)]\n",
    "  fourth_quantile_intraday_minutes_change_df = intraday_for_symbol_df[intraday_for_symbol_df['DateTime'].dt.date.isin(fourth_quantile_dates)]\n",
    "  return (first_quantile_intraday_minutes_change_df, second_quantile_intraday_minutes_change_df, third_quantile_intraday_minutes_change_df, fourth_quantile_intraday_minutes_change_df)"
   ]
  },
  {
   "cell_type": "code",
   "execution_count": null,
   "metadata": {},
   "outputs": [],
   "source": [
    "def split_intraday_activity_by_overnight_change_for_symbol(\n",
    "  contract_symbol: str,\n",
    "  dataframes_split_by_quantile_positive: Tuple,\n",
    "  dataframes_split_by_quantile_negative: Tuple,\n",
    "  intraday_df: pd.DataFrame\n",
    "  ) -> NamedTuple:\n",
    "    '''\n",
    "    Split the intraday minutes for a given contract symbol into those days minutes which correspond to a positive overnight close change and those days minutes that correspond to a negative overnight close change.\n",
    "    Return the split data as a tuple of dataframes accordingly\n",
    "    '''\n",
    "    # For each quantile of overnight changes we get a series of dates representing the days where there was a positive change from the prior days close bar for this symbol\n",
    "    dates_of_positive_quantiles_change_series = dates_of_overnight_changes_by_quantile(dataframes_split_by_quantile=dataframes_split_by_quantile_positive, contract_symbol=contract_symbol)\n",
    "    # For each quantile of overnight changes we get a series of dates representing the days where there was a negative change from the prior days close bar for this symbol\n",
    "    dates_of_negative_quantiles_change_series = dates_of_overnight_changes_by_quantile(dataframes_split_by_quantile=dataframes_split_by_quantile_negative, contract_symbol=contract_symbol)\n",
    "    # Filter down our intraday enriched contract data to only include those items matching the the symbol we are currently analyzing\n",
    "    intraday_for_symbol_df = intraday_df[intraday_df['Symbol'] == contract_symbol]\n",
    "    # Filter down the rows in the intraday data for this symbol to only those associated with a day where there was a positive overnight change for this type of close\n",
    "    intraday_minutes_positive_change_by_quantile = filter_intraday_minutes_by_overnight_changes_by_quantile(\n",
    "      intraday_for_symbol_df=intraday_for_symbol_df,\n",
    "      dates_of_quantiles_change_series=dates_of_positive_quantiles_change_series\n",
    "    )\n",
    "    # Filter down the rows in the intraday data for this symbol to only those associated with a day where there was a negative overnight change for this type of close\n",
    "    intraday_minutes_negative_change_by_quantile = filter_intraday_minutes_by_overnight_changes_by_quantile(\n",
    "      intraday_for_symbol_df=intraday_for_symbol_df,\n",
    "      dates_of_quantiles_change_series=dates_of_negative_quantiles_change_series\n",
    "    )\n",
    "    intraday_minute_changes = namedtuple('intraday_minute_changes', ['positive_change_by_quantile', 'negative_change_by_quantile'])\n",
    "    return intraday_minute_changes(intraday_minutes_positive_change_by_quantile, intraday_minutes_negative_change_by_quantile)"
   ]
  },
  {
   "cell_type": "code",
   "execution_count": null,
   "metadata": {},
   "outputs": [],
   "source": [
    "def split_intraday_activity_by_overnight_change_all_symbols(\n",
    "  symbols: List[str],\n",
    "  dataframes_split_by_quantile_positive: Tuple,\n",
    "  dataframes_split_by_quantile_negative: Tuple,\n",
    "  intraday_df: pd.DataFrame\n",
    ") -> NamedTuple:\n",
    "  '''\n",
    "  Split the intraday minutes for a list of symbols into those days minutes which correspond to a positive overnight close change and those days minutes that correspond to a negative overnight close change.\n",
    "  Return the split data as a tuple of dataframes accordingly\n",
    "  '''\n",
    "  open_bars_where_close_was_positive_first_quantile_df = pd.DataFrame()\n",
    "  open_bars_where_close_was_positive_second_quantile_df = pd.DataFrame()\n",
    "  open_bars_where_close_was_positive_third_quantile_df = pd.DataFrame()\n",
    "  open_bars_where_close_was_positive_fourth_quantile_df = pd.DataFrame()\n",
    "  open_bars_where_close_was_negative_first_quantile_df = pd.DataFrame()\n",
    "  open_bars_where_close_was_negative_second_quantile_df = pd.DataFrame()\n",
    "  open_bars_where_close_was_negative_third_quantile_df = pd.DataFrame()\n",
    "  open_bars_where_close_was_negative_fourth_quantile_df = pd.DataFrame()\n",
    "  # for i in trange(len(symbols), desc=\"Splitting intraday activity by overnight change for each contract\"):\n",
    "  for i in range(len(symbols)):\n",
    "    symbol = symbols[i]\n",
    "    intraday_minute_changes = split_intraday_activity_by_overnight_change_for_symbol(\n",
    "      contract_symbol=symbol,\n",
    "      dataframes_split_by_quantile_positive=dataframes_split_by_quantile_positive,\n",
    "      dataframes_split_by_quantile_negative=dataframes_split_by_quantile_negative,\n",
    "      intraday_df=intraday_df\n",
    "      )\n",
    "    first_quantile_intraday_minutes_positive_change_df, second_quantile_intraday_minutes_positive_change_df, \\\n",
    "      third_quantile_intraday_minutes_positive_change_df, fourth_quantile_intraday_minutes_positive_change_df = intraday_minute_changes.positive_change_by_quantile\n",
    "    first_quantile_intraday_minutes_negative_change_df, second_quantile_intraday_minutes_negative_change_df, \\\n",
    "      third_quantile_intraday_minutes_negative_change_df, fourth_quantile_intraday_minutes_negative_change_df = intraday_minute_changes.negative_change_by_quantile\n",
    "\n",
    "    # Positive intraday  \n",
    "    open_bars_where_close_was_positive_first_quantile_df = pd.concat([open_bars_where_close_was_positive_first_quantile_df, first_quantile_intraday_minutes_positive_change_df], ignore_index=True)\n",
    "    open_bars_where_close_was_positive_second_quantile_df = pd.concat([open_bars_where_close_was_positive_second_quantile_df, second_quantile_intraday_minutes_positive_change_df], ignore_index=True)\n",
    "    open_bars_where_close_was_positive_third_quantile_df = pd.concat([open_bars_where_close_was_positive_third_quantile_df, third_quantile_intraday_minutes_positive_change_df], ignore_index=True)\n",
    "    open_bars_where_close_was_positive_fourth_quantile_df = pd.concat([open_bars_where_close_was_positive_fourth_quantile_df, fourth_quantile_intraday_minutes_positive_change_df], ignore_index=True)\n",
    "    # Negative intraday\n",
    "    open_bars_where_close_was_negative_first_quantile_df = pd.concat([open_bars_where_close_was_negative_first_quantile_df, first_quantile_intraday_minutes_negative_change_df], ignore_index=True)\n",
    "    open_bars_where_close_was_negative_second_quantile_df = pd.concat([open_bars_where_close_was_negative_second_quantile_df, second_quantile_intraday_minutes_negative_change_df ], ignore_index=True)\n",
    "    open_bars_where_close_was_negative_third_quantile_df = pd.concat([open_bars_where_close_was_negative_third_quantile_df, third_quantile_intraday_minutes_negative_change_df], ignore_index=True)\n",
    "    open_bars_where_close_was_negative_fourth_quantile_df = pd.concat([open_bars_where_close_was_negative_fourth_quantile_df, fourth_quantile_intraday_minutes_negative_change_df], ignore_index=True)\n",
    "  \n",
    "  intraday_minute_bars_split_by_quantile_positive = (\n",
    "    open_bars_where_close_was_positive_first_quantile_df,\n",
    "    open_bars_where_close_was_positive_second_quantile_df,\n",
    "    open_bars_where_close_was_positive_third_quantile_df,\n",
    "    open_bars_where_close_was_positive_fourth_quantile_df\n",
    "    )\n",
    "  intraday_minute_bars_split_by_quantile_negative = (\n",
    "    open_bars_where_close_was_negative_first_quantile_df,\n",
    "    open_bars_where_close_was_negative_second_quantile_df,\n",
    "    open_bars_where_close_was_negative_third_quantile_df,\n",
    "    open_bars_where_close_was_negative_fourth_quantile_df\n",
    "    )\n",
    "  intraday_minute_bars_split = namedtuple('intraday_minute_bars_split', ['positive_change_df', 'negative_change_df'])\n",
    "  return intraday_minute_bars_split(intraday_minute_bars_split_by_quantile_positive, intraday_minute_bars_split_by_quantile_negative)"
   ]
  },
  {
   "cell_type": "code",
   "execution_count": null,
   "metadata": {},
   "outputs": [],
   "source": [
    "def calculate_average_intraday_price_change_grouped_by_open_minutes_offset(intraday_minute_bars_df: pd.DataFrame) -> pd.DataFrame:\n",
    "  '''\n",
    "  Group the intraday minute bars by their Open Minutes Offset and calculate the mean for each minute. Return all that as a single dataframe\n",
    "  '''\n",
    "  first_quantile_positive_change = intraday_minute_bars_df.positive_change_df[0].groupby('Open Minutes Offset', as_index=False)['Price Change From Intraday Open'].mean()\n",
    "  second_quantile_positive_change = intraday_minute_bars_df.positive_change_df[1].groupby('Open Minutes Offset', as_index=False)['Price Change From Intraday Open'].mean()\n",
    "  third_quantile_positive_change = intraday_minute_bars_df.positive_change_df[2].groupby('Open Minutes Offset', as_index=False)['Price Change From Intraday Open'].mean()\n",
    "  fourth_quantile_positive_change = intraday_minute_bars_df.positive_change_df[3].groupby('Open Minutes Offset', as_index=False)['Price Change From Intraday Open'].mean()\n",
    "\n",
    "  first_quantile_negative_change = intraday_minute_bars_df.negative_change_df[0].groupby('Open Minutes Offset', as_index=False)['Price Change From Intraday Open'].mean()\n",
    "  second_quantile_negative_change = intraday_minute_bars_df.negative_change_df[1].groupby('Open Minutes Offset', as_index=False)['Price Change From Intraday Open'].mean()\n",
    "  third_quantile_negative_change = intraday_minute_bars_df.negative_change_df[2].groupby('Open Minutes Offset', as_index=False)['Price Change From Intraday Open'].mean()\n",
    "  fourth_quantile_negative_change = intraday_minute_bars_df.negative_change_df[3].groupby('Open Minutes Offset', as_index=False)['Price Change From Intraday Open'].mean()\n",
    "\n",
    "\n",
    "  to_return_df = pd.DataFrame({\n",
    "    'Open Minutes Offset': first_quantile_positive_change['Open Minutes Offset'],\n",
    "    'Avg Intraday Price Change When Positive Overnight Change Q1': first_quantile_positive_change['Price Change From Intraday Open'],\n",
    "    'Avg Intraday Price Change When Positive Overnight Change Q2': second_quantile_positive_change['Price Change From Intraday Open'],\n",
    "    'Avg Intraday Price Change When Positive Overnight Change Q3': third_quantile_positive_change['Price Change From Intraday Open'],\n",
    "    'Avg Intraday Price Change When Positive Overnight Change Q4': fourth_quantile_positive_change['Price Change From Intraday Open'],\n",
    "    'Avg Intraday Price Change When Negative Overnight Change Q1': first_quantile_negative_change['Price Change From Intraday Open'],\n",
    "    'Avg Intraday Price Change When Negative Overnight Change Q2': second_quantile_negative_change['Price Change From Intraday Open'],\n",
    "    'Avg Intraday Price Change When Negative Overnight Change Q3': third_quantile_negative_change['Price Change From Intraday Open'],\n",
    "    'Avg Intraday Price Change When Negative Overnight Change Q4': fourth_quantile_negative_change['Price Change From Intraday Open'],\n",
    "  })\n",
    "  return to_return_df"
   ]
  },
  {
   "cell_type": "code",
   "execution_count": null,
   "metadata": {},
   "outputs": [],
   "source": [
    "def generate_figure(intraday_price_changes_split_df: pd.DataFrame, fig_title: str) -> go.Figure:\n",
    "  fig = go.Figure()\n",
    "  fig.add_trace(go.Scatter(\n",
    "    x=intraday_price_changes_split_df['Open Minutes Offset'],\n",
    "    y=intraday_price_changes_split_df['Avg Intraday Price Change When Positive Overnight Change Q1'],\n",
    "    mode='lines+markers',\n",
    "    name='Positive Overnight Change Q1')\n",
    "    )\n",
    "  fig.add_trace(go.Scatter(\n",
    "    x=intraday_price_changes_split_df['Open Minutes Offset'],\n",
    "    y=intraday_price_changes_split_df['Avg Intraday Price Change When Positive Overnight Change Q2'],\n",
    "    mode='lines+markers',\n",
    "    name='Positive Overnight Change Q2')\n",
    "    )\n",
    "  fig.add_trace(go.Scatter(\n",
    "    x=intraday_price_changes_split_df['Open Minutes Offset'],\n",
    "    y=intraday_price_changes_split_df['Avg Intraday Price Change When Positive Overnight Change Q3'],\n",
    "    mode='lines+markers',\n",
    "    name='Positive Overnight Change Q3')\n",
    "    )\n",
    "  fig.add_trace(go.Scatter(\n",
    "    x=intraday_price_changes_split_df['Open Minutes Offset'],\n",
    "    y=intraday_price_changes_split_df['Avg Intraday Price Change When Positive Overnight Change Q4'],\n",
    "    mode='lines+markers',\n",
    "    name='Positive Overnight Change Q4')\n",
    "    )\n",
    "\n",
    "  fig.add_trace(go.Scatter(\n",
    "    x=intraday_price_changes_split_df['Open Minutes Offset'],\n",
    "    y=intraday_price_changes_split_df['Avg Intraday Price Change When Negative Overnight Change Q1'],\n",
    "    mode='lines+markers',\n",
    "    name='Negative Overnight Change Q1')\n",
    "    )\n",
    "  fig.add_trace(go.Scatter(\n",
    "    x=intraday_price_changes_split_df['Open Minutes Offset'],\n",
    "    y=intraday_price_changes_split_df['Avg Intraday Price Change When Negative Overnight Change Q2'],\n",
    "    mode='lines+markers',\n",
    "    name='Negative Overnight Change Q2')\n",
    "    )\n",
    "  fig.add_trace(go.Scatter(\n",
    "    x=intraday_price_changes_split_df['Open Minutes Offset'],\n",
    "    y=intraday_price_changes_split_df['Avg Intraday Price Change When Negative Overnight Change Q3'],\n",
    "    mode='lines+markers',\n",
    "    name='Negative Overnight Change Q3')\n",
    "    )\n",
    "  fig.add_trace(go.Scatter(\n",
    "    x=intraday_price_changes_split_df['Open Minutes Offset'],\n",
    "    y=intraday_price_changes_split_df['Avg Intraday Price Change When Negative Overnight Change Q4'],\n",
    "    mode='lines+markers',\n",
    "    name='Negative Overnight Change Q4')\n",
    "    )\n",
    "\n",
    "  fig.update_xaxes(title_text='Minutes After Open')\n",
    "  fig.update_yaxes(title_text='Avg Price Change From Open')\n",
    "  fig.update_layout(title_text=fig_title)\n",
    "  return fig"
   ]
  },
  {
   "cell_type": "code",
   "execution_count": null,
   "metadata": {},
   "outputs": [],
   "source": [
    "def filter_bars_for_dte_with_frequently_missing_open(\n",
    "  intraday_open_df: pd.DataFrame,\n",
    "  dte_filter_lower_boundary: int,\n",
    "  dte_filter_upper_boundary: int\n",
    "  ) -> pd.DataFrame:\n",
    "  '''Filter out days associated with a DTE that is often missing a true open bar'''\n",
    "  filtered_df = intraday_open_df[(intraday_open_df['DTE'] >= dte_filter_lower_boundary) & (intraday_open_df['DTE'] <= dte_filter_upper_boundary)]\n",
    "  return filtered_df"
   ]
  },
  {
   "cell_type": "code",
   "execution_count": null,
   "metadata": {},
   "outputs": [],
   "source": [
    "def quantile_values(a_series: pd.Series, is_negative_series: bool) -> Tuple:\n",
    "  if is_negative_series != True:\n",
    "    first_quartile_value = a_series.quantile(.25)\n",
    "    second_quartile_value = a_series.quantile(.5)\n",
    "    third_quartile_value = a_series.quantile(.75)\n",
    "    fourth_quartile_value = a_series.quantile(1)\n",
    "  else:\n",
    "    first_quartile_value = a_series.quantile(.75)\n",
    "    second_quartile_value = a_series.quantile(.5)\n",
    "    third_quartile_value = a_series.quantile(.25)\n",
    "    fourth_quartile_value = a_series.quantile(0)\n",
    "  quantile_vals = (first_quartile_value, second_quartile_value, third_quartile_value, fourth_quartile_value)\n",
    "  return quantile_vals"
   ]
  },
  {
   "cell_type": "code",
   "execution_count": null,
   "metadata": {},
   "outputs": [],
   "source": [
    "def rows_between_values(\n",
    "  a_df: pd.DataFrame, column_name: str,\n",
    "  lower_bound: float, upper_bound: float,\n",
    "  lower_bound_is_inclusive: bool, upper_bound_is_inclusive: bool,\n",
    "  is_negative_range: bool\n",
    "  ):\n",
    "  if is_negative_range:\n",
    "      lower_boundary_compare_operator = operator.le if lower_bound_is_inclusive is True else operator.lt\n",
    "      upper_boundary_compare_operator = operator.ge if upper_bound_is_inclusive is True else operator.gt\n",
    "  else:\n",
    "    lower_boundary_compare_operator = operator.ge if lower_bound_is_inclusive is True else operator.gt\n",
    "    upper_boundary_compare_operator = operator.le if upper_bound_is_inclusive is True else operator.le\n",
    "  between_values_df = a_df.loc[\n",
    "    (lower_boundary_compare_operator(a_df[column_name], lower_bound)) & (upper_boundary_compare_operator(a_df[column_name], upper_bound))\n",
    "  ]\n",
    "  return between_values_df"
   ]
  },
  {
   "cell_type": "code",
   "execution_count": null,
   "metadata": {},
   "outputs": [],
   "source": [
    "def dataframe_split_by_quantile(\n",
    "  a_df: pd.DataFrame,\n",
    "  column_name: str,\n",
    "  quantile_boundary_values: Tuple,\n",
    "  is_negative_range: bool\n",
    "  ) -> Tuple[pd.DataFrame, pd.DataFrame, pd.DataFrame, pd.DataFrame]:\n",
    "  first_quartile_df = rows_between_values(\n",
    "    a_df=a_df,\n",
    "    column_name=column_name,\n",
    "    lower_bound=0.0,\n",
    "    upper_bound=quantile_boundary_values[0],\n",
    "    lower_bound_is_inclusive=True,\n",
    "    upper_bound_is_inclusive=False,\n",
    "    is_negative_range=is_negative_range\n",
    "  )\n",
    "  second_quartile_df = rows_between_values(\n",
    "    a_df=a_df,\n",
    "    column_name=column_name,\n",
    "    lower_bound=quantile_boundary_values[0],\n",
    "    upper_bound=quantile_boundary_values[1],\n",
    "    lower_bound_is_inclusive=True,\n",
    "    upper_bound_is_inclusive=False,\n",
    "    is_negative_range=is_negative_range\n",
    "  )\n",
    "  third_quartile_df = rows_between_values(\n",
    "    a_df=a_df,\n",
    "    column_name=column_name,\n",
    "    lower_bound=quantile_boundary_values[1],\n",
    "    upper_bound=quantile_boundary_values[2],\n",
    "    lower_bound_is_inclusive=True,\n",
    "    upper_bound_is_inclusive=False,\n",
    "    is_negative_range=is_negative_range\n",
    "  )\n",
    "  fourth_quartile_df = rows_between_values(\n",
    "    a_df=a_df,\n",
    "    column_name=column_name,\n",
    "    lower_bound=quantile_boundary_values[2],\n",
    "    upper_bound=quantile_boundary_values[3],\n",
    "    lower_bound_is_inclusive=True,\n",
    "    upper_bound_is_inclusive=True,\n",
    "    is_negative_range=is_negative_range\n",
    "  )\n",
    "  quantile_dataframes = (first_quartile_df, second_quartile_df, third_quartile_df, fourth_quartile_df)\n",
    "  return quantile_dataframes"
   ]
  },
  {
   "cell_type": "code",
   "execution_count": null,
   "metadata": {},
   "outputs": [],
   "source": [
    "def calc_quantile_boundary_values(a_series: pd.Series, column_name: str, is_negative_series: bool) -> Tuple:\n",
    "  a_series_sorted = a_series.sort_values()\n",
    "  the_values = quantile_values(a_series=a_series_sorted, is_negative_series=is_negative_series)\n",
    "  return the_values"
   ]
  },
  {
   "cell_type": "code",
   "execution_count": null,
   "metadata": {},
   "outputs": [],
   "source": [
    "def reverse_tuple(tuples):\n",
    "    new_tup = tuples[::-1]\n",
    "    return new_tup"
   ]
  },
  {
   "cell_type": "code",
   "execution_count": null,
   "metadata": {},
   "outputs": [],
   "source": [
    "intraday_sliding_open_df = intraday_open_csv_to_df(CONTRACT_INTRADAY_SLIDING_OPEN_FILE_PATH)\n",
    "intraday_true_open_df = intraday_open_csv_to_df(CONTRACT_INTRADAY_TRUE_OPEN_FILE_PATH)\n",
    "overnight_sliding_open_df = overnight_changes_csv_to_df(CONTRACT_OVERNIGHT_CHANGES_SLIDING_OPEN_FILE_PATH)\n",
    "overnight_true_open_df = overnight_changes_csv_to_df(CONTRACT_OVERNIGHT_CHANGES_TRUE_OPEN_FILE_PATH)"
   ]
  },
  {
   "cell_type": "markdown",
   "metadata": {},
   "source": [
    "Segment the overnight true open dataset into 3 datasets one for each close bar. Each of those datasets is further divided into two data frames one containing positive overnight changes for the bar and the other containing negative overnight changes for that bar"
   ]
  },
  {
   "cell_type": "code",
   "execution_count": null,
   "metadata": {},
   "outputs": [],
   "source": [
    "unique_symbols = list(intraday_true_open_df.Symbol.unique())"
   ]
  },
  {
   "cell_type": "markdown",
   "metadata": {},
   "source": [
    "Get all the overnight changes for the true open approach"
   ]
  },
  {
   "cell_type": "code",
   "execution_count": null,
   "metadata": {},
   "outputs": [],
   "source": [
    "overnight_twelve_fifty_nine_true_open_changes = filter_and_split_overnight_changes(\n",
    "  overnight_changes_df=overnight_true_open_df,\n",
    "  close_bar_column_name='12:59 Change'\n",
    ")\n",
    "overnight_thirteen_oh_four_true_open_changes = filter_and_split_overnight_changes(\n",
    "  overnight_changes_df=overnight_true_open_df,\n",
    "  close_bar_column_name='13:04 Change'\n",
    ")\n",
    "overnight_last_bar_true_open_changes = filter_and_split_overnight_changes(\n",
    "  overnight_changes_df=overnight_true_open_df,\n",
    "  close_bar_column_name='Last Bar Change'\n",
    ")"
   ]
  },
  {
   "cell_type": "markdown",
   "metadata": {},
   "source": [
    "Get all the overnight changes for the sliding open approach"
   ]
  },
  {
   "cell_type": "code",
   "execution_count": null,
   "metadata": {},
   "outputs": [],
   "source": [
    "overnight_twelve_fifty_nine_sliding_open_changes = filter_and_split_overnight_changes(\n",
    "  overnight_changes_df=overnight_sliding_open_df,\n",
    "  close_bar_column_name='12:59 Change'\n",
    ")\n",
    "overnight_thirteen_oh_four_sliding_open_changes = filter_and_split_overnight_changes(\n",
    "  overnight_changes_df=overnight_sliding_open_df,\n",
    "  close_bar_column_name='13:04 Change'\n",
    ")\n",
    "overnight_last_bar_sliding_open_changes = filter_and_split_overnight_changes(\n",
    "  overnight_changes_df=overnight_sliding_open_df,\n",
    "  close_bar_column_name='Last Bar Change'\n",
    ")"
   ]
  },
  {
   "cell_type": "code",
   "execution_count": null,
   "metadata": {},
   "outputs": [],
   "source": [
    "if FILTER_OUT_DTE_WITH_FREQUENTLY_MISSING_OPEN:\n",
    "  intraday_true_open_df = filter_bars_for_dte_with_frequently_missing_open(intraday_open_df=intraday_true_open_df, dte_filter_lower_boundary=DTE_FILTER_LOWER_BOUNDARY, dte_filter_upper_boundary=DTE_FILTER_UPPER_BOUNDARY)\n",
    "  intraday_sliding_open_df = filter_bars_for_dte_with_frequently_missing_open(intraday_open_df=intraday_sliding_open_df, dte_filter_lower_boundary=DTE_FILTER_LOWER_BOUNDARY, dte_filter_upper_boundary=DTE_FILTER_UPPER_BOUNDARY)"
   ]
  },
  {
   "cell_type": "markdown",
   "metadata": {},
   "source": [
    "Segment the intraday true open dataset into 3 datasets one associated with each type of close. Each of those datasets is further split into two dataframes one containing the intraday changes associated with a positive overnight change and the other of which contains the intraday changes associated with a negative overnight change"
   ]
  },
  {
   "cell_type": "code",
   "execution_count": null,
   "metadata": {},
   "outputs": [],
   "source": [
    "print(\"Gathering Intraday split data for true open @ 12:59\")\n",
    "true_open_twelve_fifty_nine_intraday_minute_bars_split = split_intraday_activity_by_overnight_change_all_symbols(\n",
    "  symbols=unique_symbols,\n",
    "  dataframes_split_by_quantile_positive=overnight_twelve_fifty_nine_true_open_changes.dataframes_split_by_quantile_positive,\n",
    "  dataframes_split_by_quantile_negative=overnight_twelve_fifty_nine_true_open_changes.dataframes_split_by_quantile_negative,\n",
    "  intraday_df=intraday_true_open_df\n",
    ")\n",
    "print(\"Gathering Intraday split data for true open @ 13:04\")\n",
    "true_open_thirteen_oh_four_intraday_minute_bars_split = split_intraday_activity_by_overnight_change_all_symbols(\n",
    "  symbols=unique_symbols,\n",
    "  dataframes_split_by_quantile_positive=overnight_thirteen_oh_four_true_open_changes.dataframes_split_by_quantile_positive,\n",
    "  dataframes_split_by_quantile_negative=overnight_thirteen_oh_four_true_open_changes.dataframes_split_by_quantile_negative,\n",
    "  intraday_df=intraday_true_open_df\n",
    ")\n",
    "print(\"Gathering Intraday split data for true open @ last bar of day\")\n",
    "true_open_last_bar_intraday_minute_bars_split = split_intraday_activity_by_overnight_change_all_symbols(\n",
    "  symbols=unique_symbols,\n",
    "  dataframes_split_by_quantile_positive=overnight_last_bar_true_open_changes.dataframes_split_by_quantile_positive,\n",
    "  dataframes_split_by_quantile_negative=overnight_last_bar_true_open_changes.dataframes_split_by_quantile_negative,\n",
    "  intraday_df=intraday_true_open_df\n",
    ")"
   ]
  },
  {
   "cell_type": "markdown",
   "metadata": {},
   "source": [
    "Do the same for the sliding open datasets"
   ]
  },
  {
   "cell_type": "code",
   "execution_count": null,
   "metadata": {},
   "outputs": [],
   "source": [
    "print(\"Gathering Intraday split data for sliding open @ 12:59\")\n",
    "sliding_open_twelve_fifty_nine_intraday_minute_bars_split = split_intraday_activity_by_overnight_change_all_symbols(\n",
    "  symbols=unique_symbols,\n",
    "  dataframes_split_by_quantile_positive=overnight_twelve_fifty_nine_sliding_open_changes.dataframes_split_by_quantile_positive,\n",
    "  dataframes_split_by_quantile_negative=overnight_twelve_fifty_nine_sliding_open_changes.dataframes_split_by_quantile_negative,\n",
    "  intraday_df=intraday_sliding_open_df\n",
    ")\n",
    "print(\"Gathering Intraday split data for sliding open @ 13:04\")\n",
    "sliding_open_thirteen_oh_four_intraday_minute_bars_split = split_intraday_activity_by_overnight_change_all_symbols(\n",
    "  symbols=unique_symbols,\n",
    "  dataframes_split_by_quantile_positive=overnight_thirteen_oh_four_sliding_open_changes.dataframes_split_by_quantile_positive,\n",
    "  dataframes_split_by_quantile_negative=overnight_thirteen_oh_four_sliding_open_changes.dataframes_split_by_quantile_negative,\n",
    "  intraday_df=intraday_sliding_open_df\n",
    ")\n",
    "print(\"Gathering Intraday split data for sliding open @ last bar of day\")\n",
    "sliding_open_last_bar_intraday_minute_bars_split = split_intraday_activity_by_overnight_change_all_symbols(\n",
    "  symbols=unique_symbols,\n",
    "  dataframes_split_by_quantile_positive=overnight_last_bar_sliding_open_changes.dataframes_split_by_quantile_positive,\n",
    "  dataframes_split_by_quantile_negative=overnight_last_bar_sliding_open_changes.dataframes_split_by_quantile_negative,\n",
    "  intraday_df=intraday_sliding_open_df\n",
    ")"
   ]
  },
  {
   "cell_type": "markdown",
   "metadata": {},
   "source": [
    "Calculate intraday average price changes by minute split by overnight price change <= 0 vs overnight price change < 0 for every dataset"
   ]
  },
  {
   "cell_type": "code",
   "execution_count": null,
   "metadata": {},
   "outputs": [],
   "source": [
    "# True Open\n",
    "true_open_twelve_fifty_nine_intraday_average_changes_df = calculate_average_intraday_price_change_grouped_by_open_minutes_offset(true_open_twelve_fifty_nine_intraday_minute_bars_split)\n",
    "true_open_thirteen_oh_four_intraday_average_changes_df = calculate_average_intraday_price_change_grouped_by_open_minutes_offset(true_open_thirteen_oh_four_intraday_minute_bars_split)\n",
    "true_open_last_bar_intraday_average_changes_df = calculate_average_intraday_price_change_grouped_by_open_minutes_offset(true_open_last_bar_intraday_minute_bars_split)\n",
    "# Sliding Open\n",
    "sliding_open_twelve_fifty_nine_intraday_average_changes_df = calculate_average_intraday_price_change_grouped_by_open_minutes_offset(sliding_open_twelve_fifty_nine_intraday_minute_bars_split)\n",
    "sliding_open_thirteen_oh_four_intraday_average_changes_df = calculate_average_intraday_price_change_grouped_by_open_minutes_offset(sliding_open_thirteen_oh_four_intraday_minute_bars_split)\n",
    "sliding_open_last_bar_intraday_average_changes_df = calculate_average_intraday_price_change_grouped_by_open_minutes_offset(sliding_open_last_bar_intraday_minute_bars_split)"
   ]
  },
  {
   "cell_type": "markdown",
   "metadata": {},
   "source": [
    "Generate the figures"
   ]
  },
  {
   "cell_type": "code",
   "execution_count": null,
   "metadata": {},
   "outputs": [],
   "source": [
    "fig1 = generate_figure(\n",
    "  intraday_price_changes_split_df=true_open_twelve_fifty_nine_intraday_average_changes_df,\n",
    "  fig_title='True Open 12:59 Change'\n",
    "  )\n",
    "fig2 = generate_figure(\n",
    "  intraday_price_changes_split_df=true_open_thirteen_oh_four_intraday_average_changes_df,\n",
    "  fig_title='True Open 13:04 Change'\n",
    "  )\n",
    "fig3 = generate_figure(\n",
    "  intraday_price_changes_split_df=true_open_last_bar_intraday_average_changes_df,\n",
    "  fig_title='True Open Last Bar Change'\n",
    "  )\n",
    "fig4 = generate_figure(\n",
    "  intraday_price_changes_split_df=sliding_open_twelve_fifty_nine_intraday_average_changes_df,\n",
    "  fig_title='Sliding Open 12:59 Change'\n",
    "  )\n",
    "fig5 = generate_figure(\n",
    "  intraday_price_changes_split_df=sliding_open_thirteen_oh_four_intraday_average_changes_df,\n",
    "  fig_title='Sliding Open 13:04 Change'\n",
    "  )\n",
    "fig6 = generate_figure(\n",
    "  intraday_price_changes_split_df=sliding_open_last_bar_intraday_average_changes_df,\n",
    "  fig_title='Sliding Open Last Bar Change'\n",
    "  )\n"
   ]
  },
  {
   "cell_type": "markdown",
   "metadata": {},
   "source": [
    "Show the figures"
   ]
  },
  {
   "cell_type": "code",
   "execution_count": null,
   "metadata": {},
   "outputs": [],
   "source": [
    "figures = [fig1, fig2, fig3, fig4, fig5, fig6]\n",
    "for fig in figures:\n",
    "  fig.show()"
   ]
  }
 ],
 "metadata": {
  "interpreter": {
   "hash": "3067ead486e059ec00ffe7555bdb889e6e264a24dc711bf108106cc7baee8d5d"
  },
  "kernelspec": {
   "display_name": "Python 3.9.7 64-bit ('base': conda)",
   "language": "python",
   "name": "python3"
  },
  "language_info": {
   "codemirror_mode": {
    "name": "ipython",
    "version": 3
   },
   "file_extension": ".py",
   "mimetype": "text/x-python",
   "name": "python",
   "nbconvert_exporter": "python",
   "pygments_lexer": "ipython3",
   "version": "3.10.0"
  },
  "orig_nbformat": 4
 },
 "nbformat": 4,
 "nbformat_minor": 2
}
