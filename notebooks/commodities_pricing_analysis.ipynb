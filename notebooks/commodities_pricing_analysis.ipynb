{
 "cells": [
  {
   "cell_type": "code",
   "execution_count": 1,
   "metadata": {},
   "outputs": [],
   "source": [
    "import pandas as pd\n",
    "from typing import Tuple, NamedTuple, List\n",
    "from collections import namedtuple"
   ]
  },
  {
   "cell_type": "code",
   "execution_count": 2,
   "metadata": {},
   "outputs": [],
   "source": [
    "CONTRACT_INTRADAY_SLIDING_OPEN_FILE_PATH = '../data/processed/futures_contracts/contract_open_enriched_sliding_open.csv'\n",
    "CONTRACT_INTRADAY_TRUE_OPEN_FILE_PATH = '../data/processed/futures_contracts/contract_open_enriched_true_open.csv'\n",
    "CONTRACT_OVERNIGHT_CHANGES_SLIDING_OPEN_FILE_PATH = '../data/processed/futures_contracts/overnight_changes_by_contract_sliding_open.csv'\n",
    "CONTRACT_OVERNIGHT_CHANGES_TRUE_OPEN_FILE_PATH = '../data/processed/futures_contracts/overnight_changes_by_contract_true_open.csv'"
   ]
  },
  {
   "cell_type": "code",
   "execution_count": 3,
   "metadata": {},
   "outputs": [],
   "source": [
    "def intraday_open_csv_to_df(filename) -> pd.DataFrame:\n",
    "    csv_as_df = pd.read_csv(\n",
    "        filename,\n",
    "        parse_dates=['DateTime'], \n",
    "        usecols=[\n",
    "          'Symbol','DateTime','Open Minutes Offset','Open','High','Low','Close',\n",
    "            'Volume','Price Change From Intraday Open','Expiration Date','DTE'\n",
    "          ]\n",
    "    )\n",
    "    return csv_as_df"
   ]
  },
  {
   "cell_type": "code",
   "execution_count": 4,
   "metadata": {},
   "outputs": [],
   "source": [
    "def overnight_changes_csv_to_df(filename) -> pd.DataFrame:\n",
    "  csv_as_df = pd.read_csv(\n",
    "    filename,\n",
    "    parse_dates=['Date'],\n",
    "    usecols=['Symbol','Date','12:59 Change','13:04 Change','Last Bar Change']\n",
    "  )\n",
    "  return csv_as_df"
   ]
  },
  {
   "cell_type": "code",
   "execution_count": 5,
   "metadata": {},
   "outputs": [],
   "source": [
    "def filter_and_split_overnight_changes(\n",
    "  overnight_changes_df: pd.DataFrame,\n",
    "  close_bar_column_name: str # For example '12:59 Change'\n",
    ") -> NamedTuple:\n",
    "  '''\n",
    "  Filter an overnight changes dataset to only include those days where a particular close bar column has changes. Then split those days/rows into two dataframes\n",
    "  based on whether they have a positive or negative value\n",
    "  '''\n",
    "  overnight_where_change_exists_df = overnight_changes_df[overnight_changes_df[close_bar_column_name].notna()]\n",
    "  overnight_positive_change_df = overnight_where_change_exists_df[overnight_where_change_exists_df[close_bar_column_name] >= 0]\n",
    "  overnight_negative_change_df = overnight_where_change_exists_df[overnight_where_change_exists_df[close_bar_column_name] < 0]\n",
    "  overnight_changes = namedtuple('overnight_changes', ['positive_change_df', 'negative_change_df'])\n",
    "  return overnight_changes(overnight_positive_change_df, overnight_negative_change_df)"
   ]
  },
  {
   "cell_type": "code",
   "execution_count": 6,
   "metadata": {},
   "outputs": [],
   "source": [
    "def split_intraday_activity_by_overnight_change_for_symbol(\n",
    "  contract_symbol: str,\n",
    "  overnight_positive_change_from_close_df: pd.DataFrame,\n",
    "  overnight_negative_change_from_close_df: pd.DataFrame,\n",
    "  intraday_df: pd.DataFrame\n",
    "  ) -> NamedTuple:\n",
    "    '''\n",
    "    Split the intraday minutes for a given contract symbol into those days minutes which correspond to a positive overnight close change and those days minutes that correspond to a negative overnight close change.\n",
    "    Return the split data as a tuple of dataframes accordingly\n",
    "    '''\n",
    "    # Get a series of dates representing the days where there was a positive change from the prior days close bar for this symbol\n",
    "    dates_of_positive_change_series = overnight_positive_change_from_close_df[overnight_positive_change_from_close_df['Symbol'] == contract_symbol]['Date'].dt.date\n",
    "    # Get a series of dates representing the days where there was a negative change from the prior days close bar for this symbol\n",
    "    dates_of_negative_change_series = overnight_negative_change_from_close_df[overnight_negative_change_from_close_df['Symbol'] == contract_symbol]['Date'].dt.date\n",
    "    # Filter down our intraday enriched contract data to only include those items matching the the symbol we are currently analyzing\n",
    "    intraday_for_symbol_df = intraday_df[intraday_df['Symbol'] == contract_symbol]\n",
    "    # Filter down the rows in the intraday data for this symbol to only those associated with a day where there was a negative overnight change for this type of close\n",
    "    intraday_minutes_negative_change_df = intraday_for_symbol_df[intraday_for_symbol_df['DateTime'].dt.date.isin(dates_of_negative_change_series)]\n",
    "    # Filter down the rows in the intraday data for this symbol to only those associated with a day where there was a positive overnight change for this type of close\n",
    "    intraday_minutes_positive_change_df = intraday_for_symbol_df[intraday_for_symbol_df['DateTime'].dt.date.isin(dates_of_positive_change_series)]\n",
    "    intraday_minute_changes = namedtuple('intraday_minute_changes', ['positive_change_df', 'negative_change_df'])\n",
    "    return intraday_minute_changes(intraday_minutes_positive_change_df, intraday_minutes_negative_change_df)"
   ]
  },
  {
   "cell_type": "code",
   "execution_count": 7,
   "metadata": {},
   "outputs": [],
   "source": [
    "def split_intraday_activity_by_overnight_change_all_symbols(\n",
    "  symbols: List[str],\n",
    "  overnight_positive_change_from_close_df: pd.DataFrame,\n",
    "  overnight_negative_change_from_close_df: pd.DataFrame,\n",
    "  intraday_df: pd.DataFrame\n",
    ") -> NamedTuple:\n",
    "  '''\n",
    "  Split the intraday minutes for a list of symbols into those days minutes which correspond to a positive overnight close change and those days minutes that correspond to a negative overnight close change.\n",
    "  Return the split data as a tuple of dataframes accordingly\n",
    "  '''\n",
    "  open_bars_where_close_was_positive_df = pd.DataFrame()\n",
    "  open_bars_where_close_was_negative_df = pd.DataFrame()\n",
    "  for symbol in symbols:\n",
    "    print(f\"Splitting intraday minutes for symbol {symbol}\")\n",
    "    intraday_minute_changes = split_intraday_activity_by_overnight_change_for_symbol(\n",
    "      contract_symbol=symbol,\n",
    "      overnight_positive_change_from_close_df=overnight_positive_change_from_close_df,\n",
    "      overnight_negative_change_from_close_df=overnight_negative_change_from_close_df,\n",
    "      intraday_df=intraday_df\n",
    "      )\n",
    "    open_bars_where_close_was_positive_df = pd.concat([open_bars_where_close_was_positive_df, intraday_minute_changes.positive_change_df])\n",
    "    open_bars_where_close_was_negative_df = pd.concat([open_bars_where_close_was_negative_df, intraday_minute_changes.negative_change_df])\n",
    "  intraday_minute_bars_split = namedtuple('intraday_minute_bars_split', ['positive_change_df', 'negative_change_df'])\n",
    "  return intraday_minute_bars_split(open_bars_where_close_was_positive_df, open_bars_where_close_was_negative_df)"
   ]
  },
  {
   "cell_type": "code",
   "execution_count": 8,
   "metadata": {},
   "outputs": [],
   "source": [
    "intraday_sliding_open_df = intraday_open_csv_to_df(CONTRACT_INTRADAY_SLIDING_OPEN_FILE_PATH)\n",
    "intraday_true_open_df = intraday_open_csv_to_df(CONTRACT_INTRADAY_TRUE_OPEN_FILE_PATH)\n",
    "overnight_sliding_open_df = overnight_changes_csv_to_df(CONTRACT_OVERNIGHT_CHANGES_SLIDING_OPEN_FILE_PATH)\n",
    "overnight_true_open_df = overnight_changes_csv_to_df(CONTRACT_OVERNIGHT_CHANGES_TRUE_OPEN_FILE_PATH)"
   ]
  },
  {
   "cell_type": "code",
   "execution_count": 9,
   "metadata": {},
   "outputs": [],
   "source": [
    "unique_symbols = list(intraday_true_open_df.Symbol.unique())"
   ]
  },
  {
   "cell_type": "code",
   "execution_count": 10,
   "metadata": {},
   "outputs": [],
   "source": [
    "overnight_twelve_fifty_nine_true_open_changes = filter_and_split_overnight_changes(\n",
    "  overnight_changes_df=overnight_true_open_df,\n",
    "  close_bar_column_name='12:59 Change'\n",
    ")"
   ]
  },
  {
   "cell_type": "code",
   "execution_count": 11,
   "metadata": {},
   "outputs": [
    {
     "name": "stdout",
     "output_type": "stream",
     "text": [
      "Splitting intraday minutes for symbol LEG09\n",
      "Splitting intraday minutes for symbol LEG10\n",
      "Splitting intraday minutes for symbol LEG11\n",
      "Splitting intraday minutes for symbol LEG12\n",
      "Splitting intraday minutes for symbol LEG13\n",
      "Splitting intraday minutes for symbol LEG14\n",
      "Splitting intraday minutes for symbol LEG15\n",
      "Splitting intraday minutes for symbol LEG16\n",
      "Splitting intraday minutes for symbol LEG17\n",
      "Splitting intraday minutes for symbol LEG18\n",
      "Splitting intraday minutes for symbol LEG19\n",
      "Splitting intraday minutes for symbol LEG20\n",
      "Splitting intraday minutes for symbol LEJ08\n",
      "Splitting intraday minutes for symbol LEJ09\n",
      "Splitting intraday minutes for symbol LEJ10\n",
      "Splitting intraday minutes for symbol LEJ11\n",
      "Splitting intraday minutes for symbol LEJ12\n",
      "Splitting intraday minutes for symbol LEJ13\n",
      "Splitting intraday minutes for symbol LEJ14\n",
      "Splitting intraday minutes for symbol LEJ15\n",
      "Splitting intraday minutes for symbol LEJ16\n",
      "Splitting intraday minutes for symbol LEJ17\n",
      "Splitting intraday minutes for symbol LEJ18\n",
      "Splitting intraday minutes for symbol LEJ19\n",
      "Splitting intraday minutes for symbol LEJ20\n",
      "Splitting intraday minutes for symbol LEM08\n",
      "Splitting intraday minutes for symbol LEM09\n",
      "Splitting intraday minutes for symbol LEM10\n",
      "Splitting intraday minutes for symbol LEM11\n",
      "Splitting intraday minutes for symbol LEM12\n",
      "Splitting intraday minutes for symbol LEM13\n",
      "Splitting intraday minutes for symbol LEM14\n",
      "Splitting intraday minutes for symbol LEM15\n",
      "Splitting intraday minutes for symbol LEM16\n",
      "Splitting intraday minutes for symbol LEM17\n",
      "Splitting intraday minutes for symbol LEM18\n",
      "Splitting intraday minutes for symbol LEM19\n",
      "Splitting intraday minutes for symbol LEM20\n",
      "Splitting intraday minutes for symbol LEQ08\n",
      "Splitting intraday minutes for symbol LEQ09\n",
      "Splitting intraday minutes for symbol LEQ10\n",
      "Splitting intraday minutes for symbol LEQ11\n",
      "Splitting intraday minutes for symbol LEQ12\n",
      "Splitting intraday minutes for symbol LEQ13\n",
      "Splitting intraday minutes for symbol LEQ14\n",
      "Splitting intraday minutes for symbol LEQ15\n",
      "Splitting intraday minutes for symbol LEQ16\n",
      "Splitting intraday minutes for symbol LEQ17\n",
      "Splitting intraday minutes for symbol LEQ18\n",
      "Splitting intraday minutes for symbol LEQ19\n",
      "Splitting intraday minutes for symbol LEQ20\n",
      "Splitting intraday minutes for symbol LEV08\n",
      "Splitting intraday minutes for symbol LEV09\n",
      "Splitting intraday minutes for symbol LEV10\n",
      "Splitting intraday minutes for symbol LEV11\n",
      "Splitting intraday minutes for symbol LEV12\n",
      "Splitting intraday minutes for symbol LEV13\n",
      "Splitting intraday minutes for symbol LEV14\n",
      "Splitting intraday minutes for symbol LEV15\n",
      "Splitting intraday minutes for symbol LEV16\n",
      "Splitting intraday minutes for symbol LEV17\n",
      "Splitting intraday minutes for symbol LEV18\n",
      "Splitting intraday minutes for symbol LEV19\n",
      "Splitting intraday minutes for symbol LEV20\n",
      "Splitting intraday minutes for symbol LEZ08\n",
      "Splitting intraday minutes for symbol LEZ09\n",
      "Splitting intraday minutes for symbol LEZ10\n",
      "Splitting intraday minutes for symbol LEZ11\n",
      "Splitting intraday minutes for symbol LEZ12\n",
      "Splitting intraday minutes for symbol LEZ13\n",
      "Splitting intraday minutes for symbol LEZ14\n",
      "Splitting intraday minutes for symbol LEZ15\n",
      "Splitting intraday minutes for symbol LEZ16\n",
      "Splitting intraday minutes for symbol LEZ17\n",
      "Splitting intraday minutes for symbol LEZ18\n",
      "Splitting intraday minutes for symbol LEZ19\n",
      "Splitting intraday minutes for symbol LEZ20\n"
     ]
    }
   ],
   "source": [
    "true_open_twelve_fifty_nine_intraday_minute_bars_split = split_intraday_activity_by_overnight_change_all_symbols(\n",
    "  symbols=unique_symbols,\n",
    "  overnight_positive_change_from_close_df=overnight_twelve_fifty_nine_true_open_changes.positive_change_df,\n",
    "  overnight_negative_change_from_close_df=overnight_twelve_fifty_nine_true_open_changes.negative_change_df,\n",
    "  intraday_df=intraday_true_open_df\n",
    ")"
   ]
  },
  {
   "cell_type": "code",
   "execution_count": null,
   "metadata": {},
   "outputs": [],
   "source": []
  }
 ],
 "metadata": {
  "interpreter": {
   "hash": "3067ead486e059ec00ffe7555bdb889e6e264a24dc711bf108106cc7baee8d5d"
  },
  "kernelspec": {
   "display_name": "Python 3.9.7 64-bit ('base': conda)",
   "language": "python",
   "name": "python3"
  },
  "language_info": {
   "codemirror_mode": {
    "name": "ipython",
    "version": 3
   },
   "file_extension": ".py",
   "mimetype": "text/x-python",
   "name": "python",
   "nbconvert_exporter": "python",
   "pygments_lexer": "ipython3",
   "version": "3.10.0"
  },
  "orig_nbformat": 4
 },
 "nbformat": 4,
 "nbformat_minor": 2
}
