{
 "cells": [
  {
   "cell_type": "code",
   "execution_count": 1,
   "metadata": {},
   "outputs": [],
   "source": [
    "import pandas as pd\n",
    "from typing import Tuple, NamedTuple, List\n",
    "from collections import namedtuple\n",
    "import plotly.express as px\n",
    "import plotly.graph_objects as go"
   ]
  },
  {
   "cell_type": "code",
   "execution_count": 2,
   "metadata": {},
   "outputs": [],
   "source": [
    "CONTRACT_INTRADAY_SLIDING_OPEN_FILE_PATH = '../data/processed/futures_contracts/contract_open_enriched_sliding_open.csv'\n",
    "CONTRACT_INTRADAY_TRUE_OPEN_FILE_PATH = '../data/processed/futures_contracts/contract_open_enriched_true_open.csv'\n",
    "CONTRACT_OVERNIGHT_CHANGES_SLIDING_OPEN_FILE_PATH = '../data/processed/futures_contracts/overnight_changes_by_contract_sliding_open.csv'\n",
    "CONTRACT_OVERNIGHT_CHANGES_TRUE_OPEN_FILE_PATH = '../data/processed/futures_contracts/overnight_changes_by_contract_true_open.csv'"
   ]
  },
  {
   "cell_type": "code",
   "execution_count": 3,
   "metadata": {},
   "outputs": [],
   "source": [
    "def intraday_open_csv_to_df(filename) -> pd.DataFrame:\n",
    "    csv_as_df = pd.read_csv(\n",
    "        filename,\n",
    "        parse_dates=['DateTime'], \n",
    "        usecols=[\n",
    "          'Symbol','DateTime','Open Minutes Offset','Open','High','Low','Close',\n",
    "            'Volume','Price Change From Intraday Open','Expiration Date','DTE'\n",
    "          ]\n",
    "    )\n",
    "    return csv_as_df"
   ]
  },
  {
   "cell_type": "code",
   "execution_count": 4,
   "metadata": {},
   "outputs": [],
   "source": [
    "def overnight_changes_csv_to_df(filename) -> pd.DataFrame:\n",
    "  csv_as_df = pd.read_csv(\n",
    "    filename,\n",
    "    parse_dates=['Date'],\n",
    "    usecols=['Symbol','Date','12:59 Change','13:04 Change','Last Bar Change']\n",
    "  )\n",
    "  return csv_as_df"
   ]
  },
  {
   "cell_type": "code",
   "execution_count": 5,
   "metadata": {},
   "outputs": [],
   "source": [
    "def filter_and_split_overnight_changes(\n",
    "  overnight_changes_df: pd.DataFrame,\n",
    "  close_bar_column_name: str # For example '12:59 Change'\n",
    ") -> NamedTuple:\n",
    "  '''\n",
    "  Filter an overnight changes dataset to only include those days where a particular close bar column has changes. Then split those days/rows into two dataframes\n",
    "  based on whether they have a positive or negative value\n",
    "  '''\n",
    "  overnight_where_change_exists_df = overnight_changes_df[overnight_changes_df[close_bar_column_name].notna()]\n",
    "  overnight_positive_change_df = overnight_where_change_exists_df[overnight_where_change_exists_df[close_bar_column_name] >= 0]\n",
    "  overnight_negative_change_df = overnight_where_change_exists_df[overnight_where_change_exists_df[close_bar_column_name] < 0]\n",
    "  overnight_changes = namedtuple('overnight_changes', ['positive_change_df', 'negative_change_df'])\n",
    "  return overnight_changes(overnight_positive_change_df, overnight_negative_change_df)"
   ]
  },
  {
   "cell_type": "code",
   "execution_count": 6,
   "metadata": {},
   "outputs": [],
   "source": [
    "def split_intraday_activity_by_overnight_change_for_symbol(\n",
    "  contract_symbol: str,\n",
    "  overnight_positive_change_from_close_df: pd.DataFrame,\n",
    "  overnight_negative_change_from_close_df: pd.DataFrame,\n",
    "  intraday_df: pd.DataFrame\n",
    "  ) -> NamedTuple:\n",
    "    '''\n",
    "    Split the intraday minutes for a given contract symbol into those days minutes which correspond to a positive overnight close change and those days minutes that correspond to a negative overnight close change.\n",
    "    Return the split data as a tuple of dataframes accordingly\n",
    "    '''\n",
    "    # Get a series of dates representing the days where there was a positive change from the prior days close bar for this symbol\n",
    "    dates_of_positive_change_series = overnight_positive_change_from_close_df[overnight_positive_change_from_close_df['Symbol'] == contract_symbol]['Date'].dt.date\n",
    "    # Get a series of dates representing the days where there was a negative change from the prior days close bar for this symbol\n",
    "    dates_of_negative_change_series = overnight_negative_change_from_close_df[overnight_negative_change_from_close_df['Symbol'] == contract_symbol]['Date'].dt.date\n",
    "    # Filter down our intraday enriched contract data to only include those items matching the the symbol we are currently analyzing\n",
    "    intraday_for_symbol_df = intraday_df[intraday_df['Symbol'] == contract_symbol]\n",
    "    # Filter down the rows in the intraday data for this symbol to only those associated with a day where there was a negative overnight change for this type of close\n",
    "    intraday_minutes_negative_change_df = intraday_for_symbol_df[intraday_for_symbol_df['DateTime'].dt.date.isin(dates_of_negative_change_series)]\n",
    "    # Filter down the rows in the intraday data for this symbol to only those associated with a day where there was a positive overnight change for this type of close\n",
    "    intraday_minutes_positive_change_df = intraday_for_symbol_df[intraday_for_symbol_df['DateTime'].dt.date.isin(dates_of_positive_change_series)]\n",
    "    intraday_minute_changes = namedtuple('intraday_minute_changes', ['positive_change_df', 'negative_change_df'])\n",
    "    return intraday_minute_changes(intraday_minutes_positive_change_df, intraday_minutes_negative_change_df)"
   ]
  },
  {
   "cell_type": "code",
   "execution_count": 7,
   "metadata": {},
   "outputs": [],
   "source": [
    "def split_intraday_activity_by_overnight_change_all_symbols(\n",
    "  symbols: List[str],\n",
    "  overnight_positive_change_from_close_df: pd.DataFrame,\n",
    "  overnight_negative_change_from_close_df: pd.DataFrame,\n",
    "  intraday_df: pd.DataFrame\n",
    ") -> NamedTuple:\n",
    "  '''\n",
    "  Split the intraday minutes for a list of symbols into those days minutes which correspond to a positive overnight close change and those days minutes that correspond to a negative overnight close change.\n",
    "  Return the split data as a tuple of dataframes accordingly\n",
    "  '''\n",
    "  open_bars_where_close_was_positive_df = pd.DataFrame()\n",
    "  open_bars_where_close_was_negative_df = pd.DataFrame()\n",
    "  for symbol in symbols:\n",
    "    print(f\"Splitting intraday minutes for symbol {symbol}\")\n",
    "    intraday_minute_changes = split_intraday_activity_by_overnight_change_for_symbol(\n",
    "      contract_symbol=symbol,\n",
    "      overnight_positive_change_from_close_df=overnight_positive_change_from_close_df,\n",
    "      overnight_negative_change_from_close_df=overnight_negative_change_from_close_df,\n",
    "      intraday_df=intraday_df\n",
    "      )\n",
    "    open_bars_where_close_was_positive_df = pd.concat([open_bars_where_close_was_positive_df, intraday_minute_changes.positive_change_df])\n",
    "    open_bars_where_close_was_negative_df = pd.concat([open_bars_where_close_was_negative_df, intraday_minute_changes.negative_change_df])\n",
    "  intraday_minute_bars_split = namedtuple('intraday_minute_bars_split', ['positive_change_df', 'negative_change_df'])\n",
    "  return intraday_minute_bars_split(open_bars_where_close_was_positive_df, open_bars_where_close_was_negative_df)"
   ]
  },
  {
   "cell_type": "code",
   "execution_count": 8,
   "metadata": {},
   "outputs": [],
   "source": [
    "def calculate_average_intraday_price_change_grouped_by_open_minutes_offset(intraday_minute_bars_df: pd.DataFrame) -> pd.DataFrame:\n",
    "  '''\n",
    "  Group the intraday minute bars by their Open Minutes Offset and calculate the mean for each minute. Return all that as a single dataframe\n",
    "  '''\n",
    "  overnight_positive_change_df = intraday_minute_bars_df.positive_change_df.groupby('Open Minutes Offset', as_index=False)['Price Change From Intraday Open'].mean()\n",
    "  overnight_negative_change_df = intraday_minute_bars_df.negative_change_df.groupby('Open Minutes Offset', as_index=False)['Price Change From Intraday Open'].mean()\n",
    "  to_return_df = pd.DataFrame({\n",
    "    'Open Minutes Offset': overnight_positive_change_df['Open Minutes Offset'],\n",
    "    'Avg Intraday Price Change When Overnight Change >= 0': overnight_positive_change_df['Price Change From Intraday Open'],\n",
    "    'Avg Intraday Price Change When Overnight Change < 0': overnight_negative_change_df['Price Change From Intraday Open']\n",
    "  })\n",
    "  return to_return_df"
   ]
  },
  {
   "cell_type": "code",
   "execution_count": 9,
   "metadata": {},
   "outputs": [],
   "source": [
    "def generate_figure(intraday_price_changes_split_df: pd.DataFrame, fig_title: str) -> go.Figure:\n",
    "  fig = go.Figure()\n",
    "  fig.add_trace(go.Scatter(\n",
    "    x=intraday_price_changes_split_df['Open Minutes Offset'],\n",
    "    y=intraday_price_changes_split_df['Avg Intraday Price Change When Overnight Change >= 0'],\n",
    "    mode='lines+markers',\n",
    "    name='When Overnight Change >= 0')\n",
    "    )\n",
    "  fig.add_trace(go.Scatter(\n",
    "    x=intraday_price_changes_split_df['Open Minutes Offset'],\n",
    "    y=intraday_price_changes_split_df['Avg Intraday Price Change When Overnight Change < 0'],\n",
    "    mode='lines+markers',\n",
    "    name='When Overnight Change < 0')\n",
    "    )\n",
    "  fig.update_xaxes(title_text='Minutes After Open')\n",
    "  fig.update_yaxes(title_text='Avg Price Change From Open')\n",
    "  fig.update_layout(title_text=fig_title)\n",
    "  return fig"
   ]
  },
  {
   "cell_type": "code",
   "execution_count": 10,
   "metadata": {},
   "outputs": [],
   "source": [
    "intraday_sliding_open_df = intraday_open_csv_to_df(CONTRACT_INTRADAY_SLIDING_OPEN_FILE_PATH)\n",
    "intraday_true_open_df = intraday_open_csv_to_df(CONTRACT_INTRADAY_TRUE_OPEN_FILE_PATH)\n",
    "overnight_sliding_open_df = overnight_changes_csv_to_df(CONTRACT_OVERNIGHT_CHANGES_SLIDING_OPEN_FILE_PATH)\n",
    "overnight_true_open_df = overnight_changes_csv_to_df(CONTRACT_OVERNIGHT_CHANGES_TRUE_OPEN_FILE_PATH)"
   ]
  },
  {
   "cell_type": "markdown",
   "metadata": {},
   "source": [
    "Segment the overnight true open dataset into 3 datasets one for each close bar. Each of those datasets is further divided into two data frames one containing positive overnight changes for the bar and the other containing negative overnight changes for that bar"
   ]
  },
  {
   "cell_type": "code",
   "execution_count": 11,
   "metadata": {},
   "outputs": [],
   "source": [
    "unique_symbols = list(intraday_true_open_df.Symbol.unique())"
   ]
  },
  {
   "cell_type": "code",
   "execution_count": 12,
   "metadata": {},
   "outputs": [],
   "source": [
    "overnight_twelve_fifty_nine_true_open_changes = filter_and_split_overnight_changes(\n",
    "  overnight_changes_df=overnight_true_open_df,\n",
    "  close_bar_column_name='12:59 Change'\n",
    ")\n",
    "overnight_thirteen_oh_four_true_open_changes = filter_and_split_overnight_changes(\n",
    "  overnight_changes_df=overnight_true_open_df,\n",
    "  close_bar_column_name='13:04 Change'\n",
    ")\n",
    "overnight_last_bar_true_open_changes = filter_and_split_overnight_changes(\n",
    "  overnight_changes_df=overnight_true_open_df,\n",
    "  close_bar_column_name='Last Bar Change'\n",
    ")"
   ]
  },
  {
   "cell_type": "markdown",
   "metadata": {},
   "source": [
    "Segment the intraday true open dataset into 3 datasets one associated with each type of close. Each of those datasets is further split into two dataframes one containing the intraday changes associated with a positive overnight change and the other of which contains the intraday changes associated with a negative overnight change"
   ]
  },
  {
   "cell_type": "code",
   "execution_count": 13,
   "metadata": {},
   "outputs": [
    {
     "name": "stdout",
     "output_type": "stream",
     "text": [
      "Gathering Intraday split data for true open @ 12:59\n",
      "Splitting intraday minutes for symbol LEG09\n",
      "Splitting intraday minutes for symbol LEG10\n",
      "Splitting intraday minutes for symbol LEG11\n",
      "Splitting intraday minutes for symbol LEG12\n",
      "Splitting intraday minutes for symbol LEG13\n",
      "Splitting intraday minutes for symbol LEG14\n",
      "Splitting intraday minutes for symbol LEG15\n",
      "Splitting intraday minutes for symbol LEG16\n",
      "Splitting intraday minutes for symbol LEG17\n",
      "Splitting intraday minutes for symbol LEG18\n",
      "Splitting intraday minutes for symbol LEG19\n",
      "Splitting intraday minutes for symbol LEG20\n",
      "Splitting intraday minutes for symbol LEJ08\n",
      "Splitting intraday minutes for symbol LEJ09\n",
      "Splitting intraday minutes for symbol LEJ10\n",
      "Splitting intraday minutes for symbol LEJ11\n",
      "Splitting intraday minutes for symbol LEJ12\n",
      "Splitting intraday minutes for symbol LEJ13\n",
      "Splitting intraday minutes for symbol LEJ14\n",
      "Splitting intraday minutes for symbol LEJ15\n",
      "Splitting intraday minutes for symbol LEJ16\n",
      "Splitting intraday minutes for symbol LEJ17\n",
      "Splitting intraday minutes for symbol LEJ18\n",
      "Splitting intraday minutes for symbol LEJ19\n",
      "Splitting intraday minutes for symbol LEJ20\n",
      "Splitting intraday minutes for symbol LEM08\n",
      "Splitting intraday minutes for symbol LEM09\n",
      "Splitting intraday minutes for symbol LEM10\n",
      "Splitting intraday minutes for symbol LEM11\n",
      "Splitting intraday minutes for symbol LEM12\n",
      "Splitting intraday minutes for symbol LEM13\n",
      "Splitting intraday minutes for symbol LEM14\n",
      "Splitting intraday minutes for symbol LEM15\n",
      "Splitting intraday minutes for symbol LEM16\n",
      "Splitting intraday minutes for symbol LEM17\n",
      "Splitting intraday minutes for symbol LEM18\n",
      "Splitting intraday minutes for symbol LEM19\n",
      "Splitting intraday minutes for symbol LEM20\n",
      "Splitting intraday minutes for symbol LEQ08\n",
      "Splitting intraday minutes for symbol LEQ09\n",
      "Splitting intraday minutes for symbol LEQ10\n",
      "Splitting intraday minutes for symbol LEQ11\n",
      "Splitting intraday minutes for symbol LEQ12\n",
      "Splitting intraday minutes for symbol LEQ13\n",
      "Splitting intraday minutes for symbol LEQ14\n",
      "Splitting intraday minutes for symbol LEQ15\n",
      "Splitting intraday minutes for symbol LEQ16\n",
      "Splitting intraday minutes for symbol LEQ17\n",
      "Splitting intraday minutes for symbol LEQ18\n",
      "Splitting intraday minutes for symbol LEQ19\n",
      "Splitting intraday minutes for symbol LEQ20\n",
      "Splitting intraday minutes for symbol LEV08\n",
      "Splitting intraday minutes for symbol LEV09\n",
      "Splitting intraday minutes for symbol LEV10\n",
      "Splitting intraday minutes for symbol LEV11\n",
      "Splitting intraday minutes for symbol LEV12\n",
      "Splitting intraday minutes for symbol LEV13\n",
      "Splitting intraday minutes for symbol LEV14\n",
      "Splitting intraday minutes for symbol LEV15\n",
      "Splitting intraday minutes for symbol LEV16\n",
      "Splitting intraday minutes for symbol LEV17\n",
      "Splitting intraday minutes for symbol LEV18\n",
      "Splitting intraday minutes for symbol LEV19\n",
      "Splitting intraday minutes for symbol LEV20\n",
      "Splitting intraday minutes for symbol LEZ08\n",
      "Splitting intraday minutes for symbol LEZ09\n",
      "Splitting intraday minutes for symbol LEZ10\n",
      "Splitting intraday minutes for symbol LEZ11\n",
      "Splitting intraday minutes for symbol LEZ12\n",
      "Splitting intraday minutes for symbol LEZ13\n",
      "Splitting intraday minutes for symbol LEZ14\n",
      "Splitting intraday minutes for symbol LEZ15\n",
      "Splitting intraday minutes for symbol LEZ16\n",
      "Splitting intraday minutes for symbol LEZ17\n",
      "Splitting intraday minutes for symbol LEZ18\n",
      "Splitting intraday minutes for symbol LEZ19\n",
      "Splitting intraday minutes for symbol LEZ20\n",
      "Gathering Intraday split data for true open @ 13:04\n",
      "Splitting intraday minutes for symbol LEG09\n",
      "Splitting intraday minutes for symbol LEG10\n",
      "Splitting intraday minutes for symbol LEG11\n",
      "Splitting intraday minutes for symbol LEG12\n",
      "Splitting intraday minutes for symbol LEG13\n",
      "Splitting intraday minutes for symbol LEG14\n",
      "Splitting intraday minutes for symbol LEG15\n",
      "Splitting intraday minutes for symbol LEG16\n",
      "Splitting intraday minutes for symbol LEG17\n",
      "Splitting intraday minutes for symbol LEG18\n",
      "Splitting intraday minutes for symbol LEG19\n",
      "Splitting intraday minutes for symbol LEG20\n",
      "Splitting intraday minutes for symbol LEJ08\n",
      "Splitting intraday minutes for symbol LEJ09\n",
      "Splitting intraday minutes for symbol LEJ10\n",
      "Splitting intraday minutes for symbol LEJ11\n",
      "Splitting intraday minutes for symbol LEJ12\n",
      "Splitting intraday minutes for symbol LEJ13\n",
      "Splitting intraday minutes for symbol LEJ14\n",
      "Splitting intraday minutes for symbol LEJ15\n",
      "Splitting intraday minutes for symbol LEJ16\n",
      "Splitting intraday minutes for symbol LEJ17\n",
      "Splitting intraday minutes for symbol LEJ18\n",
      "Splitting intraday minutes for symbol LEJ19\n",
      "Splitting intraday minutes for symbol LEJ20\n",
      "Splitting intraday minutes for symbol LEM08\n",
      "Splitting intraday minutes for symbol LEM09\n",
      "Splitting intraday minutes for symbol LEM10\n",
      "Splitting intraday minutes for symbol LEM11\n",
      "Splitting intraday minutes for symbol LEM12\n",
      "Splitting intraday minutes for symbol LEM13\n",
      "Splitting intraday minutes for symbol LEM14\n",
      "Splitting intraday minutes for symbol LEM15\n",
      "Splitting intraday minutes for symbol LEM16\n",
      "Splitting intraday minutes for symbol LEM17\n",
      "Splitting intraday minutes for symbol LEM18\n",
      "Splitting intraday minutes for symbol LEM19\n",
      "Splitting intraday minutes for symbol LEM20\n",
      "Splitting intraday minutes for symbol LEQ08\n",
      "Splitting intraday minutes for symbol LEQ09\n",
      "Splitting intraday minutes for symbol LEQ10\n",
      "Splitting intraday minutes for symbol LEQ11\n",
      "Splitting intraday minutes for symbol LEQ12\n",
      "Splitting intraday minutes for symbol LEQ13\n",
      "Splitting intraday minutes for symbol LEQ14\n",
      "Splitting intraday minutes for symbol LEQ15\n",
      "Splitting intraday minutes for symbol LEQ16\n",
      "Splitting intraday minutes for symbol LEQ17\n",
      "Splitting intraday minutes for symbol LEQ18\n",
      "Splitting intraday minutes for symbol LEQ19\n",
      "Splitting intraday minutes for symbol LEQ20\n",
      "Splitting intraday minutes for symbol LEV08\n",
      "Splitting intraday minutes for symbol LEV09\n",
      "Splitting intraday minutes for symbol LEV10\n",
      "Splitting intraday minutes for symbol LEV11\n",
      "Splitting intraday minutes for symbol LEV12\n",
      "Splitting intraday minutes for symbol LEV13\n",
      "Splitting intraday minutes for symbol LEV14\n",
      "Splitting intraday minutes for symbol LEV15\n",
      "Splitting intraday minutes for symbol LEV16\n",
      "Splitting intraday minutes for symbol LEV17\n",
      "Splitting intraday minutes for symbol LEV18\n",
      "Splitting intraday minutes for symbol LEV19\n",
      "Splitting intraday minutes for symbol LEV20\n",
      "Splitting intraday minutes for symbol LEZ08\n",
      "Splitting intraday minutes for symbol LEZ09\n",
      "Splitting intraday minutes for symbol LEZ10\n",
      "Splitting intraday minutes for symbol LEZ11\n",
      "Splitting intraday minutes for symbol LEZ12\n",
      "Splitting intraday minutes for symbol LEZ13\n",
      "Splitting intraday minutes for symbol LEZ14\n",
      "Splitting intraday minutes for symbol LEZ15\n",
      "Splitting intraday minutes for symbol LEZ16\n",
      "Splitting intraday minutes for symbol LEZ17\n",
      "Splitting intraday minutes for symbol LEZ18\n",
      "Splitting intraday minutes for symbol LEZ19\n",
      "Splitting intraday minutes for symbol LEZ20\n",
      "Gathering Intraday split data for true open @ last bar of day\n",
      "Splitting intraday minutes for symbol LEG09\n",
      "Splitting intraday minutes for symbol LEG10\n",
      "Splitting intraday minutes for symbol LEG11\n",
      "Splitting intraday minutes for symbol LEG12\n",
      "Splitting intraday minutes for symbol LEG13\n",
      "Splitting intraday minutes for symbol LEG14\n",
      "Splitting intraday minutes for symbol LEG15\n",
      "Splitting intraday minutes for symbol LEG16\n",
      "Splitting intraday minutes for symbol LEG17\n",
      "Splitting intraday minutes for symbol LEG18\n",
      "Splitting intraday minutes for symbol LEG19\n",
      "Splitting intraday minutes for symbol LEG20\n",
      "Splitting intraday minutes for symbol LEJ08\n",
      "Splitting intraday minutes for symbol LEJ09\n",
      "Splitting intraday minutes for symbol LEJ10\n",
      "Splitting intraday minutes for symbol LEJ11\n",
      "Splitting intraday minutes for symbol LEJ12\n",
      "Splitting intraday minutes for symbol LEJ13\n",
      "Splitting intraday minutes for symbol LEJ14\n",
      "Splitting intraday minutes for symbol LEJ15\n",
      "Splitting intraday minutes for symbol LEJ16\n",
      "Splitting intraday minutes for symbol LEJ17\n",
      "Splitting intraday minutes for symbol LEJ18\n",
      "Splitting intraday minutes for symbol LEJ19\n",
      "Splitting intraday minutes for symbol LEJ20\n",
      "Splitting intraday minutes for symbol LEM08\n",
      "Splitting intraday minutes for symbol LEM09\n",
      "Splitting intraday minutes for symbol LEM10\n",
      "Splitting intraday minutes for symbol LEM11\n",
      "Splitting intraday minutes for symbol LEM12\n",
      "Splitting intraday minutes for symbol LEM13\n",
      "Splitting intraday minutes for symbol LEM14\n",
      "Splitting intraday minutes for symbol LEM15\n",
      "Splitting intraday minutes for symbol LEM16\n",
      "Splitting intraday minutes for symbol LEM17\n",
      "Splitting intraday minutes for symbol LEM18\n",
      "Splitting intraday minutes for symbol LEM19\n",
      "Splitting intraday minutes for symbol LEM20\n",
      "Splitting intraday minutes for symbol LEQ08\n",
      "Splitting intraday minutes for symbol LEQ09\n",
      "Splitting intraday minutes for symbol LEQ10\n",
      "Splitting intraday minutes for symbol LEQ11\n",
      "Splitting intraday minutes for symbol LEQ12\n",
      "Splitting intraday minutes for symbol LEQ13\n",
      "Splitting intraday minutes for symbol LEQ14\n",
      "Splitting intraday minutes for symbol LEQ15\n",
      "Splitting intraday minutes for symbol LEQ16\n",
      "Splitting intraday minutes for symbol LEQ17\n",
      "Splitting intraday minutes for symbol LEQ18\n",
      "Splitting intraday minutes for symbol LEQ19\n",
      "Splitting intraday minutes for symbol LEQ20\n",
      "Splitting intraday minutes for symbol LEV08\n",
      "Splitting intraday minutes for symbol LEV09\n",
      "Splitting intraday minutes for symbol LEV10\n",
      "Splitting intraday minutes for symbol LEV11\n",
      "Splitting intraday minutes for symbol LEV12\n",
      "Splitting intraday minutes for symbol LEV13\n",
      "Splitting intraday minutes for symbol LEV14\n",
      "Splitting intraday minutes for symbol LEV15\n",
      "Splitting intraday minutes for symbol LEV16\n",
      "Splitting intraday minutes for symbol LEV17\n",
      "Splitting intraday minutes for symbol LEV18\n",
      "Splitting intraday minutes for symbol LEV19\n",
      "Splitting intraday minutes for symbol LEV20\n",
      "Splitting intraday minutes for symbol LEZ08\n",
      "Splitting intraday minutes for symbol LEZ09\n",
      "Splitting intraday minutes for symbol LEZ10\n",
      "Splitting intraday minutes for symbol LEZ11\n",
      "Splitting intraday minutes for symbol LEZ12\n",
      "Splitting intraday minutes for symbol LEZ13\n",
      "Splitting intraday minutes for symbol LEZ14\n",
      "Splitting intraday minutes for symbol LEZ15\n",
      "Splitting intraday minutes for symbol LEZ16\n",
      "Splitting intraday minutes for symbol LEZ17\n",
      "Splitting intraday minutes for symbol LEZ18\n",
      "Splitting intraday minutes for symbol LEZ19\n",
      "Splitting intraday minutes for symbol LEZ20\n"
     ]
    }
   ],
   "source": [
    "print(\"Gathering Intraday split data for true open @ 12:59\")\n",
    "true_open_twelve_fifty_nine_intraday_minute_bars_split = split_intraday_activity_by_overnight_change_all_symbols(\n",
    "  symbols=unique_symbols,\n",
    "  overnight_positive_change_from_close_df=overnight_twelve_fifty_nine_true_open_changes.positive_change_df,\n",
    "  overnight_negative_change_from_close_df=overnight_twelve_fifty_nine_true_open_changes.negative_change_df,\n",
    "  intraday_df=intraday_true_open_df\n",
    ")\n",
    "print(\"Gathering Intraday split data for true open @ 13:04\")\n",
    "true_open_thirteen_oh_four_intraday_minute_bars_split = split_intraday_activity_by_overnight_change_all_symbols(\n",
    "  symbols=unique_symbols,\n",
    "  overnight_positive_change_from_close_df=overnight_thirteen_oh_four_true_open_changes.positive_change_df,\n",
    "  overnight_negative_change_from_close_df=overnight_thirteen_oh_four_true_open_changes.negative_change_df,\n",
    "  intraday_df=intraday_true_open_df\n",
    ")\n",
    "print(\"Gathering Intraday split data for true open @ last bar of day\")\n",
    "true_open_last_bar_intraday_minute_bars_split = split_intraday_activity_by_overnight_change_all_symbols(\n",
    "  symbols=unique_symbols,\n",
    "  overnight_positive_change_from_close_df=overnight_last_bar_true_open_changes.positive_change_df,\n",
    "  overnight_negative_change_from_close_df=overnight_last_bar_true_open_changes.negative_change_df,\n",
    "  intraday_df=intraday_true_open_df\n",
    ")"
   ]
  },
  {
   "cell_type": "code",
   "execution_count": 14,
   "metadata": {},
   "outputs": [],
   "source": [
    "true_open_twelve_fifty_nine_intraday_average_changes_df = calculate_average_intraday_price_change_grouped_by_open_minutes_offset(true_open_twelve_fifty_nine_intraday_minute_bars_split)\n",
    "true_open_thirteen_oh_four_intraday_average_changes_df = calculate_average_intraday_price_change_grouped_by_open_minutes_offset(true_open_thirteen_oh_four_intraday_minute_bars_split)\n",
    "true_open_last_bar_intraday_average_changes_df = calculate_average_intraday_price_change_grouped_by_open_minutes_offset(true_open_last_bar_intraday_minute_bars_split)"
   ]
  },
  {
   "cell_type": "code",
   "execution_count": 16,
   "metadata": {},
   "outputs": [
    {
     "data": {
      "application/vnd.plotly.v1+json": {
       "config": {
        "plotlyServerURL": "https://plot.ly"
       },
       "data": [
        {
         "mode": "lines+markers",
         "name": "When Overnight Change >= 0",
         "type": "scatter",
         "x": [
          0,
          1,
          2,
          3,
          4,
          5,
          6,
          7,
          8,
          9,
          10,
          11,
          12,
          13,
          14,
          15,
          16,
          17,
          18,
          19,
          20,
          21,
          22,
          23,
          24,
          25,
          26,
          27,
          28,
          29,
          30,
          31,
          32,
          33,
          34,
          35,
          36,
          37,
          38,
          39,
          40,
          41,
          42,
          43,
          44,
          45,
          46,
          47,
          48,
          49,
          50,
          51,
          52,
          53,
          54,
          55,
          56,
          57,
          58,
          59,
          60
         ],
         "y": [
          -0.007614610817941952,
          -0.011939520333680918,
          -0.011049165935030728,
          -0.01242517605633803,
          -0.013096505233280114,
          -0.011299964311206282,
          -0.009417380442541042,
          -0.007103039021758677,
          -0.008745726111211086,
          -0.0090442120711796,
          -0.010415911562160204,
          -0.009236161689730517,
          -0.013159582264565775,
          -0.008658088235294117,
          -0.01206547728526761,
          -0.012150220913107511,
          -0.014494235775381182,
          -0.015078256008943544,
          -0.014510294936004451,
          -0.013180367867867866,
          -0.015220450281425891,
          -0.015788228614685842,
          -0.013516086046068913,
          -0.013221927665214923,
          -0.019671276998863205,
          -0.016389615240941353,
          -0.01771127423301336,
          -0.0212546992481203,
          -0.019200715496140084,
          -0.018999617810051595,
          -0.020532516493873703,
          -0.022715156130997713,
          -0.02338493883792049,
          -0.023028966046422406,
          -0.023706247647722997,
          -0.02203839122486289,
          -0.024920292573143286,
          -0.020876434079368063,
          -0.02168951915852742,
          -0.021360280196895117,
          -0.02405075187969925,
          -0.021478940346864876,
          -0.022751095864303413,
          -0.02207431526527485,
          -0.019436971560338204,
          -0.02346057932092845,
          -0.02283491204330176,
          -0.023589916940312924,
          -0.024694649088794107,
          -0.02104804339403332,
          -0.02409458678481988,
          -0.024691901408450703,
          -0.030440691127936324,
          -0.029542376160990716,
          -0.02759397024275646,
          -0.0260652853792025,
          -0.02402483989908791,
          -0.021338851022395328,
          -0.02265152991619567,
          -0.026788873599370946,
          -0.02573360184119678
         ]
        },
        {
         "mode": "lines+markers",
         "name": "When Overnight Change < 0",
         "type": "scatter",
         "x": [
          0,
          1,
          2,
          3,
          4,
          5,
          6,
          7,
          8,
          9,
          10,
          11,
          12,
          13,
          14,
          15,
          16,
          17,
          18,
          19,
          20,
          21,
          22,
          23,
          24,
          25,
          26,
          27,
          28,
          29,
          30,
          31,
          32,
          33,
          34,
          35,
          36,
          37,
          38,
          39,
          40,
          41,
          42,
          43,
          44,
          45,
          46,
          47,
          48,
          49,
          50,
          51,
          52,
          53,
          54,
          55,
          56,
          57,
          58,
          59,
          60
         ],
         "y": [
          -0.023691124951342932,
          -0.02807473019751578,
          -0.027731092436974792,
          -0.03111548013245033,
          -0.029397089397089397,
          -0.03206395960446034,
          -0.032450856055802155,
          -0.03685808651182612,
          -0.03774582364136181,
          -0.03852204623287671,
          -0.04279969976410036,
          -0.04422579253827906,
          -0.044756675279931095,
          -0.04487041036717063,
          -0.0442680008701327,
          -0.045137841912556535,
          -0.043832790445168295,
          -0.04198435434111944,
          -0.04310591078883762,
          -0.04149336283185841,
          -0.04551409070893879,
          -0.04592790387182911,
          -0.043367232901206976,
          -0.04652529095792301,
          -0.04002707581227437,
          -0.04436991422916208,
          -0.041973801065719366,
          -0.049283635549585855,
          -0.04453790937640198,
          -0.045122224714061444,
          -0.046075388026607544,
          -0.04441400134198166,
          -0.041666666666666664,
          -0.03748603351955307,
          -0.041246921871502126,
          -0.05017768684040491,
          -0.05419684002633311,
          -0.05438693913816082,
          -0.05353266888150609,
          -0.05553635147190009,
          -0.055636485880770956,
          -0.051052514956791493,
          -0.04665844359721911,
          -0.049063416835928686,
          -0.049875706214689265,
          -0.05187910346388952,
          -0.050578493647912885,
          -0.047368421052631574,
          -0.051231470923603195,
          -0.05357872050816696,
          -0.060623278236914595,
          -0.051575028636884304,
          -0.04869411496350365,
          -0.052236095346197504,
          -0.04820813232253618,
          -0.05219318181818182,
          -0.05165638565227325,
          -0.0458467186782928,
          -0.04998268698060942,
          -0.05178238583410997,
          -0.04972608993380507
         ]
        }
       ],
       "layout": {
        "template": {
         "data": {
          "bar": [
           {
            "error_x": {
             "color": "#2a3f5f"
            },
            "error_y": {
             "color": "#2a3f5f"
            },
            "marker": {
             "line": {
              "color": "#E5ECF6",
              "width": 0.5
             },
             "pattern": {
              "fillmode": "overlay",
              "size": 10,
              "solidity": 0.2
             }
            },
            "type": "bar"
           }
          ],
          "barpolar": [
           {
            "marker": {
             "line": {
              "color": "#E5ECF6",
              "width": 0.5
             },
             "pattern": {
              "fillmode": "overlay",
              "size": 10,
              "solidity": 0.2
             }
            },
            "type": "barpolar"
           }
          ],
          "carpet": [
           {
            "aaxis": {
             "endlinecolor": "#2a3f5f",
             "gridcolor": "white",
             "linecolor": "white",
             "minorgridcolor": "white",
             "startlinecolor": "#2a3f5f"
            },
            "baxis": {
             "endlinecolor": "#2a3f5f",
             "gridcolor": "white",
             "linecolor": "white",
             "minorgridcolor": "white",
             "startlinecolor": "#2a3f5f"
            },
            "type": "carpet"
           }
          ],
          "choropleth": [
           {
            "colorbar": {
             "outlinewidth": 0,
             "ticks": ""
            },
            "type": "choropleth"
           }
          ],
          "contour": [
           {
            "colorbar": {
             "outlinewidth": 0,
             "ticks": ""
            },
            "colorscale": [
             [
              0,
              "#0d0887"
             ],
             [
              0.1111111111111111,
              "#46039f"
             ],
             [
              0.2222222222222222,
              "#7201a8"
             ],
             [
              0.3333333333333333,
              "#9c179e"
             ],
             [
              0.4444444444444444,
              "#bd3786"
             ],
             [
              0.5555555555555556,
              "#d8576b"
             ],
             [
              0.6666666666666666,
              "#ed7953"
             ],
             [
              0.7777777777777778,
              "#fb9f3a"
             ],
             [
              0.8888888888888888,
              "#fdca26"
             ],
             [
              1,
              "#f0f921"
             ]
            ],
            "type": "contour"
           }
          ],
          "contourcarpet": [
           {
            "colorbar": {
             "outlinewidth": 0,
             "ticks": ""
            },
            "type": "contourcarpet"
           }
          ],
          "heatmap": [
           {
            "colorbar": {
             "outlinewidth": 0,
             "ticks": ""
            },
            "colorscale": [
             [
              0,
              "#0d0887"
             ],
             [
              0.1111111111111111,
              "#46039f"
             ],
             [
              0.2222222222222222,
              "#7201a8"
             ],
             [
              0.3333333333333333,
              "#9c179e"
             ],
             [
              0.4444444444444444,
              "#bd3786"
             ],
             [
              0.5555555555555556,
              "#d8576b"
             ],
             [
              0.6666666666666666,
              "#ed7953"
             ],
             [
              0.7777777777777778,
              "#fb9f3a"
             ],
             [
              0.8888888888888888,
              "#fdca26"
             ],
             [
              1,
              "#f0f921"
             ]
            ],
            "type": "heatmap"
           }
          ],
          "heatmapgl": [
           {
            "colorbar": {
             "outlinewidth": 0,
             "ticks": ""
            },
            "colorscale": [
             [
              0,
              "#0d0887"
             ],
             [
              0.1111111111111111,
              "#46039f"
             ],
             [
              0.2222222222222222,
              "#7201a8"
             ],
             [
              0.3333333333333333,
              "#9c179e"
             ],
             [
              0.4444444444444444,
              "#bd3786"
             ],
             [
              0.5555555555555556,
              "#d8576b"
             ],
             [
              0.6666666666666666,
              "#ed7953"
             ],
             [
              0.7777777777777778,
              "#fb9f3a"
             ],
             [
              0.8888888888888888,
              "#fdca26"
             ],
             [
              1,
              "#f0f921"
             ]
            ],
            "type": "heatmapgl"
           }
          ],
          "histogram": [
           {
            "marker": {
             "pattern": {
              "fillmode": "overlay",
              "size": 10,
              "solidity": 0.2
             }
            },
            "type": "histogram"
           }
          ],
          "histogram2d": [
           {
            "colorbar": {
             "outlinewidth": 0,
             "ticks": ""
            },
            "colorscale": [
             [
              0,
              "#0d0887"
             ],
             [
              0.1111111111111111,
              "#46039f"
             ],
             [
              0.2222222222222222,
              "#7201a8"
             ],
             [
              0.3333333333333333,
              "#9c179e"
             ],
             [
              0.4444444444444444,
              "#bd3786"
             ],
             [
              0.5555555555555556,
              "#d8576b"
             ],
             [
              0.6666666666666666,
              "#ed7953"
             ],
             [
              0.7777777777777778,
              "#fb9f3a"
             ],
             [
              0.8888888888888888,
              "#fdca26"
             ],
             [
              1,
              "#f0f921"
             ]
            ],
            "type": "histogram2d"
           }
          ],
          "histogram2dcontour": [
           {
            "colorbar": {
             "outlinewidth": 0,
             "ticks": ""
            },
            "colorscale": [
             [
              0,
              "#0d0887"
             ],
             [
              0.1111111111111111,
              "#46039f"
             ],
             [
              0.2222222222222222,
              "#7201a8"
             ],
             [
              0.3333333333333333,
              "#9c179e"
             ],
             [
              0.4444444444444444,
              "#bd3786"
             ],
             [
              0.5555555555555556,
              "#d8576b"
             ],
             [
              0.6666666666666666,
              "#ed7953"
             ],
             [
              0.7777777777777778,
              "#fb9f3a"
             ],
             [
              0.8888888888888888,
              "#fdca26"
             ],
             [
              1,
              "#f0f921"
             ]
            ],
            "type": "histogram2dcontour"
           }
          ],
          "mesh3d": [
           {
            "colorbar": {
             "outlinewidth": 0,
             "ticks": ""
            },
            "type": "mesh3d"
           }
          ],
          "parcoords": [
           {
            "line": {
             "colorbar": {
              "outlinewidth": 0,
              "ticks": ""
             }
            },
            "type": "parcoords"
           }
          ],
          "pie": [
           {
            "automargin": true,
            "type": "pie"
           }
          ],
          "scatter": [
           {
            "marker": {
             "colorbar": {
              "outlinewidth": 0,
              "ticks": ""
             }
            },
            "type": "scatter"
           }
          ],
          "scatter3d": [
           {
            "line": {
             "colorbar": {
              "outlinewidth": 0,
              "ticks": ""
             }
            },
            "marker": {
             "colorbar": {
              "outlinewidth": 0,
              "ticks": ""
             }
            },
            "type": "scatter3d"
           }
          ],
          "scattercarpet": [
           {
            "marker": {
             "colorbar": {
              "outlinewidth": 0,
              "ticks": ""
             }
            },
            "type": "scattercarpet"
           }
          ],
          "scattergeo": [
           {
            "marker": {
             "colorbar": {
              "outlinewidth": 0,
              "ticks": ""
             }
            },
            "type": "scattergeo"
           }
          ],
          "scattergl": [
           {
            "marker": {
             "colorbar": {
              "outlinewidth": 0,
              "ticks": ""
             }
            },
            "type": "scattergl"
           }
          ],
          "scattermapbox": [
           {
            "marker": {
             "colorbar": {
              "outlinewidth": 0,
              "ticks": ""
             }
            },
            "type": "scattermapbox"
           }
          ],
          "scatterpolar": [
           {
            "marker": {
             "colorbar": {
              "outlinewidth": 0,
              "ticks": ""
             }
            },
            "type": "scatterpolar"
           }
          ],
          "scatterpolargl": [
           {
            "marker": {
             "colorbar": {
              "outlinewidth": 0,
              "ticks": ""
             }
            },
            "type": "scatterpolargl"
           }
          ],
          "scatterternary": [
           {
            "marker": {
             "colorbar": {
              "outlinewidth": 0,
              "ticks": ""
             }
            },
            "type": "scatterternary"
           }
          ],
          "surface": [
           {
            "colorbar": {
             "outlinewidth": 0,
             "ticks": ""
            },
            "colorscale": [
             [
              0,
              "#0d0887"
             ],
             [
              0.1111111111111111,
              "#46039f"
             ],
             [
              0.2222222222222222,
              "#7201a8"
             ],
             [
              0.3333333333333333,
              "#9c179e"
             ],
             [
              0.4444444444444444,
              "#bd3786"
             ],
             [
              0.5555555555555556,
              "#d8576b"
             ],
             [
              0.6666666666666666,
              "#ed7953"
             ],
             [
              0.7777777777777778,
              "#fb9f3a"
             ],
             [
              0.8888888888888888,
              "#fdca26"
             ],
             [
              1,
              "#f0f921"
             ]
            ],
            "type": "surface"
           }
          ],
          "table": [
           {
            "cells": {
             "fill": {
              "color": "#EBF0F8"
             },
             "line": {
              "color": "white"
             }
            },
            "header": {
             "fill": {
              "color": "#C8D4E3"
             },
             "line": {
              "color": "white"
             }
            },
            "type": "table"
           }
          ]
         },
         "layout": {
          "annotationdefaults": {
           "arrowcolor": "#2a3f5f",
           "arrowhead": 0,
           "arrowwidth": 1
          },
          "autotypenumbers": "strict",
          "coloraxis": {
           "colorbar": {
            "outlinewidth": 0,
            "ticks": ""
           }
          },
          "colorscale": {
           "diverging": [
            [
             0,
             "#8e0152"
            ],
            [
             0.1,
             "#c51b7d"
            ],
            [
             0.2,
             "#de77ae"
            ],
            [
             0.3,
             "#f1b6da"
            ],
            [
             0.4,
             "#fde0ef"
            ],
            [
             0.5,
             "#f7f7f7"
            ],
            [
             0.6,
             "#e6f5d0"
            ],
            [
             0.7,
             "#b8e186"
            ],
            [
             0.8,
             "#7fbc41"
            ],
            [
             0.9,
             "#4d9221"
            ],
            [
             1,
             "#276419"
            ]
           ],
           "sequential": [
            [
             0,
             "#0d0887"
            ],
            [
             0.1111111111111111,
             "#46039f"
            ],
            [
             0.2222222222222222,
             "#7201a8"
            ],
            [
             0.3333333333333333,
             "#9c179e"
            ],
            [
             0.4444444444444444,
             "#bd3786"
            ],
            [
             0.5555555555555556,
             "#d8576b"
            ],
            [
             0.6666666666666666,
             "#ed7953"
            ],
            [
             0.7777777777777778,
             "#fb9f3a"
            ],
            [
             0.8888888888888888,
             "#fdca26"
            ],
            [
             1,
             "#f0f921"
            ]
           ],
           "sequentialminus": [
            [
             0,
             "#0d0887"
            ],
            [
             0.1111111111111111,
             "#46039f"
            ],
            [
             0.2222222222222222,
             "#7201a8"
            ],
            [
             0.3333333333333333,
             "#9c179e"
            ],
            [
             0.4444444444444444,
             "#bd3786"
            ],
            [
             0.5555555555555556,
             "#d8576b"
            ],
            [
             0.6666666666666666,
             "#ed7953"
            ],
            [
             0.7777777777777778,
             "#fb9f3a"
            ],
            [
             0.8888888888888888,
             "#fdca26"
            ],
            [
             1,
             "#f0f921"
            ]
           ]
          },
          "colorway": [
           "#636efa",
           "#EF553B",
           "#00cc96",
           "#ab63fa",
           "#FFA15A",
           "#19d3f3",
           "#FF6692",
           "#B6E880",
           "#FF97FF",
           "#FECB52"
          ],
          "font": {
           "color": "#2a3f5f"
          },
          "geo": {
           "bgcolor": "white",
           "lakecolor": "white",
           "landcolor": "#E5ECF6",
           "showlakes": true,
           "showland": true,
           "subunitcolor": "white"
          },
          "hoverlabel": {
           "align": "left"
          },
          "hovermode": "closest",
          "mapbox": {
           "style": "light"
          },
          "paper_bgcolor": "white",
          "plot_bgcolor": "#E5ECF6",
          "polar": {
           "angularaxis": {
            "gridcolor": "white",
            "linecolor": "white",
            "ticks": ""
           },
           "bgcolor": "#E5ECF6",
           "radialaxis": {
            "gridcolor": "white",
            "linecolor": "white",
            "ticks": ""
           }
          },
          "scene": {
           "xaxis": {
            "backgroundcolor": "#E5ECF6",
            "gridcolor": "white",
            "gridwidth": 2,
            "linecolor": "white",
            "showbackground": true,
            "ticks": "",
            "zerolinecolor": "white"
           },
           "yaxis": {
            "backgroundcolor": "#E5ECF6",
            "gridcolor": "white",
            "gridwidth": 2,
            "linecolor": "white",
            "showbackground": true,
            "ticks": "",
            "zerolinecolor": "white"
           },
           "zaxis": {
            "backgroundcolor": "#E5ECF6",
            "gridcolor": "white",
            "gridwidth": 2,
            "linecolor": "white",
            "showbackground": true,
            "ticks": "",
            "zerolinecolor": "white"
           }
          },
          "shapedefaults": {
           "line": {
            "color": "#2a3f5f"
           }
          },
          "ternary": {
           "aaxis": {
            "gridcolor": "white",
            "linecolor": "white",
            "ticks": ""
           },
           "baxis": {
            "gridcolor": "white",
            "linecolor": "white",
            "ticks": ""
           },
           "bgcolor": "#E5ECF6",
           "caxis": {
            "gridcolor": "white",
            "linecolor": "white",
            "ticks": ""
           }
          },
          "title": {
           "x": 0.05
          },
          "xaxis": {
           "automargin": true,
           "gridcolor": "white",
           "linecolor": "white",
           "ticks": "",
           "title": {
            "standoff": 15
           },
           "zerolinecolor": "white",
           "zerolinewidth": 2
          },
          "yaxis": {
           "automargin": true,
           "gridcolor": "white",
           "linecolor": "white",
           "ticks": "",
           "title": {
            "standoff": 15
           },
           "zerolinecolor": "white",
           "zerolinewidth": 2
          }
         }
        },
        "title": {
         "text": "True Open 12:59 Change"
        },
        "xaxis": {
         "title": {
          "text": "Minutes After Open"
         }
        },
        "yaxis": {
         "title": {
          "text": "Avg Price Change From Open"
         }
        }
       }
      }
     },
     "metadata": {},
     "output_type": "display_data"
    },
    {
     "data": {
      "application/vnd.plotly.v1+json": {
       "config": {
        "plotlyServerURL": "https://plot.ly"
       },
       "data": [
        {
         "mode": "lines+markers",
         "name": "When Overnight Change >= 0",
         "type": "scatter",
         "x": [
          0,
          1,
          2,
          3,
          4,
          5,
          6,
          7,
          8,
          9,
          10,
          11,
          12,
          13,
          14,
          15,
          16,
          17,
          18,
          19,
          20,
          21,
          22,
          23,
          24,
          25,
          26,
          27,
          28,
          29,
          30,
          31,
          32,
          33,
          34,
          35,
          36,
          37,
          38,
          39,
          40,
          41,
          42,
          43,
          44,
          45,
          46,
          47,
          48,
          49,
          50,
          51,
          52,
          53,
          54,
          55,
          56,
          57,
          58,
          59,
          60
         ],
         "y": [
          -0.009334869937438262,
          -0.013572293324109306,
          -0.016748123581776925,
          -0.017769866385372715,
          -0.01850310008857396,
          -0.017090973829446323,
          -0.01709014487569308,
          -0.014432427568832106,
          -0.015604147880973852,
          -0.014784113681909274,
          -0.013694585755813954,
          -0.013441936658172551,
          -0.015274211298606018,
          -0.013662577810325888,
          -0.015910753474762254,
          -0.014518947755702722,
          -0.015693581018944268,
          -0.01675027870680045,
          -0.01617089552238806,
          -0.01757435223432219,
          -0.016573378201532995,
          -0.01679357021996616,
          -0.014256316998468608,
          -0.015512694202349376,
          -0.019989640233565642,
          -0.017159514925373133,
          -0.01973976221928666,
          -0.020625702510303486,
          -0.019443581976524044,
          -0.018795032233598786,
          -0.022768610538158634,
          -0.02413842345773039,
          -0.021389943074003794,
          -0.02370179457808324,
          -0.02325178102737158,
          -0.021662710007304603,
          -0.023743907011623547,
          -0.024477597891566266,
          -0.02329099738513261,
          -0.022725127430621106,
          -0.02754172989377845,
          -0.024297860145204433,
          -0.026473854344932497,
          -0.023106350420811016,
          -0.02103646833013436,
          -0.027781501340482573,
          -0.023824601803876414,
          -0.025157894736842105,
          -0.02676767676767677,
          -0.024297401347449468,
          -0.02590605828220859,
          -0.029129507561070182,
          -0.03392961023851076,
          -0.033028862805464694,
          -0.030350860046911652,
          -0.030432867675591772,
          -0.02464105549088087,
          -0.022596061015640087,
          -0.02394999023246728,
          -0.0300186420722135,
          -0.02872248803827751
         ]
        },
        {
         "mode": "lines+markers",
         "name": "When Overnight Change < 0",
         "type": "scatter",
         "x": [
          0,
          1,
          2,
          3,
          4,
          5,
          6,
          7,
          8,
          9,
          10,
          11,
          12,
          13,
          14,
          15,
          16,
          17,
          18,
          19,
          20,
          21,
          22,
          23,
          24,
          25,
          26,
          27,
          28,
          29,
          30,
          31,
          32,
          33,
          34,
          35,
          36,
          37,
          38,
          39,
          40,
          41,
          42,
          43,
          44,
          45,
          46,
          47,
          48,
          49,
          50,
          51,
          52,
          53,
          54,
          55,
          56,
          57,
          58,
          59,
          60
         ],
         "y": [
          -0.024196252465483233,
          -0.02868530020703934,
          -0.026611552951025536,
          -0.031027918781725887,
          -0.027457969780804427,
          -0.030997434252726105,
          -0.03126883340507964,
          -0.036014664653871035,
          -0.03622205339700456,
          -0.039549628334062094,
          -0.04334787350054525,
          -0.04465694870670758,
          -0.044271406559542155,
          -0.04333959761220429,
          -0.04610274579273693,
          -0.047240581625908794,
          -0.04763333333333333,
          -0.04503593890386343,
          -0.046838499550763704,
          -0.0437415502478594,
          -0.04671229802513465,
          -0.04611540208995911,
          -0.04442377086152458,
          -0.04761092150170648,
          -0.040213891444342224,
          -0.04344161643223934,
          -0.042412737987307346,
          -0.04993192648059905,
          -0.0485082304526749,
          -0.04605624142661179,
          -0.046139455782312926,
          -0.045375,
          -0.03675466545289031,
          -0.03987363387978142,
          -0.04175949079336212,
          -0.05111646234676007,
          -0.05373092459605027,
          -0.05107279263086947,
          -0.05044984255510571,
          -0.053683438628158844,
          -0.054215775158658205,
          -0.04615994562754871,
          -0.04976592829413108,
          -0.05150428141633881,
          -0.05233995840073954,
          -0.05052686428902269,
          -0.05621976503109883,
          -0.05238150289017341,
          -0.05868378252788104,
          -0.05215627173661024,
          -0.06208848937660519,
          -0.058151919475655435,
          -0.05455820476858345,
          -0.05658842667906112,
          -0.055228337236533954,
          -0.06227937761263354,
          -0.058410888785481625,
          -0.05207408272960972,
          -0.055491363211951444,
          -0.05725446428571429,
          -0.057010213556174555
         ]
        }
       ],
       "layout": {
        "template": {
         "data": {
          "bar": [
           {
            "error_x": {
             "color": "#2a3f5f"
            },
            "error_y": {
             "color": "#2a3f5f"
            },
            "marker": {
             "line": {
              "color": "#E5ECF6",
              "width": 0.5
             },
             "pattern": {
              "fillmode": "overlay",
              "size": 10,
              "solidity": 0.2
             }
            },
            "type": "bar"
           }
          ],
          "barpolar": [
           {
            "marker": {
             "line": {
              "color": "#E5ECF6",
              "width": 0.5
             },
             "pattern": {
              "fillmode": "overlay",
              "size": 10,
              "solidity": 0.2
             }
            },
            "type": "barpolar"
           }
          ],
          "carpet": [
           {
            "aaxis": {
             "endlinecolor": "#2a3f5f",
             "gridcolor": "white",
             "linecolor": "white",
             "minorgridcolor": "white",
             "startlinecolor": "#2a3f5f"
            },
            "baxis": {
             "endlinecolor": "#2a3f5f",
             "gridcolor": "white",
             "linecolor": "white",
             "minorgridcolor": "white",
             "startlinecolor": "#2a3f5f"
            },
            "type": "carpet"
           }
          ],
          "choropleth": [
           {
            "colorbar": {
             "outlinewidth": 0,
             "ticks": ""
            },
            "type": "choropleth"
           }
          ],
          "contour": [
           {
            "colorbar": {
             "outlinewidth": 0,
             "ticks": ""
            },
            "colorscale": [
             [
              0,
              "#0d0887"
             ],
             [
              0.1111111111111111,
              "#46039f"
             ],
             [
              0.2222222222222222,
              "#7201a8"
             ],
             [
              0.3333333333333333,
              "#9c179e"
             ],
             [
              0.4444444444444444,
              "#bd3786"
             ],
             [
              0.5555555555555556,
              "#d8576b"
             ],
             [
              0.6666666666666666,
              "#ed7953"
             ],
             [
              0.7777777777777778,
              "#fb9f3a"
             ],
             [
              0.8888888888888888,
              "#fdca26"
             ],
             [
              1,
              "#f0f921"
             ]
            ],
            "type": "contour"
           }
          ],
          "contourcarpet": [
           {
            "colorbar": {
             "outlinewidth": 0,
             "ticks": ""
            },
            "type": "contourcarpet"
           }
          ],
          "heatmap": [
           {
            "colorbar": {
             "outlinewidth": 0,
             "ticks": ""
            },
            "colorscale": [
             [
              0,
              "#0d0887"
             ],
             [
              0.1111111111111111,
              "#46039f"
             ],
             [
              0.2222222222222222,
              "#7201a8"
             ],
             [
              0.3333333333333333,
              "#9c179e"
             ],
             [
              0.4444444444444444,
              "#bd3786"
             ],
             [
              0.5555555555555556,
              "#d8576b"
             ],
             [
              0.6666666666666666,
              "#ed7953"
             ],
             [
              0.7777777777777778,
              "#fb9f3a"
             ],
             [
              0.8888888888888888,
              "#fdca26"
             ],
             [
              1,
              "#f0f921"
             ]
            ],
            "type": "heatmap"
           }
          ],
          "heatmapgl": [
           {
            "colorbar": {
             "outlinewidth": 0,
             "ticks": ""
            },
            "colorscale": [
             [
              0,
              "#0d0887"
             ],
             [
              0.1111111111111111,
              "#46039f"
             ],
             [
              0.2222222222222222,
              "#7201a8"
             ],
             [
              0.3333333333333333,
              "#9c179e"
             ],
             [
              0.4444444444444444,
              "#bd3786"
             ],
             [
              0.5555555555555556,
              "#d8576b"
             ],
             [
              0.6666666666666666,
              "#ed7953"
             ],
             [
              0.7777777777777778,
              "#fb9f3a"
             ],
             [
              0.8888888888888888,
              "#fdca26"
             ],
             [
              1,
              "#f0f921"
             ]
            ],
            "type": "heatmapgl"
           }
          ],
          "histogram": [
           {
            "marker": {
             "pattern": {
              "fillmode": "overlay",
              "size": 10,
              "solidity": 0.2
             }
            },
            "type": "histogram"
           }
          ],
          "histogram2d": [
           {
            "colorbar": {
             "outlinewidth": 0,
             "ticks": ""
            },
            "colorscale": [
             [
              0,
              "#0d0887"
             ],
             [
              0.1111111111111111,
              "#46039f"
             ],
             [
              0.2222222222222222,
              "#7201a8"
             ],
             [
              0.3333333333333333,
              "#9c179e"
             ],
             [
              0.4444444444444444,
              "#bd3786"
             ],
             [
              0.5555555555555556,
              "#d8576b"
             ],
             [
              0.6666666666666666,
              "#ed7953"
             ],
             [
              0.7777777777777778,
              "#fb9f3a"
             ],
             [
              0.8888888888888888,
              "#fdca26"
             ],
             [
              1,
              "#f0f921"
             ]
            ],
            "type": "histogram2d"
           }
          ],
          "histogram2dcontour": [
           {
            "colorbar": {
             "outlinewidth": 0,
             "ticks": ""
            },
            "colorscale": [
             [
              0,
              "#0d0887"
             ],
             [
              0.1111111111111111,
              "#46039f"
             ],
             [
              0.2222222222222222,
              "#7201a8"
             ],
             [
              0.3333333333333333,
              "#9c179e"
             ],
             [
              0.4444444444444444,
              "#bd3786"
             ],
             [
              0.5555555555555556,
              "#d8576b"
             ],
             [
              0.6666666666666666,
              "#ed7953"
             ],
             [
              0.7777777777777778,
              "#fb9f3a"
             ],
             [
              0.8888888888888888,
              "#fdca26"
             ],
             [
              1,
              "#f0f921"
             ]
            ],
            "type": "histogram2dcontour"
           }
          ],
          "mesh3d": [
           {
            "colorbar": {
             "outlinewidth": 0,
             "ticks": ""
            },
            "type": "mesh3d"
           }
          ],
          "parcoords": [
           {
            "line": {
             "colorbar": {
              "outlinewidth": 0,
              "ticks": ""
             }
            },
            "type": "parcoords"
           }
          ],
          "pie": [
           {
            "automargin": true,
            "type": "pie"
           }
          ],
          "scatter": [
           {
            "marker": {
             "colorbar": {
              "outlinewidth": 0,
              "ticks": ""
             }
            },
            "type": "scatter"
           }
          ],
          "scatter3d": [
           {
            "line": {
             "colorbar": {
              "outlinewidth": 0,
              "ticks": ""
             }
            },
            "marker": {
             "colorbar": {
              "outlinewidth": 0,
              "ticks": ""
             }
            },
            "type": "scatter3d"
           }
          ],
          "scattercarpet": [
           {
            "marker": {
             "colorbar": {
              "outlinewidth": 0,
              "ticks": ""
             }
            },
            "type": "scattercarpet"
           }
          ],
          "scattergeo": [
           {
            "marker": {
             "colorbar": {
              "outlinewidth": 0,
              "ticks": ""
             }
            },
            "type": "scattergeo"
           }
          ],
          "scattergl": [
           {
            "marker": {
             "colorbar": {
              "outlinewidth": 0,
              "ticks": ""
             }
            },
            "type": "scattergl"
           }
          ],
          "scattermapbox": [
           {
            "marker": {
             "colorbar": {
              "outlinewidth": 0,
              "ticks": ""
             }
            },
            "type": "scattermapbox"
           }
          ],
          "scatterpolar": [
           {
            "marker": {
             "colorbar": {
              "outlinewidth": 0,
              "ticks": ""
             }
            },
            "type": "scatterpolar"
           }
          ],
          "scatterpolargl": [
           {
            "marker": {
             "colorbar": {
              "outlinewidth": 0,
              "ticks": ""
             }
            },
            "type": "scatterpolargl"
           }
          ],
          "scatterternary": [
           {
            "marker": {
             "colorbar": {
              "outlinewidth": 0,
              "ticks": ""
             }
            },
            "type": "scatterternary"
           }
          ],
          "surface": [
           {
            "colorbar": {
             "outlinewidth": 0,
             "ticks": ""
            },
            "colorscale": [
             [
              0,
              "#0d0887"
             ],
             [
              0.1111111111111111,
              "#46039f"
             ],
             [
              0.2222222222222222,
              "#7201a8"
             ],
             [
              0.3333333333333333,
              "#9c179e"
             ],
             [
              0.4444444444444444,
              "#bd3786"
             ],
             [
              0.5555555555555556,
              "#d8576b"
             ],
             [
              0.6666666666666666,
              "#ed7953"
             ],
             [
              0.7777777777777778,
              "#fb9f3a"
             ],
             [
              0.8888888888888888,
              "#fdca26"
             ],
             [
              1,
              "#f0f921"
             ]
            ],
            "type": "surface"
           }
          ],
          "table": [
           {
            "cells": {
             "fill": {
              "color": "#EBF0F8"
             },
             "line": {
              "color": "white"
             }
            },
            "header": {
             "fill": {
              "color": "#C8D4E3"
             },
             "line": {
              "color": "white"
             }
            },
            "type": "table"
           }
          ]
         },
         "layout": {
          "annotationdefaults": {
           "arrowcolor": "#2a3f5f",
           "arrowhead": 0,
           "arrowwidth": 1
          },
          "autotypenumbers": "strict",
          "coloraxis": {
           "colorbar": {
            "outlinewidth": 0,
            "ticks": ""
           }
          },
          "colorscale": {
           "diverging": [
            [
             0,
             "#8e0152"
            ],
            [
             0.1,
             "#c51b7d"
            ],
            [
             0.2,
             "#de77ae"
            ],
            [
             0.3,
             "#f1b6da"
            ],
            [
             0.4,
             "#fde0ef"
            ],
            [
             0.5,
             "#f7f7f7"
            ],
            [
             0.6,
             "#e6f5d0"
            ],
            [
             0.7,
             "#b8e186"
            ],
            [
             0.8,
             "#7fbc41"
            ],
            [
             0.9,
             "#4d9221"
            ],
            [
             1,
             "#276419"
            ]
           ],
           "sequential": [
            [
             0,
             "#0d0887"
            ],
            [
             0.1111111111111111,
             "#46039f"
            ],
            [
             0.2222222222222222,
             "#7201a8"
            ],
            [
             0.3333333333333333,
             "#9c179e"
            ],
            [
             0.4444444444444444,
             "#bd3786"
            ],
            [
             0.5555555555555556,
             "#d8576b"
            ],
            [
             0.6666666666666666,
             "#ed7953"
            ],
            [
             0.7777777777777778,
             "#fb9f3a"
            ],
            [
             0.8888888888888888,
             "#fdca26"
            ],
            [
             1,
             "#f0f921"
            ]
           ],
           "sequentialminus": [
            [
             0,
             "#0d0887"
            ],
            [
             0.1111111111111111,
             "#46039f"
            ],
            [
             0.2222222222222222,
             "#7201a8"
            ],
            [
             0.3333333333333333,
             "#9c179e"
            ],
            [
             0.4444444444444444,
             "#bd3786"
            ],
            [
             0.5555555555555556,
             "#d8576b"
            ],
            [
             0.6666666666666666,
             "#ed7953"
            ],
            [
             0.7777777777777778,
             "#fb9f3a"
            ],
            [
             0.8888888888888888,
             "#fdca26"
            ],
            [
             1,
             "#f0f921"
            ]
           ]
          },
          "colorway": [
           "#636efa",
           "#EF553B",
           "#00cc96",
           "#ab63fa",
           "#FFA15A",
           "#19d3f3",
           "#FF6692",
           "#B6E880",
           "#FF97FF",
           "#FECB52"
          ],
          "font": {
           "color": "#2a3f5f"
          },
          "geo": {
           "bgcolor": "white",
           "lakecolor": "white",
           "landcolor": "#E5ECF6",
           "showlakes": true,
           "showland": true,
           "subunitcolor": "white"
          },
          "hoverlabel": {
           "align": "left"
          },
          "hovermode": "closest",
          "mapbox": {
           "style": "light"
          },
          "paper_bgcolor": "white",
          "plot_bgcolor": "#E5ECF6",
          "polar": {
           "angularaxis": {
            "gridcolor": "white",
            "linecolor": "white",
            "ticks": ""
           },
           "bgcolor": "#E5ECF6",
           "radialaxis": {
            "gridcolor": "white",
            "linecolor": "white",
            "ticks": ""
           }
          },
          "scene": {
           "xaxis": {
            "backgroundcolor": "#E5ECF6",
            "gridcolor": "white",
            "gridwidth": 2,
            "linecolor": "white",
            "showbackground": true,
            "ticks": "",
            "zerolinecolor": "white"
           },
           "yaxis": {
            "backgroundcolor": "#E5ECF6",
            "gridcolor": "white",
            "gridwidth": 2,
            "linecolor": "white",
            "showbackground": true,
            "ticks": "",
            "zerolinecolor": "white"
           },
           "zaxis": {
            "backgroundcolor": "#E5ECF6",
            "gridcolor": "white",
            "gridwidth": 2,
            "linecolor": "white",
            "showbackground": true,
            "ticks": "",
            "zerolinecolor": "white"
           }
          },
          "shapedefaults": {
           "line": {
            "color": "#2a3f5f"
           }
          },
          "ternary": {
           "aaxis": {
            "gridcolor": "white",
            "linecolor": "white",
            "ticks": ""
           },
           "baxis": {
            "gridcolor": "white",
            "linecolor": "white",
            "ticks": ""
           },
           "bgcolor": "#E5ECF6",
           "caxis": {
            "gridcolor": "white",
            "linecolor": "white",
            "ticks": ""
           }
          },
          "title": {
           "x": 0.05
          },
          "xaxis": {
           "automargin": true,
           "gridcolor": "white",
           "linecolor": "white",
           "ticks": "",
           "title": {
            "standoff": 15
           },
           "zerolinecolor": "white",
           "zerolinewidth": 2
          },
          "yaxis": {
           "automargin": true,
           "gridcolor": "white",
           "linecolor": "white",
           "ticks": "",
           "title": {
            "standoff": 15
           },
           "zerolinecolor": "white",
           "zerolinewidth": 2
          }
         }
        },
        "title": {
         "text": "True Open 13:04 Change"
        },
        "xaxis": {
         "title": {
          "text": "Minutes After Open"
         }
        },
        "yaxis": {
         "title": {
          "text": "Avg Price Change From Open"
         }
        }
       }
      }
     },
     "metadata": {},
     "output_type": "display_data"
    },
    {
     "data": {
      "application/vnd.plotly.v1+json": {
       "config": {
        "plotlyServerURL": "https://plot.ly"
       },
       "data": [
        {
         "mode": "lines+markers",
         "name": "When Overnight Change >= 0",
         "type": "scatter",
         "x": [
          0,
          1,
          2,
          3,
          4,
          5,
          6,
          7,
          8,
          9,
          10,
          11,
          12,
          13,
          14,
          15,
          16,
          17,
          18,
          19,
          20,
          21,
          22,
          23,
          24,
          25,
          26,
          27,
          28,
          29,
          30,
          31,
          32,
          33,
          34,
          35,
          36,
          37,
          38,
          39,
          40,
          41,
          42,
          43,
          44,
          45,
          46,
          47,
          48,
          49,
          50,
          51,
          52,
          53,
          54,
          55,
          56,
          57,
          58,
          59,
          60
         ],
         "y": [
          -0.0057818404089797736,
          -0.01582202207281492,
          -0.01262324857291126,
          -0.014061063690085359,
          -0.015159714889123547,
          -0.014831302717900657,
          -0.013054237288135593,
          -0.012724856909239576,
          -0.012275469628410805,
          -0.010774073049252906,
          -0.010638665928591199,
          -0.0083889816360601,
          -0.010850439882697948,
          -0.01063493179580931,
          -0.011973572639909552,
          -0.012946617709363084,
          -0.013477831121152218,
          -0.012510717347813661,
          -0.014006584597766962,
          -0.013512241054613934,
          -0.014544930875576036,
          -0.015446768060836502,
          -0.015369305616983636,
          -0.015871974336541264,
          -0.01643348959859361,
          -0.018195795194508008,
          -0.01757461605331788,
          -0.02645903070877602,
          -0.022644132279777584,
          -0.019395531222255104,
          -0.02173074122615407,
          -0.02562693612627231,
          -0.0238049853372434,
          -0.026034305064782094,
          -0.02608159117305459,
          -0.030701632026781975,
          -0.0324300071787509,
          -0.03372492836676218,
          -0.03426512968299712,
          -0.03487151248164464,
          -0.035644144804338265,
          -0.03272232037691401,
          -0.034651197162281995,
          -0.03372249663224068,
          -0.03502687770643571,
          -0.038685505517447066,
          -0.03559373116335141,
          -0.03656576980568012,
          -0.040898425673630036,
          -0.04196883428228949,
          -0.039683130020827136,
          -0.039818333840072974,
          -0.04035979960528314,
          -0.04284482758620689,
          -0.04265241128298453,
          -0.041896395031808545,
          -0.039184610751392866,
          -0.0360652634766808,
          -0.036669207317073176,
          -0.04015486725663717,
          -0.035885829717192876
         ]
        },
        {
         "mode": "lines+markers",
         "name": "When Overnight Change < 0",
         "type": "scatter",
         "x": [
          0,
          1,
          2,
          3,
          4,
          5,
          6,
          7,
          8,
          9,
          10,
          11,
          12,
          13,
          14,
          15,
          16,
          17,
          18,
          19,
          20,
          21,
          22,
          23,
          24,
          25,
          26,
          27,
          28,
          29,
          30,
          31,
          32,
          33,
          34,
          35,
          36,
          37,
          38,
          39,
          40,
          41,
          42,
          43,
          44,
          45,
          46,
          47,
          48,
          49,
          50,
          51,
          52,
          53,
          54,
          55,
          56,
          57,
          58,
          59,
          60
         ],
         "y": [
          -0.018571775269991507,
          -0.02411034482758621,
          -0.02655963948739614,
          -0.028139269406392692,
          -0.025090514120202752,
          -0.026522248243559716,
          -0.02381124321150741,
          -0.02644021657392089,
          -0.02853232338383081,
          -0.03254959866727245,
          -0.03704946463580154,
          -0.03861702127659574,
          -0.0385940835620616,
          -0.03823461715513273,
          -0.0376230012300123,
          -0.04325011558021266,
          -0.0407012563983248,
          -0.041501260239445496,
          -0.04020845826100678,
          -0.03611919480107783,
          -0.03904675572519084,
          -0.03871225435373063,
          -0.03403880070546737,
          -0.03707051799257705,
          -0.03670844864072929,
          -0.035422535211267606,
          -0.03227056760204082,
          -0.034729299363057325,
          -0.03233768746976294,
          -0.033998234066463316,
          -0.03311827105763141,
          -0.03257246376811594,
          -0.029188375122110064,
          -0.027155940995299076,
          -0.028003674708419878,
          -0.028154010044133312,
          -0.029737298832439255,
          -0.027731326644370124,
          -0.028122507576966025,
          -0.025517158434894164,
          -0.031402634961439586,
          -0.024819595894804362,
          -0.02691669367909238,
          -0.031275686338977475,
          -0.030977369629386686,
          -0.029378693368351937,
          -0.03437654422665129,
          -0.03287834071159206,
          -0.036374564748797876,
          -0.03208664678595096,
          -0.03650990265189661,
          -0.03466051969823973,
          -0.03624874874874875,
          -0.035236321303841675,
          -0.030940386230058774,
          -0.03662612914018066,
          -0.03342074592074592,
          -0.028893442622950818,
          -0.03296065904505716,
          -0.03668973666441593,
          -0.03406090113880178
         ]
        }
       ],
       "layout": {
        "template": {
         "data": {
          "bar": [
           {
            "error_x": {
             "color": "#2a3f5f"
            },
            "error_y": {
             "color": "#2a3f5f"
            },
            "marker": {
             "line": {
              "color": "#E5ECF6",
              "width": 0.5
             },
             "pattern": {
              "fillmode": "overlay",
              "size": 10,
              "solidity": 0.2
             }
            },
            "type": "bar"
           }
          ],
          "barpolar": [
           {
            "marker": {
             "line": {
              "color": "#E5ECF6",
              "width": 0.5
             },
             "pattern": {
              "fillmode": "overlay",
              "size": 10,
              "solidity": 0.2
             }
            },
            "type": "barpolar"
           }
          ],
          "carpet": [
           {
            "aaxis": {
             "endlinecolor": "#2a3f5f",
             "gridcolor": "white",
             "linecolor": "white",
             "minorgridcolor": "white",
             "startlinecolor": "#2a3f5f"
            },
            "baxis": {
             "endlinecolor": "#2a3f5f",
             "gridcolor": "white",
             "linecolor": "white",
             "minorgridcolor": "white",
             "startlinecolor": "#2a3f5f"
            },
            "type": "carpet"
           }
          ],
          "choropleth": [
           {
            "colorbar": {
             "outlinewidth": 0,
             "ticks": ""
            },
            "type": "choropleth"
           }
          ],
          "contour": [
           {
            "colorbar": {
             "outlinewidth": 0,
             "ticks": ""
            },
            "colorscale": [
             [
              0,
              "#0d0887"
             ],
             [
              0.1111111111111111,
              "#46039f"
             ],
             [
              0.2222222222222222,
              "#7201a8"
             ],
             [
              0.3333333333333333,
              "#9c179e"
             ],
             [
              0.4444444444444444,
              "#bd3786"
             ],
             [
              0.5555555555555556,
              "#d8576b"
             ],
             [
              0.6666666666666666,
              "#ed7953"
             ],
             [
              0.7777777777777778,
              "#fb9f3a"
             ],
             [
              0.8888888888888888,
              "#fdca26"
             ],
             [
              1,
              "#f0f921"
             ]
            ],
            "type": "contour"
           }
          ],
          "contourcarpet": [
           {
            "colorbar": {
             "outlinewidth": 0,
             "ticks": ""
            },
            "type": "contourcarpet"
           }
          ],
          "heatmap": [
           {
            "colorbar": {
             "outlinewidth": 0,
             "ticks": ""
            },
            "colorscale": [
             [
              0,
              "#0d0887"
             ],
             [
              0.1111111111111111,
              "#46039f"
             ],
             [
              0.2222222222222222,
              "#7201a8"
             ],
             [
              0.3333333333333333,
              "#9c179e"
             ],
             [
              0.4444444444444444,
              "#bd3786"
             ],
             [
              0.5555555555555556,
              "#d8576b"
             ],
             [
              0.6666666666666666,
              "#ed7953"
             ],
             [
              0.7777777777777778,
              "#fb9f3a"
             ],
             [
              0.8888888888888888,
              "#fdca26"
             ],
             [
              1,
              "#f0f921"
             ]
            ],
            "type": "heatmap"
           }
          ],
          "heatmapgl": [
           {
            "colorbar": {
             "outlinewidth": 0,
             "ticks": ""
            },
            "colorscale": [
             [
              0,
              "#0d0887"
             ],
             [
              0.1111111111111111,
              "#46039f"
             ],
             [
              0.2222222222222222,
              "#7201a8"
             ],
             [
              0.3333333333333333,
              "#9c179e"
             ],
             [
              0.4444444444444444,
              "#bd3786"
             ],
             [
              0.5555555555555556,
              "#d8576b"
             ],
             [
              0.6666666666666666,
              "#ed7953"
             ],
             [
              0.7777777777777778,
              "#fb9f3a"
             ],
             [
              0.8888888888888888,
              "#fdca26"
             ],
             [
              1,
              "#f0f921"
             ]
            ],
            "type": "heatmapgl"
           }
          ],
          "histogram": [
           {
            "marker": {
             "pattern": {
              "fillmode": "overlay",
              "size": 10,
              "solidity": 0.2
             }
            },
            "type": "histogram"
           }
          ],
          "histogram2d": [
           {
            "colorbar": {
             "outlinewidth": 0,
             "ticks": ""
            },
            "colorscale": [
             [
              0,
              "#0d0887"
             ],
             [
              0.1111111111111111,
              "#46039f"
             ],
             [
              0.2222222222222222,
              "#7201a8"
             ],
             [
              0.3333333333333333,
              "#9c179e"
             ],
             [
              0.4444444444444444,
              "#bd3786"
             ],
             [
              0.5555555555555556,
              "#d8576b"
             ],
             [
              0.6666666666666666,
              "#ed7953"
             ],
             [
              0.7777777777777778,
              "#fb9f3a"
             ],
             [
              0.8888888888888888,
              "#fdca26"
             ],
             [
              1,
              "#f0f921"
             ]
            ],
            "type": "histogram2d"
           }
          ],
          "histogram2dcontour": [
           {
            "colorbar": {
             "outlinewidth": 0,
             "ticks": ""
            },
            "colorscale": [
             [
              0,
              "#0d0887"
             ],
             [
              0.1111111111111111,
              "#46039f"
             ],
             [
              0.2222222222222222,
              "#7201a8"
             ],
             [
              0.3333333333333333,
              "#9c179e"
             ],
             [
              0.4444444444444444,
              "#bd3786"
             ],
             [
              0.5555555555555556,
              "#d8576b"
             ],
             [
              0.6666666666666666,
              "#ed7953"
             ],
             [
              0.7777777777777778,
              "#fb9f3a"
             ],
             [
              0.8888888888888888,
              "#fdca26"
             ],
             [
              1,
              "#f0f921"
             ]
            ],
            "type": "histogram2dcontour"
           }
          ],
          "mesh3d": [
           {
            "colorbar": {
             "outlinewidth": 0,
             "ticks": ""
            },
            "type": "mesh3d"
           }
          ],
          "parcoords": [
           {
            "line": {
             "colorbar": {
              "outlinewidth": 0,
              "ticks": ""
             }
            },
            "type": "parcoords"
           }
          ],
          "pie": [
           {
            "automargin": true,
            "type": "pie"
           }
          ],
          "scatter": [
           {
            "marker": {
             "colorbar": {
              "outlinewidth": 0,
              "ticks": ""
             }
            },
            "type": "scatter"
           }
          ],
          "scatter3d": [
           {
            "line": {
             "colorbar": {
              "outlinewidth": 0,
              "ticks": ""
             }
            },
            "marker": {
             "colorbar": {
              "outlinewidth": 0,
              "ticks": ""
             }
            },
            "type": "scatter3d"
           }
          ],
          "scattercarpet": [
           {
            "marker": {
             "colorbar": {
              "outlinewidth": 0,
              "ticks": ""
             }
            },
            "type": "scattercarpet"
           }
          ],
          "scattergeo": [
           {
            "marker": {
             "colorbar": {
              "outlinewidth": 0,
              "ticks": ""
             }
            },
            "type": "scattergeo"
           }
          ],
          "scattergl": [
           {
            "marker": {
             "colorbar": {
              "outlinewidth": 0,
              "ticks": ""
             }
            },
            "type": "scattergl"
           }
          ],
          "scattermapbox": [
           {
            "marker": {
             "colorbar": {
              "outlinewidth": 0,
              "ticks": ""
             }
            },
            "type": "scattermapbox"
           }
          ],
          "scatterpolar": [
           {
            "marker": {
             "colorbar": {
              "outlinewidth": 0,
              "ticks": ""
             }
            },
            "type": "scatterpolar"
           }
          ],
          "scatterpolargl": [
           {
            "marker": {
             "colorbar": {
              "outlinewidth": 0,
              "ticks": ""
             }
            },
            "type": "scatterpolargl"
           }
          ],
          "scatterternary": [
           {
            "marker": {
             "colorbar": {
              "outlinewidth": 0,
              "ticks": ""
             }
            },
            "type": "scatterternary"
           }
          ],
          "surface": [
           {
            "colorbar": {
             "outlinewidth": 0,
             "ticks": ""
            },
            "colorscale": [
             [
              0,
              "#0d0887"
             ],
             [
              0.1111111111111111,
              "#46039f"
             ],
             [
              0.2222222222222222,
              "#7201a8"
             ],
             [
              0.3333333333333333,
              "#9c179e"
             ],
             [
              0.4444444444444444,
              "#bd3786"
             ],
             [
              0.5555555555555556,
              "#d8576b"
             ],
             [
              0.6666666666666666,
              "#ed7953"
             ],
             [
              0.7777777777777778,
              "#fb9f3a"
             ],
             [
              0.8888888888888888,
              "#fdca26"
             ],
             [
              1,
              "#f0f921"
             ]
            ],
            "type": "surface"
           }
          ],
          "table": [
           {
            "cells": {
             "fill": {
              "color": "#EBF0F8"
             },
             "line": {
              "color": "white"
             }
            },
            "header": {
             "fill": {
              "color": "#C8D4E3"
             },
             "line": {
              "color": "white"
             }
            },
            "type": "table"
           }
          ]
         },
         "layout": {
          "annotationdefaults": {
           "arrowcolor": "#2a3f5f",
           "arrowhead": 0,
           "arrowwidth": 1
          },
          "autotypenumbers": "strict",
          "coloraxis": {
           "colorbar": {
            "outlinewidth": 0,
            "ticks": ""
           }
          },
          "colorscale": {
           "diverging": [
            [
             0,
             "#8e0152"
            ],
            [
             0.1,
             "#c51b7d"
            ],
            [
             0.2,
             "#de77ae"
            ],
            [
             0.3,
             "#f1b6da"
            ],
            [
             0.4,
             "#fde0ef"
            ],
            [
             0.5,
             "#f7f7f7"
            ],
            [
             0.6,
             "#e6f5d0"
            ],
            [
             0.7,
             "#b8e186"
            ],
            [
             0.8,
             "#7fbc41"
            ],
            [
             0.9,
             "#4d9221"
            ],
            [
             1,
             "#276419"
            ]
           ],
           "sequential": [
            [
             0,
             "#0d0887"
            ],
            [
             0.1111111111111111,
             "#46039f"
            ],
            [
             0.2222222222222222,
             "#7201a8"
            ],
            [
             0.3333333333333333,
             "#9c179e"
            ],
            [
             0.4444444444444444,
             "#bd3786"
            ],
            [
             0.5555555555555556,
             "#d8576b"
            ],
            [
             0.6666666666666666,
             "#ed7953"
            ],
            [
             0.7777777777777778,
             "#fb9f3a"
            ],
            [
             0.8888888888888888,
             "#fdca26"
            ],
            [
             1,
             "#f0f921"
            ]
           ],
           "sequentialminus": [
            [
             0,
             "#0d0887"
            ],
            [
             0.1111111111111111,
             "#46039f"
            ],
            [
             0.2222222222222222,
             "#7201a8"
            ],
            [
             0.3333333333333333,
             "#9c179e"
            ],
            [
             0.4444444444444444,
             "#bd3786"
            ],
            [
             0.5555555555555556,
             "#d8576b"
            ],
            [
             0.6666666666666666,
             "#ed7953"
            ],
            [
             0.7777777777777778,
             "#fb9f3a"
            ],
            [
             0.8888888888888888,
             "#fdca26"
            ],
            [
             1,
             "#f0f921"
            ]
           ]
          },
          "colorway": [
           "#636efa",
           "#EF553B",
           "#00cc96",
           "#ab63fa",
           "#FFA15A",
           "#19d3f3",
           "#FF6692",
           "#B6E880",
           "#FF97FF",
           "#FECB52"
          ],
          "font": {
           "color": "#2a3f5f"
          },
          "geo": {
           "bgcolor": "white",
           "lakecolor": "white",
           "landcolor": "#E5ECF6",
           "showlakes": true,
           "showland": true,
           "subunitcolor": "white"
          },
          "hoverlabel": {
           "align": "left"
          },
          "hovermode": "closest",
          "mapbox": {
           "style": "light"
          },
          "paper_bgcolor": "white",
          "plot_bgcolor": "#E5ECF6",
          "polar": {
           "angularaxis": {
            "gridcolor": "white",
            "linecolor": "white",
            "ticks": ""
           },
           "bgcolor": "#E5ECF6",
           "radialaxis": {
            "gridcolor": "white",
            "linecolor": "white",
            "ticks": ""
           }
          },
          "scene": {
           "xaxis": {
            "backgroundcolor": "#E5ECF6",
            "gridcolor": "white",
            "gridwidth": 2,
            "linecolor": "white",
            "showbackground": true,
            "ticks": "",
            "zerolinecolor": "white"
           },
           "yaxis": {
            "backgroundcolor": "#E5ECF6",
            "gridcolor": "white",
            "gridwidth": 2,
            "linecolor": "white",
            "showbackground": true,
            "ticks": "",
            "zerolinecolor": "white"
           },
           "zaxis": {
            "backgroundcolor": "#E5ECF6",
            "gridcolor": "white",
            "gridwidth": 2,
            "linecolor": "white",
            "showbackground": true,
            "ticks": "",
            "zerolinecolor": "white"
           }
          },
          "shapedefaults": {
           "line": {
            "color": "#2a3f5f"
           }
          },
          "ternary": {
           "aaxis": {
            "gridcolor": "white",
            "linecolor": "white",
            "ticks": ""
           },
           "baxis": {
            "gridcolor": "white",
            "linecolor": "white",
            "ticks": ""
           },
           "bgcolor": "#E5ECF6",
           "caxis": {
            "gridcolor": "white",
            "linecolor": "white",
            "ticks": ""
           }
          },
          "title": {
           "x": 0.05
          },
          "xaxis": {
           "automargin": true,
           "gridcolor": "white",
           "linecolor": "white",
           "ticks": "",
           "title": {
            "standoff": 15
           },
           "zerolinecolor": "white",
           "zerolinewidth": 2
          },
          "yaxis": {
           "automargin": true,
           "gridcolor": "white",
           "linecolor": "white",
           "ticks": "",
           "title": {
            "standoff": 15
           },
           "zerolinecolor": "white",
           "zerolinewidth": 2
          }
         }
        },
        "title": {
         "text": "True Open Last Bar Change"
        },
        "xaxis": {
         "title": {
          "text": "Minutes After Open"
         }
        },
        "yaxis": {
         "title": {
          "text": "Avg Price Change From Open"
         }
        }
       }
      }
     },
     "metadata": {},
     "output_type": "display_data"
    }
   ],
   "source": [
    "fig1 = generate_figure(\n",
    "  intraday_price_changes_split_df=true_open_twelve_fifty_nine_intraday_average_changes_df,\n",
    "  fig_title='True Open 12:59 Change'\n",
    "  )\n",
    "fig2 = generate_figure(\n",
    "  intraday_price_changes_split_df=true_open_thirteen_oh_four_intraday_average_changes_df,\n",
    "  fig_title='True Open 13:04 Change'\n",
    "  )\n",
    "fig3 = generate_figure(\n",
    "  intraday_price_changes_split_df=true_open_last_bar_intraday_average_changes_df,\n",
    "  fig_title='True Open Last Bar Change'\n",
    "  )\n",
    "figures = [fig1, fig2, fig3]\n",
    "for fig in figures:\n",
    "  fig.show()\n"
   ]
  },
  {
   "cell_type": "code",
   "execution_count": null,
   "metadata": {},
   "outputs": [],
   "source": []
  }
 ],
 "metadata": {
  "interpreter": {
   "hash": "3067ead486e059ec00ffe7555bdb889e6e264a24dc711bf108106cc7baee8d5d"
  },
  "kernelspec": {
   "display_name": "Python 3.9.7 64-bit ('base': conda)",
   "language": "python",
   "name": "python3"
  },
  "language_info": {
   "codemirror_mode": {
    "name": "ipython",
    "version": 3
   },
   "file_extension": ".py",
   "mimetype": "text/x-python",
   "name": "python",
   "nbconvert_exporter": "python",
   "pygments_lexer": "ipython3",
   "version": "3.10.0"
  },
  "orig_nbformat": 4
 },
 "nbformat": 4,
 "nbformat_minor": 2
}
