{
 "cells": [
  {
   "cell_type": "code",
   "execution_count": 1,
   "id": "6f81bbf3-104d-47f1-a5d5-3aeb1fdd1b95",
   "metadata": {},
   "outputs": [],
   "source": [
    "'''\n",
    "Analyze volume for all cattle commodities split by before and after an arbitrary contract month and year\n",
    "For each contract we plot the following:\n",
    "- Average Daily Nominal Trading Volume By Minute\n",
    "- Average Daily Normalized Trading Volume By Minute\n",
    "'''\n",
    "import pandas as pd\n",
    "import os\n",
    "import ipywidgets as widgets\n",
    "from IPython.display import display\n",
    "from tqdm.notebook import trange, tqdm\n",
    "from datetime import datetime"
   ]
  },
  {
   "cell_type": "code",
   "execution_count": 2,
   "id": "055216a6-e91f-4e81-837b-ac3e93bfa8c3",
   "metadata": {},
   "outputs": [],
   "source": [
    "CONTRACTS_PREFIX_MATCHER = 'LEM' # Only contracts with filenames matching this prefix will be analyzed\n",
    "SPLIT_DATE_CUTOFF = '2015-06-07' # The date to use for splitting the contracts into a before and after"
   ]
  },
  {
   "cell_type": "code",
   "execution_count": 3,
   "id": "57ff734b-6964-4130-93de-216c04de72a2",
   "metadata": {},
   "outputs": [],
   "source": [
    "# Set plotly as the plotting engine for pandas for convenience\n",
    "pd.options.plotting.backend = \"plotly\""
   ]
  },
  {
   "cell_type": "code",
   "execution_count": 4,
   "id": "88cf0c21-d5b0-4b19-acd3-71c749dbcd4b",
   "metadata": {},
   "outputs": [
    {
     "data": {
      "text/plain": [
       "['LEM08.csv',\n",
       " 'LEM09.csv',\n",
       " 'LEM10.csv',\n",
       " 'LEM11.csv',\n",
       " 'LEM12.csv',\n",
       " 'LEM13.csv',\n",
       " 'LEM14.csv',\n",
       " 'LEM15.csv',\n",
       " 'LEM16.csv',\n",
       " 'LEM17.csv',\n",
       " 'LEM18.csv',\n",
       " 'LEM19.csv',\n",
       " 'LEM20.csv']"
      ]
     },
     "execution_count": 4,
     "metadata": {},
     "output_type": "execute_result"
    }
   ],
   "source": [
    "# Get a list of all the csv files to process\n",
    "csv_files = []\n",
    "for file in os.listdir(\"../data/raw/firstratedata_futures\"):\n",
    "    if file.startswith(CONTRACTS_PREFIX_MATCHER):\n",
    "        csv_files.append(file)\n",
    "csv_files.sort()\n",
    "csv_files"
   ]
  },
  {
   "cell_type": "code",
   "execution_count": 5,
   "id": "2d178cab-184e-45f3-aaa8-fd19a6a45af7",
   "metadata": {},
   "outputs": [],
   "source": [
    "def convert_csv_to_df(filename):\n",
    "    df_volume = pd.read_csv(\n",
    "        f\"../data/raw/firstratedata_futures/{filename}\",\n",
    "        parse_dates=['DateTime'], usecols=['DateTime', 'Volume'], index_col=['DateTime']\n",
    "    )\n",
    "    return df_volume"
   ]
  },
  {
   "cell_type": "code",
   "execution_count": 6,
   "id": "419f8b83-1395-47e9-9a28-8c221e9f08b2",
   "metadata": {},
   "outputs": [],
   "source": [
    "def get_unique_trading_days(df):\n",
    "    '''Calculate the number of unique trading days in the dataset'''\n",
    "    unique_trading_days = df.index.map(lambda t: t.date()).unique()\n",
    "    return unique_trading_days"
   ]
  },
  {
   "cell_type": "code",
   "execution_count": 7,
   "id": "d4fd9cb0-953b-4663-9993-73b0aa861b95",
   "metadata": {},
   "outputs": [],
   "source": [
    "def initialize_df_grouped_by_minute():\n",
    "    '''Initialize an empty dataframe with no data and an index with a row for each minute of the day'''\n",
    "    date_range = pd.date_range(start='1/1/2021', end='1/02/2021', freq='T')[:-1]\n",
    "    new_df = pd.DataFrame(data={'DateTime':date_range}).set_index('DateTime')\n",
    "    new_df = new_df.groupby(lambda x: x.time()).sum()\n",
    "    return new_df"
   ]
  },
  {
   "cell_type": "code",
   "execution_count": 8,
   "id": "57b64e3c-fcf7-4079-8046-1b6217ad65a6",
   "metadata": {},
   "outputs": [],
   "source": [
    "def combine_data_frames(df1,df2):\n",
    "    '''Return a dataframe that concats the two provided dataframes together'''\n",
    "    combined_df = pd.concat([df1, df2])\n",
    "    return combined_df"
   ]
  },
  {
   "cell_type": "code",
   "execution_count": 9,
   "id": "98b9c44a-bd00-46f4-beb9-6a4decdf9ef2",
   "metadata": {},
   "outputs": [],
   "source": [
    "def get_master_ungrouped_data_frame(files_to_process):\n",
    "    '''Build up a single dataframe containing volume and DateTime for all contracts'''\n",
    "    initial_df = pd.DataFrame(columns = [\"DateTime\", \"Volume\"]).set_index('DateTime')\n",
    "    for i in trange(len(files_to_process), desc=f\"Overall Analysis\"):\n",
    "        file = files_to_process[i]\n",
    "        contract_symbol = file[:len(file) - 4]\n",
    "        a_contract_df = convert_csv_to_df(file)\n",
    "        initial_df = combine_data_frames(initial_df, a_contract_df)\n",
    "        # display(a_contract_df)\n",
    "    return initial_df"
   ]
  },
  {
   "cell_type": "code",
   "execution_count": 10,
   "id": "717dc515-7107-4359-a2b0-7cad0bfbd1ba",
   "metadata": {},
   "outputs": [],
   "source": [
    "def resample_volume_by_minute(df):\n",
    "    '''Resample the data-set by minute filling in the gaps and summing the trading volume within each minute'''\n",
    "    df_temp = df.resample('1T').sum()[[\"Volume\"]]\n",
    "    df_volume_by_minute = df_temp.groupby(lambda x: x.time()).sum()\n",
    "    return df_volume_by_minute"
   ]
  },
  {
   "cell_type": "code",
   "execution_count": 11,
   "id": "c2608e6a-3e14-4aaa-814b-aea1d9471a8b",
   "metadata": {},
   "outputs": [],
   "source": [
    "def split_dataframe_by_date(df, split_date):\n",
    "    '''Split a dataframe into two dataframes. Onecontains all rows before the split_date and the other contains all rows after it'''\n",
    "    before_date_df = master_ungrouped_df[master_ungrouped_df.index.date < datetime.strptime(split_date, '%Y-%m-%d').date()].copy()\n",
    "    after_date_df = master_ungrouped_df[master_ungrouped_df.index.date >= datetime.strptime(split_date, '%Y-%m-%d').date()].copy()\n",
    "    return (before_date_df, after_date_df)"
   ]
  },
  {
   "cell_type": "code",
   "execution_count": 12,
   "id": "5668dd1e-7f6f-4b9b-a759-8e9687e2748c",
   "metadata": {},
   "outputs": [],
   "source": [
    "def get_master_avg_daily_nominal_df(\n",
    "    before_date_by_minute_df: pd.DataFrame, after_date_by_minute_df: pd.DataFrame,\n",
    "    before_date_unique_trading_days: int, after_date_unique_trading_days: int\n",
    ") -> pd.DataFrame:\n",
    "    master_avg_daily_nominal_df = initialize_df_grouped_by_minute()\n",
    "    before_date_by_minute_df = before_date_by_minute_df.rename(columns={'Volume':f\"Total Volume Before {SPLIT_DATE_CUTOFF}\"})\n",
    "    before_date_by_minute_df[f\"Average Volume Before {SPLIT_DATE_CUTOFF}\"] = before_date_by_minute_df.apply(lambda row: row / before_date_unique_trading_days )\n",
    "    after_date_by_minute_df = after_date_by_minute_df.rename(columns={'Volume':f\"Total Volume After {SPLIT_DATE_CUTOFF}\"})\n",
    "    after_date_by_minute_df[f\"Average Volume After {SPLIT_DATE_CUTOFF}\"] = after_date_by_minute_df.apply(lambda row: row / after_date_unique_trading_days )\n",
    "    master_avg_daily_nominal_df = pd.concat([master_avg_daily_nominal_df, before_date_by_minute_df, after_date_by_minute_df], axis=1)\n",
    "    return master_avg_daily_nominal_df"
   ]
  },
  {
   "cell_type": "code",
   "execution_count": 13,
   "id": "e185f790-1b17-4a37-9b41-56074c12253d",
   "metadata": {},
   "outputs": [],
   "source": [
    "def clean_master_avg_daily_nominal_df(master_avg_daily_nominal_df: pd.DataFrame, split_date_cutoff: int) -> pd.DataFrame:\n",
    "    '''Drop columns from the df we don't need'''\n",
    "    return master_avg_daily_nominal_df.drop([f\"Total Volume Before {split_date_cutoff}\",f\"Total Volume After {split_date_cutoff}\"], axis=1)"
   ]
  },
  {
   "cell_type": "code",
   "execution_count": 14,
   "id": "bd260140-d363-490c-8f71-30b86327b19a",
   "metadata": {
    "tags": []
   },
   "outputs": [
    {
     "data": {
      "application/vnd.jupyter.widget-view+json": {
       "model_id": "5df0bcf326544190b18a0ff8dd798cb2",
       "version_major": 2,
       "version_minor": 0
      },
      "text/plain": [
       "Overall Analysis:   0%|          | 0/13 [00:00<?, ?it/s]"
      ]
     },
     "metadata": {},
     "output_type": "display_data"
    }
   ],
   "source": [
    "# Gather all the data from every contract into one big dataframe\n",
    "master_ungrouped_df = get_master_ungrouped_data_frame(csv_files)"
   ]
  },
  {
   "cell_type": "code",
   "execution_count": 15,
   "id": "59673499-17bc-4d67-ad0f-e3f1dcf9704f",
   "metadata": {},
   "outputs": [],
   "source": [
    "# Sort then split the big ungrouped dataframe into a before and after dataframe using the cutoff date\n",
    "master_ungrouped_df = master_ungrouped_df.sort_values(by=['DateTime'])\n",
    "before_date_df, after_date_df = split_dataframe_by_date(master_ungrouped_df, SPLIT_DATE_CUTOFF)"
   ]
  },
  {
   "cell_type": "code",
   "execution_count": 16,
   "id": "c9ee4f98-c440-4c95-ac3c-344c7a86cbba",
   "metadata": {},
   "outputs": [],
   "source": [
    "# Calculate the number of unique trading days before and after the cutoff date\n",
    "before_date_unique_trading_days = len(get_unique_trading_days(before_date_df))\n",
    "after_date_unique_trading_days = len(get_unique_trading_days(after_date_df))"
   ]
  },
  {
   "cell_type": "code",
   "execution_count": null,
   "id": "69c0702f-670e-4bd8-91c4-05f76904b2ec",
   "metadata": {},
   "outputs": [],
   "source": [
    "# Resample the before and after dataframes to show the total volume by minute of the day\n",
    "before_date_by_minute_df = resample_volume_by_minute(before_date_df)\n",
    "after_date_by_minute_df = resample_volume_by_minute(after_date_df)"
   ]
  },
  {
   "cell_type": "code",
   "execution_count": null,
   "id": "20dae454-ba8c-40e0-beb6-034361997579",
   "metadata": {},
   "outputs": [],
   "source": [
    "# Calculate the average intraday volume for each minute of the day before and after the cutoff date.\n",
    "# Put all that information into one dataframe for charting\n",
    "master_avg_daily_nominal_df = get_master_avg_daily_nominal_df(\n",
    "    before_date_by_minute_df, after_date_by_minute_df,\n",
    "    before_date_unique_trading_days, after_date_unique_trading_days\n",
    ")\n",
    "# master_avg_daily_nominal_df"
   ]
  },
  {
   "cell_type": "code",
   "execution_count": null,
   "id": "7ff4355a-1576-4eae-a0bf-68c76e346f6a",
   "metadata": {},
   "outputs": [],
   "source": [
    "# Remove columns from the dataframe that we have no intention of charting\n",
    "master_avg_daily_nominal_df = clean_master_avg_daily_nominal_df(\n",
    "    master_avg_daily_nominal_df, SPLIT_DATE_CUTOFF\n",
    ")"
   ]
  },
  {
   "cell_type": "code",
   "execution_count": null,
   "id": "cc540059-a4e0-4952-9e29-35075dba140c",
   "metadata": {},
   "outputs": [],
   "source": [
    "# Create and display our figure for nominal intraday volume\n",
    "fig1 = master_avg_daily_nominal_df.plot(kind=\"line\", title=f\"All LEM Contracts - Average Intraday Nominal Trading Volume By Minute\")\n",
    "fig1.show()"
   ]
  },
  {
   "cell_type": "code",
   "execution_count": null,
   "id": "3b25f525-0dd4-4195-bd95-06a0365c14e5",
   "metadata": {},
   "outputs": [],
   "source": []
  }
 ],
 "metadata": {
  "kernelspec": {
   "display_name": "Python 3.10 (XPython)",
   "language": "python",
   "name": "xpython"
  },
  "language_info": {
   "file_extension": ".py",
   "mimetype": "text/x-python",
   "name": "python",
   "version": "3.10.0"
  }
 },
 "nbformat": 4,
 "nbformat_minor": 5
}
