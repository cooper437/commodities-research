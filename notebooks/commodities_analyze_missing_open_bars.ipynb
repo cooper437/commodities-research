{
 "cells": [
  {
   "cell_type": "code",
   "execution_count": 67,
   "metadata": {},
   "outputs": [],
   "source": [
    "import os\n",
    "import pandas as pd\n",
    "import datetime as dt\n",
    "import plotly.express as px\n",
    "import plotly.graph_objects as go\n",
    "import numpy as np\n",
    "from IPython.display import display\n",
    "from tqdm.notebook import trange, tqdm"
   ]
  },
  {
   "cell_type": "code",
   "execution_count": 68,
   "metadata": {},
   "outputs": [],
   "source": [
    "CONTRACT_OPEN_ENRICHED_FILE_PATH = '../data/processed/futures_contracts/contract_open_enriched.csv'"
   ]
  },
  {
   "cell_type": "code",
   "execution_count": 69,
   "metadata": {},
   "outputs": [],
   "source": [
    "def calculate_num_unique_dates_for_contract(contract_df: pd.DataFrame, symbol: str):\n",
    "    missing_open_for_contract_df = contract_df[contract_df['Symbol'] == symbol]\n",
    "    missing_open_dates_series_unique = missing_open_for_contract_df['Date'].unique()\n",
    "    num_missing_open_dates_series_unique = len(missing_open_dates_series_unique)\n",
    "    return num_missing_open_dates_series_unique"
   ]
  },
  {
   "cell_type": "code",
   "execution_count": 70,
   "metadata": {},
   "outputs": [],
   "source": [
    "contract_open_enriched_df = pd.read_csv(CONTRACT_OPEN_ENRICHED_FILE_PATH, parse_dates=['DateTime'])"
   ]
  },
  {
   "cell_type": "code",
   "execution_count": 71,
   "metadata": {},
   "outputs": [],
   "source": [
    "contract_open_enriched_df['Date'] = contract_open_enriched_df['DateTime'].apply(\n",
    "        lambda x: x.strftime(\"%Y-%m-%d\")\n",
    "    )"
   ]
  },
  {
   "cell_type": "code",
   "execution_count": 73,
   "metadata": {},
   "outputs": [],
   "source": [
    "rows_with_missing_open_df = contract_open_enriched_df[contract_open_enriched_df['Intraday Open Bar Price Delta'].isnull()].loc[:, contract_open_enriched_df.columns.isin(['Symbol', 'DateTime', 'DTE', 'Date'])]\n",
    "rows_with_populated_open_df = contract_open_enriched_df[contract_open_enriched_df['Intraday Open Bar Price Delta'].notnull()].loc[:, contract_open_enriched_df.columns.isin(['Symbol', 'DateTime', 'DTE', 'Date'])]"
   ]
  },
  {
   "cell_type": "code",
   "execution_count": 75,
   "metadata": {},
   "outputs": [],
   "source": [
    "unique_symbols = rows_with_missing_open_df.Symbol.unique()"
   ]
  },
  {
   "cell_type": "code",
   "execution_count": 76,
   "metadata": {},
   "outputs": [],
   "source": [
    "open_bar_by_contract_count_df = pd.DataFrame(columns=['Symbol', 'Days Without Open Bar', 'Days With Open Bar'])"
   ]
  },
  {
   "cell_type": "markdown",
   "metadata": {},
   "source": [
    "Iterate over our contract symbol. For each one calculate the number of unique dates that have an open bar and that do not. Add this information to the open_bar_by_contract_count_df dataframe"
   ]
  },
  {
   "cell_type": "code",
   "execution_count": 77,
   "metadata": {},
   "outputs": [],
   "source": [
    "for symbol in unique_symbols:\n",
    "    num_unique_dates_with_missing_open = calculate_num_unique_dates_for_contract(\n",
    "        contract_df=rows_with_missing_open_df, symbol=symbol\n",
    "    )\n",
    "    num_unique_dates_with_open = calculate_num_unique_dates_for_contract(\n",
    "        contract_df=rows_with_populated_open_df, symbol=symbol\n",
    "    )\n",
    "    open_bar_by_contract_count_df = open_bar_by_contract_count_df.append({\n",
    "        'Symbol': symbol,\n",
    "        'Days Without Open Bar': num_unique_dates_with_missing_open,\n",
    "        'Days With Open Bar': num_unique_dates_with_open\n",
    "    }, ignore_index=True)\n",
    "    # print(num_unique_dates_with_missing_open)\n",
    "    \n",
    "    "
   ]
  },
  {
   "cell_type": "markdown",
   "metadata": {},
   "source": [
    "Initialize a dataframe that will be used to count the number of times we encounter trading days with missing and populated open bars respectively"
   ]
  },
  {
   "cell_type": "code",
   "execution_count": 78,
   "metadata": {},
   "outputs": [],
   "source": [
    "days_to_expiration_open_bar_count_df = pd.DataFrame(data={\n",
    "  'DTE': pd.Series(range(0,601)),\n",
    "  'Days Without Open Bar': 0,\n",
    "  'Days With Open Bar': 0\n",
    "})"
   ]
  },
  {
   "cell_type": "code",
   "execution_count": 79,
   "metadata": {},
   "outputs": [
    {
     "data": {
      "application/vnd.jupyter.widget-view+json": {
       "model_id": "723cfc8bb71e4a4d936e833001d15579",
       "version_major": 2,
       "version_minor": 0
      },
      "text/plain": [
       "Calculating missing open by DTE for each contract:   0%|          | 0/77 [00:00<?, ?it/s]"
      ]
     },
     "metadata": {},
     "output_type": "display_data"
    }
   ],
   "source": [
    "for i in trange(len(unique_symbols), desc=\"Calculating missing open by DTE for each contract\"):\n",
    "  symbol = unique_symbols[i]\n",
    "  missing_open_for_contract_df = rows_with_missing_open_df[rows_with_missing_open_df['Symbol'] == symbol]\n",
    "  populated_open_for_contract_df = rows_with_populated_open_df[rows_with_populated_open_df['Symbol'] == symbol]\n",
    "  dte_values_with_missing_open_bar = missing_open_for_contract_df['DTE'].unique()\n",
    "  dte_values_with_populated_open_bar = populated_open_for_contract_df['DTE'].unique()\n",
    "  # Iterate over each unique dte value thats associated with a missing open bar and increment the count in the dataframe we will be using to plot\n",
    "  for missing_dte_value in dte_values_with_missing_open_bar:\n",
    "    index_of_row_to_increment = days_to_expiration_open_bar_count_df.index[days_to_expiration_open_bar_count_df['DTE'] == missing_dte_value]\n",
    "    current_value = days_to_expiration_open_bar_count_df.iloc[index_of_row_to_increment]['Days Without Open Bar']\n",
    "    days_to_expiration_open_bar_count_df.at[index_of_row_to_increment, 'Days Without Open Bar'] = current_value + 1\n",
    "  # Iterate over each unique dte value thats associated with a populated open bar and increment the count in the dataframe we will be using to plot\n",
    "  for populated_dte_value in dte_values_with_populated_open_bar:\n",
    "    index_of_row_to_increment = days_to_expiration_open_bar_count_df.index[days_to_expiration_open_bar_count_df['DTE'] == populated_dte_value]\n",
    "    current_value = days_to_expiration_open_bar_count_df.iloc[index_of_row_to_increment]['Days With Open Bar']\n",
    "    days_to_expiration_open_bar_count_df.at[index_of_row_to_increment, 'Days With Open Bar'] = current_value + 1"
   ]
  },
  {
   "cell_type": "code",
   "execution_count": 81,
   "metadata": {},
   "outputs": [
    {
     "data": {
      "application/vnd.plotly.v1+json": {
       "config": {
        "plotlyServerURL": "https://plot.ly"
       },
       "data": [
        {
         "name": "Days Without Open Bar",
         "type": "bar",
         "x": [
          "LEG09",
          "LEG10",
          "LEG11",
          "LEG12",
          "LEG13",
          "LEG14",
          "LEG15",
          "LEG16",
          "LEG17",
          "LEG18",
          "LEG19",
          "LEG20",
          "LEJ08",
          "LEJ09",
          "LEJ10",
          "LEJ11",
          "LEJ12",
          "LEJ13",
          "LEJ14",
          "LEJ15",
          "LEJ16",
          "LEJ17",
          "LEJ18",
          "LEJ19",
          "LEJ20",
          "LEM08",
          "LEM09",
          "LEM10",
          "LEM11",
          "LEM12",
          "LEM13",
          "LEM14",
          "LEM15",
          "LEM16",
          "LEM17",
          "LEM18",
          "LEM19",
          "LEM20",
          "LEQ08",
          "LEQ09",
          "LEQ10",
          "LEQ11",
          "LEQ12",
          "LEQ13",
          "LEQ14",
          "LEQ15",
          "LEQ16",
          "LEQ17",
          "LEQ18",
          "LEQ19",
          "LEQ20",
          "LEV08",
          "LEV09",
          "LEV10",
          "LEV11",
          "LEV12",
          "LEV13",
          "LEV14",
          "LEV15",
          "LEV16",
          "LEV17",
          "LEV18",
          "LEV19",
          "LEV20",
          "LEZ08",
          "LEZ09",
          "LEZ10",
          "LEZ11",
          "LEZ12",
          "LEZ13",
          "LEZ14",
          "LEZ15",
          "LEZ16",
          "LEZ17",
          "LEZ18",
          "LEZ19",
          "LEZ20"
         ],
         "y": [
          107,
          92,
          94,
          105,
          106,
          93,
          99,
          167,
          88,
          44,
          68,
          79,
          85,
          101,
          88,
          96,
          108,
          110,
          100,
          105,
          164,
          85,
          32,
          64,
          63,
          65,
          119,
          88,
          90,
          107,
          105,
          73,
          79,
          145,
          65,
          35,
          62,
          54,
          67,
          86,
          70,
          97,
          113,
          97,
          71,
          110,
          142,
          58,
          60,
          66,
          81,
          90,
          82,
          116,
          102,
          104,
          103,
          64,
          125,
          142,
          24,
          52,
          60,
          55,
          94,
          91,
          82,
          87,
          98,
          99,
          73,
          140,
          113,
          27,
          63,
          57,
          47
         ]
        },
        {
         "name": "Days With Open Bar",
         "type": "bar",
         "x": [
          "LEG09",
          "LEG10",
          "LEG11",
          "LEG12",
          "LEG13",
          "LEG14",
          "LEG15",
          "LEG16",
          "LEG17",
          "LEG18",
          "LEG19",
          "LEG20",
          "LEJ08",
          "LEJ09",
          "LEJ10",
          "LEJ11",
          "LEJ12",
          "LEJ13",
          "LEJ14",
          "LEJ15",
          "LEJ16",
          "LEJ17",
          "LEJ18",
          "LEJ19",
          "LEJ20",
          "LEM08",
          "LEM09",
          "LEM10",
          "LEM11",
          "LEM12",
          "LEM13",
          "LEM14",
          "LEM15",
          "LEM16",
          "LEM17",
          "LEM18",
          "LEM19",
          "LEM20",
          "LEQ08",
          "LEQ09",
          "LEQ10",
          "LEQ11",
          "LEQ12",
          "LEQ13",
          "LEQ14",
          "LEQ15",
          "LEQ16",
          "LEQ17",
          "LEQ18",
          "LEQ19",
          "LEQ20",
          "LEV08",
          "LEV09",
          "LEV10",
          "LEV11",
          "LEV12",
          "LEV13",
          "LEV14",
          "LEV15",
          "LEV16",
          "LEV17",
          "LEV18",
          "LEV19",
          "LEV20",
          "LEZ08",
          "LEZ09",
          "LEZ10",
          "LEZ11",
          "LEZ12",
          "LEZ13",
          "LEZ14",
          "LEZ15",
          "LEZ16",
          "LEZ17",
          "LEZ18",
          "LEZ19",
          "LEZ20"
         ],
         "y": [
          146,
          165,
          194,
          217,
          225,
          227,
          238,
          192,
          253,
          282,
          279,
          265,
          96,
          160,
          182,
          215,
          230,
          229,
          235,
          244,
          186,
          261,
          292,
          280,
          287,
          108,
          145,
          192,
          211,
          223,
          224,
          230,
          252,
          187,
          258,
          294,
          287,
          288,
          126,
          148,
          183,
          212,
          206,
          219,
          213,
          221,
          197,
          278,
          278,
          285,
          281,
          127,
          157,
          181,
          224,
          227,
          222,
          229,
          214,
          199,
          274,
          275,
          269,
          271,
          145,
          167,
          200,
          242,
          232,
          238,
          251,
          221,
          232,
          287,
          278,
          277,
          289
         ]
        }
       ],
       "layout": {
        "barmode": "group",
        "template": {
         "data": {
          "bar": [
           {
            "error_x": {
             "color": "#2a3f5f"
            },
            "error_y": {
             "color": "#2a3f5f"
            },
            "marker": {
             "line": {
              "color": "#E5ECF6",
              "width": 0.5
             },
             "pattern": {
              "fillmode": "overlay",
              "size": 10,
              "solidity": 0.2
             }
            },
            "type": "bar"
           }
          ],
          "barpolar": [
           {
            "marker": {
             "line": {
              "color": "#E5ECF6",
              "width": 0.5
             },
             "pattern": {
              "fillmode": "overlay",
              "size": 10,
              "solidity": 0.2
             }
            },
            "type": "barpolar"
           }
          ],
          "carpet": [
           {
            "aaxis": {
             "endlinecolor": "#2a3f5f",
             "gridcolor": "white",
             "linecolor": "white",
             "minorgridcolor": "white",
             "startlinecolor": "#2a3f5f"
            },
            "baxis": {
             "endlinecolor": "#2a3f5f",
             "gridcolor": "white",
             "linecolor": "white",
             "minorgridcolor": "white",
             "startlinecolor": "#2a3f5f"
            },
            "type": "carpet"
           }
          ],
          "choropleth": [
           {
            "colorbar": {
             "outlinewidth": 0,
             "ticks": ""
            },
            "type": "choropleth"
           }
          ],
          "contour": [
           {
            "colorbar": {
             "outlinewidth": 0,
             "ticks": ""
            },
            "colorscale": [
             [
              0,
              "#0d0887"
             ],
             [
              0.1111111111111111,
              "#46039f"
             ],
             [
              0.2222222222222222,
              "#7201a8"
             ],
             [
              0.3333333333333333,
              "#9c179e"
             ],
             [
              0.4444444444444444,
              "#bd3786"
             ],
             [
              0.5555555555555556,
              "#d8576b"
             ],
             [
              0.6666666666666666,
              "#ed7953"
             ],
             [
              0.7777777777777778,
              "#fb9f3a"
             ],
             [
              0.8888888888888888,
              "#fdca26"
             ],
             [
              1,
              "#f0f921"
             ]
            ],
            "type": "contour"
           }
          ],
          "contourcarpet": [
           {
            "colorbar": {
             "outlinewidth": 0,
             "ticks": ""
            },
            "type": "contourcarpet"
           }
          ],
          "heatmap": [
           {
            "colorbar": {
             "outlinewidth": 0,
             "ticks": ""
            },
            "colorscale": [
             [
              0,
              "#0d0887"
             ],
             [
              0.1111111111111111,
              "#46039f"
             ],
             [
              0.2222222222222222,
              "#7201a8"
             ],
             [
              0.3333333333333333,
              "#9c179e"
             ],
             [
              0.4444444444444444,
              "#bd3786"
             ],
             [
              0.5555555555555556,
              "#d8576b"
             ],
             [
              0.6666666666666666,
              "#ed7953"
             ],
             [
              0.7777777777777778,
              "#fb9f3a"
             ],
             [
              0.8888888888888888,
              "#fdca26"
             ],
             [
              1,
              "#f0f921"
             ]
            ],
            "type": "heatmap"
           }
          ],
          "heatmapgl": [
           {
            "colorbar": {
             "outlinewidth": 0,
             "ticks": ""
            },
            "colorscale": [
             [
              0,
              "#0d0887"
             ],
             [
              0.1111111111111111,
              "#46039f"
             ],
             [
              0.2222222222222222,
              "#7201a8"
             ],
             [
              0.3333333333333333,
              "#9c179e"
             ],
             [
              0.4444444444444444,
              "#bd3786"
             ],
             [
              0.5555555555555556,
              "#d8576b"
             ],
             [
              0.6666666666666666,
              "#ed7953"
             ],
             [
              0.7777777777777778,
              "#fb9f3a"
             ],
             [
              0.8888888888888888,
              "#fdca26"
             ],
             [
              1,
              "#f0f921"
             ]
            ],
            "type": "heatmapgl"
           }
          ],
          "histogram": [
           {
            "marker": {
             "pattern": {
              "fillmode": "overlay",
              "size": 10,
              "solidity": 0.2
             }
            },
            "type": "histogram"
           }
          ],
          "histogram2d": [
           {
            "colorbar": {
             "outlinewidth": 0,
             "ticks": ""
            },
            "colorscale": [
             [
              0,
              "#0d0887"
             ],
             [
              0.1111111111111111,
              "#46039f"
             ],
             [
              0.2222222222222222,
              "#7201a8"
             ],
             [
              0.3333333333333333,
              "#9c179e"
             ],
             [
              0.4444444444444444,
              "#bd3786"
             ],
             [
              0.5555555555555556,
              "#d8576b"
             ],
             [
              0.6666666666666666,
              "#ed7953"
             ],
             [
              0.7777777777777778,
              "#fb9f3a"
             ],
             [
              0.8888888888888888,
              "#fdca26"
             ],
             [
              1,
              "#f0f921"
             ]
            ],
            "type": "histogram2d"
           }
          ],
          "histogram2dcontour": [
           {
            "colorbar": {
             "outlinewidth": 0,
             "ticks": ""
            },
            "colorscale": [
             [
              0,
              "#0d0887"
             ],
             [
              0.1111111111111111,
              "#46039f"
             ],
             [
              0.2222222222222222,
              "#7201a8"
             ],
             [
              0.3333333333333333,
              "#9c179e"
             ],
             [
              0.4444444444444444,
              "#bd3786"
             ],
             [
              0.5555555555555556,
              "#d8576b"
             ],
             [
              0.6666666666666666,
              "#ed7953"
             ],
             [
              0.7777777777777778,
              "#fb9f3a"
             ],
             [
              0.8888888888888888,
              "#fdca26"
             ],
             [
              1,
              "#f0f921"
             ]
            ],
            "type": "histogram2dcontour"
           }
          ],
          "mesh3d": [
           {
            "colorbar": {
             "outlinewidth": 0,
             "ticks": ""
            },
            "type": "mesh3d"
           }
          ],
          "parcoords": [
           {
            "line": {
             "colorbar": {
              "outlinewidth": 0,
              "ticks": ""
             }
            },
            "type": "parcoords"
           }
          ],
          "pie": [
           {
            "automargin": true,
            "type": "pie"
           }
          ],
          "scatter": [
           {
            "marker": {
             "colorbar": {
              "outlinewidth": 0,
              "ticks": ""
             }
            },
            "type": "scatter"
           }
          ],
          "scatter3d": [
           {
            "line": {
             "colorbar": {
              "outlinewidth": 0,
              "ticks": ""
             }
            },
            "marker": {
             "colorbar": {
              "outlinewidth": 0,
              "ticks": ""
             }
            },
            "type": "scatter3d"
           }
          ],
          "scattercarpet": [
           {
            "marker": {
             "colorbar": {
              "outlinewidth": 0,
              "ticks": ""
             }
            },
            "type": "scattercarpet"
           }
          ],
          "scattergeo": [
           {
            "marker": {
             "colorbar": {
              "outlinewidth": 0,
              "ticks": ""
             }
            },
            "type": "scattergeo"
           }
          ],
          "scattergl": [
           {
            "marker": {
             "colorbar": {
              "outlinewidth": 0,
              "ticks": ""
             }
            },
            "type": "scattergl"
           }
          ],
          "scattermapbox": [
           {
            "marker": {
             "colorbar": {
              "outlinewidth": 0,
              "ticks": ""
             }
            },
            "type": "scattermapbox"
           }
          ],
          "scatterpolar": [
           {
            "marker": {
             "colorbar": {
              "outlinewidth": 0,
              "ticks": ""
             }
            },
            "type": "scatterpolar"
           }
          ],
          "scatterpolargl": [
           {
            "marker": {
             "colorbar": {
              "outlinewidth": 0,
              "ticks": ""
             }
            },
            "type": "scatterpolargl"
           }
          ],
          "scatterternary": [
           {
            "marker": {
             "colorbar": {
              "outlinewidth": 0,
              "ticks": ""
             }
            },
            "type": "scatterternary"
           }
          ],
          "surface": [
           {
            "colorbar": {
             "outlinewidth": 0,
             "ticks": ""
            },
            "colorscale": [
             [
              0,
              "#0d0887"
             ],
             [
              0.1111111111111111,
              "#46039f"
             ],
             [
              0.2222222222222222,
              "#7201a8"
             ],
             [
              0.3333333333333333,
              "#9c179e"
             ],
             [
              0.4444444444444444,
              "#bd3786"
             ],
             [
              0.5555555555555556,
              "#d8576b"
             ],
             [
              0.6666666666666666,
              "#ed7953"
             ],
             [
              0.7777777777777778,
              "#fb9f3a"
             ],
             [
              0.8888888888888888,
              "#fdca26"
             ],
             [
              1,
              "#f0f921"
             ]
            ],
            "type": "surface"
           }
          ],
          "table": [
           {
            "cells": {
             "fill": {
              "color": "#EBF0F8"
             },
             "line": {
              "color": "white"
             }
            },
            "header": {
             "fill": {
              "color": "#C8D4E3"
             },
             "line": {
              "color": "white"
             }
            },
            "type": "table"
           }
          ]
         },
         "layout": {
          "annotationdefaults": {
           "arrowcolor": "#2a3f5f",
           "arrowhead": 0,
           "arrowwidth": 1
          },
          "autotypenumbers": "strict",
          "coloraxis": {
           "colorbar": {
            "outlinewidth": 0,
            "ticks": ""
           }
          },
          "colorscale": {
           "diverging": [
            [
             0,
             "#8e0152"
            ],
            [
             0.1,
             "#c51b7d"
            ],
            [
             0.2,
             "#de77ae"
            ],
            [
             0.3,
             "#f1b6da"
            ],
            [
             0.4,
             "#fde0ef"
            ],
            [
             0.5,
             "#f7f7f7"
            ],
            [
             0.6,
             "#e6f5d0"
            ],
            [
             0.7,
             "#b8e186"
            ],
            [
             0.8,
             "#7fbc41"
            ],
            [
             0.9,
             "#4d9221"
            ],
            [
             1,
             "#276419"
            ]
           ],
           "sequential": [
            [
             0,
             "#0d0887"
            ],
            [
             0.1111111111111111,
             "#46039f"
            ],
            [
             0.2222222222222222,
             "#7201a8"
            ],
            [
             0.3333333333333333,
             "#9c179e"
            ],
            [
             0.4444444444444444,
             "#bd3786"
            ],
            [
             0.5555555555555556,
             "#d8576b"
            ],
            [
             0.6666666666666666,
             "#ed7953"
            ],
            [
             0.7777777777777778,
             "#fb9f3a"
            ],
            [
             0.8888888888888888,
             "#fdca26"
            ],
            [
             1,
             "#f0f921"
            ]
           ],
           "sequentialminus": [
            [
             0,
             "#0d0887"
            ],
            [
             0.1111111111111111,
             "#46039f"
            ],
            [
             0.2222222222222222,
             "#7201a8"
            ],
            [
             0.3333333333333333,
             "#9c179e"
            ],
            [
             0.4444444444444444,
             "#bd3786"
            ],
            [
             0.5555555555555556,
             "#d8576b"
            ],
            [
             0.6666666666666666,
             "#ed7953"
            ],
            [
             0.7777777777777778,
             "#fb9f3a"
            ],
            [
             0.8888888888888888,
             "#fdca26"
            ],
            [
             1,
             "#f0f921"
            ]
           ]
          },
          "colorway": [
           "#636efa",
           "#EF553B",
           "#00cc96",
           "#ab63fa",
           "#FFA15A",
           "#19d3f3",
           "#FF6692",
           "#B6E880",
           "#FF97FF",
           "#FECB52"
          ],
          "font": {
           "color": "#2a3f5f"
          },
          "geo": {
           "bgcolor": "white",
           "lakecolor": "white",
           "landcolor": "#E5ECF6",
           "showlakes": true,
           "showland": true,
           "subunitcolor": "white"
          },
          "hoverlabel": {
           "align": "left"
          },
          "hovermode": "closest",
          "mapbox": {
           "style": "light"
          },
          "paper_bgcolor": "white",
          "plot_bgcolor": "#E5ECF6",
          "polar": {
           "angularaxis": {
            "gridcolor": "white",
            "linecolor": "white",
            "ticks": ""
           },
           "bgcolor": "#E5ECF6",
           "radialaxis": {
            "gridcolor": "white",
            "linecolor": "white",
            "ticks": ""
           }
          },
          "scene": {
           "xaxis": {
            "backgroundcolor": "#E5ECF6",
            "gridcolor": "white",
            "gridwidth": 2,
            "linecolor": "white",
            "showbackground": true,
            "ticks": "",
            "zerolinecolor": "white"
           },
           "yaxis": {
            "backgroundcolor": "#E5ECF6",
            "gridcolor": "white",
            "gridwidth": 2,
            "linecolor": "white",
            "showbackground": true,
            "ticks": "",
            "zerolinecolor": "white"
           },
           "zaxis": {
            "backgroundcolor": "#E5ECF6",
            "gridcolor": "white",
            "gridwidth": 2,
            "linecolor": "white",
            "showbackground": true,
            "ticks": "",
            "zerolinecolor": "white"
           }
          },
          "shapedefaults": {
           "line": {
            "color": "#2a3f5f"
           }
          },
          "ternary": {
           "aaxis": {
            "gridcolor": "white",
            "linecolor": "white",
            "ticks": ""
           },
           "baxis": {
            "gridcolor": "white",
            "linecolor": "white",
            "ticks": ""
           },
           "bgcolor": "#E5ECF6",
           "caxis": {
            "gridcolor": "white",
            "linecolor": "white",
            "ticks": ""
           }
          },
          "title": {
           "x": 0.05
          },
          "xaxis": {
           "automargin": true,
           "gridcolor": "white",
           "linecolor": "white",
           "ticks": "",
           "title": {
            "standoff": 15
           },
           "zerolinecolor": "white",
           "zerolinewidth": 2
          },
          "yaxis": {
           "automargin": true,
           "gridcolor": "white",
           "linecolor": "white",
           "ticks": "",
           "title": {
            "standoff": 15
           },
           "zerolinecolor": "white",
           "zerolinewidth": 2
          }
         }
        },
        "title": {
         "text": "Days With and Without An Open Bar By Contract - LE Only"
        }
       }
      }
     },
     "metadata": {},
     "output_type": "display_data"
    }
   ],
   "source": [
    "fig = go.Figure(data=[\n",
    "    go.Bar(name='Days Without Open Bar', x=unique_symbols, y=open_bar_by_contract_count_df['Days Without Open Bar']),\n",
    "    go.Bar(name='Days With Open Bar', x=unique_symbols, y=open_bar_by_contract_count_df['Days With Open Bar'])\n",
    "])\n",
    "# Change the bar mode\n",
    "fig.update_layout(barmode='group', title_text='Number of days With and Without An Open Bar By Contract - LE Only')\n",
    "fig.show()"
   ]
  },
  {
   "cell_type": "code",
   "execution_count": 95,
   "metadata": {},
   "outputs": [
    {
     "data": {
      "text/plain": [
       "0     107\n",
       "1      92\n",
       "2      94\n",
       "3     105\n",
       "4     106\n",
       "     ... \n",
       "72    113\n",
       "73     27\n",
       "74     63\n",
       "75     57\n",
       "76     47\n",
       "Name: Days Without Open Bar, Length: 77, dtype: object"
      ]
     },
     "execution_count": 95,
     "metadata": {},
     "output_type": "execute_result"
    }
   ],
   "source": [
    "unique_dte = list(days_to_expiration_open_bar_count_df['DTE'])\n",
    "open_bar_by_contract_count_df['Days Without Open Bar']"
   ]
  },
  {
   "cell_type": "code",
   "execution_count": 106,
   "metadata": {},
   "outputs": [],
   "source": [
    "days_to_expiration_open_bar_count_df['Total Days'] = days_to_expiration_open_bar_count_df['Days With Open Bar'] + days_to_expiration_open_bar_count_df['Days Without Open Bar']\n",
    "days_to_expiration_open_bar_count_df['Percentage Missing Open Bar'] = (days_to_expiration_open_bar_count_df['Days Without Open Bar'] / days_to_expiration_open_bar_count_df['Total Days']) * 100"
   ]
  },
  {
   "cell_type": "code",
   "execution_count": 104,
   "metadata": {},
   "outputs": [
    {
     "data": {
      "application/vnd.plotly.v1+json": {
       "config": {
        "plotlyServerURL": "https://plot.ly"
       },
       "data": [
        {
         "name": "Days Without Open Bar",
         "type": "bar",
         "x": [
          0,
          1,
          2,
          3,
          4,
          5,
          6,
          7,
          8,
          9,
          10,
          11,
          12,
          13,
          14,
          15,
          16,
          17,
          18,
          19,
          20,
          21,
          22,
          23,
          24,
          25,
          26,
          27,
          28,
          29,
          30,
          31,
          32,
          33,
          34,
          35,
          36,
          37,
          38,
          39,
          40,
          41,
          42,
          43,
          44,
          45,
          46,
          47,
          48,
          49,
          50,
          51,
          52,
          53,
          54,
          55,
          56,
          57,
          58,
          59,
          60,
          61,
          62,
          63,
          64,
          65,
          66,
          67,
          68,
          69,
          70,
          71,
          72,
          73,
          74,
          75,
          76,
          77,
          78,
          79,
          80,
          81,
          82,
          83,
          84,
          85,
          86,
          87,
          88,
          89,
          90,
          91,
          92,
          93,
          94,
          95,
          96,
          97,
          98,
          99,
          100,
          101,
          102,
          103,
          104,
          105,
          106,
          107,
          108,
          109,
          110,
          111,
          112,
          113,
          114,
          115,
          116,
          117,
          118,
          119,
          120,
          121,
          122,
          123,
          124,
          125,
          126,
          127,
          128,
          129,
          130,
          131,
          132,
          133,
          134,
          135,
          136,
          137,
          138,
          139,
          140,
          141,
          142,
          143,
          144,
          145,
          146,
          147,
          148,
          149,
          150,
          151,
          152,
          153,
          154,
          155,
          156,
          157,
          158,
          159,
          160,
          161,
          162,
          163,
          164,
          165,
          166,
          167,
          168,
          169,
          170,
          171,
          172,
          173,
          174,
          175,
          176,
          177,
          178,
          179,
          180,
          181,
          182,
          183,
          184,
          185,
          186,
          187,
          188,
          189,
          190,
          191,
          192,
          193,
          194,
          195,
          196,
          197,
          198,
          199,
          200,
          201,
          202,
          203,
          204,
          205,
          206,
          207,
          208,
          209,
          210,
          211,
          212,
          213,
          214,
          215,
          216,
          217,
          218,
          219,
          220,
          221,
          222,
          223,
          224,
          225,
          226,
          227,
          228,
          229,
          230,
          231,
          232,
          233,
          234,
          235,
          236,
          237,
          238,
          239,
          240,
          241,
          242,
          243,
          244,
          245,
          246,
          247,
          248,
          249,
          250,
          251,
          252,
          253,
          254,
          255,
          256,
          257,
          258,
          259,
          260,
          261,
          262,
          263,
          264,
          265,
          266,
          267,
          268,
          269,
          270,
          271,
          272,
          273,
          274,
          275,
          276,
          277,
          278,
          279,
          280,
          281,
          282,
          283,
          284,
          285,
          286,
          287,
          288,
          289,
          290,
          291,
          292,
          293,
          294,
          295,
          296,
          297,
          298,
          299,
          300,
          301,
          302,
          303,
          304,
          305,
          306,
          307,
          308,
          309,
          310,
          311,
          312,
          313,
          314,
          315,
          316,
          317,
          318,
          319,
          320,
          321,
          322,
          323,
          324,
          325,
          326,
          327,
          328,
          329,
          330,
          331,
          332,
          333,
          334,
          335,
          336,
          337,
          338,
          339,
          340,
          341,
          342,
          343,
          344,
          345,
          346,
          347,
          348,
          349,
          350,
          351,
          352,
          353,
          354,
          355,
          356,
          357,
          358,
          359,
          360,
          361,
          362,
          363,
          364,
          365,
          366,
          367,
          368,
          369,
          370,
          371,
          372,
          373,
          374,
          375,
          376,
          377,
          378,
          379,
          380,
          381,
          382,
          383,
          384,
          385,
          386,
          387,
          388,
          389,
          390,
          391,
          392,
          393,
          394,
          395,
          396,
          397,
          398,
          399,
          400,
          401,
          402,
          403,
          404,
          405,
          406,
          407,
          408,
          409,
          410,
          411,
          412,
          413,
          414,
          415,
          416,
          417,
          418,
          419,
          420,
          421,
          422,
          423,
          424,
          425,
          426,
          427,
          428,
          429,
          430,
          431,
          432,
          433,
          434,
          435,
          436,
          437,
          438,
          439,
          440,
          441,
          442,
          443,
          444,
          445,
          446,
          447,
          448,
          449,
          450,
          451,
          452,
          453,
          454,
          455,
          456,
          457,
          458,
          459,
          460,
          461,
          462,
          463,
          464,
          465,
          466,
          467,
          468,
          469,
          470,
          471,
          472,
          473,
          474,
          475,
          476,
          477,
          478,
          479,
          480,
          481,
          482,
          483,
          484,
          485,
          486,
          487,
          488,
          489,
          490,
          491,
          492,
          493,
          494,
          495,
          496,
          497,
          498,
          499,
          500,
          501,
          502,
          503,
          504,
          505,
          506,
          507,
          508,
          509,
          510,
          511,
          512,
          513,
          514,
          515,
          516,
          517,
          518,
          519,
          520,
          521,
          522,
          523,
          524,
          525,
          526,
          527,
          528,
          529,
          530,
          531,
          532,
          533,
          534,
          535,
          536,
          537,
          538,
          539,
          540,
          541,
          542,
          543,
          544,
          545,
          546,
          547,
          548,
          549,
          550,
          551,
          552,
          553,
          554,
          555,
          556,
          557,
          558,
          559,
          560,
          561,
          562,
          563,
          564,
          565,
          566,
          567,
          568,
          569,
          570,
          571,
          572,
          573,
          574,
          575,
          576,
          577,
          578,
          579,
          580,
          581,
          582,
          583,
          584,
          585,
          586,
          587,
          588,
          589,
          590,
          591,
          592,
          593,
          594,
          595,
          596,
          597,
          598,
          599,
          600
         ],
         "y": [
          26,
          17,
          14,
          11,
          10,
          6,
          9,
          17,
          7,
          8,
          8,
          4,
          3,
          7,
          12,
          7,
          4,
          4,
          5,
          4,
          2,
          6,
          5,
          2,
          2,
          1,
          0,
          1,
          2,
          0,
          0,
          1,
          1,
          0,
          0,
          2,
          1,
          0,
          1,
          1,
          0,
          1,
          1,
          0,
          0,
          1,
          1,
          0,
          0,
          2,
          0,
          0,
          2,
          0,
          0,
          0,
          2,
          0,
          0,
          1,
          1,
          0,
          0,
          1,
          0,
          0,
          1,
          2,
          0,
          0,
          1,
          0,
          0,
          2,
          1,
          0,
          0,
          1,
          0,
          0,
          1,
          2,
          0,
          0,
          1,
          0,
          0,
          1,
          2,
          0,
          0,
          1,
          0,
          0,
          1,
          2,
          0,
          0,
          1,
          0,
          0,
          2,
          1,
          0,
          0,
          1,
          0,
          0,
          1,
          2,
          0,
          0,
          1,
          0,
          2,
          1,
          2,
          1,
          1,
          1,
          2,
          0,
          2,
          2,
          1,
          0,
          2,
          1,
          0,
          2,
          1,
          2,
          1,
          1,
          1,
          2,
          2,
          2,
          0,
          1,
          4,
          2,
          2,
          4,
          2,
          1,
          1,
          3,
          1,
          2,
          3,
          1,
          1,
          2,
          1,
          1,
          1,
          4,
          3,
          1,
          0,
          3,
          3,
          4,
          4,
          1,
          1,
          2,
          8,
          4,
          3,
          5,
          5,
          1,
          2,
          0,
          4,
          4,
          4,
          2,
          1,
          4,
          8,
          4,
          6,
          3,
          4,
          1,
          2,
          10,
          6,
          7,
          4,
          3,
          1,
          1,
          5,
          8,
          4,
          5,
          5,
          4,
          1,
          10,
          3,
          9,
          5,
          6,
          2,
          6,
          9,
          5,
          7,
          9,
          5,
          4,
          4,
          13,
          5,
          4,
          7,
          6,
          7,
          5,
          7,
          5,
          11,
          9,
          5,
          4,
          9,
          13,
          8,
          10,
          10,
          6,
          4,
          6,
          11,
          8,
          11,
          11,
          7,
          5,
          12,
          18,
          14,
          12,
          12,
          11,
          5,
          12,
          14,
          9,
          11,
          12,
          9,
          5,
          12,
          17,
          13,
          10,
          9,
          14,
          7,
          8,
          16,
          18,
          17,
          17,
          8,
          11,
          12,
          18,
          16,
          16,
          12,
          8,
          7,
          9,
          24,
          14,
          13,
          14,
          9,
          5,
          11,
          20,
          17,
          13,
          16,
          14,
          10,
          12,
          17,
          20,
          16,
          19,
          12,
          8,
          13,
          25,
          17,
          20,
          26,
          16,
          12,
          17,
          26,
          21,
          16,
          25,
          21,
          11,
          19,
          23,
          20,
          21,
          21,
          18,
          10,
          15,
          28,
          26,
          17,
          21,
          22,
          18,
          18,
          34,
          25,
          25,
          23,
          15,
          14,
          20,
          29,
          23,
          24,
          21,
          15,
          17,
          24,
          27,
          30,
          22,
          28,
          18,
          16,
          22,
          30,
          32,
          28,
          23,
          22,
          25,
          26,
          37,
          37,
          25,
          32,
          21,
          14,
          20,
          34,
          31,
          26,
          29,
          25,
          16,
          34,
          36,
          27,
          28,
          22,
          23,
          17,
          22,
          37,
          30,
          32,
          30,
          27,
          21,
          26,
          38,
          35,
          31,
          32,
          33,
          22,
          21,
          39,
          35,
          34,
          38,
          26,
          22,
          26,
          40,
          32,
          25,
          28,
          25,
          20,
          25,
          45,
          30,
          30,
          35,
          31,
          19,
          32,
          46,
          35,
          28,
          34,
          28,
          22,
          28,
          42,
          39,
          23,
          22,
          25,
          22,
          29,
          36,
          40,
          28,
          28,
          23,
          18,
          24,
          32,
          25,
          30,
          29,
          21,
          18,
          29,
          46,
          39,
          29,
          25,
          28,
          19,
          25,
          41,
          29,
          27,
          32,
          26,
          22,
          22,
          39,
          27,
          23,
          28,
          17,
          16,
          23,
          27,
          21,
          22,
          20,
          20,
          16,
          18,
          33,
          23,
          23,
          18,
          20,
          14,
          17,
          29,
          22,
          17,
          22,
          17,
          14,
          18,
          21,
          17,
          9,
          18,
          14,
          9,
          18,
          18,
          17,
          17,
          16,
          11,
          11,
          9,
          21,
          16,
          9,
          13,
          13,
          9,
          13,
          19,
          14,
          8,
          13,
          9,
          5,
          13,
          17,
          9,
          14,
          13,
          14,
          3,
          7,
          7,
          10,
          5,
          9,
          9,
          3,
          4,
          10,
          6,
          3,
          5,
          7,
          5,
          5,
          8,
          7,
          5,
          4,
          4,
          2,
          7,
          8,
          3,
          1,
          2,
          1,
          2,
          1,
          1,
          1,
          0,
          1,
          0,
          0,
          0,
          0,
          0,
          0,
          0,
          0,
          0,
          0,
          0,
          0,
          0,
          0,
          0,
          0,
          0,
          0,
          0,
          0,
          0,
          0,
          0,
          0,
          0,
          0,
          0,
          0,
          0,
          0,
          0,
          0,
          0,
          0,
          0,
          0,
          0,
          0,
          0,
          0,
          0,
          0,
          0,
          0,
          0,
          0,
          0,
          0,
          0,
          0,
          0
         ]
        }
       ],
       "layout": {
        "template": {
         "data": {
          "bar": [
           {
            "error_x": {
             "color": "#2a3f5f"
            },
            "error_y": {
             "color": "#2a3f5f"
            },
            "marker": {
             "line": {
              "color": "#E5ECF6",
              "width": 0.5
             },
             "pattern": {
              "fillmode": "overlay",
              "size": 10,
              "solidity": 0.2
             }
            },
            "type": "bar"
           }
          ],
          "barpolar": [
           {
            "marker": {
             "line": {
              "color": "#E5ECF6",
              "width": 0.5
             },
             "pattern": {
              "fillmode": "overlay",
              "size": 10,
              "solidity": 0.2
             }
            },
            "type": "barpolar"
           }
          ],
          "carpet": [
           {
            "aaxis": {
             "endlinecolor": "#2a3f5f",
             "gridcolor": "white",
             "linecolor": "white",
             "minorgridcolor": "white",
             "startlinecolor": "#2a3f5f"
            },
            "baxis": {
             "endlinecolor": "#2a3f5f",
             "gridcolor": "white",
             "linecolor": "white",
             "minorgridcolor": "white",
             "startlinecolor": "#2a3f5f"
            },
            "type": "carpet"
           }
          ],
          "choropleth": [
           {
            "colorbar": {
             "outlinewidth": 0,
             "ticks": ""
            },
            "type": "choropleth"
           }
          ],
          "contour": [
           {
            "colorbar": {
             "outlinewidth": 0,
             "ticks": ""
            },
            "colorscale": [
             [
              0,
              "#0d0887"
             ],
             [
              0.1111111111111111,
              "#46039f"
             ],
             [
              0.2222222222222222,
              "#7201a8"
             ],
             [
              0.3333333333333333,
              "#9c179e"
             ],
             [
              0.4444444444444444,
              "#bd3786"
             ],
             [
              0.5555555555555556,
              "#d8576b"
             ],
             [
              0.6666666666666666,
              "#ed7953"
             ],
             [
              0.7777777777777778,
              "#fb9f3a"
             ],
             [
              0.8888888888888888,
              "#fdca26"
             ],
             [
              1,
              "#f0f921"
             ]
            ],
            "type": "contour"
           }
          ],
          "contourcarpet": [
           {
            "colorbar": {
             "outlinewidth": 0,
             "ticks": ""
            },
            "type": "contourcarpet"
           }
          ],
          "heatmap": [
           {
            "colorbar": {
             "outlinewidth": 0,
             "ticks": ""
            },
            "colorscale": [
             [
              0,
              "#0d0887"
             ],
             [
              0.1111111111111111,
              "#46039f"
             ],
             [
              0.2222222222222222,
              "#7201a8"
             ],
             [
              0.3333333333333333,
              "#9c179e"
             ],
             [
              0.4444444444444444,
              "#bd3786"
             ],
             [
              0.5555555555555556,
              "#d8576b"
             ],
             [
              0.6666666666666666,
              "#ed7953"
             ],
             [
              0.7777777777777778,
              "#fb9f3a"
             ],
             [
              0.8888888888888888,
              "#fdca26"
             ],
             [
              1,
              "#f0f921"
             ]
            ],
            "type": "heatmap"
           }
          ],
          "heatmapgl": [
           {
            "colorbar": {
             "outlinewidth": 0,
             "ticks": ""
            },
            "colorscale": [
             [
              0,
              "#0d0887"
             ],
             [
              0.1111111111111111,
              "#46039f"
             ],
             [
              0.2222222222222222,
              "#7201a8"
             ],
             [
              0.3333333333333333,
              "#9c179e"
             ],
             [
              0.4444444444444444,
              "#bd3786"
             ],
             [
              0.5555555555555556,
              "#d8576b"
             ],
             [
              0.6666666666666666,
              "#ed7953"
             ],
             [
              0.7777777777777778,
              "#fb9f3a"
             ],
             [
              0.8888888888888888,
              "#fdca26"
             ],
             [
              1,
              "#f0f921"
             ]
            ],
            "type": "heatmapgl"
           }
          ],
          "histogram": [
           {
            "marker": {
             "pattern": {
              "fillmode": "overlay",
              "size": 10,
              "solidity": 0.2
             }
            },
            "type": "histogram"
           }
          ],
          "histogram2d": [
           {
            "colorbar": {
             "outlinewidth": 0,
             "ticks": ""
            },
            "colorscale": [
             [
              0,
              "#0d0887"
             ],
             [
              0.1111111111111111,
              "#46039f"
             ],
             [
              0.2222222222222222,
              "#7201a8"
             ],
             [
              0.3333333333333333,
              "#9c179e"
             ],
             [
              0.4444444444444444,
              "#bd3786"
             ],
             [
              0.5555555555555556,
              "#d8576b"
             ],
             [
              0.6666666666666666,
              "#ed7953"
             ],
             [
              0.7777777777777778,
              "#fb9f3a"
             ],
             [
              0.8888888888888888,
              "#fdca26"
             ],
             [
              1,
              "#f0f921"
             ]
            ],
            "type": "histogram2d"
           }
          ],
          "histogram2dcontour": [
           {
            "colorbar": {
             "outlinewidth": 0,
             "ticks": ""
            },
            "colorscale": [
             [
              0,
              "#0d0887"
             ],
             [
              0.1111111111111111,
              "#46039f"
             ],
             [
              0.2222222222222222,
              "#7201a8"
             ],
             [
              0.3333333333333333,
              "#9c179e"
             ],
             [
              0.4444444444444444,
              "#bd3786"
             ],
             [
              0.5555555555555556,
              "#d8576b"
             ],
             [
              0.6666666666666666,
              "#ed7953"
             ],
             [
              0.7777777777777778,
              "#fb9f3a"
             ],
             [
              0.8888888888888888,
              "#fdca26"
             ],
             [
              1,
              "#f0f921"
             ]
            ],
            "type": "histogram2dcontour"
           }
          ],
          "mesh3d": [
           {
            "colorbar": {
             "outlinewidth": 0,
             "ticks": ""
            },
            "type": "mesh3d"
           }
          ],
          "parcoords": [
           {
            "line": {
             "colorbar": {
              "outlinewidth": 0,
              "ticks": ""
             }
            },
            "type": "parcoords"
           }
          ],
          "pie": [
           {
            "automargin": true,
            "type": "pie"
           }
          ],
          "scatter": [
           {
            "marker": {
             "colorbar": {
              "outlinewidth": 0,
              "ticks": ""
             }
            },
            "type": "scatter"
           }
          ],
          "scatter3d": [
           {
            "line": {
             "colorbar": {
              "outlinewidth": 0,
              "ticks": ""
             }
            },
            "marker": {
             "colorbar": {
              "outlinewidth": 0,
              "ticks": ""
             }
            },
            "type": "scatter3d"
           }
          ],
          "scattercarpet": [
           {
            "marker": {
             "colorbar": {
              "outlinewidth": 0,
              "ticks": ""
             }
            },
            "type": "scattercarpet"
           }
          ],
          "scattergeo": [
           {
            "marker": {
             "colorbar": {
              "outlinewidth": 0,
              "ticks": ""
             }
            },
            "type": "scattergeo"
           }
          ],
          "scattergl": [
           {
            "marker": {
             "colorbar": {
              "outlinewidth": 0,
              "ticks": ""
             }
            },
            "type": "scattergl"
           }
          ],
          "scattermapbox": [
           {
            "marker": {
             "colorbar": {
              "outlinewidth": 0,
              "ticks": ""
             }
            },
            "type": "scattermapbox"
           }
          ],
          "scatterpolar": [
           {
            "marker": {
             "colorbar": {
              "outlinewidth": 0,
              "ticks": ""
             }
            },
            "type": "scatterpolar"
           }
          ],
          "scatterpolargl": [
           {
            "marker": {
             "colorbar": {
              "outlinewidth": 0,
              "ticks": ""
             }
            },
            "type": "scatterpolargl"
           }
          ],
          "scatterternary": [
           {
            "marker": {
             "colorbar": {
              "outlinewidth": 0,
              "ticks": ""
             }
            },
            "type": "scatterternary"
           }
          ],
          "surface": [
           {
            "colorbar": {
             "outlinewidth": 0,
             "ticks": ""
            },
            "colorscale": [
             [
              0,
              "#0d0887"
             ],
             [
              0.1111111111111111,
              "#46039f"
             ],
             [
              0.2222222222222222,
              "#7201a8"
             ],
             [
              0.3333333333333333,
              "#9c179e"
             ],
             [
              0.4444444444444444,
              "#bd3786"
             ],
             [
              0.5555555555555556,
              "#d8576b"
             ],
             [
              0.6666666666666666,
              "#ed7953"
             ],
             [
              0.7777777777777778,
              "#fb9f3a"
             ],
             [
              0.8888888888888888,
              "#fdca26"
             ],
             [
              1,
              "#f0f921"
             ]
            ],
            "type": "surface"
           }
          ],
          "table": [
           {
            "cells": {
             "fill": {
              "color": "#EBF0F8"
             },
             "line": {
              "color": "white"
             }
            },
            "header": {
             "fill": {
              "color": "#C8D4E3"
             },
             "line": {
              "color": "white"
             }
            },
            "type": "table"
           }
          ]
         },
         "layout": {
          "annotationdefaults": {
           "arrowcolor": "#2a3f5f",
           "arrowhead": 0,
           "arrowwidth": 1
          },
          "autotypenumbers": "strict",
          "coloraxis": {
           "colorbar": {
            "outlinewidth": 0,
            "ticks": ""
           }
          },
          "colorscale": {
           "diverging": [
            [
             0,
             "#8e0152"
            ],
            [
             0.1,
             "#c51b7d"
            ],
            [
             0.2,
             "#de77ae"
            ],
            [
             0.3,
             "#f1b6da"
            ],
            [
             0.4,
             "#fde0ef"
            ],
            [
             0.5,
             "#f7f7f7"
            ],
            [
             0.6,
             "#e6f5d0"
            ],
            [
             0.7,
             "#b8e186"
            ],
            [
             0.8,
             "#7fbc41"
            ],
            [
             0.9,
             "#4d9221"
            ],
            [
             1,
             "#276419"
            ]
           ],
           "sequential": [
            [
             0,
             "#0d0887"
            ],
            [
             0.1111111111111111,
             "#46039f"
            ],
            [
             0.2222222222222222,
             "#7201a8"
            ],
            [
             0.3333333333333333,
             "#9c179e"
            ],
            [
             0.4444444444444444,
             "#bd3786"
            ],
            [
             0.5555555555555556,
             "#d8576b"
            ],
            [
             0.6666666666666666,
             "#ed7953"
            ],
            [
             0.7777777777777778,
             "#fb9f3a"
            ],
            [
             0.8888888888888888,
             "#fdca26"
            ],
            [
             1,
             "#f0f921"
            ]
           ],
           "sequentialminus": [
            [
             0,
             "#0d0887"
            ],
            [
             0.1111111111111111,
             "#46039f"
            ],
            [
             0.2222222222222222,
             "#7201a8"
            ],
            [
             0.3333333333333333,
             "#9c179e"
            ],
            [
             0.4444444444444444,
             "#bd3786"
            ],
            [
             0.5555555555555556,
             "#d8576b"
            ],
            [
             0.6666666666666666,
             "#ed7953"
            ],
            [
             0.7777777777777778,
             "#fb9f3a"
            ],
            [
             0.8888888888888888,
             "#fdca26"
            ],
            [
             1,
             "#f0f921"
            ]
           ]
          },
          "colorway": [
           "#636efa",
           "#EF553B",
           "#00cc96",
           "#ab63fa",
           "#FFA15A",
           "#19d3f3",
           "#FF6692",
           "#B6E880",
           "#FF97FF",
           "#FECB52"
          ],
          "font": {
           "color": "#2a3f5f"
          },
          "geo": {
           "bgcolor": "white",
           "lakecolor": "white",
           "landcolor": "#E5ECF6",
           "showlakes": true,
           "showland": true,
           "subunitcolor": "white"
          },
          "hoverlabel": {
           "align": "left"
          },
          "hovermode": "closest",
          "mapbox": {
           "style": "light"
          },
          "paper_bgcolor": "white",
          "plot_bgcolor": "#E5ECF6",
          "polar": {
           "angularaxis": {
            "gridcolor": "white",
            "linecolor": "white",
            "ticks": ""
           },
           "bgcolor": "#E5ECF6",
           "radialaxis": {
            "gridcolor": "white",
            "linecolor": "white",
            "ticks": ""
           }
          },
          "scene": {
           "xaxis": {
            "backgroundcolor": "#E5ECF6",
            "gridcolor": "white",
            "gridwidth": 2,
            "linecolor": "white",
            "showbackground": true,
            "ticks": "",
            "zerolinecolor": "white"
           },
           "yaxis": {
            "backgroundcolor": "#E5ECF6",
            "gridcolor": "white",
            "gridwidth": 2,
            "linecolor": "white",
            "showbackground": true,
            "ticks": "",
            "zerolinecolor": "white"
           },
           "zaxis": {
            "backgroundcolor": "#E5ECF6",
            "gridcolor": "white",
            "gridwidth": 2,
            "linecolor": "white",
            "showbackground": true,
            "ticks": "",
            "zerolinecolor": "white"
           }
          },
          "shapedefaults": {
           "line": {
            "color": "#2a3f5f"
           }
          },
          "ternary": {
           "aaxis": {
            "gridcolor": "white",
            "linecolor": "white",
            "ticks": ""
           },
           "baxis": {
            "gridcolor": "white",
            "linecolor": "white",
            "ticks": ""
           },
           "bgcolor": "#E5ECF6",
           "caxis": {
            "gridcolor": "white",
            "linecolor": "white",
            "ticks": ""
           }
          },
          "title": {
           "x": 0.05
          },
          "xaxis": {
           "automargin": true,
           "gridcolor": "white",
           "linecolor": "white",
           "ticks": "",
           "title": {
            "standoff": 15
           },
           "zerolinecolor": "white",
           "zerolinewidth": 2
          },
          "yaxis": {
           "automargin": true,
           "gridcolor": "white",
           "linecolor": "white",
           "ticks": "",
           "title": {
            "standoff": 15
           },
           "zerolinecolor": "white",
           "zerolinewidth": 2
          }
         }
        },
        "title": {
         "text": "Number of days without An Open Bar By DTE - LE Only"
        }
       }
      }
     },
     "metadata": {},
     "output_type": "display_data"
    }
   ],
   "source": [
    "dte_without_open_fig = go.Figure(data=[\n",
    "    go.Bar(name='Days Without Open Bar', x=unique_dte, y=days_to_expiration_open_bar_count_df['Days Without Open Bar'])\n",
    "])\n",
    "dte_without_open_fig.update_layout(title_text='Number of trading days without An Open Bar By DTE - LE Only')\n",
    "dte_without_open_fig.show()"
   ]
  }
 ],
 "metadata": {
  "interpreter": {
   "hash": "4b9f85f12761d09f7a2bbb0ba8aed12d953e646140e52906acff268c71fcaa35"
  },
  "kernelspec": {
   "display_name": "Python 3 (ipykernel)",
   "language": "python",
   "name": "python3"
  },
  "language_info": {
   "codemirror_mode": {
    "name": "ipython",
    "version": 3
   },
   "file_extension": ".py",
   "mimetype": "text/x-python",
   "name": "python",
   "nbconvert_exporter": "python",
   "pygments_lexer": "ipython3",
   "version": "3.10.0"
  }
 },
 "nbformat": 4,
 "nbformat_minor": 4
}
