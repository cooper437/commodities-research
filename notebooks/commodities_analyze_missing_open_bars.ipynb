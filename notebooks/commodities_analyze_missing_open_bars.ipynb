{
 "cells": [
  {
   "cell_type": "code",
   "execution_count": 77,
   "metadata": {},
   "outputs": [],
   "source": [
    "import os\n",
    "import pandas as pd\n",
    "import datetime as dt\n",
    "import plotly.express as px\n",
    "import plotly.graph_objects as go\n",
    "import numpy as np\n",
    "from IPython.display import display\n",
    "from tqdm.notebook import trange, tqdm"
   ]
  },
  {
   "cell_type": "markdown",
   "metadata": {},
   "source": [
    "This notebook is used to analyze our enriched contract data and provide insight on how many days are missing a true market open bar (ie they open flat) vs have a true market open bar populated.\n",
    "The data that that is gathered is grouped and visualized both by contract and by days to expiration (DTE)\n",
    "It is dependent upong the contract_open_enriched_with_flat_open dataset already being populated via the apppriate predecessor etl script."
   ]
  },
  {
   "cell_type": "code",
   "execution_count": 78,
   "metadata": {},
   "outputs": [],
   "source": [
    "CONTRACT_OPEN_ENRICHED_FILE_PATH = '../data/processed/futures_contracts/contract_open_enriched_with_flat_open.csv'"
   ]
  },
  {
   "cell_type": "code",
   "execution_count": 79,
   "metadata": {},
   "outputs": [],
   "source": [
    "def calculate_num_unique_dates_for_contract(contract_df: pd.DataFrame, symbol: str):\n",
    "    missing_open_for_contract_df = contract_df[contract_df['Symbol'] == symbol]\n",
    "    missing_open_dates_series_unique = missing_open_for_contract_df['Date'].unique()\n",
    "    num_missing_open_dates_series_unique = len(missing_open_dates_series_unique)\n",
    "    return num_missing_open_dates_series_unique"
   ]
  },
  {
   "cell_type": "code",
   "execution_count": 80,
   "metadata": {},
   "outputs": [],
   "source": [
    "def filter_rows_where_day_is_missing_open(contract_df: pd.DataFrame) -> pd.DataFrame:\n",
    "    '''\n",
    "    Remove all rows where the day they are associated with is missing an actual open bar at\n",
    "    the actual market open time\n",
    "    '''\n",
    "    unique_dates = contract_df['DateTime'].dt.date.unique()\n",
    "    for a_date in unique_dates:\n",
    "        only_this_days_rows_df = contract_df[contract_df['DateTime'].dt.date == a_date]\n",
    "        has_actual_open_bar = 0 in set(\n",
    "            only_this_days_rows_df['Open Minutes Offset'])\n",
    "        if not has_actual_open_bar:  # This date is missing a real open bar\n",
    "            # Remove all bars for this date\n",
    "            contract_df = contract_df[contract_df['DateTime'].dt.date != a_date]\n",
    "        # print(\n",
    "        #     f\"Date {a_date} is missing a real open so we are removing all its bars from the df\")\n",
    "    return contract_df"
   ]
  },
  {
   "cell_type": "code",
   "execution_count": 81,
   "metadata": {},
   "outputs": [],
   "source": [
    "def filter_rows_where_day_contains_open(contract_df: pd.DataFrame) -> pd.DataFrame:\n",
    "    '''\n",
    "    Remove all rows where the day they are associated with contains an actual open bar at\n",
    "    the actual market open time\n",
    "    '''\n",
    "    unique_dates = contract_df['DateTime'].dt.date.unique()\n",
    "    for a_date in unique_dates:\n",
    "        only_this_days_rows_df = contract_df[contract_df['DateTime'].dt.date == a_date]\n",
    "        has_actual_open_bar = 0 in set(\n",
    "            only_this_days_rows_df['Open Minutes Offset'])\n",
    "        if has_actual_open_bar:  # This date has a real open bar\n",
    "            # Remove all bars for this date\n",
    "            contract_df = contract_df[contract_df['DateTime'].dt.date != a_date]\n",
    "        # print(\n",
    "        #     f\"Date {a_date} is missing a real open so we are removing all its bars from the df\")\n",
    "    return contract_df"
   ]
  },
  {
   "cell_type": "code",
   "execution_count": 82,
   "metadata": {},
   "outputs": [],
   "source": [
    "contract_open_enriched_df = pd.read_csv(CONTRACT_OPEN_ENRICHED_FILE_PATH, parse_dates=['DateTime'])"
   ]
  },
  {
   "cell_type": "code",
   "execution_count": 83,
   "metadata": {},
   "outputs": [],
   "source": [
    "contract_open_enriched_df['Date'] = contract_open_enriched_df['DateTime'].apply(\n",
    "        lambda x: x.strftime(\"%Y-%m-%d\")\n",
    "    )"
   ]
  },
  {
   "cell_type": "code",
   "execution_count": 84,
   "metadata": {},
   "outputs": [],
   "source": [
    "unique_symbols = contract_open_enriched_df.Symbol.unique()"
   ]
  },
  {
   "cell_type": "markdown",
   "metadata": {},
   "source": [
    "Iterate over our contract symbols. For each one we get the rows associated with the days that are missing a real open and the days that have a real open. This is used to populate the rows_with_missing_open_df and rows_with_populated_open_df dataframes respectively."
   ]
  },
  {
   "cell_type": "code",
   "execution_count": 85,
   "metadata": {},
   "outputs": [
    {
     "data": {
      "application/vnd.jupyter.widget-view+json": {
       "model_id": "e64da3d435bd4243aff84e3f6d4a2c4a",
       "version_major": 2,
       "version_minor": 0
      },
      "text/plain": [
       "Populating dataframes with rows missing and containing open respectively:   0%|          | 0/77 [00:00<?, ?it/…"
      ]
     },
     "metadata": {},
     "output_type": "display_data"
    }
   ],
   "source": [
    "rows_with_missing_open_df = pd.DataFrame()\n",
    "rows_with_populated_open_df = pd.DataFrame()\n",
    "for i in trange(len(unique_symbols), desc=\"Populating dataframes with rows missing and containing open respectively\"):\n",
    "  symbol = unique_symbols[i]\n",
    "  rows_for_one_contract_df = contract_open_enriched_df[contract_open_enriched_df['Symbol'] == symbol]\n",
    "  rows_for_one_contract_missing_open_df = filter_rows_where_day_contains_open(rows_for_one_contract_df)\n",
    "  rows_for_one_contract_containing_open_df = filter_rows_where_day_is_missing_open(rows_for_one_contract_df)\n",
    "  rows_with_missing_open_df = pd.concat([rows_with_missing_open_df, rows_for_one_contract_missing_open_df], ignore_index=True)\n",
    "  rows_with_populated_open_df = pd.concat([rows_with_populated_open_df, rows_for_one_contract_containing_open_df], ignore_index=True)\n"
   ]
  },
  {
   "cell_type": "code",
   "execution_count": 86,
   "metadata": {},
   "outputs": [],
   "source": [
    "open_bar_by_contract_count_df = pd.DataFrame(columns=['Symbol', 'Days Without Open Bar', 'Days With Open Bar'])"
   ]
  },
  {
   "cell_type": "markdown",
   "metadata": {},
   "source": [
    "Iterate over our contract symbols. For each one calculate the number of unique dates that have an open bar and that do not. Add this information to the open_bar_by_contract_count_df dataframe"
   ]
  },
  {
   "cell_type": "code",
   "execution_count": 87,
   "metadata": {},
   "outputs": [],
   "source": [
    "for symbol in unique_symbols:\n",
    "    num_unique_dates_with_missing_open = calculate_num_unique_dates_for_contract(\n",
    "        contract_df=rows_with_missing_open_df, symbol=symbol\n",
    "    )\n",
    "    num_unique_dates_with_open = calculate_num_unique_dates_for_contract(\n",
    "        contract_df=rows_with_populated_open_df, symbol=symbol\n",
    "    )\n",
    "    open_bar_by_contract_count_df = open_bar_by_contract_count_df.append({\n",
    "        'Symbol': symbol,\n",
    "        'Days Without Open Bar': num_unique_dates_with_missing_open,\n",
    "        'Days With Open Bar': num_unique_dates_with_open\n",
    "    }, ignore_index=True)\n",
    "    # print(num_unique_dates_with_missing_open)\n",
    "    \n",
    "    "
   ]
  },
  {
   "cell_type": "markdown",
   "metadata": {},
   "source": [
    "Initialize a dataframe that will be used to count the number of times we encounter trading days with missing and populated open bars respectively"
   ]
  },
  {
   "cell_type": "code",
   "execution_count": 88,
   "metadata": {},
   "outputs": [],
   "source": [
    "days_to_expiration_open_bar_count_df = pd.DataFrame(data={\n",
    "  'DTE': pd.Series(range(0,601)),\n",
    "  'Days Without Open Bar': 0,\n",
    "  'Days With Open Bar': 0\n",
    "})"
   ]
  },
  {
   "cell_type": "code",
   "execution_count": 89,
   "metadata": {},
   "outputs": [
    {
     "data": {
      "application/vnd.jupyter.widget-view+json": {
       "model_id": "c2aaf4373f7f4c14ae7784685d91dfa9",
       "version_major": 2,
       "version_minor": 0
      },
      "text/plain": [
       "Calculating missing open by DTE for each contract:   0%|          | 0/77 [00:00<?, ?it/s]"
      ]
     },
     "metadata": {},
     "output_type": "display_data"
    }
   ],
   "source": [
    "for i in trange(len(unique_symbols), desc=\"Calculating missing open by DTE for each contract\"):\n",
    "  symbol = unique_symbols[i]\n",
    "  missing_open_for_contract_df = rows_with_missing_open_df[rows_with_missing_open_df['Symbol'] == symbol]\n",
    "  populated_open_for_contract_df = rows_with_populated_open_df[rows_with_populated_open_df['Symbol'] == symbol]\n",
    "  dte_values_with_missing_open_bar = missing_open_for_contract_df['DTE'].unique()\n",
    "  dte_values_with_populated_open_bar = populated_open_for_contract_df['DTE'].unique()\n",
    "  # Iterate over each unique dte value thats associated with a missing open bar and increment the count in the dataframe we will be using to plot\n",
    "  for missing_dte_value in dte_values_with_missing_open_bar:\n",
    "    index_of_row_to_increment = days_to_expiration_open_bar_count_df.index[days_to_expiration_open_bar_count_df['DTE'] == missing_dte_value]\n",
    "    current_value = days_to_expiration_open_bar_count_df.iloc[index_of_row_to_increment]['Days Without Open Bar']\n",
    "    days_to_expiration_open_bar_count_df.at[index_of_row_to_increment, 'Days Without Open Bar'] = current_value + 1\n",
    "  # Iterate over each unique dte value thats associated with a populated open bar and increment the count in the dataframe we will be using to plot\n",
    "  for populated_dte_value in dte_values_with_populated_open_bar:\n",
    "    index_of_row_to_increment = days_to_expiration_open_bar_count_df.index[days_to_expiration_open_bar_count_df['DTE'] == populated_dte_value]\n",
    "    current_value = days_to_expiration_open_bar_count_df.iloc[index_of_row_to_increment]['Days With Open Bar']\n",
    "    days_to_expiration_open_bar_count_df.at[index_of_row_to_increment, 'Days With Open Bar'] = current_value + 1"
   ]
  },
  {
   "cell_type": "code",
   "execution_count": 90,
   "metadata": {},
   "outputs": [
    {
     "data": {
      "application/vnd.plotly.v1+json": {
       "config": {
        "plotlyServerURL": "https://plot.ly"
       },
       "data": [
        {
         "name": "Days Without Open Bar",
         "type": "bar",
         "x": [
          "LEG09",
          "LEG10",
          "LEG11",
          "LEG12",
          "LEG13",
          "LEG14",
          "LEG15",
          "LEG16",
          "LEG17",
          "LEG18",
          "LEG19",
          "LEG20",
          "LEJ08",
          "LEJ09",
          "LEJ10",
          "LEJ11",
          "LEJ12",
          "LEJ13",
          "LEJ14",
          "LEJ15",
          "LEJ16",
          "LEJ17",
          "LEJ18",
          "LEJ19",
          "LEJ20",
          "LEM08",
          "LEM09",
          "LEM10",
          "LEM11",
          "LEM12",
          "LEM13",
          "LEM14",
          "LEM15",
          "LEM16",
          "LEM17",
          "LEM18",
          "LEM19",
          "LEM20",
          "LEQ08",
          "LEQ09",
          "LEQ10",
          "LEQ11",
          "LEQ12",
          "LEQ13",
          "LEQ14",
          "LEQ15",
          "LEQ16",
          "LEQ17",
          "LEQ18",
          "LEQ19",
          "LEQ20",
          "LEV08",
          "LEV09",
          "LEV10",
          "LEV11",
          "LEV12",
          "LEV13",
          "LEV14",
          "LEV15",
          "LEV16",
          "LEV17",
          "LEV18",
          "LEV19",
          "LEV20",
          "LEZ08",
          "LEZ09",
          "LEZ10",
          "LEZ11",
          "LEZ12",
          "LEZ13",
          "LEZ14",
          "LEZ15",
          "LEZ16",
          "LEZ17",
          "LEZ18",
          "LEZ19",
          "LEZ20"
         ],
         "y": [
          107,
          92,
          94,
          105,
          106,
          93,
          99,
          167,
          88,
          44,
          68,
          79,
          85,
          101,
          88,
          96,
          108,
          110,
          100,
          105,
          164,
          85,
          32,
          64,
          63,
          65,
          119,
          88,
          90,
          107,
          105,
          73,
          79,
          145,
          65,
          35,
          62,
          54,
          67,
          86,
          70,
          97,
          113,
          97,
          71,
          110,
          142,
          58,
          60,
          66,
          81,
          90,
          82,
          116,
          102,
          104,
          103,
          64,
          125,
          142,
          24,
          52,
          60,
          55,
          94,
          91,
          82,
          87,
          98,
          99,
          73,
          140,
          113,
          27,
          63,
          57,
          47
         ]
        },
        {
         "name": "Days With Open Bar",
         "type": "bar",
         "x": [
          "LEG09",
          "LEG10",
          "LEG11",
          "LEG12",
          "LEG13",
          "LEG14",
          "LEG15",
          "LEG16",
          "LEG17",
          "LEG18",
          "LEG19",
          "LEG20",
          "LEJ08",
          "LEJ09",
          "LEJ10",
          "LEJ11",
          "LEJ12",
          "LEJ13",
          "LEJ14",
          "LEJ15",
          "LEJ16",
          "LEJ17",
          "LEJ18",
          "LEJ19",
          "LEJ20",
          "LEM08",
          "LEM09",
          "LEM10",
          "LEM11",
          "LEM12",
          "LEM13",
          "LEM14",
          "LEM15",
          "LEM16",
          "LEM17",
          "LEM18",
          "LEM19",
          "LEM20",
          "LEQ08",
          "LEQ09",
          "LEQ10",
          "LEQ11",
          "LEQ12",
          "LEQ13",
          "LEQ14",
          "LEQ15",
          "LEQ16",
          "LEQ17",
          "LEQ18",
          "LEQ19",
          "LEQ20",
          "LEV08",
          "LEV09",
          "LEV10",
          "LEV11",
          "LEV12",
          "LEV13",
          "LEV14",
          "LEV15",
          "LEV16",
          "LEV17",
          "LEV18",
          "LEV19",
          "LEV20",
          "LEZ08",
          "LEZ09",
          "LEZ10",
          "LEZ11",
          "LEZ12",
          "LEZ13",
          "LEZ14",
          "LEZ15",
          "LEZ16",
          "LEZ17",
          "LEZ18",
          "LEZ19",
          "LEZ20"
         ],
         "y": [
          146,
          165,
          194,
          217,
          225,
          227,
          238,
          192,
          253,
          282,
          279,
          265,
          96,
          160,
          182,
          215,
          230,
          229,
          235,
          244,
          186,
          261,
          292,
          280,
          287,
          108,
          145,
          192,
          211,
          223,
          224,
          230,
          252,
          187,
          258,
          294,
          287,
          288,
          126,
          148,
          183,
          212,
          206,
          219,
          213,
          221,
          197,
          278,
          278,
          285,
          281,
          127,
          157,
          181,
          224,
          227,
          222,
          229,
          214,
          199,
          274,
          275,
          269,
          271,
          145,
          167,
          200,
          242,
          232,
          238,
          251,
          221,
          232,
          287,
          278,
          277,
          289
         ]
        }
       ],
       "layout": {
        "barmode": "group",
        "template": {
         "data": {
          "bar": [
           {
            "error_x": {
             "color": "#2a3f5f"
            },
            "error_y": {
             "color": "#2a3f5f"
            },
            "marker": {
             "line": {
              "color": "#E5ECF6",
              "width": 0.5
             },
             "pattern": {
              "fillmode": "overlay",
              "size": 10,
              "solidity": 0.2
             }
            },
            "type": "bar"
           }
          ],
          "barpolar": [
           {
            "marker": {
             "line": {
              "color": "#E5ECF6",
              "width": 0.5
             },
             "pattern": {
              "fillmode": "overlay",
              "size": 10,
              "solidity": 0.2
             }
            },
            "type": "barpolar"
           }
          ],
          "carpet": [
           {
            "aaxis": {
             "endlinecolor": "#2a3f5f",
             "gridcolor": "white",
             "linecolor": "white",
             "minorgridcolor": "white",
             "startlinecolor": "#2a3f5f"
            },
            "baxis": {
             "endlinecolor": "#2a3f5f",
             "gridcolor": "white",
             "linecolor": "white",
             "minorgridcolor": "white",
             "startlinecolor": "#2a3f5f"
            },
            "type": "carpet"
           }
          ],
          "choropleth": [
           {
            "colorbar": {
             "outlinewidth": 0,
             "ticks": ""
            },
            "type": "choropleth"
           }
          ],
          "contour": [
           {
            "colorbar": {
             "outlinewidth": 0,
             "ticks": ""
            },
            "colorscale": [
             [
              0,
              "#0d0887"
             ],
             [
              0.1111111111111111,
              "#46039f"
             ],
             [
              0.2222222222222222,
              "#7201a8"
             ],
             [
              0.3333333333333333,
              "#9c179e"
             ],
             [
              0.4444444444444444,
              "#bd3786"
             ],
             [
              0.5555555555555556,
              "#d8576b"
             ],
             [
              0.6666666666666666,
              "#ed7953"
             ],
             [
              0.7777777777777778,
              "#fb9f3a"
             ],
             [
              0.8888888888888888,
              "#fdca26"
             ],
             [
              1,
              "#f0f921"
             ]
            ],
            "type": "contour"
           }
          ],
          "contourcarpet": [
           {
            "colorbar": {
             "outlinewidth": 0,
             "ticks": ""
            },
            "type": "contourcarpet"
           }
          ],
          "heatmap": [
           {
            "colorbar": {
             "outlinewidth": 0,
             "ticks": ""
            },
            "colorscale": [
             [
              0,
              "#0d0887"
             ],
             [
              0.1111111111111111,
              "#46039f"
             ],
             [
              0.2222222222222222,
              "#7201a8"
             ],
             [
              0.3333333333333333,
              "#9c179e"
             ],
             [
              0.4444444444444444,
              "#bd3786"
             ],
             [
              0.5555555555555556,
              "#d8576b"
             ],
             [
              0.6666666666666666,
              "#ed7953"
             ],
             [
              0.7777777777777778,
              "#fb9f3a"
             ],
             [
              0.8888888888888888,
              "#fdca26"
             ],
             [
              1,
              "#f0f921"
             ]
            ],
            "type": "heatmap"
           }
          ],
          "heatmapgl": [
           {
            "colorbar": {
             "outlinewidth": 0,
             "ticks": ""
            },
            "colorscale": [
             [
              0,
              "#0d0887"
             ],
             [
              0.1111111111111111,
              "#46039f"
             ],
             [
              0.2222222222222222,
              "#7201a8"
             ],
             [
              0.3333333333333333,
              "#9c179e"
             ],
             [
              0.4444444444444444,
              "#bd3786"
             ],
             [
              0.5555555555555556,
              "#d8576b"
             ],
             [
              0.6666666666666666,
              "#ed7953"
             ],
             [
              0.7777777777777778,
              "#fb9f3a"
             ],
             [
              0.8888888888888888,
              "#fdca26"
             ],
             [
              1,
              "#f0f921"
             ]
            ],
            "type": "heatmapgl"
           }
          ],
          "histogram": [
           {
            "marker": {
             "pattern": {
              "fillmode": "overlay",
              "size": 10,
              "solidity": 0.2
             }
            },
            "type": "histogram"
           }
          ],
          "histogram2d": [
           {
            "colorbar": {
             "outlinewidth": 0,
             "ticks": ""
            },
            "colorscale": [
             [
              0,
              "#0d0887"
             ],
             [
              0.1111111111111111,
              "#46039f"
             ],
             [
              0.2222222222222222,
              "#7201a8"
             ],
             [
              0.3333333333333333,
              "#9c179e"
             ],
             [
              0.4444444444444444,
              "#bd3786"
             ],
             [
              0.5555555555555556,
              "#d8576b"
             ],
             [
              0.6666666666666666,
              "#ed7953"
             ],
             [
              0.7777777777777778,
              "#fb9f3a"
             ],
             [
              0.8888888888888888,
              "#fdca26"
             ],
             [
              1,
              "#f0f921"
             ]
            ],
            "type": "histogram2d"
           }
          ],
          "histogram2dcontour": [
           {
            "colorbar": {
             "outlinewidth": 0,
             "ticks": ""
            },
            "colorscale": [
             [
              0,
              "#0d0887"
             ],
             [
              0.1111111111111111,
              "#46039f"
             ],
             [
              0.2222222222222222,
              "#7201a8"
             ],
             [
              0.3333333333333333,
              "#9c179e"
             ],
             [
              0.4444444444444444,
              "#bd3786"
             ],
             [
              0.5555555555555556,
              "#d8576b"
             ],
             [
              0.6666666666666666,
              "#ed7953"
             ],
             [
              0.7777777777777778,
              "#fb9f3a"
             ],
             [
              0.8888888888888888,
              "#fdca26"
             ],
             [
              1,
              "#f0f921"
             ]
            ],
            "type": "histogram2dcontour"
           }
          ],
          "mesh3d": [
           {
            "colorbar": {
             "outlinewidth": 0,
             "ticks": ""
            },
            "type": "mesh3d"
           }
          ],
          "parcoords": [
           {
            "line": {
             "colorbar": {
              "outlinewidth": 0,
              "ticks": ""
             }
            },
            "type": "parcoords"
           }
          ],
          "pie": [
           {
            "automargin": true,
            "type": "pie"
           }
          ],
          "scatter": [
           {
            "marker": {
             "colorbar": {
              "outlinewidth": 0,
              "ticks": ""
             }
            },
            "type": "scatter"
           }
          ],
          "scatter3d": [
           {
            "line": {
             "colorbar": {
              "outlinewidth": 0,
              "ticks": ""
             }
            },
            "marker": {
             "colorbar": {
              "outlinewidth": 0,
              "ticks": ""
             }
            },
            "type": "scatter3d"
           }
          ],
          "scattercarpet": [
           {
            "marker": {
             "colorbar": {
              "outlinewidth": 0,
              "ticks": ""
             }
            },
            "type": "scattercarpet"
           }
          ],
          "scattergeo": [
           {
            "marker": {
             "colorbar": {
              "outlinewidth": 0,
              "ticks": ""
             }
            },
            "type": "scattergeo"
           }
          ],
          "scattergl": [
           {
            "marker": {
             "colorbar": {
              "outlinewidth": 0,
              "ticks": ""
             }
            },
            "type": "scattergl"
           }
          ],
          "scattermapbox": [
           {
            "marker": {
             "colorbar": {
              "outlinewidth": 0,
              "ticks": ""
             }
            },
            "type": "scattermapbox"
           }
          ],
          "scatterpolar": [
           {
            "marker": {
             "colorbar": {
              "outlinewidth": 0,
              "ticks": ""
             }
            },
            "type": "scatterpolar"
           }
          ],
          "scatterpolargl": [
           {
            "marker": {
             "colorbar": {
              "outlinewidth": 0,
              "ticks": ""
             }
            },
            "type": "scatterpolargl"
           }
          ],
          "scatterternary": [
           {
            "marker": {
             "colorbar": {
              "outlinewidth": 0,
              "ticks": ""
             }
            },
            "type": "scatterternary"
           }
          ],
          "surface": [
           {
            "colorbar": {
             "outlinewidth": 0,
             "ticks": ""
            },
            "colorscale": [
             [
              0,
              "#0d0887"
             ],
             [
              0.1111111111111111,
              "#46039f"
             ],
             [
              0.2222222222222222,
              "#7201a8"
             ],
             [
              0.3333333333333333,
              "#9c179e"
             ],
             [
              0.4444444444444444,
              "#bd3786"
             ],
             [
              0.5555555555555556,
              "#d8576b"
             ],
             [
              0.6666666666666666,
              "#ed7953"
             ],
             [
              0.7777777777777778,
              "#fb9f3a"
             ],
             [
              0.8888888888888888,
              "#fdca26"
             ],
             [
              1,
              "#f0f921"
             ]
            ],
            "type": "surface"
           }
          ],
          "table": [
           {
            "cells": {
             "fill": {
              "color": "#EBF0F8"
             },
             "line": {
              "color": "white"
             }
            },
            "header": {
             "fill": {
              "color": "#C8D4E3"
             },
             "line": {
              "color": "white"
             }
            },
            "type": "table"
           }
          ]
         },
         "layout": {
          "annotationdefaults": {
           "arrowcolor": "#2a3f5f",
           "arrowhead": 0,
           "arrowwidth": 1
          },
          "autotypenumbers": "strict",
          "coloraxis": {
           "colorbar": {
            "outlinewidth": 0,
            "ticks": ""
           }
          },
          "colorscale": {
           "diverging": [
            [
             0,
             "#8e0152"
            ],
            [
             0.1,
             "#c51b7d"
            ],
            [
             0.2,
             "#de77ae"
            ],
            [
             0.3,
             "#f1b6da"
            ],
            [
             0.4,
             "#fde0ef"
            ],
            [
             0.5,
             "#f7f7f7"
            ],
            [
             0.6,
             "#e6f5d0"
            ],
            [
             0.7,
             "#b8e186"
            ],
            [
             0.8,
             "#7fbc41"
            ],
            [
             0.9,
             "#4d9221"
            ],
            [
             1,
             "#276419"
            ]
           ],
           "sequential": [
            [
             0,
             "#0d0887"
            ],
            [
             0.1111111111111111,
             "#46039f"
            ],
            [
             0.2222222222222222,
             "#7201a8"
            ],
            [
             0.3333333333333333,
             "#9c179e"
            ],
            [
             0.4444444444444444,
             "#bd3786"
            ],
            [
             0.5555555555555556,
             "#d8576b"
            ],
            [
             0.6666666666666666,
             "#ed7953"
            ],
            [
             0.7777777777777778,
             "#fb9f3a"
            ],
            [
             0.8888888888888888,
             "#fdca26"
            ],
            [
             1,
             "#f0f921"
            ]
           ],
           "sequentialminus": [
            [
             0,
             "#0d0887"
            ],
            [
             0.1111111111111111,
             "#46039f"
            ],
            [
             0.2222222222222222,
             "#7201a8"
            ],
            [
             0.3333333333333333,
             "#9c179e"
            ],
            [
             0.4444444444444444,
             "#bd3786"
            ],
            [
             0.5555555555555556,
             "#d8576b"
            ],
            [
             0.6666666666666666,
             "#ed7953"
            ],
            [
             0.7777777777777778,
             "#fb9f3a"
            ],
            [
             0.8888888888888888,
             "#fdca26"
            ],
            [
             1,
             "#f0f921"
            ]
           ]
          },
          "colorway": [
           "#636efa",
           "#EF553B",
           "#00cc96",
           "#ab63fa",
           "#FFA15A",
           "#19d3f3",
           "#FF6692",
           "#B6E880",
           "#FF97FF",
           "#FECB52"
          ],
          "font": {
           "color": "#2a3f5f"
          },
          "geo": {
           "bgcolor": "white",
           "lakecolor": "white",
           "landcolor": "#E5ECF6",
           "showlakes": true,
           "showland": true,
           "subunitcolor": "white"
          },
          "hoverlabel": {
           "align": "left"
          },
          "hovermode": "closest",
          "mapbox": {
           "style": "light"
          },
          "paper_bgcolor": "white",
          "plot_bgcolor": "#E5ECF6",
          "polar": {
           "angularaxis": {
            "gridcolor": "white",
            "linecolor": "white",
            "ticks": ""
           },
           "bgcolor": "#E5ECF6",
           "radialaxis": {
            "gridcolor": "white",
            "linecolor": "white",
            "ticks": ""
           }
          },
          "scene": {
           "xaxis": {
            "backgroundcolor": "#E5ECF6",
            "gridcolor": "white",
            "gridwidth": 2,
            "linecolor": "white",
            "showbackground": true,
            "ticks": "",
            "zerolinecolor": "white"
           },
           "yaxis": {
            "backgroundcolor": "#E5ECF6",
            "gridcolor": "white",
            "gridwidth": 2,
            "linecolor": "white",
            "showbackground": true,
            "ticks": "",
            "zerolinecolor": "white"
           },
           "zaxis": {
            "backgroundcolor": "#E5ECF6",
            "gridcolor": "white",
            "gridwidth": 2,
            "linecolor": "white",
            "showbackground": true,
            "ticks": "",
            "zerolinecolor": "white"
           }
          },
          "shapedefaults": {
           "line": {
            "color": "#2a3f5f"
           }
          },
          "ternary": {
           "aaxis": {
            "gridcolor": "white",
            "linecolor": "white",
            "ticks": ""
           },
           "baxis": {
            "gridcolor": "white",
            "linecolor": "white",
            "ticks": ""
           },
           "bgcolor": "#E5ECF6",
           "caxis": {
            "gridcolor": "white",
            "linecolor": "white",
            "ticks": ""
           }
          },
          "title": {
           "x": 0.05
          },
          "xaxis": {
           "automargin": true,
           "gridcolor": "white",
           "linecolor": "white",
           "ticks": "",
           "title": {
            "standoff": 15
           },
           "zerolinecolor": "white",
           "zerolinewidth": 2
          },
          "yaxis": {
           "automargin": true,
           "gridcolor": "white",
           "linecolor": "white",
           "ticks": "",
           "title": {
            "standoff": 15
           },
           "zerolinecolor": "white",
           "zerolinewidth": 2
          }
         }
        },
        "title": {
         "text": "Number of days With and Without An Open Bar By Contract - LE Only"
        }
       }
      }
     },
     "metadata": {},
     "output_type": "display_data"
    }
   ],
   "source": [
    "fig = go.Figure(data=[\n",
    "    go.Bar(name='Days Without Open Bar', x=unique_symbols, y=open_bar_by_contract_count_df['Days Without Open Bar']),\n",
    "    go.Bar(name='Days With Open Bar', x=unique_symbols, y=open_bar_by_contract_count_df['Days With Open Bar'])\n",
    "])\n",
    "# Change the bar mode\n",
    "fig.update_layout(barmode='group', title_text='Number of days With and Without An Open Bar By Contract - LE Only')\n",
    "fig.show()"
   ]
  },
  {
   "cell_type": "code",
   "execution_count": 91,
   "metadata": {},
   "outputs": [
    {
     "data": {
      "text/plain": [
       "0     107\n",
       "1      92\n",
       "2      94\n",
       "3     105\n",
       "4     106\n",
       "     ... \n",
       "72    113\n",
       "73     27\n",
       "74     63\n",
       "75     57\n",
       "76     47\n",
       "Name: Days Without Open Bar, Length: 77, dtype: object"
      ]
     },
     "execution_count": 91,
     "metadata": {},
     "output_type": "execute_result"
    }
   ],
   "source": [
    "unique_dte = list(days_to_expiration_open_bar_count_df['DTE'])\n",
    "open_bar_by_contract_count_df['Days Without Open Bar']"
   ]
  },
  {
   "cell_type": "code",
   "execution_count": 92,
   "metadata": {},
   "outputs": [],
   "source": [
    "days_to_expiration_open_bar_count_df['Total Days'] = days_to_expiration_open_bar_count_df['Days With Open Bar'] + days_to_expiration_open_bar_count_df['Days Without Open Bar']\n",
    "days_to_expiration_open_bar_count_df['Percentage Missing Open Bar'] = (days_to_expiration_open_bar_count_df['Days Without Open Bar'] / days_to_expiration_open_bar_count_df['Total Days']) * 100"
   ]
  },
  {
   "cell_type": "code",
   "execution_count": 93,
   "metadata": {},
   "outputs": [
    {
     "data": {
      "application/vnd.plotly.v1+json": {
       "config": {
        "plotlyServerURL": "https://plot.ly"
       },
       "data": [
        {
         "name": "Percentage Missing Open Bar",
         "type": "bar",
         "x": [
          0,
          1,
          2,
          3,
          4,
          5,
          6,
          7,
          8,
          9,
          10,
          11,
          12,
          13,
          14,
          15,
          16,
          17,
          18,
          19,
          20,
          21,
          22,
          23,
          24,
          25,
          26,
          27,
          28,
          29,
          30,
          31,
          32,
          33,
          34,
          35,
          36,
          37,
          38,
          39,
          40,
          41,
          42,
          43,
          44,
          45,
          46,
          47,
          48,
          49,
          50,
          51,
          52,
          53,
          54,
          55,
          56,
          57,
          58,
          59,
          60,
          61,
          62,
          63,
          64,
          65,
          66,
          67,
          68,
          69,
          70,
          71,
          72,
          73,
          74,
          75,
          76,
          77,
          78,
          79,
          80,
          81,
          82,
          83,
          84,
          85,
          86,
          87,
          88,
          89,
          90,
          91,
          92,
          93,
          94,
          95,
          96,
          97,
          98,
          99,
          100,
          101,
          102,
          103,
          104,
          105,
          106,
          107,
          108,
          109,
          110,
          111,
          112,
          113,
          114,
          115,
          116,
          117,
          118,
          119,
          120,
          121,
          122,
          123,
          124,
          125,
          126,
          127,
          128,
          129,
          130,
          131,
          132,
          133,
          134,
          135,
          136,
          137,
          138,
          139,
          140,
          141,
          142,
          143,
          144,
          145,
          146,
          147,
          148,
          149,
          150,
          151,
          152,
          153,
          154,
          155,
          156,
          157,
          158,
          159,
          160,
          161,
          162,
          163,
          164,
          165,
          166,
          167,
          168,
          169,
          170,
          171,
          172,
          173,
          174,
          175,
          176,
          177,
          178,
          179,
          180,
          181,
          182,
          183,
          184,
          185,
          186,
          187,
          188,
          189,
          190,
          191,
          192,
          193,
          194,
          195,
          196,
          197,
          198,
          199,
          200,
          201,
          202,
          203,
          204,
          205,
          206,
          207,
          208,
          209,
          210,
          211,
          212,
          213,
          214,
          215,
          216,
          217,
          218,
          219,
          220,
          221,
          222,
          223,
          224,
          225,
          226,
          227,
          228,
          229,
          230,
          231,
          232,
          233,
          234,
          235,
          236,
          237,
          238,
          239,
          240,
          241,
          242,
          243,
          244,
          245,
          246,
          247,
          248,
          249,
          250,
          251,
          252,
          253,
          254,
          255,
          256,
          257,
          258,
          259,
          260,
          261,
          262,
          263,
          264,
          265,
          266,
          267,
          268,
          269,
          270,
          271,
          272,
          273,
          274,
          275,
          276,
          277,
          278,
          279,
          280,
          281,
          282,
          283,
          284,
          285,
          286,
          287,
          288,
          289,
          290,
          291,
          292,
          293,
          294,
          295,
          296,
          297,
          298,
          299,
          300,
          301,
          302,
          303,
          304,
          305,
          306,
          307,
          308,
          309,
          310,
          311,
          312,
          313,
          314,
          315,
          316,
          317,
          318,
          319,
          320,
          321,
          322,
          323,
          324,
          325,
          326,
          327,
          328,
          329,
          330,
          331,
          332,
          333,
          334,
          335,
          336,
          337,
          338,
          339,
          340,
          341,
          342,
          343,
          344,
          345,
          346,
          347,
          348,
          349,
          350,
          351,
          352,
          353,
          354,
          355,
          356,
          357,
          358,
          359,
          360,
          361,
          362,
          363,
          364,
          365,
          366,
          367,
          368,
          369,
          370,
          371,
          372,
          373,
          374,
          375,
          376,
          377,
          378,
          379,
          380,
          381,
          382,
          383,
          384,
          385,
          386,
          387,
          388,
          389,
          390,
          391,
          392,
          393,
          394,
          395,
          396,
          397,
          398,
          399,
          400,
          401,
          402,
          403,
          404,
          405,
          406,
          407,
          408,
          409,
          410,
          411,
          412,
          413,
          414,
          415,
          416,
          417,
          418,
          419,
          420,
          421,
          422,
          423,
          424,
          425,
          426,
          427,
          428,
          429,
          430,
          431,
          432,
          433,
          434,
          435,
          436,
          437,
          438,
          439,
          440,
          441,
          442,
          443,
          444,
          445,
          446,
          447,
          448,
          449,
          450,
          451,
          452,
          453,
          454,
          455,
          456,
          457,
          458,
          459,
          460,
          461,
          462,
          463,
          464,
          465,
          466,
          467,
          468,
          469,
          470,
          471,
          472,
          473,
          474,
          475,
          476,
          477,
          478,
          479,
          480,
          481,
          482,
          483,
          484,
          485,
          486,
          487,
          488,
          489,
          490,
          491,
          492,
          493,
          494,
          495,
          496,
          497,
          498,
          499,
          500,
          501,
          502,
          503,
          504,
          505,
          506,
          507,
          508,
          509,
          510,
          511,
          512,
          513,
          514,
          515,
          516,
          517,
          518,
          519,
          520,
          521,
          522,
          523,
          524,
          525,
          526,
          527,
          528,
          529,
          530,
          531,
          532,
          533,
          534,
          535,
          536,
          537,
          538,
          539,
          540,
          541,
          542,
          543,
          544,
          545,
          546,
          547,
          548,
          549,
          550,
          551,
          552,
          553,
          554,
          555,
          556,
          557,
          558,
          559,
          560,
          561,
          562,
          563,
          564,
          565,
          566,
          567,
          568,
          569,
          570,
          571,
          572,
          573,
          574,
          575,
          576,
          577,
          578,
          579,
          580,
          581,
          582,
          583,
          584,
          585,
          586,
          587,
          588,
          589,
          590,
          591,
          592,
          593,
          594,
          595,
          596,
          597,
          598,
          599,
          600
         ],
         "y": [
          33.76623376623377,
          26.153846153846157,
          25.925925925925924,
          19.642857142857142,
          20,
          18.181818181818183,
          24.324324324324326,
          23.28767123287671,
          10.9375,
          15.09433962264151,
          14.814814814814813,
          8.51063829787234,
          9.375,
          15.217391304347828,
          16,
          10.76923076923077,
          7.2727272727272725,
          7.142857142857142,
          9.433962264150944,
          12.121212121212121,
          4.545454545454546,
          7.792207792207792,
          7.6923076923076925,
          3.6363636363636362,
          3.6363636363636362,
          1.8867924528301887,
          0,
          2.2222222222222223,
          2.631578947368421,
          0,
          0,
          1.8867924528301887,
          2.1739130434782608,
          0,
          0,
          2.7777777777777777,
          1.7241379310344827,
          0,
          1.8518518518518516,
          2.1739130434782608,
          0,
          2.1739130434782608,
          1.3333333333333335,
          0,
          0,
          1.7857142857142856,
          1.8867924528301887,
          0,
          0,
          2.5974025974025974,
          0,
          0,
          3.571428571428571,
          0,
          0,
          0,
          2.7777777777777777,
          0,
          0,
          2,
          1.9607843137254901,
          0,
          0,
          1.3157894736842104,
          0,
          0,
          1.8518518518518516,
          3.9215686274509802,
          0,
          0,
          1.3513513513513513,
          0,
          0,
          3.8461538461538463,
          1.9607843137254901,
          0,
          0,
          1.3157894736842104,
          0,
          0,
          1.7857142857142856,
          3.9215686274509802,
          0,
          0,
          1.3157894736842104,
          0,
          0,
          1.7857142857142856,
          3.8461538461538463,
          0,
          0,
          1.3333333333333335,
          0,
          0,
          1.8518518518518516,
          4.444444444444445,
          0,
          0,
          1.4084507042253522,
          0,
          0,
          3.7735849056603774,
          2.0408163265306123,
          0,
          0,
          1.3333333333333335,
          0,
          0,
          1.7857142857142856,
          3.7735849056603774,
          0,
          0,
          1.2987012987012987,
          0,
          3.6363636363636362,
          1.8867924528301887,
          4.25531914893617,
          3.0303030303030303,
          2.1739130434782608,
          1.8518518518518516,
          3.278688524590164,
          0,
          3.571428571428571,
          3.8461538461538463,
          3.0303030303030303,
          0,
          2.9850746268656714,
          1.6129032258064515,
          0,
          3.6363636363636362,
          2.127659574468085,
          6.25,
          2.1739130434782608,
          1.3513513513513513,
          1.6129032258064515,
          3.7037037037037033,
          3.6363636363636362,
          3.7735849056603774,
          0,
          2.2222222222222223,
          5.194805194805195,
          3.076923076923077,
          3.6363636363636362,
          7.4074074074074066,
          3.7735849056603774,
          3.0303030303030303,
          2.1739130434782608,
          3.9473684210526314,
          1.5384615384615385,
          3.6363636363636362,
          5.454545454545454,
          1.9607843137254901,
          3.0303030303030303,
          4.444444444444445,
          1.4285714285714286,
          1.6666666666666667,
          1.8867924528301887,
          7.4074074074074066,
          6.976744186046512,
          3.3333333333333335,
          0,
          4,
          4.838709677419355,
          7.4074074074074066,
          7.4074074074074066,
          2,
          3.0303030303030303,
          4.3478260869565215,
          10.38961038961039,
          6.153846153846154,
          5.454545454545454,
          8.928571428571429,
          9.615384615384617,
          3.0303030303030303,
          4.3478260869565215,
          0,
          6.25,
          7.547169811320755,
          8,
          4.651162790697675,
          4.3478260869565215,
          9.75609756097561,
          10.38961038961039,
          6.153846153846154,
          10.909090909090908,
          5.660377358490567,
          8,
          3.571428571428571,
          4.878048780487805,
          12.987012987012985,
          9.230769230769232,
          13.20754716981132,
          7.4074074074074066,
          6.382978723404255,
          3.0303030303030303,
          2.2222222222222223,
          6.8493150684931505,
          12.5,
          7.4074074074074066,
          8.928571428571429,
          9.615384615384617,
          12.121212121212121,
          2.2222222222222223,
          13.333333333333334,
          4.615384615384616,
          16.363636363636363,
          8.928571428571429,
          11.320754716981133,
          6.25,
          13.043478260869565,
          12,
          7.8125,
          12.962962962962962,
          16.363636363636363,
          10.416666666666668,
          13.793103448275861,
          9.090909090909092,
          17.80821917808219,
          8.771929824561402,
          7.6923076923076925,
          13.461538461538462,
          12.5,
          21.21212121212121,
          10.869565217391305,
          9.722222222222223,
          8.064516129032258,
          20.754716981132077,
          16.363636363636363,
          9.803921568627452,
          12.121212121212121,
          19.565217391304348,
          16.883116883116884,
          12.698412698412698,
          18.181818181818183,
          17.857142857142858,
          12.244897959183673,
          12.121212121212121,
          13.043478260869565,
          15.714285714285714,
          14.285714285714285,
          22,
          23.404255319148938,
          14.583333333333334,
          16.129032258064516,
          26.08695652173913,
          23.376623376623375,
          21.875,
          22.641509433962266,
          23.076923076923077,
          22.916666666666664,
          17.24137931034483,
          26.08695652173913,
          19.17808219178082,
          14.754098360655737,
          21.153846153846153,
          22.22222222222222,
          20,
          16.129032258064516,
          26.08695652173913,
          22.972972972972975,
          20.967741935483872,
          18.867924528301888,
          16.363636363636363,
          26.923076923076923,
          21.21212121212121,
          18.181818181818183,
          21.62162162162162,
          29.03225806451613,
          32.075471698113205,
          32.075471698113205,
          15.384615384615385,
          34.375,
          27.27272727272727,
          24.324324324324326,
          26.229508196721312,
          31.372549019607842,
          24,
          19.047619047619047,
          22.58064516129032,
          20.454545454545457,
          33.33333333333333,
          23.728813559322035,
          24.074074074074073,
          26.923076923076923,
          19.565217391304348,
          16.129032258064516,
          23.91304347826087,
          27.77777777777778,
          28.8135593220339,
          26.53061224489796,
          29.629629629629626,
          27.450980392156865,
          31.25,
          27.27272727272727,
          24.285714285714285,
          31.746031746031743,
          30.76923076923077,
          36.53846153846153,
          27.906976744186046,
          24.242424242424242,
          33.33333333333333,
          38.46153846153847,
          30.357142857142854,
          43.47826086956522,
          49.056603773584904,
          32,
          36.36363636363637,
          37.77777777777778,
          36.61971830985916,
          35.59322033898305,
          36.36363636363637,
          48.07692307692308,
          42,
          35.483870967741936,
          43.18181818181818,
          33.33333333333333,
          33.33333333333333,
          43.75,
          42,
          37.5,
          33.33333333333333,
          34.883720930232556,
          39.436619718309856,
          43.333333333333336,
          34,
          41.17647058823529,
          44,
          58.06451612903226,
          41.86046511627907,
          46.57534246575342,
          41.66666666666667,
          51.02040816326531,
          46,
          31.914893617021278,
          45.16129032258064,
          46.51162790697674,
          43.93939393939394,
          42.592592592592595,
          50,
          44.680851063829785,
          35.714285714285715,
          56.666666666666664,
          55.81395348837209,
          39.705882352941174,
          51.724137931034484,
          45.83333333333333,
          58.333333333333336,
          41.86046511627907,
          53.333333333333336,
          50,
          45.45454545454545,
          57.14285714285714,
          58.333333333333336,
          46,
          46.808510638297875,
          78.125,
          61.904761904761905,
          56.060606060606055,
          63.793103448275865,
          58.139534883720934,
          68.08510638297872,
          56.75675675675676,
          50,
          48.78048780487805,
          62.96296296296296,
          54.385964912280706,
          55.319148936170215,
          60.416666666666664,
          55.55555555555556,
          55.172413793103445,
          75.55555555555556,
          63.1578947368421,
          49.09090909090909,
          63.63636363636363,
          53.65853658536586,
          54.761904761904766,
          60.71428571428571,
          59.45945945945946,
          62.71186440677966,
          56.60377358490566,
          69.56521739130434,
          66.66666666666666,
          62.7906976744186,
          72.41379310344827,
          66.66666666666666,
          59.375,
          63.63636363636363,
          73.80952380952381,
          68.08510638297872,
          78.57142857142857,
          81.48148148148148,
          58.333333333333336,
          66.10169491525424,
          67.3076923076923,
          73.91304347826086,
          82.6086956521739,
          74.28571428571429,
          81.48148148148148,
          70.27027027027027,
          70.17543859649122,
          69.56521739130434,
          64.1025641025641,
          70,
          64.1025641025641,
          74.07407407407408,
          64.1025641025641,
          73.77049180327869,
          60,
          75,
          85.36585365853658,
          75.60975609756098,
          70.37037037037037,
          86.48648648648648,
          76.66666666666667,
          68.62745098039215,
          68.29268292682927,
          82.92682926829268,
          71.7948717948718,
          81.48148148148148,
          77.77777777777779,
          76.36363636363637,
          81.25,
          71.875,
          70.96774193548387,
          78.125,
          91.66666666666666,
          85.29411764705883,
          70.58823529411765,
          93.02325581395348,
          87.5,
          87.5,
          76.66666666666667,
          81.81818181818183,
          77.41935483870968,
          72.72727272727273,
          73.52941176470588,
          88.23529411764706,
          85.29411764705883,
          75,
          81.81818181818183,
          82.85714285714286,
          92,
          90.69767441860465,
          90.625,
          75.75757575757575,
          84.84848484848484,
          90.47619047619048,
          86.20689655172413,
          89.13043478260869,
          82.85714285714286,
          79.41176470588235,
          91.42857142857143,
          81.25,
          91.66666666666666,
          91.66666666666666,
          82.97872340425532,
          81.81818181818183,
          79.3103448275862,
          90.32258064516128,
          70.83333333333334,
          88.88888888888889,
          85.18518518518519,
          79.41176470588235,
          77.77777777777779,
          88,
          83.33333333333334,
          83.33333333333334,
          88.88888888888889,
          69.23076923076923,
          89.1891891891892,
          85.18518518518519,
          92,
          81.81818181818183,
          80,
          82.35294117647058,
          73.91304347826086,
          85.29411764705883,
          100,
          94.44444444444444,
          91.66666666666666,
          89.47368421052632,
          100,
          85.71428571428571,
          84,
          94.44444444444444,
          90,
          85.71428571428571,
          82.35294117647058,
          75,
          90,
          100,
          89.47368421052632,
          94.44444444444444,
          88.88888888888889,
          84.61538461538461,
          100,
          90,
          100,
          84.21052631578947,
          69.23076923076923,
          100,
          81.25,
          90,
          100,
          95,
          93.33333333333333,
          100,
          86.66666666666667,
          81.81818181818183,
          71.42857142857143,
          100,
          100,
          90,
          100,
          100,
          100,
          100,
          87.5,
          100,
          90.9090909090909,
          71.42857142857143,
          100,
          100,
          100,
          66.66666666666666,
          83.33333333333334,
          100,
          75,
          83.33333333333334,
          100,
          100,
          100,
          100,
          100,
          100,
          100,
          100,
          66.66666666666666,
          100,
          88.88888888888889,
          75,
          100,
          100,
          100,
          100,
          100,
          100,
          100,
          null,
          100,
          null,
          null,
          null,
          null,
          null,
          null,
          null,
          null,
          null,
          null,
          null,
          null,
          null,
          null,
          null,
          null,
          null,
          null,
          null,
          null,
          null,
          null,
          null,
          null,
          null,
          null,
          null,
          null,
          null,
          null,
          null,
          null,
          null,
          null,
          null,
          null,
          null,
          null,
          null,
          null,
          null,
          null,
          null,
          null,
          null,
          null,
          null,
          null,
          null,
          null,
          null
         ]
        }
       ],
       "layout": {
        "template": {
         "data": {
          "bar": [
           {
            "error_x": {
             "color": "#2a3f5f"
            },
            "error_y": {
             "color": "#2a3f5f"
            },
            "marker": {
             "line": {
              "color": "#E5ECF6",
              "width": 0.5
             },
             "pattern": {
              "fillmode": "overlay",
              "size": 10,
              "solidity": 0.2
             }
            },
            "type": "bar"
           }
          ],
          "barpolar": [
           {
            "marker": {
             "line": {
              "color": "#E5ECF6",
              "width": 0.5
             },
             "pattern": {
              "fillmode": "overlay",
              "size": 10,
              "solidity": 0.2
             }
            },
            "type": "barpolar"
           }
          ],
          "carpet": [
           {
            "aaxis": {
             "endlinecolor": "#2a3f5f",
             "gridcolor": "white",
             "linecolor": "white",
             "minorgridcolor": "white",
             "startlinecolor": "#2a3f5f"
            },
            "baxis": {
             "endlinecolor": "#2a3f5f",
             "gridcolor": "white",
             "linecolor": "white",
             "minorgridcolor": "white",
             "startlinecolor": "#2a3f5f"
            },
            "type": "carpet"
           }
          ],
          "choropleth": [
           {
            "colorbar": {
             "outlinewidth": 0,
             "ticks": ""
            },
            "type": "choropleth"
           }
          ],
          "contour": [
           {
            "colorbar": {
             "outlinewidth": 0,
             "ticks": ""
            },
            "colorscale": [
             [
              0,
              "#0d0887"
             ],
             [
              0.1111111111111111,
              "#46039f"
             ],
             [
              0.2222222222222222,
              "#7201a8"
             ],
             [
              0.3333333333333333,
              "#9c179e"
             ],
             [
              0.4444444444444444,
              "#bd3786"
             ],
             [
              0.5555555555555556,
              "#d8576b"
             ],
             [
              0.6666666666666666,
              "#ed7953"
             ],
             [
              0.7777777777777778,
              "#fb9f3a"
             ],
             [
              0.8888888888888888,
              "#fdca26"
             ],
             [
              1,
              "#f0f921"
             ]
            ],
            "type": "contour"
           }
          ],
          "contourcarpet": [
           {
            "colorbar": {
             "outlinewidth": 0,
             "ticks": ""
            },
            "type": "contourcarpet"
           }
          ],
          "heatmap": [
           {
            "colorbar": {
             "outlinewidth": 0,
             "ticks": ""
            },
            "colorscale": [
             [
              0,
              "#0d0887"
             ],
             [
              0.1111111111111111,
              "#46039f"
             ],
             [
              0.2222222222222222,
              "#7201a8"
             ],
             [
              0.3333333333333333,
              "#9c179e"
             ],
             [
              0.4444444444444444,
              "#bd3786"
             ],
             [
              0.5555555555555556,
              "#d8576b"
             ],
             [
              0.6666666666666666,
              "#ed7953"
             ],
             [
              0.7777777777777778,
              "#fb9f3a"
             ],
             [
              0.8888888888888888,
              "#fdca26"
             ],
             [
              1,
              "#f0f921"
             ]
            ],
            "type": "heatmap"
           }
          ],
          "heatmapgl": [
           {
            "colorbar": {
             "outlinewidth": 0,
             "ticks": ""
            },
            "colorscale": [
             [
              0,
              "#0d0887"
             ],
             [
              0.1111111111111111,
              "#46039f"
             ],
             [
              0.2222222222222222,
              "#7201a8"
             ],
             [
              0.3333333333333333,
              "#9c179e"
             ],
             [
              0.4444444444444444,
              "#bd3786"
             ],
             [
              0.5555555555555556,
              "#d8576b"
             ],
             [
              0.6666666666666666,
              "#ed7953"
             ],
             [
              0.7777777777777778,
              "#fb9f3a"
             ],
             [
              0.8888888888888888,
              "#fdca26"
             ],
             [
              1,
              "#f0f921"
             ]
            ],
            "type": "heatmapgl"
           }
          ],
          "histogram": [
           {
            "marker": {
             "pattern": {
              "fillmode": "overlay",
              "size": 10,
              "solidity": 0.2
             }
            },
            "type": "histogram"
           }
          ],
          "histogram2d": [
           {
            "colorbar": {
             "outlinewidth": 0,
             "ticks": ""
            },
            "colorscale": [
             [
              0,
              "#0d0887"
             ],
             [
              0.1111111111111111,
              "#46039f"
             ],
             [
              0.2222222222222222,
              "#7201a8"
             ],
             [
              0.3333333333333333,
              "#9c179e"
             ],
             [
              0.4444444444444444,
              "#bd3786"
             ],
             [
              0.5555555555555556,
              "#d8576b"
             ],
             [
              0.6666666666666666,
              "#ed7953"
             ],
             [
              0.7777777777777778,
              "#fb9f3a"
             ],
             [
              0.8888888888888888,
              "#fdca26"
             ],
             [
              1,
              "#f0f921"
             ]
            ],
            "type": "histogram2d"
           }
          ],
          "histogram2dcontour": [
           {
            "colorbar": {
             "outlinewidth": 0,
             "ticks": ""
            },
            "colorscale": [
             [
              0,
              "#0d0887"
             ],
             [
              0.1111111111111111,
              "#46039f"
             ],
             [
              0.2222222222222222,
              "#7201a8"
             ],
             [
              0.3333333333333333,
              "#9c179e"
             ],
             [
              0.4444444444444444,
              "#bd3786"
             ],
             [
              0.5555555555555556,
              "#d8576b"
             ],
             [
              0.6666666666666666,
              "#ed7953"
             ],
             [
              0.7777777777777778,
              "#fb9f3a"
             ],
             [
              0.8888888888888888,
              "#fdca26"
             ],
             [
              1,
              "#f0f921"
             ]
            ],
            "type": "histogram2dcontour"
           }
          ],
          "mesh3d": [
           {
            "colorbar": {
             "outlinewidth": 0,
             "ticks": ""
            },
            "type": "mesh3d"
           }
          ],
          "parcoords": [
           {
            "line": {
             "colorbar": {
              "outlinewidth": 0,
              "ticks": ""
             }
            },
            "type": "parcoords"
           }
          ],
          "pie": [
           {
            "automargin": true,
            "type": "pie"
           }
          ],
          "scatter": [
           {
            "marker": {
             "colorbar": {
              "outlinewidth": 0,
              "ticks": ""
             }
            },
            "type": "scatter"
           }
          ],
          "scatter3d": [
           {
            "line": {
             "colorbar": {
              "outlinewidth": 0,
              "ticks": ""
             }
            },
            "marker": {
             "colorbar": {
              "outlinewidth": 0,
              "ticks": ""
             }
            },
            "type": "scatter3d"
           }
          ],
          "scattercarpet": [
           {
            "marker": {
             "colorbar": {
              "outlinewidth": 0,
              "ticks": ""
             }
            },
            "type": "scattercarpet"
           }
          ],
          "scattergeo": [
           {
            "marker": {
             "colorbar": {
              "outlinewidth": 0,
              "ticks": ""
             }
            },
            "type": "scattergeo"
           }
          ],
          "scattergl": [
           {
            "marker": {
             "colorbar": {
              "outlinewidth": 0,
              "ticks": ""
             }
            },
            "type": "scattergl"
           }
          ],
          "scattermapbox": [
           {
            "marker": {
             "colorbar": {
              "outlinewidth": 0,
              "ticks": ""
             }
            },
            "type": "scattermapbox"
           }
          ],
          "scatterpolar": [
           {
            "marker": {
             "colorbar": {
              "outlinewidth": 0,
              "ticks": ""
             }
            },
            "type": "scatterpolar"
           }
          ],
          "scatterpolargl": [
           {
            "marker": {
             "colorbar": {
              "outlinewidth": 0,
              "ticks": ""
             }
            },
            "type": "scatterpolargl"
           }
          ],
          "scatterternary": [
           {
            "marker": {
             "colorbar": {
              "outlinewidth": 0,
              "ticks": ""
             }
            },
            "type": "scatterternary"
           }
          ],
          "surface": [
           {
            "colorbar": {
             "outlinewidth": 0,
             "ticks": ""
            },
            "colorscale": [
             [
              0,
              "#0d0887"
             ],
             [
              0.1111111111111111,
              "#46039f"
             ],
             [
              0.2222222222222222,
              "#7201a8"
             ],
             [
              0.3333333333333333,
              "#9c179e"
             ],
             [
              0.4444444444444444,
              "#bd3786"
             ],
             [
              0.5555555555555556,
              "#d8576b"
             ],
             [
              0.6666666666666666,
              "#ed7953"
             ],
             [
              0.7777777777777778,
              "#fb9f3a"
             ],
             [
              0.8888888888888888,
              "#fdca26"
             ],
             [
              1,
              "#f0f921"
             ]
            ],
            "type": "surface"
           }
          ],
          "table": [
           {
            "cells": {
             "fill": {
              "color": "#EBF0F8"
             },
             "line": {
              "color": "white"
             }
            },
            "header": {
             "fill": {
              "color": "#C8D4E3"
             },
             "line": {
              "color": "white"
             }
            },
            "type": "table"
           }
          ]
         },
         "layout": {
          "annotationdefaults": {
           "arrowcolor": "#2a3f5f",
           "arrowhead": 0,
           "arrowwidth": 1
          },
          "autotypenumbers": "strict",
          "coloraxis": {
           "colorbar": {
            "outlinewidth": 0,
            "ticks": ""
           }
          },
          "colorscale": {
           "diverging": [
            [
             0,
             "#8e0152"
            ],
            [
             0.1,
             "#c51b7d"
            ],
            [
             0.2,
             "#de77ae"
            ],
            [
             0.3,
             "#f1b6da"
            ],
            [
             0.4,
             "#fde0ef"
            ],
            [
             0.5,
             "#f7f7f7"
            ],
            [
             0.6,
             "#e6f5d0"
            ],
            [
             0.7,
             "#b8e186"
            ],
            [
             0.8,
             "#7fbc41"
            ],
            [
             0.9,
             "#4d9221"
            ],
            [
             1,
             "#276419"
            ]
           ],
           "sequential": [
            [
             0,
             "#0d0887"
            ],
            [
             0.1111111111111111,
             "#46039f"
            ],
            [
             0.2222222222222222,
             "#7201a8"
            ],
            [
             0.3333333333333333,
             "#9c179e"
            ],
            [
             0.4444444444444444,
             "#bd3786"
            ],
            [
             0.5555555555555556,
             "#d8576b"
            ],
            [
             0.6666666666666666,
             "#ed7953"
            ],
            [
             0.7777777777777778,
             "#fb9f3a"
            ],
            [
             0.8888888888888888,
             "#fdca26"
            ],
            [
             1,
             "#f0f921"
            ]
           ],
           "sequentialminus": [
            [
             0,
             "#0d0887"
            ],
            [
             0.1111111111111111,
             "#46039f"
            ],
            [
             0.2222222222222222,
             "#7201a8"
            ],
            [
             0.3333333333333333,
             "#9c179e"
            ],
            [
             0.4444444444444444,
             "#bd3786"
            ],
            [
             0.5555555555555556,
             "#d8576b"
            ],
            [
             0.6666666666666666,
             "#ed7953"
            ],
            [
             0.7777777777777778,
             "#fb9f3a"
            ],
            [
             0.8888888888888888,
             "#fdca26"
            ],
            [
             1,
             "#f0f921"
            ]
           ]
          },
          "colorway": [
           "#636efa",
           "#EF553B",
           "#00cc96",
           "#ab63fa",
           "#FFA15A",
           "#19d3f3",
           "#FF6692",
           "#B6E880",
           "#FF97FF",
           "#FECB52"
          ],
          "font": {
           "color": "#2a3f5f"
          },
          "geo": {
           "bgcolor": "white",
           "lakecolor": "white",
           "landcolor": "#E5ECF6",
           "showlakes": true,
           "showland": true,
           "subunitcolor": "white"
          },
          "hoverlabel": {
           "align": "left"
          },
          "hovermode": "closest",
          "mapbox": {
           "style": "light"
          },
          "paper_bgcolor": "white",
          "plot_bgcolor": "#E5ECF6",
          "polar": {
           "angularaxis": {
            "gridcolor": "white",
            "linecolor": "white",
            "ticks": ""
           },
           "bgcolor": "#E5ECF6",
           "radialaxis": {
            "gridcolor": "white",
            "linecolor": "white",
            "ticks": ""
           }
          },
          "scene": {
           "xaxis": {
            "backgroundcolor": "#E5ECF6",
            "gridcolor": "white",
            "gridwidth": 2,
            "linecolor": "white",
            "showbackground": true,
            "ticks": "",
            "zerolinecolor": "white"
           },
           "yaxis": {
            "backgroundcolor": "#E5ECF6",
            "gridcolor": "white",
            "gridwidth": 2,
            "linecolor": "white",
            "showbackground": true,
            "ticks": "",
            "zerolinecolor": "white"
           },
           "zaxis": {
            "backgroundcolor": "#E5ECF6",
            "gridcolor": "white",
            "gridwidth": 2,
            "linecolor": "white",
            "showbackground": true,
            "ticks": "",
            "zerolinecolor": "white"
           }
          },
          "shapedefaults": {
           "line": {
            "color": "#2a3f5f"
           }
          },
          "ternary": {
           "aaxis": {
            "gridcolor": "white",
            "linecolor": "white",
            "ticks": ""
           },
           "baxis": {
            "gridcolor": "white",
            "linecolor": "white",
            "ticks": ""
           },
           "bgcolor": "#E5ECF6",
           "caxis": {
            "gridcolor": "white",
            "linecolor": "white",
            "ticks": ""
           }
          },
          "title": {
           "x": 0.05
          },
          "xaxis": {
           "automargin": true,
           "gridcolor": "white",
           "linecolor": "white",
           "ticks": "",
           "title": {
            "standoff": 15
           },
           "zerolinecolor": "white",
           "zerolinewidth": 2
          },
          "yaxis": {
           "automargin": true,
           "gridcolor": "white",
           "linecolor": "white",
           "ticks": "",
           "title": {
            "standoff": 15
           },
           "zerolinecolor": "white",
           "zerolinewidth": 2
          }
         }
        },
        "title": {
         "text": "Percentage of trading days without An Open Bar By DTE - LE Only"
        }
       }
      }
     },
     "metadata": {},
     "output_type": "display_data"
    },
    {
     "data": {
      "application/vnd.plotly.v1+json": {
       "config": {
        "plotlyServerURL": "https://plot.ly"
       },
       "data": [
        {
         "name": "Days Without Open Bar",
         "type": "bar",
         "x": [
          0,
          1,
          2,
          3,
          4,
          5,
          6,
          7,
          8,
          9,
          10,
          11,
          12,
          13,
          14,
          15,
          16,
          17,
          18,
          19,
          20,
          21,
          22,
          23,
          24,
          25,
          26,
          27,
          28,
          29,
          30,
          31,
          32,
          33,
          34,
          35,
          36,
          37,
          38,
          39,
          40,
          41,
          42,
          43,
          44,
          45,
          46,
          47,
          48,
          49,
          50,
          51,
          52,
          53,
          54,
          55,
          56,
          57,
          58,
          59,
          60,
          61,
          62,
          63,
          64,
          65,
          66,
          67,
          68,
          69,
          70,
          71,
          72,
          73,
          74,
          75,
          76,
          77,
          78,
          79,
          80,
          81,
          82,
          83,
          84,
          85,
          86,
          87,
          88,
          89,
          90,
          91,
          92,
          93,
          94,
          95,
          96,
          97,
          98,
          99,
          100,
          101,
          102,
          103,
          104,
          105,
          106,
          107,
          108,
          109,
          110,
          111,
          112,
          113,
          114,
          115,
          116,
          117,
          118,
          119,
          120,
          121,
          122,
          123,
          124,
          125,
          126,
          127,
          128,
          129,
          130,
          131,
          132,
          133,
          134,
          135,
          136,
          137,
          138,
          139,
          140,
          141,
          142,
          143,
          144,
          145,
          146,
          147,
          148,
          149,
          150,
          151,
          152,
          153,
          154,
          155,
          156,
          157,
          158,
          159,
          160,
          161,
          162,
          163,
          164,
          165,
          166,
          167,
          168,
          169,
          170,
          171,
          172,
          173,
          174,
          175,
          176,
          177,
          178,
          179,
          180,
          181,
          182,
          183,
          184,
          185,
          186,
          187,
          188,
          189,
          190,
          191,
          192,
          193,
          194,
          195,
          196,
          197,
          198,
          199,
          200,
          201,
          202,
          203,
          204,
          205,
          206,
          207,
          208,
          209,
          210,
          211,
          212,
          213,
          214,
          215,
          216,
          217,
          218,
          219,
          220,
          221,
          222,
          223,
          224,
          225,
          226,
          227,
          228,
          229,
          230,
          231,
          232,
          233,
          234,
          235,
          236,
          237,
          238,
          239,
          240,
          241,
          242,
          243,
          244,
          245,
          246,
          247,
          248,
          249,
          250,
          251,
          252,
          253,
          254,
          255,
          256,
          257,
          258,
          259,
          260,
          261,
          262,
          263,
          264,
          265,
          266,
          267,
          268,
          269,
          270,
          271,
          272,
          273,
          274,
          275,
          276,
          277,
          278,
          279,
          280,
          281,
          282,
          283,
          284,
          285,
          286,
          287,
          288,
          289,
          290,
          291,
          292,
          293,
          294,
          295,
          296,
          297,
          298,
          299,
          300,
          301,
          302,
          303,
          304,
          305,
          306,
          307,
          308,
          309,
          310,
          311,
          312,
          313,
          314,
          315,
          316,
          317,
          318,
          319,
          320,
          321,
          322,
          323,
          324,
          325,
          326,
          327,
          328,
          329,
          330,
          331,
          332,
          333,
          334,
          335,
          336,
          337,
          338,
          339,
          340,
          341,
          342,
          343,
          344,
          345,
          346,
          347,
          348,
          349,
          350,
          351,
          352,
          353,
          354,
          355,
          356,
          357,
          358,
          359,
          360,
          361,
          362,
          363,
          364,
          365,
          366,
          367,
          368,
          369,
          370,
          371,
          372,
          373,
          374,
          375,
          376,
          377,
          378,
          379,
          380,
          381,
          382,
          383,
          384,
          385,
          386,
          387,
          388,
          389,
          390,
          391,
          392,
          393,
          394,
          395,
          396,
          397,
          398,
          399,
          400,
          401,
          402,
          403,
          404,
          405,
          406,
          407,
          408,
          409,
          410,
          411,
          412,
          413,
          414,
          415,
          416,
          417,
          418,
          419,
          420,
          421,
          422,
          423,
          424,
          425,
          426,
          427,
          428,
          429,
          430,
          431,
          432,
          433,
          434,
          435,
          436,
          437,
          438,
          439,
          440,
          441,
          442,
          443,
          444,
          445,
          446,
          447,
          448,
          449,
          450,
          451,
          452,
          453,
          454,
          455,
          456,
          457,
          458,
          459,
          460,
          461,
          462,
          463,
          464,
          465,
          466,
          467,
          468,
          469,
          470,
          471,
          472,
          473,
          474,
          475,
          476,
          477,
          478,
          479,
          480,
          481,
          482,
          483,
          484,
          485,
          486,
          487,
          488,
          489,
          490,
          491,
          492,
          493,
          494,
          495,
          496,
          497,
          498,
          499,
          500,
          501,
          502,
          503,
          504,
          505,
          506,
          507,
          508,
          509,
          510,
          511,
          512,
          513,
          514,
          515,
          516,
          517,
          518,
          519,
          520,
          521,
          522,
          523,
          524,
          525,
          526,
          527,
          528,
          529,
          530,
          531,
          532,
          533,
          534,
          535,
          536,
          537,
          538,
          539,
          540,
          541,
          542,
          543,
          544,
          545,
          546,
          547,
          548,
          549,
          550,
          551,
          552,
          553,
          554,
          555,
          556,
          557,
          558,
          559,
          560,
          561,
          562,
          563,
          564,
          565,
          566,
          567,
          568,
          569,
          570,
          571,
          572,
          573,
          574,
          575,
          576,
          577,
          578,
          579,
          580,
          581,
          582,
          583,
          584,
          585,
          586,
          587,
          588,
          589,
          590,
          591,
          592,
          593,
          594,
          595,
          596,
          597,
          598,
          599,
          600
         ],
         "y": [
          26,
          17,
          14,
          11,
          10,
          6,
          9,
          17,
          7,
          8,
          8,
          4,
          3,
          7,
          12,
          7,
          4,
          4,
          5,
          4,
          2,
          6,
          5,
          2,
          2,
          1,
          0,
          1,
          2,
          0,
          0,
          1,
          1,
          0,
          0,
          2,
          1,
          0,
          1,
          1,
          0,
          1,
          1,
          0,
          0,
          1,
          1,
          0,
          0,
          2,
          0,
          0,
          2,
          0,
          0,
          0,
          2,
          0,
          0,
          1,
          1,
          0,
          0,
          1,
          0,
          0,
          1,
          2,
          0,
          0,
          1,
          0,
          0,
          2,
          1,
          0,
          0,
          1,
          0,
          0,
          1,
          2,
          0,
          0,
          1,
          0,
          0,
          1,
          2,
          0,
          0,
          1,
          0,
          0,
          1,
          2,
          0,
          0,
          1,
          0,
          0,
          2,
          1,
          0,
          0,
          1,
          0,
          0,
          1,
          2,
          0,
          0,
          1,
          0,
          2,
          1,
          2,
          1,
          1,
          1,
          2,
          0,
          2,
          2,
          1,
          0,
          2,
          1,
          0,
          2,
          1,
          2,
          1,
          1,
          1,
          2,
          2,
          2,
          0,
          1,
          4,
          2,
          2,
          4,
          2,
          1,
          1,
          3,
          1,
          2,
          3,
          1,
          1,
          2,
          1,
          1,
          1,
          4,
          3,
          1,
          0,
          3,
          3,
          4,
          4,
          1,
          1,
          2,
          8,
          4,
          3,
          5,
          5,
          1,
          2,
          0,
          4,
          4,
          4,
          2,
          1,
          4,
          8,
          4,
          6,
          3,
          4,
          1,
          2,
          10,
          6,
          7,
          4,
          3,
          1,
          1,
          5,
          8,
          4,
          5,
          5,
          4,
          1,
          10,
          3,
          9,
          5,
          6,
          2,
          6,
          9,
          5,
          7,
          9,
          5,
          4,
          4,
          13,
          5,
          4,
          7,
          6,
          7,
          5,
          7,
          5,
          11,
          9,
          5,
          4,
          9,
          13,
          8,
          10,
          10,
          6,
          4,
          6,
          11,
          8,
          11,
          11,
          7,
          5,
          12,
          18,
          14,
          12,
          12,
          11,
          5,
          12,
          14,
          9,
          11,
          12,
          9,
          5,
          12,
          17,
          13,
          10,
          9,
          14,
          7,
          8,
          16,
          18,
          17,
          17,
          8,
          11,
          12,
          18,
          16,
          16,
          12,
          8,
          7,
          9,
          24,
          14,
          13,
          14,
          9,
          5,
          11,
          20,
          17,
          13,
          16,
          14,
          10,
          12,
          17,
          20,
          16,
          19,
          12,
          8,
          13,
          25,
          17,
          20,
          26,
          16,
          12,
          17,
          26,
          21,
          16,
          25,
          21,
          11,
          19,
          23,
          20,
          21,
          21,
          18,
          10,
          15,
          28,
          26,
          17,
          21,
          22,
          18,
          18,
          34,
          25,
          25,
          23,
          15,
          14,
          20,
          29,
          23,
          24,
          21,
          15,
          17,
          24,
          27,
          30,
          22,
          28,
          18,
          16,
          22,
          30,
          32,
          28,
          23,
          22,
          25,
          26,
          37,
          37,
          25,
          32,
          21,
          14,
          20,
          34,
          31,
          26,
          29,
          25,
          16,
          34,
          36,
          27,
          28,
          22,
          23,
          17,
          22,
          37,
          30,
          32,
          30,
          27,
          21,
          26,
          38,
          35,
          31,
          32,
          33,
          22,
          21,
          39,
          35,
          34,
          38,
          26,
          22,
          26,
          40,
          32,
          25,
          28,
          25,
          20,
          25,
          45,
          30,
          30,
          35,
          31,
          19,
          32,
          46,
          35,
          28,
          34,
          28,
          22,
          28,
          42,
          39,
          23,
          22,
          25,
          22,
          29,
          36,
          40,
          28,
          28,
          23,
          18,
          24,
          32,
          25,
          30,
          29,
          21,
          18,
          29,
          46,
          39,
          29,
          25,
          28,
          19,
          25,
          41,
          29,
          27,
          32,
          26,
          22,
          22,
          39,
          27,
          23,
          28,
          17,
          16,
          23,
          27,
          21,
          22,
          20,
          20,
          16,
          18,
          33,
          23,
          23,
          18,
          20,
          14,
          17,
          29,
          22,
          17,
          22,
          17,
          14,
          18,
          21,
          17,
          9,
          18,
          14,
          9,
          18,
          18,
          17,
          17,
          16,
          11,
          11,
          9,
          21,
          16,
          9,
          13,
          13,
          9,
          13,
          19,
          14,
          8,
          13,
          9,
          5,
          13,
          17,
          9,
          14,
          13,
          14,
          3,
          7,
          7,
          10,
          5,
          9,
          9,
          3,
          4,
          10,
          6,
          3,
          5,
          7,
          5,
          5,
          8,
          7,
          5,
          4,
          4,
          2,
          7,
          8,
          3,
          1,
          2,
          1,
          2,
          1,
          1,
          1,
          0,
          1,
          0,
          0,
          0,
          0,
          0,
          0,
          0,
          0,
          0,
          0,
          0,
          0,
          0,
          0,
          0,
          0,
          0,
          0,
          0,
          0,
          0,
          0,
          0,
          0,
          0,
          0,
          0,
          0,
          0,
          0,
          0,
          0,
          0,
          0,
          0,
          0,
          0,
          0,
          0,
          0,
          0,
          0,
          0,
          0,
          0,
          0,
          0,
          0,
          0,
          0,
          0
         ]
        }
       ],
       "layout": {
        "template": {
         "data": {
          "bar": [
           {
            "error_x": {
             "color": "#2a3f5f"
            },
            "error_y": {
             "color": "#2a3f5f"
            },
            "marker": {
             "line": {
              "color": "#E5ECF6",
              "width": 0.5
             },
             "pattern": {
              "fillmode": "overlay",
              "size": 10,
              "solidity": 0.2
             }
            },
            "type": "bar"
           }
          ],
          "barpolar": [
           {
            "marker": {
             "line": {
              "color": "#E5ECF6",
              "width": 0.5
             },
             "pattern": {
              "fillmode": "overlay",
              "size": 10,
              "solidity": 0.2
             }
            },
            "type": "barpolar"
           }
          ],
          "carpet": [
           {
            "aaxis": {
             "endlinecolor": "#2a3f5f",
             "gridcolor": "white",
             "linecolor": "white",
             "minorgridcolor": "white",
             "startlinecolor": "#2a3f5f"
            },
            "baxis": {
             "endlinecolor": "#2a3f5f",
             "gridcolor": "white",
             "linecolor": "white",
             "minorgridcolor": "white",
             "startlinecolor": "#2a3f5f"
            },
            "type": "carpet"
           }
          ],
          "choropleth": [
           {
            "colorbar": {
             "outlinewidth": 0,
             "ticks": ""
            },
            "type": "choropleth"
           }
          ],
          "contour": [
           {
            "colorbar": {
             "outlinewidth": 0,
             "ticks": ""
            },
            "colorscale": [
             [
              0,
              "#0d0887"
             ],
             [
              0.1111111111111111,
              "#46039f"
             ],
             [
              0.2222222222222222,
              "#7201a8"
             ],
             [
              0.3333333333333333,
              "#9c179e"
             ],
             [
              0.4444444444444444,
              "#bd3786"
             ],
             [
              0.5555555555555556,
              "#d8576b"
             ],
             [
              0.6666666666666666,
              "#ed7953"
             ],
             [
              0.7777777777777778,
              "#fb9f3a"
             ],
             [
              0.8888888888888888,
              "#fdca26"
             ],
             [
              1,
              "#f0f921"
             ]
            ],
            "type": "contour"
           }
          ],
          "contourcarpet": [
           {
            "colorbar": {
             "outlinewidth": 0,
             "ticks": ""
            },
            "type": "contourcarpet"
           }
          ],
          "heatmap": [
           {
            "colorbar": {
             "outlinewidth": 0,
             "ticks": ""
            },
            "colorscale": [
             [
              0,
              "#0d0887"
             ],
             [
              0.1111111111111111,
              "#46039f"
             ],
             [
              0.2222222222222222,
              "#7201a8"
             ],
             [
              0.3333333333333333,
              "#9c179e"
             ],
             [
              0.4444444444444444,
              "#bd3786"
             ],
             [
              0.5555555555555556,
              "#d8576b"
             ],
             [
              0.6666666666666666,
              "#ed7953"
             ],
             [
              0.7777777777777778,
              "#fb9f3a"
             ],
             [
              0.8888888888888888,
              "#fdca26"
             ],
             [
              1,
              "#f0f921"
             ]
            ],
            "type": "heatmap"
           }
          ],
          "heatmapgl": [
           {
            "colorbar": {
             "outlinewidth": 0,
             "ticks": ""
            },
            "colorscale": [
             [
              0,
              "#0d0887"
             ],
             [
              0.1111111111111111,
              "#46039f"
             ],
             [
              0.2222222222222222,
              "#7201a8"
             ],
             [
              0.3333333333333333,
              "#9c179e"
             ],
             [
              0.4444444444444444,
              "#bd3786"
             ],
             [
              0.5555555555555556,
              "#d8576b"
             ],
             [
              0.6666666666666666,
              "#ed7953"
             ],
             [
              0.7777777777777778,
              "#fb9f3a"
             ],
             [
              0.8888888888888888,
              "#fdca26"
             ],
             [
              1,
              "#f0f921"
             ]
            ],
            "type": "heatmapgl"
           }
          ],
          "histogram": [
           {
            "marker": {
             "pattern": {
              "fillmode": "overlay",
              "size": 10,
              "solidity": 0.2
             }
            },
            "type": "histogram"
           }
          ],
          "histogram2d": [
           {
            "colorbar": {
             "outlinewidth": 0,
             "ticks": ""
            },
            "colorscale": [
             [
              0,
              "#0d0887"
             ],
             [
              0.1111111111111111,
              "#46039f"
             ],
             [
              0.2222222222222222,
              "#7201a8"
             ],
             [
              0.3333333333333333,
              "#9c179e"
             ],
             [
              0.4444444444444444,
              "#bd3786"
             ],
             [
              0.5555555555555556,
              "#d8576b"
             ],
             [
              0.6666666666666666,
              "#ed7953"
             ],
             [
              0.7777777777777778,
              "#fb9f3a"
             ],
             [
              0.8888888888888888,
              "#fdca26"
             ],
             [
              1,
              "#f0f921"
             ]
            ],
            "type": "histogram2d"
           }
          ],
          "histogram2dcontour": [
           {
            "colorbar": {
             "outlinewidth": 0,
             "ticks": ""
            },
            "colorscale": [
             [
              0,
              "#0d0887"
             ],
             [
              0.1111111111111111,
              "#46039f"
             ],
             [
              0.2222222222222222,
              "#7201a8"
             ],
             [
              0.3333333333333333,
              "#9c179e"
             ],
             [
              0.4444444444444444,
              "#bd3786"
             ],
             [
              0.5555555555555556,
              "#d8576b"
             ],
             [
              0.6666666666666666,
              "#ed7953"
             ],
             [
              0.7777777777777778,
              "#fb9f3a"
             ],
             [
              0.8888888888888888,
              "#fdca26"
             ],
             [
              1,
              "#f0f921"
             ]
            ],
            "type": "histogram2dcontour"
           }
          ],
          "mesh3d": [
           {
            "colorbar": {
             "outlinewidth": 0,
             "ticks": ""
            },
            "type": "mesh3d"
           }
          ],
          "parcoords": [
           {
            "line": {
             "colorbar": {
              "outlinewidth": 0,
              "ticks": ""
             }
            },
            "type": "parcoords"
           }
          ],
          "pie": [
           {
            "automargin": true,
            "type": "pie"
           }
          ],
          "scatter": [
           {
            "marker": {
             "colorbar": {
              "outlinewidth": 0,
              "ticks": ""
             }
            },
            "type": "scatter"
           }
          ],
          "scatter3d": [
           {
            "line": {
             "colorbar": {
              "outlinewidth": 0,
              "ticks": ""
             }
            },
            "marker": {
             "colorbar": {
              "outlinewidth": 0,
              "ticks": ""
             }
            },
            "type": "scatter3d"
           }
          ],
          "scattercarpet": [
           {
            "marker": {
             "colorbar": {
              "outlinewidth": 0,
              "ticks": ""
             }
            },
            "type": "scattercarpet"
           }
          ],
          "scattergeo": [
           {
            "marker": {
             "colorbar": {
              "outlinewidth": 0,
              "ticks": ""
             }
            },
            "type": "scattergeo"
           }
          ],
          "scattergl": [
           {
            "marker": {
             "colorbar": {
              "outlinewidth": 0,
              "ticks": ""
             }
            },
            "type": "scattergl"
           }
          ],
          "scattermapbox": [
           {
            "marker": {
             "colorbar": {
              "outlinewidth": 0,
              "ticks": ""
             }
            },
            "type": "scattermapbox"
           }
          ],
          "scatterpolar": [
           {
            "marker": {
             "colorbar": {
              "outlinewidth": 0,
              "ticks": ""
             }
            },
            "type": "scatterpolar"
           }
          ],
          "scatterpolargl": [
           {
            "marker": {
             "colorbar": {
              "outlinewidth": 0,
              "ticks": ""
             }
            },
            "type": "scatterpolargl"
           }
          ],
          "scatterternary": [
           {
            "marker": {
             "colorbar": {
              "outlinewidth": 0,
              "ticks": ""
             }
            },
            "type": "scatterternary"
           }
          ],
          "surface": [
           {
            "colorbar": {
             "outlinewidth": 0,
             "ticks": ""
            },
            "colorscale": [
             [
              0,
              "#0d0887"
             ],
             [
              0.1111111111111111,
              "#46039f"
             ],
             [
              0.2222222222222222,
              "#7201a8"
             ],
             [
              0.3333333333333333,
              "#9c179e"
             ],
             [
              0.4444444444444444,
              "#bd3786"
             ],
             [
              0.5555555555555556,
              "#d8576b"
             ],
             [
              0.6666666666666666,
              "#ed7953"
             ],
             [
              0.7777777777777778,
              "#fb9f3a"
             ],
             [
              0.8888888888888888,
              "#fdca26"
             ],
             [
              1,
              "#f0f921"
             ]
            ],
            "type": "surface"
           }
          ],
          "table": [
           {
            "cells": {
             "fill": {
              "color": "#EBF0F8"
             },
             "line": {
              "color": "white"
             }
            },
            "header": {
             "fill": {
              "color": "#C8D4E3"
             },
             "line": {
              "color": "white"
             }
            },
            "type": "table"
           }
          ]
         },
         "layout": {
          "annotationdefaults": {
           "arrowcolor": "#2a3f5f",
           "arrowhead": 0,
           "arrowwidth": 1
          },
          "autotypenumbers": "strict",
          "coloraxis": {
           "colorbar": {
            "outlinewidth": 0,
            "ticks": ""
           }
          },
          "colorscale": {
           "diverging": [
            [
             0,
             "#8e0152"
            ],
            [
             0.1,
             "#c51b7d"
            ],
            [
             0.2,
             "#de77ae"
            ],
            [
             0.3,
             "#f1b6da"
            ],
            [
             0.4,
             "#fde0ef"
            ],
            [
             0.5,
             "#f7f7f7"
            ],
            [
             0.6,
             "#e6f5d0"
            ],
            [
             0.7,
             "#b8e186"
            ],
            [
             0.8,
             "#7fbc41"
            ],
            [
             0.9,
             "#4d9221"
            ],
            [
             1,
             "#276419"
            ]
           ],
           "sequential": [
            [
             0,
             "#0d0887"
            ],
            [
             0.1111111111111111,
             "#46039f"
            ],
            [
             0.2222222222222222,
             "#7201a8"
            ],
            [
             0.3333333333333333,
             "#9c179e"
            ],
            [
             0.4444444444444444,
             "#bd3786"
            ],
            [
             0.5555555555555556,
             "#d8576b"
            ],
            [
             0.6666666666666666,
             "#ed7953"
            ],
            [
             0.7777777777777778,
             "#fb9f3a"
            ],
            [
             0.8888888888888888,
             "#fdca26"
            ],
            [
             1,
             "#f0f921"
            ]
           ],
           "sequentialminus": [
            [
             0,
             "#0d0887"
            ],
            [
             0.1111111111111111,
             "#46039f"
            ],
            [
             0.2222222222222222,
             "#7201a8"
            ],
            [
             0.3333333333333333,
             "#9c179e"
            ],
            [
             0.4444444444444444,
             "#bd3786"
            ],
            [
             0.5555555555555556,
             "#d8576b"
            ],
            [
             0.6666666666666666,
             "#ed7953"
            ],
            [
             0.7777777777777778,
             "#fb9f3a"
            ],
            [
             0.8888888888888888,
             "#fdca26"
            ],
            [
             1,
             "#f0f921"
            ]
           ]
          },
          "colorway": [
           "#636efa",
           "#EF553B",
           "#00cc96",
           "#ab63fa",
           "#FFA15A",
           "#19d3f3",
           "#FF6692",
           "#B6E880",
           "#FF97FF",
           "#FECB52"
          ],
          "font": {
           "color": "#2a3f5f"
          },
          "geo": {
           "bgcolor": "white",
           "lakecolor": "white",
           "landcolor": "#E5ECF6",
           "showlakes": true,
           "showland": true,
           "subunitcolor": "white"
          },
          "hoverlabel": {
           "align": "left"
          },
          "hovermode": "closest",
          "mapbox": {
           "style": "light"
          },
          "paper_bgcolor": "white",
          "plot_bgcolor": "#E5ECF6",
          "polar": {
           "angularaxis": {
            "gridcolor": "white",
            "linecolor": "white",
            "ticks": ""
           },
           "bgcolor": "#E5ECF6",
           "radialaxis": {
            "gridcolor": "white",
            "linecolor": "white",
            "ticks": ""
           }
          },
          "scene": {
           "xaxis": {
            "backgroundcolor": "#E5ECF6",
            "gridcolor": "white",
            "gridwidth": 2,
            "linecolor": "white",
            "showbackground": true,
            "ticks": "",
            "zerolinecolor": "white"
           },
           "yaxis": {
            "backgroundcolor": "#E5ECF6",
            "gridcolor": "white",
            "gridwidth": 2,
            "linecolor": "white",
            "showbackground": true,
            "ticks": "",
            "zerolinecolor": "white"
           },
           "zaxis": {
            "backgroundcolor": "#E5ECF6",
            "gridcolor": "white",
            "gridwidth": 2,
            "linecolor": "white",
            "showbackground": true,
            "ticks": "",
            "zerolinecolor": "white"
           }
          },
          "shapedefaults": {
           "line": {
            "color": "#2a3f5f"
           }
          },
          "ternary": {
           "aaxis": {
            "gridcolor": "white",
            "linecolor": "white",
            "ticks": ""
           },
           "baxis": {
            "gridcolor": "white",
            "linecolor": "white",
            "ticks": ""
           },
           "bgcolor": "#E5ECF6",
           "caxis": {
            "gridcolor": "white",
            "linecolor": "white",
            "ticks": ""
           }
          },
          "title": {
           "x": 0.05
          },
          "xaxis": {
           "automargin": true,
           "gridcolor": "white",
           "linecolor": "white",
           "ticks": "",
           "title": {
            "standoff": 15
           },
           "zerolinecolor": "white",
           "zerolinewidth": 2
          },
          "yaxis": {
           "automargin": true,
           "gridcolor": "white",
           "linecolor": "white",
           "ticks": "",
           "title": {
            "standoff": 15
           },
           "zerolinecolor": "white",
           "zerolinewidth": 2
          }
         }
        },
        "title": {
         "text": "Number of trading days without An Open Bar By DTE - LE Only"
        }
       }
      }
     },
     "metadata": {},
     "output_type": "display_data"
    }
   ],
   "source": [
    "dte_without_open_fig = go.Figure(data=[\n",
    "    go.Bar(name='Days Without Open Bar', x=unique_dte, y=days_to_expiration_open_bar_count_df['Days Without Open Bar'])\n",
    "])\n",
    "dte_without_open_fig.update_layout(title_text='Number of trading days without An Open Bar By DTE - LE Only')\n",
    "dte_percentage_without_open_fig = go.Figure(data=[\n",
    "    go.Bar(name='Percentage Missing Open Bar', x=unique_dte, y=days_to_expiration_open_bar_count_df['Percentage Missing Open Bar'])\n",
    "])\n",
    "dte_percentage_without_open_fig.update_layout(title_text='Percentage of trading days without An Open Bar By DTE - LE Only')\n",
    "dte_percentage_without_open_fig.show()\n",
    "dte_without_open_fig.show()"
   ]
  }
 ],
 "metadata": {
  "interpreter": {
   "hash": "4b9f85f12761d09f7a2bbb0ba8aed12d953e646140e52906acff268c71fcaa35"
  },
  "kernelspec": {
   "display_name": "Python 3 (ipykernel)",
   "language": "python",
   "name": "python3"
  },
  "language_info": {
   "codemirror_mode": {
    "name": "ipython",
    "version": 3
   },
   "file_extension": ".py",
   "mimetype": "text/x-python",
   "name": "python",
   "nbconvert_exporter": "python",
   "pygments_lexer": "ipython3",
   "version": "3.10.0"
  }
 },
 "nbformat": 4,
 "nbformat_minor": 4
}
