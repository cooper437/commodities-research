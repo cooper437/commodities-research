{
 "cells": [
  {
   "cell_type": "code",
   "execution_count": 1,
   "metadata": {},
   "outputs": [],
   "source": [
    "import os\n",
    "import pandas as pd\n",
    "import datetime as dt\n",
    "import plotly.express as px\n",
    "import plotly.graph_objects as go"
   ]
  },
  {
   "cell_type": "code",
   "execution_count": 2,
   "metadata": {},
   "outputs": [],
   "source": [
    "CONTRACT_OPEN_ENRICHED_FILE_PATH = '../data/processed/futures_contracts/contract_open_enriched.csv'"
   ]
  },
  {
   "cell_type": "code",
   "execution_count": 3,
   "metadata": {},
   "outputs": [],
   "source": [
    "def calculate_num_unique_dates_for_contract(contract_df: pd.DataFrame, symbol: str):\n",
    "    # print(f\"Gathering data for {symbol}\")\n",
    "    missing_open_for_contract_df = contract_df[contract_df['Symbol'] == symbol]\n",
    "    # display(missing_open_for_contract_df)\n",
    "    missing_open_dates_series_unique = missing_open_for_contract_df['Date'].unique()\n",
    "    # display(missing_open_dates_series_unique)\n",
    "    num_missing_open_dates_series_unique = len(missing_open_dates_series_unique)\n",
    "    return num_missing_open_dates_series_unique"
   ]
  },
  {
   "cell_type": "code",
   "execution_count": 4,
   "metadata": {},
   "outputs": [],
   "source": [
    "contract_open_enriched_df = pd.read_csv(CONTRACT_OPEN_ENRICHED_FILE_PATH, parse_dates=['DateTime'])"
   ]
  },
  {
   "cell_type": "code",
   "execution_count": 5,
   "metadata": {},
   "outputs": [],
   "source": [
    "contract_open_enriched_df['Date'] = contract_open_enriched_df['DateTime'].apply(\n",
    "        lambda x: x.strftime(\"%Y-%m-%d\")\n",
    "    )"
   ]
  },
  {
   "cell_type": "code",
   "execution_count": 6,
   "metadata": {},
   "outputs": [
    {
     "data": {
      "text/html": [
       "<div>\n",
       "<style scoped>\n",
       "    .dataframe tbody tr th:only-of-type {\n",
       "        vertical-align: middle;\n",
       "    }\n",
       "\n",
       "    .dataframe tbody tr th {\n",
       "        vertical-align: top;\n",
       "    }\n",
       "\n",
       "    .dataframe thead th {\n",
       "        text-align: right;\n",
       "    }\n",
       "</style>\n",
       "<table border=\"1\" class=\"dataframe\">\n",
       "  <thead>\n",
       "    <tr style=\"text-align: right;\">\n",
       "      <th></th>\n",
       "      <th>Symbol</th>\n",
       "      <th>DateTime</th>\n",
       "      <th>Open Minutes Offset</th>\n",
       "      <th>Open</th>\n",
       "      <th>High</th>\n",
       "      <th>Low</th>\n",
       "      <th>Close</th>\n",
       "      <th>Volume</th>\n",
       "      <th>Intraday Open Bar Price Delta</th>\n",
       "      <th>Expiration Date</th>\n",
       "      <th>DTE</th>\n",
       "      <th>Date</th>\n",
       "    </tr>\n",
       "  </thead>\n",
       "  <tbody>\n",
       "    <tr>\n",
       "      <th>0</th>\n",
       "      <td>LEG09</td>\n",
       "      <td>2007-12-14 10:59:00</td>\n",
       "      <td>54</td>\n",
       "      <td>99.900</td>\n",
       "      <td>99.900</td>\n",
       "      <td>99.900</td>\n",
       "      <td>99.900</td>\n",
       "      <td>2</td>\n",
       "      <td>NaN</td>\n",
       "      <td>2009-02-27</td>\n",
       "      <td>441</td>\n",
       "      <td>2007-12-14</td>\n",
       "    </tr>\n",
       "    <tr>\n",
       "      <th>1</th>\n",
       "      <td>LEG09</td>\n",
       "      <td>2008-01-08 10:12:00</td>\n",
       "      <td>7</td>\n",
       "      <td>101.525</td>\n",
       "      <td>101.525</td>\n",
       "      <td>101.525</td>\n",
       "      <td>101.525</td>\n",
       "      <td>7</td>\n",
       "      <td>NaN</td>\n",
       "      <td>2009-02-27</td>\n",
       "      <td>416</td>\n",
       "      <td>2008-01-08</td>\n",
       "    </tr>\n",
       "    <tr>\n",
       "      <th>2</th>\n",
       "      <td>LEG09</td>\n",
       "      <td>2008-01-11 10:08:00</td>\n",
       "      <td>3</td>\n",
       "      <td>102.000</td>\n",
       "      <td>102.000</td>\n",
       "      <td>102.000</td>\n",
       "      <td>102.000</td>\n",
       "      <td>10</td>\n",
       "      <td>NaN</td>\n",
       "      <td>2009-02-27</td>\n",
       "      <td>413</td>\n",
       "      <td>2008-01-11</td>\n",
       "    </tr>\n",
       "    <tr>\n",
       "      <th>3</th>\n",
       "      <td>LEG09</td>\n",
       "      <td>2008-01-11 10:54:00</td>\n",
       "      <td>49</td>\n",
       "      <td>102.900</td>\n",
       "      <td>102.900</td>\n",
       "      <td>102.900</td>\n",
       "      <td>102.900</td>\n",
       "      <td>20</td>\n",
       "      <td>NaN</td>\n",
       "      <td>2009-02-27</td>\n",
       "      <td>413</td>\n",
       "      <td>2008-01-11</td>\n",
       "    </tr>\n",
       "    <tr>\n",
       "      <th>4</th>\n",
       "      <td>LEG09</td>\n",
       "      <td>2008-01-11 11:01:00</td>\n",
       "      <td>56</td>\n",
       "      <td>102.900</td>\n",
       "      <td>102.900</td>\n",
       "      <td>102.900</td>\n",
       "      <td>102.900</td>\n",
       "      <td>4</td>\n",
       "      <td>NaN</td>\n",
       "      <td>2009-02-27</td>\n",
       "      <td>413</td>\n",
       "      <td>2008-01-11</td>\n",
       "    </tr>\n",
       "    <tr>\n",
       "      <th>...</th>\n",
       "      <td>...</td>\n",
       "      <td>...</td>\n",
       "      <td>...</td>\n",
       "      <td>...</td>\n",
       "      <td>...</td>\n",
       "      <td>...</td>\n",
       "      <td>...</td>\n",
       "      <td>...</td>\n",
       "      <td>...</td>\n",
       "      <td>...</td>\n",
       "      <td>...</td>\n",
       "      <td>...</td>\n",
       "    </tr>\n",
       "    <tr>\n",
       "      <th>881338</th>\n",
       "      <td>LEZ20</td>\n",
       "      <td>2020-12-31 10:15:00</td>\n",
       "      <td>45</td>\n",
       "      <td>112.875</td>\n",
       "      <td>112.875</td>\n",
       "      <td>112.875</td>\n",
       "      <td>112.875</td>\n",
       "      <td>3</td>\n",
       "      <td>0.475</td>\n",
       "      <td>2020-12-31</td>\n",
       "      <td>0</td>\n",
       "      <td>2020-12-31</td>\n",
       "    </tr>\n",
       "    <tr>\n",
       "      <th>881339</th>\n",
       "      <td>LEZ20</td>\n",
       "      <td>2020-12-31 10:17:00</td>\n",
       "      <td>47</td>\n",
       "      <td>112.900</td>\n",
       "      <td>112.900</td>\n",
       "      <td>112.900</td>\n",
       "      <td>112.900</td>\n",
       "      <td>2</td>\n",
       "      <td>0.500</td>\n",
       "      <td>2020-12-31</td>\n",
       "      <td>0</td>\n",
       "      <td>2020-12-31</td>\n",
       "    </tr>\n",
       "    <tr>\n",
       "      <th>881340</th>\n",
       "      <td>LEZ20</td>\n",
       "      <td>2020-12-31 10:18:00</td>\n",
       "      <td>48</td>\n",
       "      <td>112.900</td>\n",
       "      <td>112.900</td>\n",
       "      <td>112.900</td>\n",
       "      <td>112.900</td>\n",
       "      <td>1</td>\n",
       "      <td>0.500</td>\n",
       "      <td>2020-12-31</td>\n",
       "      <td>0</td>\n",
       "      <td>2020-12-31</td>\n",
       "    </tr>\n",
       "    <tr>\n",
       "      <th>881341</th>\n",
       "      <td>LEZ20</td>\n",
       "      <td>2020-12-31 10:20:00</td>\n",
       "      <td>50</td>\n",
       "      <td>112.900</td>\n",
       "      <td>112.900</td>\n",
       "      <td>112.900</td>\n",
       "      <td>112.900</td>\n",
       "      <td>7</td>\n",
       "      <td>0.500</td>\n",
       "      <td>2020-12-31</td>\n",
       "      <td>0</td>\n",
       "      <td>2020-12-31</td>\n",
       "    </tr>\n",
       "    <tr>\n",
       "      <th>881342</th>\n",
       "      <td>LEZ20</td>\n",
       "      <td>2020-12-31 10:21:00</td>\n",
       "      <td>51</td>\n",
       "      <td>112.900</td>\n",
       "      <td>112.900</td>\n",
       "      <td>112.900</td>\n",
       "      <td>112.900</td>\n",
       "      <td>2</td>\n",
       "      <td>0.500</td>\n",
       "      <td>2020-12-31</td>\n",
       "      <td>0</td>\n",
       "      <td>2020-12-31</td>\n",
       "    </tr>\n",
       "  </tbody>\n",
       "</table>\n",
       "<p>881343 rows × 12 columns</p>\n",
       "</div>"
      ],
      "text/plain": [
       "       Symbol            DateTime  Open Minutes Offset     Open     High  \\\n",
       "0       LEG09 2007-12-14 10:59:00                   54   99.900   99.900   \n",
       "1       LEG09 2008-01-08 10:12:00                    7  101.525  101.525   \n",
       "2       LEG09 2008-01-11 10:08:00                    3  102.000  102.000   \n",
       "3       LEG09 2008-01-11 10:54:00                   49  102.900  102.900   \n",
       "4       LEG09 2008-01-11 11:01:00                   56  102.900  102.900   \n",
       "...       ...                 ...                  ...      ...      ...   \n",
       "881338  LEZ20 2020-12-31 10:15:00                   45  112.875  112.875   \n",
       "881339  LEZ20 2020-12-31 10:17:00                   47  112.900  112.900   \n",
       "881340  LEZ20 2020-12-31 10:18:00                   48  112.900  112.900   \n",
       "881341  LEZ20 2020-12-31 10:20:00                   50  112.900  112.900   \n",
       "881342  LEZ20 2020-12-31 10:21:00                   51  112.900  112.900   \n",
       "\n",
       "            Low    Close  Volume  Intraday Open Bar Price Delta  \\\n",
       "0        99.900   99.900       2                            NaN   \n",
       "1       101.525  101.525       7                            NaN   \n",
       "2       102.000  102.000      10                            NaN   \n",
       "3       102.900  102.900      20                            NaN   \n",
       "4       102.900  102.900       4                            NaN   \n",
       "...         ...      ...     ...                            ...   \n",
       "881338  112.875  112.875       3                          0.475   \n",
       "881339  112.900  112.900       2                          0.500   \n",
       "881340  112.900  112.900       1                          0.500   \n",
       "881341  112.900  112.900       7                          0.500   \n",
       "881342  112.900  112.900       2                          0.500   \n",
       "\n",
       "       Expiration Date  DTE        Date  \n",
       "0           2009-02-27  441  2007-12-14  \n",
       "1           2009-02-27  416  2008-01-08  \n",
       "2           2009-02-27  413  2008-01-11  \n",
       "3           2009-02-27  413  2008-01-11  \n",
       "4           2009-02-27  413  2008-01-11  \n",
       "...                ...  ...         ...  \n",
       "881338      2020-12-31    0  2020-12-31  \n",
       "881339      2020-12-31    0  2020-12-31  \n",
       "881340      2020-12-31    0  2020-12-31  \n",
       "881341      2020-12-31    0  2020-12-31  \n",
       "881342      2020-12-31    0  2020-12-31  \n",
       "\n",
       "[881343 rows x 12 columns]"
      ]
     },
     "execution_count": 6,
     "metadata": {},
     "output_type": "execute_result"
    }
   ],
   "source": [
    "contract_open_enriched_df"
   ]
  },
  {
   "cell_type": "code",
   "execution_count": 7,
   "metadata": {},
   "outputs": [],
   "source": [
    "rows_with_missing_open_df = contract_open_enriched_df[contract_open_enriched_df['Intraday Open Bar Price Delta'].isnull()].loc[:, contract_open_enriched_df.columns.isin(['Symbol', 'DateTime', 'DTE', 'Date'])]"
   ]
  },
  {
   "cell_type": "code",
   "execution_count": 8,
   "metadata": {},
   "outputs": [],
   "source": [
    "rows_with_open_df = contract_open_enriched_df[contract_open_enriched_df['Intraday Open Bar Price Delta'].notnull()].loc[:, contract_open_enriched_df.columns.isin(['Symbol', 'DateTime', 'DTE', 'Date'])]"
   ]
  },
  {
   "cell_type": "code",
   "execution_count": 9,
   "metadata": {},
   "outputs": [],
   "source": [
    "unique_symbols = rows_with_missing_open_df.Symbol.unique()"
   ]
  },
  {
   "cell_type": "code",
   "execution_count": 10,
   "metadata": {},
   "outputs": [],
   "source": [
    "open_bar_by_contract_count_df = pd.DataFrame(columns=['Symbol', 'Days Without Open Bar', 'Days With Open Bar'])"
   ]
  },
  {
   "cell_type": "code",
   "execution_count": 11,
   "metadata": {},
   "outputs": [],
   "source": [
    "for symbol in unique_symbols:\n",
    "    num_unique_dates_with_missing_open = calculate_num_unique_dates_for_contract(\n",
    "        contract_df=rows_with_missing_open_df, symbol=symbol\n",
    "    )\n",
    "    num_unique_dates_with_open = calculate_num_unique_dates_for_contract(\n",
    "        contract_df=rows_with_open_df, symbol=symbol\n",
    "    )\n",
    "    open_bar_by_contract_count_df = open_bar_by_contract_count_df.append({\n",
    "        'Symbol': symbol,\n",
    "        'Days Without Open Bar': num_unique_dates_with_missing_open,\n",
    "        'Days With Open Bar': num_unique_dates_with_open\n",
    "    }, ignore_index=True)\n",
    "    # print(num_unique_dates_with_missing_open)\n",
    "    \n",
    "    "
   ]
  },
  {
   "cell_type": "code",
   "execution_count": 12,
   "metadata": {},
   "outputs": [
    {
     "data": {
      "text/html": [
       "<div>\n",
       "<style scoped>\n",
       "    .dataframe tbody tr th:only-of-type {\n",
       "        vertical-align: middle;\n",
       "    }\n",
       "\n",
       "    .dataframe tbody tr th {\n",
       "        vertical-align: top;\n",
       "    }\n",
       "\n",
       "    .dataframe thead th {\n",
       "        text-align: right;\n",
       "    }\n",
       "</style>\n",
       "<table border=\"1\" class=\"dataframe\">\n",
       "  <thead>\n",
       "    <tr style=\"text-align: right;\">\n",
       "      <th></th>\n",
       "      <th>Symbol</th>\n",
       "      <th>Days Without Open Bar</th>\n",
       "      <th>Days With Open Bar</th>\n",
       "    </tr>\n",
       "  </thead>\n",
       "  <tbody>\n",
       "    <tr>\n",
       "      <th>0</th>\n",
       "      <td>LEG09</td>\n",
       "      <td>107</td>\n",
       "      <td>146</td>\n",
       "    </tr>\n",
       "    <tr>\n",
       "      <th>1</th>\n",
       "      <td>LEG10</td>\n",
       "      <td>92</td>\n",
       "      <td>165</td>\n",
       "    </tr>\n",
       "    <tr>\n",
       "      <th>2</th>\n",
       "      <td>LEG11</td>\n",
       "      <td>94</td>\n",
       "      <td>194</td>\n",
       "    </tr>\n",
       "    <tr>\n",
       "      <th>3</th>\n",
       "      <td>LEG12</td>\n",
       "      <td>105</td>\n",
       "      <td>217</td>\n",
       "    </tr>\n",
       "    <tr>\n",
       "      <th>4</th>\n",
       "      <td>LEG13</td>\n",
       "      <td>106</td>\n",
       "      <td>225</td>\n",
       "    </tr>\n",
       "    <tr>\n",
       "      <th>...</th>\n",
       "      <td>...</td>\n",
       "      <td>...</td>\n",
       "      <td>...</td>\n",
       "    </tr>\n",
       "    <tr>\n",
       "      <th>72</th>\n",
       "      <td>LEZ16</td>\n",
       "      <td>113</td>\n",
       "      <td>232</td>\n",
       "    </tr>\n",
       "    <tr>\n",
       "      <th>73</th>\n",
       "      <td>LEZ17</td>\n",
       "      <td>27</td>\n",
       "      <td>287</td>\n",
       "    </tr>\n",
       "    <tr>\n",
       "      <th>74</th>\n",
       "      <td>LEZ18</td>\n",
       "      <td>63</td>\n",
       "      <td>278</td>\n",
       "    </tr>\n",
       "    <tr>\n",
       "      <th>75</th>\n",
       "      <td>LEZ19</td>\n",
       "      <td>57</td>\n",
       "      <td>277</td>\n",
       "    </tr>\n",
       "    <tr>\n",
       "      <th>76</th>\n",
       "      <td>LEZ20</td>\n",
       "      <td>47</td>\n",
       "      <td>289</td>\n",
       "    </tr>\n",
       "  </tbody>\n",
       "</table>\n",
       "<p>77 rows × 3 columns</p>\n",
       "</div>"
      ],
      "text/plain": [
       "   Symbol Days Without Open Bar Days With Open Bar\n",
       "0   LEG09                   107                146\n",
       "1   LEG10                    92                165\n",
       "2   LEG11                    94                194\n",
       "3   LEG12                   105                217\n",
       "4   LEG13                   106                225\n",
       "..    ...                   ...                ...\n",
       "72  LEZ16                   113                232\n",
       "73  LEZ17                    27                287\n",
       "74  LEZ18                    63                278\n",
       "75  LEZ19                    57                277\n",
       "76  LEZ20                    47                289\n",
       "\n",
       "[77 rows x 3 columns]"
      ]
     },
     "execution_count": 12,
     "metadata": {},
     "output_type": "execute_result"
    }
   ],
   "source": [
    "open_bar_by_contract_count_df"
   ]
  },
  {
   "cell_type": "code",
   "execution_count": 17,
   "metadata": {},
   "outputs": [
    {
     "data": {
      "application/vnd.plotly.v1+json": {
       "config": {
        "plotlyServerURL": "https://plot.ly"
       },
       "data": [
        {
         "name": "Days Without Open Bar",
         "type": "bar",
         "x": [
          "LEG09",
          "LEG10",
          "LEG11",
          "LEG12",
          "LEG13",
          "LEG14",
          "LEG15",
          "LEG16",
          "LEG17",
          "LEG18",
          "LEG19",
          "LEG20",
          "LEJ08",
          "LEJ09",
          "LEJ10",
          "LEJ11",
          "LEJ12",
          "LEJ13",
          "LEJ14",
          "LEJ15",
          "LEJ16",
          "LEJ17",
          "LEJ18",
          "LEJ19",
          "LEJ20",
          "LEM08",
          "LEM09",
          "LEM10",
          "LEM11",
          "LEM12",
          "LEM13",
          "LEM14",
          "LEM15",
          "LEM16",
          "LEM17",
          "LEM18",
          "LEM19",
          "LEM20",
          "LEQ08",
          "LEQ09",
          "LEQ10",
          "LEQ11",
          "LEQ12",
          "LEQ13",
          "LEQ14",
          "LEQ15",
          "LEQ16",
          "LEQ17",
          "LEQ18",
          "LEQ19",
          "LEQ20",
          "LEV08",
          "LEV09",
          "LEV10",
          "LEV11",
          "LEV12",
          "LEV13",
          "LEV14",
          "LEV15",
          "LEV16",
          "LEV17",
          "LEV18",
          "LEV19",
          "LEV20",
          "LEZ08",
          "LEZ09",
          "LEZ10",
          "LEZ11",
          "LEZ12",
          "LEZ13",
          "LEZ14",
          "LEZ15",
          "LEZ16",
          "LEZ17",
          "LEZ18",
          "LEZ19",
          "LEZ20"
         ],
         "y": [
          107,
          92,
          94,
          105,
          106,
          93,
          99,
          167,
          88,
          44,
          68,
          79,
          85,
          101,
          88,
          96,
          108,
          110,
          100,
          105,
          164,
          85,
          32,
          64,
          63,
          65,
          119,
          88,
          90,
          107,
          105,
          73,
          79,
          145,
          65,
          35,
          62,
          54,
          67,
          86,
          70,
          97,
          113,
          97,
          71,
          110,
          142,
          58,
          60,
          66,
          81,
          90,
          82,
          116,
          102,
          104,
          103,
          64,
          125,
          142,
          24,
          52,
          60,
          55,
          94,
          91,
          82,
          87,
          98,
          99,
          73,
          140,
          113,
          27,
          63,
          57,
          47
         ]
        },
        {
         "name": "Days With Open Bar",
         "type": "bar",
         "x": [
          "LEG09",
          "LEG10",
          "LEG11",
          "LEG12",
          "LEG13",
          "LEG14",
          "LEG15",
          "LEG16",
          "LEG17",
          "LEG18",
          "LEG19",
          "LEG20",
          "LEJ08",
          "LEJ09",
          "LEJ10",
          "LEJ11",
          "LEJ12",
          "LEJ13",
          "LEJ14",
          "LEJ15",
          "LEJ16",
          "LEJ17",
          "LEJ18",
          "LEJ19",
          "LEJ20",
          "LEM08",
          "LEM09",
          "LEM10",
          "LEM11",
          "LEM12",
          "LEM13",
          "LEM14",
          "LEM15",
          "LEM16",
          "LEM17",
          "LEM18",
          "LEM19",
          "LEM20",
          "LEQ08",
          "LEQ09",
          "LEQ10",
          "LEQ11",
          "LEQ12",
          "LEQ13",
          "LEQ14",
          "LEQ15",
          "LEQ16",
          "LEQ17",
          "LEQ18",
          "LEQ19",
          "LEQ20",
          "LEV08",
          "LEV09",
          "LEV10",
          "LEV11",
          "LEV12",
          "LEV13",
          "LEV14",
          "LEV15",
          "LEV16",
          "LEV17",
          "LEV18",
          "LEV19",
          "LEV20",
          "LEZ08",
          "LEZ09",
          "LEZ10",
          "LEZ11",
          "LEZ12",
          "LEZ13",
          "LEZ14",
          "LEZ15",
          "LEZ16",
          "LEZ17",
          "LEZ18",
          "LEZ19",
          "LEZ20"
         ],
         "y": [
          146,
          165,
          194,
          217,
          225,
          227,
          238,
          192,
          253,
          282,
          279,
          265,
          96,
          160,
          182,
          215,
          230,
          229,
          235,
          244,
          186,
          261,
          292,
          280,
          287,
          108,
          145,
          192,
          211,
          223,
          224,
          230,
          252,
          187,
          258,
          294,
          287,
          288,
          126,
          148,
          183,
          212,
          206,
          219,
          213,
          221,
          197,
          278,
          278,
          285,
          281,
          127,
          157,
          181,
          224,
          227,
          222,
          229,
          214,
          199,
          274,
          275,
          269,
          271,
          145,
          167,
          200,
          242,
          232,
          238,
          251,
          221,
          232,
          287,
          278,
          277,
          289
         ]
        }
       ],
       "layout": {
        "autosize": true,
        "barmode": "group",
        "template": {
         "data": {
          "bar": [
           {
            "error_x": {
             "color": "#2a3f5f"
            },
            "error_y": {
             "color": "#2a3f5f"
            },
            "marker": {
             "line": {
              "color": "#E5ECF6",
              "width": 0.5
             },
             "pattern": {
              "fillmode": "overlay",
              "size": 10,
              "solidity": 0.2
             }
            },
            "type": "bar"
           }
          ],
          "barpolar": [
           {
            "marker": {
             "line": {
              "color": "#E5ECF6",
              "width": 0.5
             },
             "pattern": {
              "fillmode": "overlay",
              "size": 10,
              "solidity": 0.2
             }
            },
            "type": "barpolar"
           }
          ],
          "carpet": [
           {
            "aaxis": {
             "endlinecolor": "#2a3f5f",
             "gridcolor": "white",
             "linecolor": "white",
             "minorgridcolor": "white",
             "startlinecolor": "#2a3f5f"
            },
            "baxis": {
             "endlinecolor": "#2a3f5f",
             "gridcolor": "white",
             "linecolor": "white",
             "minorgridcolor": "white",
             "startlinecolor": "#2a3f5f"
            },
            "type": "carpet"
           }
          ],
          "choropleth": [
           {
            "colorbar": {
             "outlinewidth": 0,
             "ticks": ""
            },
            "type": "choropleth"
           }
          ],
          "contour": [
           {
            "colorbar": {
             "outlinewidth": 0,
             "ticks": ""
            },
            "colorscale": [
             [
              0,
              "#0d0887"
             ],
             [
              0.1111111111111111,
              "#46039f"
             ],
             [
              0.2222222222222222,
              "#7201a8"
             ],
             [
              0.3333333333333333,
              "#9c179e"
             ],
             [
              0.4444444444444444,
              "#bd3786"
             ],
             [
              0.5555555555555556,
              "#d8576b"
             ],
             [
              0.6666666666666666,
              "#ed7953"
             ],
             [
              0.7777777777777778,
              "#fb9f3a"
             ],
             [
              0.8888888888888888,
              "#fdca26"
             ],
             [
              1,
              "#f0f921"
             ]
            ],
            "type": "contour"
           }
          ],
          "contourcarpet": [
           {
            "colorbar": {
             "outlinewidth": 0,
             "ticks": ""
            },
            "type": "contourcarpet"
           }
          ],
          "heatmap": [
           {
            "colorbar": {
             "outlinewidth": 0,
             "ticks": ""
            },
            "colorscale": [
             [
              0,
              "#0d0887"
             ],
             [
              0.1111111111111111,
              "#46039f"
             ],
             [
              0.2222222222222222,
              "#7201a8"
             ],
             [
              0.3333333333333333,
              "#9c179e"
             ],
             [
              0.4444444444444444,
              "#bd3786"
             ],
             [
              0.5555555555555556,
              "#d8576b"
             ],
             [
              0.6666666666666666,
              "#ed7953"
             ],
             [
              0.7777777777777778,
              "#fb9f3a"
             ],
             [
              0.8888888888888888,
              "#fdca26"
             ],
             [
              1,
              "#f0f921"
             ]
            ],
            "type": "heatmap"
           }
          ],
          "heatmapgl": [
           {
            "colorbar": {
             "outlinewidth": 0,
             "ticks": ""
            },
            "colorscale": [
             [
              0,
              "#0d0887"
             ],
             [
              0.1111111111111111,
              "#46039f"
             ],
             [
              0.2222222222222222,
              "#7201a8"
             ],
             [
              0.3333333333333333,
              "#9c179e"
             ],
             [
              0.4444444444444444,
              "#bd3786"
             ],
             [
              0.5555555555555556,
              "#d8576b"
             ],
             [
              0.6666666666666666,
              "#ed7953"
             ],
             [
              0.7777777777777778,
              "#fb9f3a"
             ],
             [
              0.8888888888888888,
              "#fdca26"
             ],
             [
              1,
              "#f0f921"
             ]
            ],
            "type": "heatmapgl"
           }
          ],
          "histogram": [
           {
            "marker": {
             "pattern": {
              "fillmode": "overlay",
              "size": 10,
              "solidity": 0.2
             }
            },
            "type": "histogram"
           }
          ],
          "histogram2d": [
           {
            "colorbar": {
             "outlinewidth": 0,
             "ticks": ""
            },
            "colorscale": [
             [
              0,
              "#0d0887"
             ],
             [
              0.1111111111111111,
              "#46039f"
             ],
             [
              0.2222222222222222,
              "#7201a8"
             ],
             [
              0.3333333333333333,
              "#9c179e"
             ],
             [
              0.4444444444444444,
              "#bd3786"
             ],
             [
              0.5555555555555556,
              "#d8576b"
             ],
             [
              0.6666666666666666,
              "#ed7953"
             ],
             [
              0.7777777777777778,
              "#fb9f3a"
             ],
             [
              0.8888888888888888,
              "#fdca26"
             ],
             [
              1,
              "#f0f921"
             ]
            ],
            "type": "histogram2d"
           }
          ],
          "histogram2dcontour": [
           {
            "colorbar": {
             "outlinewidth": 0,
             "ticks": ""
            },
            "colorscale": [
             [
              0,
              "#0d0887"
             ],
             [
              0.1111111111111111,
              "#46039f"
             ],
             [
              0.2222222222222222,
              "#7201a8"
             ],
             [
              0.3333333333333333,
              "#9c179e"
             ],
             [
              0.4444444444444444,
              "#bd3786"
             ],
             [
              0.5555555555555556,
              "#d8576b"
             ],
             [
              0.6666666666666666,
              "#ed7953"
             ],
             [
              0.7777777777777778,
              "#fb9f3a"
             ],
             [
              0.8888888888888888,
              "#fdca26"
             ],
             [
              1,
              "#f0f921"
             ]
            ],
            "type": "histogram2dcontour"
           }
          ],
          "mesh3d": [
           {
            "colorbar": {
             "outlinewidth": 0,
             "ticks": ""
            },
            "type": "mesh3d"
           }
          ],
          "parcoords": [
           {
            "line": {
             "colorbar": {
              "outlinewidth": 0,
              "ticks": ""
             }
            },
            "type": "parcoords"
           }
          ],
          "pie": [
           {
            "automargin": true,
            "type": "pie"
           }
          ],
          "scatter": [
           {
            "marker": {
             "colorbar": {
              "outlinewidth": 0,
              "ticks": ""
             }
            },
            "type": "scatter"
           }
          ],
          "scatter3d": [
           {
            "line": {
             "colorbar": {
              "outlinewidth": 0,
              "ticks": ""
             }
            },
            "marker": {
             "colorbar": {
              "outlinewidth": 0,
              "ticks": ""
             }
            },
            "type": "scatter3d"
           }
          ],
          "scattercarpet": [
           {
            "marker": {
             "colorbar": {
              "outlinewidth": 0,
              "ticks": ""
             }
            },
            "type": "scattercarpet"
           }
          ],
          "scattergeo": [
           {
            "marker": {
             "colorbar": {
              "outlinewidth": 0,
              "ticks": ""
             }
            },
            "type": "scattergeo"
           }
          ],
          "scattergl": [
           {
            "marker": {
             "colorbar": {
              "outlinewidth": 0,
              "ticks": ""
             }
            },
            "type": "scattergl"
           }
          ],
          "scattermapbox": [
           {
            "marker": {
             "colorbar": {
              "outlinewidth": 0,
              "ticks": ""
             }
            },
            "type": "scattermapbox"
           }
          ],
          "scatterpolar": [
           {
            "marker": {
             "colorbar": {
              "outlinewidth": 0,
              "ticks": ""
             }
            },
            "type": "scatterpolar"
           }
          ],
          "scatterpolargl": [
           {
            "marker": {
             "colorbar": {
              "outlinewidth": 0,
              "ticks": ""
             }
            },
            "type": "scatterpolargl"
           }
          ],
          "scatterternary": [
           {
            "marker": {
             "colorbar": {
              "outlinewidth": 0,
              "ticks": ""
             }
            },
            "type": "scatterternary"
           }
          ],
          "surface": [
           {
            "colorbar": {
             "outlinewidth": 0,
             "ticks": ""
            },
            "colorscale": [
             [
              0,
              "#0d0887"
             ],
             [
              0.1111111111111111,
              "#46039f"
             ],
             [
              0.2222222222222222,
              "#7201a8"
             ],
             [
              0.3333333333333333,
              "#9c179e"
             ],
             [
              0.4444444444444444,
              "#bd3786"
             ],
             [
              0.5555555555555556,
              "#d8576b"
             ],
             [
              0.6666666666666666,
              "#ed7953"
             ],
             [
              0.7777777777777778,
              "#fb9f3a"
             ],
             [
              0.8888888888888888,
              "#fdca26"
             ],
             [
              1,
              "#f0f921"
             ]
            ],
            "type": "surface"
           }
          ],
          "table": [
           {
            "cells": {
             "fill": {
              "color": "#EBF0F8"
             },
             "line": {
              "color": "white"
             }
            },
            "header": {
             "fill": {
              "color": "#C8D4E3"
             },
             "line": {
              "color": "white"
             }
            },
            "type": "table"
           }
          ]
         },
         "layout": {
          "annotationdefaults": {
           "arrowcolor": "#2a3f5f",
           "arrowhead": 0,
           "arrowwidth": 1
          },
          "autotypenumbers": "strict",
          "coloraxis": {
           "colorbar": {
            "outlinewidth": 0,
            "ticks": ""
           }
          },
          "colorscale": {
           "diverging": [
            [
             0,
             "#8e0152"
            ],
            [
             0.1,
             "#c51b7d"
            ],
            [
             0.2,
             "#de77ae"
            ],
            [
             0.3,
             "#f1b6da"
            ],
            [
             0.4,
             "#fde0ef"
            ],
            [
             0.5,
             "#f7f7f7"
            ],
            [
             0.6,
             "#e6f5d0"
            ],
            [
             0.7,
             "#b8e186"
            ],
            [
             0.8,
             "#7fbc41"
            ],
            [
             0.9,
             "#4d9221"
            ],
            [
             1,
             "#276419"
            ]
           ],
           "sequential": [
            [
             0,
             "#0d0887"
            ],
            [
             0.1111111111111111,
             "#46039f"
            ],
            [
             0.2222222222222222,
             "#7201a8"
            ],
            [
             0.3333333333333333,
             "#9c179e"
            ],
            [
             0.4444444444444444,
             "#bd3786"
            ],
            [
             0.5555555555555556,
             "#d8576b"
            ],
            [
             0.6666666666666666,
             "#ed7953"
            ],
            [
             0.7777777777777778,
             "#fb9f3a"
            ],
            [
             0.8888888888888888,
             "#fdca26"
            ],
            [
             1,
             "#f0f921"
            ]
           ],
           "sequentialminus": [
            [
             0,
             "#0d0887"
            ],
            [
             0.1111111111111111,
             "#46039f"
            ],
            [
             0.2222222222222222,
             "#7201a8"
            ],
            [
             0.3333333333333333,
             "#9c179e"
            ],
            [
             0.4444444444444444,
             "#bd3786"
            ],
            [
             0.5555555555555556,
             "#d8576b"
            ],
            [
             0.6666666666666666,
             "#ed7953"
            ],
            [
             0.7777777777777778,
             "#fb9f3a"
            ],
            [
             0.8888888888888888,
             "#fdca26"
            ],
            [
             1,
             "#f0f921"
            ]
           ]
          },
          "colorway": [
           "#636efa",
           "#EF553B",
           "#00cc96",
           "#ab63fa",
           "#FFA15A",
           "#19d3f3",
           "#FF6692",
           "#B6E880",
           "#FF97FF",
           "#FECB52"
          ],
          "font": {
           "color": "#2a3f5f"
          },
          "geo": {
           "bgcolor": "white",
           "lakecolor": "white",
           "landcolor": "#E5ECF6",
           "showlakes": true,
           "showland": true,
           "subunitcolor": "white"
          },
          "hoverlabel": {
           "align": "left"
          },
          "hovermode": "closest",
          "mapbox": {
           "style": "light"
          },
          "paper_bgcolor": "white",
          "plot_bgcolor": "#E5ECF6",
          "polar": {
           "angularaxis": {
            "gridcolor": "white",
            "linecolor": "white",
            "ticks": ""
           },
           "bgcolor": "#E5ECF6",
           "radialaxis": {
            "gridcolor": "white",
            "linecolor": "white",
            "ticks": ""
           }
          },
          "scene": {
           "xaxis": {
            "backgroundcolor": "#E5ECF6",
            "gridcolor": "white",
            "gridwidth": 2,
            "linecolor": "white",
            "showbackground": true,
            "ticks": "",
            "zerolinecolor": "white"
           },
           "yaxis": {
            "backgroundcolor": "#E5ECF6",
            "gridcolor": "white",
            "gridwidth": 2,
            "linecolor": "white",
            "showbackground": true,
            "ticks": "",
            "zerolinecolor": "white"
           },
           "zaxis": {
            "backgroundcolor": "#E5ECF6",
            "gridcolor": "white",
            "gridwidth": 2,
            "linecolor": "white",
            "showbackground": true,
            "ticks": "",
            "zerolinecolor": "white"
           }
          },
          "shapedefaults": {
           "line": {
            "color": "#2a3f5f"
           }
          },
          "ternary": {
           "aaxis": {
            "gridcolor": "white",
            "linecolor": "white",
            "ticks": ""
           },
           "baxis": {
            "gridcolor": "white",
            "linecolor": "white",
            "ticks": ""
           },
           "bgcolor": "#E5ECF6",
           "caxis": {
            "gridcolor": "white",
            "linecolor": "white",
            "ticks": ""
           }
          },
          "title": {
           "x": 0.05
          },
          "xaxis": {
           "automargin": true,
           "gridcolor": "white",
           "linecolor": "white",
           "ticks": "",
           "title": {
            "standoff": 15
           },
           "zerolinecolor": "white",
           "zerolinewidth": 2
          },
          "yaxis": {
           "automargin": true,
           "gridcolor": "white",
           "linecolor": "white",
           "ticks": "",
           "title": {
            "standoff": 15
           },
           "zerolinecolor": "white",
           "zerolinewidth": 2
          }
         }
        },
        "title": {
         "text": "Days With and Without An Open Bar By Contract - LE Only"
        },
        "xaxis": {
         "autorange": true,
         "range": [
          -0.5,
          76.5
         ],
         "type": "category"
        },
        "yaxis": {
         "autorange": true,
         "range": [
          0,
          309.4736842105263
         ],
         "type": "linear"
        }
       }
      },
      "image/png": "[encoded data removed]",
      "text/html": [
       "<div>                            <div id=\"5f19dd60-73e6-4645-aeb0-dc41dc0f4d14\" class=\"plotly-graph-div\" style=\"height:525px; width:100%;\"></div>            <script type=\"text/javascript\">                require([\"plotly\"], function(Plotly) {                    window.PLOTLYENV=window.PLOTLYENV || {};                                    if (document.getElementById(\"5f19dd60-73e6-4645-aeb0-dc41dc0f4d14\")) {                    Plotly.newPlot(                        \"5f19dd60-73e6-4645-aeb0-dc41dc0f4d14\",                        [{\"name\":\"Days Without Open Bar\",\"x\":[\"LEG09\",\"LEG10\",\"LEG11\",\"LEG12\",\"LEG13\",\"LEG14\",\"LEG15\",\"LEG16\",\"LEG17\",\"LEG18\",\"LEG19\",\"LEG20\",\"LEJ08\",\"LEJ09\",\"LEJ10\",\"LEJ11\",\"LEJ12\",\"LEJ13\",\"LEJ14\",\"LEJ15\",\"LEJ16\",\"LEJ17\",\"LEJ18\",\"LEJ19\",\"LEJ20\",\"LEM08\",\"LEM09\",\"LEM10\",\"LEM11\",\"LEM12\",\"LEM13\",\"LEM14\",\"LEM15\",\"LEM16\",\"LEM17\",\"LEM18\",\"LEM19\",\"LEM20\",\"LEQ08\",\"LEQ09\",\"LEQ10\",\"LEQ11\",\"LEQ12\",\"LEQ13\",\"LEQ14\",\"LEQ15\",\"LEQ16\",\"LEQ17\",\"LEQ18\",\"LEQ19\",\"LEQ20\",\"LEV08\",\"LEV09\",\"LEV10\",\"LEV11\",\"LEV12\",\"LEV13\",\"LEV14\",\"LEV15\",\"LEV16\",\"LEV17\",\"LEV18\",\"LEV19\",\"LEV20\",\"LEZ08\",\"LEZ09\",\"LEZ10\",\"LEZ11\",\"LEZ12\",\"LEZ13\",\"LEZ14\",\"LEZ15\",\"LEZ16\",\"LEZ17\",\"LEZ18\",\"LEZ19\",\"LEZ20\"],\"y\":[107,92,94,105,106,93,99,167,88,44,68,79,85,101,88,96,108,110,100,105,164,85,32,64,63,65,119,88,90,107,105,73,79,145,65,35,62,54,67,86,70,97,113,97,71,110,142,58,60,66,81,90,82,116,102,104,103,64,125,142,24,52,60,55,94,91,82,87,98,99,73,140,113,27,63,57,47],\"type\":\"bar\"},{\"name\":\"Days With Open Bar\",\"x\":[\"LEG09\",\"LEG10\",\"LEG11\",\"LEG12\",\"LEG13\",\"LEG14\",\"LEG15\",\"LEG16\",\"LEG17\",\"LEG18\",\"LEG19\",\"LEG20\",\"LEJ08\",\"LEJ09\",\"LEJ10\",\"LEJ11\",\"LEJ12\",\"LEJ13\",\"LEJ14\",\"LEJ15\",\"LEJ16\",\"LEJ17\",\"LEJ18\",\"LEJ19\",\"LEJ20\",\"LEM08\",\"LEM09\",\"LEM10\",\"LEM11\",\"LEM12\",\"LEM13\",\"LEM14\",\"LEM15\",\"LEM16\",\"LEM17\",\"LEM18\",\"LEM19\",\"LEM20\",\"LEQ08\",\"LEQ09\",\"LEQ10\",\"LEQ11\",\"LEQ12\",\"LEQ13\",\"LEQ14\",\"LEQ15\",\"LEQ16\",\"LEQ17\",\"LEQ18\",\"LEQ19\",\"LEQ20\",\"LEV08\",\"LEV09\",\"LEV10\",\"LEV11\",\"LEV12\",\"LEV13\",\"LEV14\",\"LEV15\",\"LEV16\",\"LEV17\",\"LEV18\",\"LEV19\",\"LEV20\",\"LEZ08\",\"LEZ09\",\"LEZ10\",\"LEZ11\",\"LEZ12\",\"LEZ13\",\"LEZ14\",\"LEZ15\",\"LEZ16\",\"LEZ17\",\"LEZ18\",\"LEZ19\",\"LEZ20\"],\"y\":[146,165,194,217,225,227,238,192,253,282,279,265,96,160,182,215,230,229,235,244,186,261,292,280,287,108,145,192,211,223,224,230,252,187,258,294,287,288,126,148,183,212,206,219,213,221,197,278,278,285,281,127,157,181,224,227,222,229,214,199,274,275,269,271,145,167,200,242,232,238,251,221,232,287,278,277,289],\"type\":\"bar\"}],                        {\"template\":{\"data\":{\"bar\":[{\"error_x\":{\"color\":\"#2a3f5f\"},\"error_y\":{\"color\":\"#2a3f5f\"},\"marker\":{\"line\":{\"color\":\"#E5ECF6\",\"width\":0.5},\"pattern\":{\"fillmode\":\"overlay\",\"size\":10,\"solidity\":0.2}},\"type\":\"bar\"}],\"barpolar\":[{\"marker\":{\"line\":{\"color\":\"#E5ECF6\",\"width\":0.5},\"pattern\":{\"fillmode\":\"overlay\",\"size\":10,\"solidity\":0.2}},\"type\":\"barpolar\"}],\"carpet\":[{\"aaxis\":{\"endlinecolor\":\"#2a3f5f\",\"gridcolor\":\"white\",\"linecolor\":\"white\",\"minorgridcolor\":\"white\",\"startlinecolor\":\"#2a3f5f\"},\"baxis\":{\"endlinecolor\":\"#2a3f5f\",\"gridcolor\":\"white\",\"linecolor\":\"white\",\"minorgridcolor\":\"white\",\"startlinecolor\":\"#2a3f5f\"},\"type\":\"carpet\"}],\"choropleth\":[{\"colorbar\":{\"outlinewidth\":0,\"ticks\":\"\"},\"type\":\"choropleth\"}],\"contour\":[{\"colorbar\":{\"outlinewidth\":0,\"ticks\":\"\"},\"colorscale\":[[0.0,\"#0d0887\"],[0.1111111111111111,\"#46039f\"],[0.2222222222222222,\"#7201a8\"],[0.3333333333333333,\"#9c179e\"],[0.4444444444444444,\"#bd3786\"],[0.5555555555555556,\"#d8576b\"],[0.6666666666666666,\"#ed7953\"],[0.7777777777777778,\"#fb9f3a\"],[0.8888888888888888,\"#fdca26\"],[1.0,\"#f0f921\"]],\"type\":\"contour\"}],\"contourcarpet\":[{\"colorbar\":{\"outlinewidth\":0,\"ticks\":\"\"},\"type\":\"contourcarpet\"}],\"heatmap\":[{\"colorbar\":{\"outlinewidth\":0,\"ticks\":\"\"},\"colorscale\":[[0.0,\"#0d0887\"],[0.1111111111111111,\"#46039f\"],[0.2222222222222222,\"#7201a8\"],[0.3333333333333333,\"#9c179e\"],[0.4444444444444444,\"#bd3786\"],[0.5555555555555556,\"#d8576b\"],[0.6666666666666666,\"#ed7953\"],[0.7777777777777778,\"#fb9f3a\"],[0.8888888888888888,\"#fdca26\"],[1.0,\"#f0f921\"]],\"type\":\"heatmap\"}],\"heatmapgl\":[{\"colorbar\":{\"outlinewidth\":0,\"ticks\":\"\"},\"colorscale\":[[0.0,\"#0d0887\"],[0.1111111111111111,\"#46039f\"],[0.2222222222222222,\"#7201a8\"],[0.3333333333333333,\"#9c179e\"],[0.4444444444444444,\"#bd3786\"],[0.5555555555555556,\"#d8576b\"],[0.6666666666666666,\"#ed7953\"],[0.7777777777777778,\"#fb9f3a\"],[0.8888888888888888,\"#fdca26\"],[1.0,\"#f0f921\"]],\"type\":\"heatmapgl\"}],\"histogram\":[{\"marker\":{\"pattern\":{\"fillmode\":\"overlay\",\"size\":10,\"solidity\":0.2}},\"type\":\"histogram\"}],\"histogram2d\":[{\"colorbar\":{\"outlinewidth\":0,\"ticks\":\"\"},\"colorscale\":[[0.0,\"#0d0887\"],[0.1111111111111111,\"#46039f\"],[0.2222222222222222,\"#7201a8\"],[0.3333333333333333,\"#9c179e\"],[0.4444444444444444,\"#bd3786\"],[0.5555555555555556,\"#d8576b\"],[0.6666666666666666,\"#ed7953\"],[0.7777777777777778,\"#fb9f3a\"],[0.8888888888888888,\"#fdca26\"],[1.0,\"#f0f921\"]],\"type\":\"histogram2d\"}],\"histogram2dcontour\":[{\"colorbar\":{\"outlinewidth\":0,\"ticks\":\"\"},\"colorscale\":[[0.0,\"#0d0887\"],[0.1111111111111111,\"#46039f\"],[0.2222222222222222,\"#7201a8\"],[0.3333333333333333,\"#9c179e\"],[0.4444444444444444,\"#bd3786\"],[0.5555555555555556,\"#d8576b\"],[0.6666666666666666,\"#ed7953\"],[0.7777777777777778,\"#fb9f3a\"],[0.8888888888888888,\"#fdca26\"],[1.0,\"#f0f921\"]],\"type\":\"histogram2dcontour\"}],\"mesh3d\":[{\"colorbar\":{\"outlinewidth\":0,\"ticks\":\"\"},\"type\":\"mesh3d\"}],\"parcoords\":[{\"line\":{\"colorbar\":{\"outlinewidth\":0,\"ticks\":\"\"}},\"type\":\"parcoords\"}],\"pie\":[{\"automargin\":true,\"type\":\"pie\"}],\"scatter\":[{\"marker\":{\"colorbar\":{\"outlinewidth\":0,\"ticks\":\"\"}},\"type\":\"scatter\"}],\"scatter3d\":[{\"line\":{\"colorbar\":{\"outlinewidth\":0,\"ticks\":\"\"}},\"marker\":{\"colorbar\":{\"outlinewidth\":0,\"ticks\":\"\"}},\"type\":\"scatter3d\"}],\"scattercarpet\":[{\"marker\":{\"colorbar\":{\"outlinewidth\":0,\"ticks\":\"\"}},\"type\":\"scattercarpet\"}],\"scattergeo\":[{\"marker\":{\"colorbar\":{\"outlinewidth\":0,\"ticks\":\"\"}},\"type\":\"scattergeo\"}],\"scattergl\":[{\"marker\":{\"colorbar\":{\"outlinewidth\":0,\"ticks\":\"\"}},\"type\":\"scattergl\"}],\"scattermapbox\":[{\"marker\":{\"colorbar\":{\"outlinewidth\":0,\"ticks\":\"\"}},\"type\":\"scattermapbox\"}],\"scatterpolar\":[{\"marker\":{\"colorbar\":{\"outlinewidth\":0,\"ticks\":\"\"}},\"type\":\"scatterpolar\"}],\"scatterpolargl\":[{\"marker\":{\"colorbar\":{\"outlinewidth\":0,\"ticks\":\"\"}},\"type\":\"scatterpolargl\"}],\"scatterternary\":[{\"marker\":{\"colorbar\":{\"outlinewidth\":0,\"ticks\":\"\"}},\"type\":\"scatterternary\"}],\"surface\":[{\"colorbar\":{\"outlinewidth\":0,\"ticks\":\"\"},\"colorscale\":[[0.0,\"#0d0887\"],[0.1111111111111111,\"#46039f\"],[0.2222222222222222,\"#7201a8\"],[0.3333333333333333,\"#9c179e\"],[0.4444444444444444,\"#bd3786\"],[0.5555555555555556,\"#d8576b\"],[0.6666666666666666,\"#ed7953\"],[0.7777777777777778,\"#fb9f3a\"],[0.8888888888888888,\"#fdca26\"],[1.0,\"#f0f921\"]],\"type\":\"surface\"}],\"table\":[{\"cells\":{\"fill\":{\"color\":\"#EBF0F8\"},\"line\":{\"color\":\"white\"}},\"header\":{\"fill\":{\"color\":\"#C8D4E3\"},\"line\":{\"color\":\"white\"}},\"type\":\"table\"}]},\"layout\":{\"annotationdefaults\":{\"arrowcolor\":\"#2a3f5f\",\"arrowhead\":0,\"arrowwidth\":1},\"autotypenumbers\":\"strict\",\"coloraxis\":{\"colorbar\":{\"outlinewidth\":0,\"ticks\":\"\"}},\"colorscale\":{\"diverging\":[[0,\"#8e0152\"],[0.1,\"#c51b7d\"],[0.2,\"#de77ae\"],[0.3,\"#f1b6da\"],[0.4,\"#fde0ef\"],[0.5,\"#f7f7f7\"],[0.6,\"#e6f5d0\"],[0.7,\"#b8e186\"],[0.8,\"#7fbc41\"],[0.9,\"#4d9221\"],[1,\"#276419\"]],\"sequential\":[[0.0,\"#0d0887\"],[0.1111111111111111,\"#46039f\"],[0.2222222222222222,\"#7201a8\"],[0.3333333333333333,\"#9c179e\"],[0.4444444444444444,\"#bd3786\"],[0.5555555555555556,\"#d8576b\"],[0.6666666666666666,\"#ed7953\"],[0.7777777777777778,\"#fb9f3a\"],[0.8888888888888888,\"#fdca26\"],[1.0,\"#f0f921\"]],\"sequentialminus\":[[0.0,\"#0d0887\"],[0.1111111111111111,\"#46039f\"],[0.2222222222222222,\"#7201a8\"],[0.3333333333333333,\"#9c179e\"],[0.4444444444444444,\"#bd3786\"],[0.5555555555555556,\"#d8576b\"],[0.6666666666666666,\"#ed7953\"],[0.7777777777777778,\"#fb9f3a\"],[0.8888888888888888,\"#fdca26\"],[1.0,\"#f0f921\"]]},\"colorway\":[\"#636efa\",\"#EF553B\",\"#00cc96\",\"#ab63fa\",\"#FFA15A\",\"#19d3f3\",\"#FF6692\",\"#B6E880\",\"#FF97FF\",\"#FECB52\"],\"font\":{\"color\":\"#2a3f5f\"},\"geo\":{\"bgcolor\":\"white\",\"lakecolor\":\"white\",\"landcolor\":\"#E5ECF6\",\"showlakes\":true,\"showland\":true,\"subunitcolor\":\"white\"},\"hoverlabel\":{\"align\":\"left\"},\"hovermode\":\"closest\",\"mapbox\":{\"style\":\"light\"},\"paper_bgcolor\":\"white\",\"plot_bgcolor\":\"#E5ECF6\",\"polar\":{\"angularaxis\":{\"gridcolor\":\"white\",\"linecolor\":\"white\",\"ticks\":\"\"},\"bgcolor\":\"#E5ECF6\",\"radialaxis\":{\"gridcolor\":\"white\",\"linecolor\":\"white\",\"ticks\":\"\"}},\"scene\":{\"xaxis\":{\"backgroundcolor\":\"#E5ECF6\",\"gridcolor\":\"white\",\"gridwidth\":2,\"linecolor\":\"white\",\"showbackground\":true,\"ticks\":\"\",\"zerolinecolor\":\"white\"},\"yaxis\":{\"backgroundcolor\":\"#E5ECF6\",\"gridcolor\":\"white\",\"gridwidth\":2,\"linecolor\":\"white\",\"showbackground\":true,\"ticks\":\"\",\"zerolinecolor\":\"white\"},\"zaxis\":{\"backgroundcolor\":\"#E5ECF6\",\"gridcolor\":\"white\",\"gridwidth\":2,\"linecolor\":\"white\",\"showbackground\":true,\"ticks\":\"\",\"zerolinecolor\":\"white\"}},\"shapedefaults\":{\"line\":{\"color\":\"#2a3f5f\"}},\"ternary\":{\"aaxis\":{\"gridcolor\":\"white\",\"linecolor\":\"white\",\"ticks\":\"\"},\"baxis\":{\"gridcolor\":\"white\",\"linecolor\":\"white\",\"ticks\":\"\"},\"bgcolor\":\"#E5ECF6\",\"caxis\":{\"gridcolor\":\"white\",\"linecolor\":\"white\",\"ticks\":\"\"}},\"title\":{\"x\":0.05},\"xaxis\":{\"automargin\":true,\"gridcolor\":\"white\",\"linecolor\":\"white\",\"ticks\":\"\",\"title\":{\"standoff\":15},\"zerolinecolor\":\"white\",\"zerolinewidth\":2},\"yaxis\":{\"automargin\":true,\"gridcolor\":\"white\",\"linecolor\":\"white\",\"ticks\":\"\",\"title\":{\"standoff\":15},\"zerolinecolor\":\"white\",\"zerolinewidth\":2}}},\"title\":{\"text\":\"Days With and Without An Open Bar By Contract - LE Only\"},\"barmode\":\"group\"},                        {\"responsive\": true}                    ).then(function(){\n",
       "                            \n",
       "var gd = document.getElementById('5f19dd60-73e6-4645-aeb0-dc41dc0f4d14');\n",
       "var x = new MutationObserver(function (mutations, observer) {{\n",
       "        var display = window.getComputedStyle(gd).display;\n",
       "        if (!display || display === 'none') {{\n",
       "            console.log([gd, 'removed!']);\n",
       "            Plotly.purge(gd);\n",
       "            observer.disconnect();\n",
       "        }}\n",
       "}});\n",
       "\n",
       "// Listen for the removal of the full notebook cells\n",
       "var notebookContainer = gd.closest('#notebook-container');\n",
       "if (notebookContainer) {{\n",
       "    x.observe(notebookContainer, {childList: true});\n",
       "}}\n",
       "\n",
       "// Listen for the clearing of the current output cell\n",
       "var outputEl = gd.closest('.output');\n",
       "if (outputEl) {{\n",
       "    x.observe(outputEl, {childList: true});\n",
       "}}\n",
       "\n",
       "                        })                };                });            </script>        </div>"
      ]
     },
     "metadata": {},
     "output_type": "display_data"
    }
   ],
   "source": [
    "fig = go.Figure(data=[\n",
    "    go.Bar(name='Days Without Open Bar', x=unique_symbols, y=open_bar_by_contract_count_df['Days Without Open Bar']),\n",
    "    go.Bar(name='Days With Open Bar', x=unique_symbols, y=open_bar_by_contract_count_df['Days With Open Bar'])\n",
    "])\n",
    "# Change the bar mode\n",
    "fig.update_layout(barmode='group', title_text='Days With and Without An Open Bar By Contract - LE Only')\n",
    "fig.show()"
   ]
  },
  {
   "cell_type": "code",
   "execution_count": null,
   "metadata": {},
   "outputs": [],
   "source": []
  }
 ],
 "metadata": {
  "interpreter": {
   "hash": "4b9f85f12761d09f7a2bbb0ba8aed12d953e646140e52906acff268c71fcaa35"
  },
  "kernelspec": {
   "display_name": "Python 3 (ipykernel)",
   "language": "python",
   "name": "python3"
  },
  "language_info": {
   "codemirror_mode": {
    "name": "ipython",
    "version": 3
   },
   "file_extension": ".py",
   "mimetype": "text/x-python",
   "name": "python",
   "nbconvert_exporter": "python",
   "pygments_lexer": "ipython3",
   "version": "3.10.0"
  }
 },
 "nbformat": 4,
 "nbformat_minor": 4
}
