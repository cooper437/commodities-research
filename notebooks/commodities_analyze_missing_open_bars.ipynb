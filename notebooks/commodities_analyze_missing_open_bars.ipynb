{
 "cells": [
  {
   "cell_type": "code",
   "execution_count": null,
   "metadata": {},
   "outputs": [],
   "source": [
    "import os\n",
    "import pandas as pd\n",
    "import datetime as dt\n",
    "import plotly.express as px\n",
    "import plotly.graph_objects as go\n",
    "import numpy as np\n",
    "from IPython.display import display\n",
    "from tqdm.notebook import trange, tqdm"
   ]
  },
  {
   "cell_type": "markdown",
   "metadata": {},
   "source": [
    "This notebook is used to analyze our enriched contract data and provide insight on how many days are missing a true market open bar (ie they open flat) vs have a true market open bar populated.\n",
    "The data that that is gathered is grouped and visualized both by contract and by days to expiration (DTE)\n",
    "It is dependent upong the contract_open_enriched_sliding_open dataset already being populated via the apppriate predecessor etl script."
   ]
  },
  {
   "cell_type": "code",
   "execution_count": null,
   "metadata": {},
   "outputs": [],
   "source": [
    "CONTRACT_OPEN_ENRICHED_FILE_PATH = '../data/processed/futures_contracts/contract_open_enriched_sliding_open.csv'"
   ]
  },
  {
   "cell_type": "code",
   "execution_count": null,
   "metadata": {},
   "outputs": [],
   "source": [
    "def calculate_num_unique_dates_for_contract(contract_df: pd.DataFrame, symbol: str):\n",
    "    missing_open_for_contract_df = contract_df[contract_df['Symbol'] == symbol]\n",
    "    missing_open_dates_series_unique = missing_open_for_contract_df['Date'].unique()\n",
    "    num_missing_open_dates_series_unique = len(missing_open_dates_series_unique)\n",
    "    return num_missing_open_dates_series_unique"
   ]
  },
  {
   "cell_type": "code",
   "execution_count": null,
   "metadata": {},
   "outputs": [],
   "source": [
    "def filter_rows_where_day_is_missing_open(contract_df: pd.DataFrame) -> pd.DataFrame:\n",
    "    '''\n",
    "    Remove all rows where the day they are associated with is missing an actual open bar at\n",
    "    the actual market open time\n",
    "    '''\n",
    "    unique_dates = contract_df['DateTime'].dt.date.unique()\n",
    "    for a_date in unique_dates:\n",
    "        only_this_days_rows_df = contract_df[contract_df['DateTime'].dt.date == a_date]\n",
    "        has_actual_open_bar = 0 in set(\n",
    "            only_this_days_rows_df['Open Minutes Offset'])\n",
    "        if not has_actual_open_bar:  # This date is missing a real open bar\n",
    "            # Remove all bars for this date\n",
    "            contract_df = contract_df[contract_df['DateTime'].dt.date != a_date]\n",
    "        # print(\n",
    "        #     f\"Date {a_date} is missing a real open so we are removing all its bars from the df\")\n",
    "    return contract_df"
   ]
  },
  {
   "cell_type": "code",
   "execution_count": null,
   "metadata": {},
   "outputs": [],
   "source": [
    "def filter_rows_where_day_contains_open(contract_df: pd.DataFrame) -> pd.DataFrame:\n",
    "    '''\n",
    "    Remove all rows where the day they are associated with contains an actual open bar at\n",
    "    the actual market open time\n",
    "    '''\n",
    "    unique_dates = contract_df['DateTime'].dt.date.unique()\n",
    "    for a_date in unique_dates:\n",
    "        only_this_days_rows_df = contract_df[contract_df['DateTime'].dt.date == a_date]\n",
    "        has_actual_open_bar = 0 in set(\n",
    "            only_this_days_rows_df['Open Minutes Offset'])\n",
    "        if has_actual_open_bar:  # This date has a real open bar\n",
    "            # Remove all bars for this date\n",
    "            contract_df = contract_df[contract_df['DateTime'].dt.date != a_date]\n",
    "        # print(\n",
    "        #     f\"Date {a_date} is missing a real open so we are removing all its bars from the df\")\n",
    "    return contract_df"
   ]
  },
  {
   "cell_type": "code",
   "execution_count": null,
   "metadata": {},
   "outputs": [],
   "source": [
    "contract_open_enriched_df = pd.read_csv(CONTRACT_OPEN_ENRICHED_FILE_PATH, parse_dates=['DateTime'])"
   ]
  },
  {
   "cell_type": "code",
   "execution_count": null,
   "metadata": {},
   "outputs": [],
   "source": [
    "contract_open_enriched_df['Date'] = contract_open_enriched_df['DateTime'].apply(\n",
    "        lambda x: x.strftime(\"%Y-%m-%d\")\n",
    "    )"
   ]
  },
  {
   "cell_type": "code",
   "execution_count": null,
   "metadata": {},
   "outputs": [],
   "source": [
    "unique_symbols = contract_open_enriched_df.Symbol.unique()"
   ]
  },
  {
   "cell_type": "markdown",
   "metadata": {},
   "source": [
    "Iterate over our contract symbols. For each one we get the rows associated with the days that are missing a real open and the days that have a real open. This is used to populate the rows_with_missing_open_df and rows_with_populated_open_df dataframes respectively."
   ]
  },
  {
   "cell_type": "code",
   "execution_count": null,
   "metadata": {},
   "outputs": [],
   "source": [
    "rows_with_missing_open_df = pd.DataFrame()\n",
    "rows_with_populated_open_df = pd.DataFrame()\n",
    "for i in trange(len(unique_symbols), desc=\"Populating dataframes with rows missing and containing open respectively\"):\n",
    "  symbol = unique_symbols[i]\n",
    "  rows_for_one_contract_df = contract_open_enriched_df[contract_open_enriched_df['Symbol'] == symbol]\n",
    "  rows_for_one_contract_missing_open_df = filter_rows_where_day_contains_open(rows_for_one_contract_df)\n",
    "  rows_for_one_contract_containing_open_df = filter_rows_where_day_is_missing_open(rows_for_one_contract_df)\n",
    "  rows_with_missing_open_df = pd.concat([rows_with_missing_open_df, rows_for_one_contract_missing_open_df], ignore_index=True)\n",
    "  rows_with_populated_open_df = pd.concat([rows_with_populated_open_df, rows_for_one_contract_containing_open_df], ignore_index=True)\n"
   ]
  },
  {
   "cell_type": "code",
   "execution_count": null,
   "metadata": {},
   "outputs": [],
   "source": [
    "open_bar_by_contract_count_df = pd.DataFrame(columns=['Symbol', 'Days Without Open Bar', 'Days With Open Bar'])"
   ]
  },
  {
   "cell_type": "markdown",
   "metadata": {},
   "source": [
    "Iterate over our contract symbols. For each one calculate the number of unique dates that have an open bar and that do not. Add this information to the open_bar_by_contract_count_df dataframe"
   ]
  },
  {
   "cell_type": "code",
   "execution_count": null,
   "metadata": {},
   "outputs": [],
   "source": [
    "for symbol in unique_symbols:\n",
    "    num_unique_dates_with_missing_open = calculate_num_unique_dates_for_contract(\n",
    "        contract_df=rows_with_missing_open_df, symbol=symbol\n",
    "    )\n",
    "    num_unique_dates_with_open = calculate_num_unique_dates_for_contract(\n",
    "        contract_df=rows_with_populated_open_df, symbol=symbol\n",
    "    )\n",
    "    open_bar_by_contract_count_df = open_bar_by_contract_count_df.append({\n",
    "        'Symbol': symbol,\n",
    "        'Days Without Open Bar': num_unique_dates_with_missing_open,\n",
    "        'Days With Open Bar': num_unique_dates_with_open\n",
    "    }, ignore_index=True)\n",
    "    # print(num_unique_dates_with_missing_open)\n",
    "    \n",
    "    "
   ]
  },
  {
   "cell_type": "markdown",
   "metadata": {},
   "source": [
    "Initialize a dataframe that will be used to count the number of times we encounter trading days with missing and populated open bars respectively"
   ]
  },
  {
   "cell_type": "code",
   "execution_count": null,
   "metadata": {},
   "outputs": [],
   "source": [
    "days_to_expiration_open_bar_count_df = pd.DataFrame(data={\n",
    "  'DTE': pd.Series(range(0,601)),\n",
    "  'Days Without Open Bar': 0,\n",
    "  'Days With Open Bar': 0\n",
    "})"
   ]
  },
  {
   "cell_type": "code",
   "execution_count": null,
   "metadata": {},
   "outputs": [],
   "source": [
    "for i in trange(len(unique_symbols), desc=\"Calculating missing open by DTE for each contract\"):\n",
    "  symbol = unique_symbols[i]\n",
    "  missing_open_for_contract_df = rows_with_missing_open_df[rows_with_missing_open_df['Symbol'] == symbol]\n",
    "  populated_open_for_contract_df = rows_with_populated_open_df[rows_with_populated_open_df['Symbol'] == symbol]\n",
    "  dte_values_with_missing_open_bar = missing_open_for_contract_df['DTE'].unique()\n",
    "  dte_values_with_populated_open_bar = populated_open_for_contract_df['DTE'].unique()\n",
    "  # Iterate over each unique dte value thats associated with a missing open bar and increment the count in the dataframe we will be using to plot\n",
    "  for missing_dte_value in dte_values_with_missing_open_bar:\n",
    "    index_of_row_to_increment = days_to_expiration_open_bar_count_df.index[days_to_expiration_open_bar_count_df['DTE'] == missing_dte_value]\n",
    "    current_value = days_to_expiration_open_bar_count_df.iloc[index_of_row_to_increment]['Days Without Open Bar']\n",
    "    days_to_expiration_open_bar_count_df.at[index_of_row_to_increment, 'Days Without Open Bar'] = current_value + 1\n",
    "  # Iterate over each unique dte value thats associated with a populated open bar and increment the count in the dataframe we will be using to plot\n",
    "  for populated_dte_value in dte_values_with_populated_open_bar:\n",
    "    index_of_row_to_increment = days_to_expiration_open_bar_count_df.index[days_to_expiration_open_bar_count_df['DTE'] == populated_dte_value]\n",
    "    current_value = days_to_expiration_open_bar_count_df.iloc[index_of_row_to_increment]['Days With Open Bar']\n",
    "    days_to_expiration_open_bar_count_df.at[index_of_row_to_increment, 'Days With Open Bar'] = current_value + 1"
   ]
  },
  {
   "cell_type": "code",
   "execution_count": null,
   "metadata": {},
   "outputs": [],
   "source": [
    "fig = go.Figure(data=[\n",
    "    go.Bar(name='Days Without Open Bar', x=unique_symbols, y=open_bar_by_contract_count_df['Days Without Open Bar']),\n",
    "    go.Bar(name='Days With Open Bar', x=unique_symbols, y=open_bar_by_contract_count_df['Days With Open Bar'])\n",
    "])\n",
    "# Change the bar mode\n",
    "fig.update_layout(barmode='group', title_text='Number of days With and Without An Open Bar By Contract - LE Only')\n",
    "fig.show()"
   ]
  },
  {
   "cell_type": "code",
   "execution_count": null,
   "metadata": {},
   "outputs": [],
   "source": [
    "unique_dte = list(days_to_expiration_open_bar_count_df['DTE'])\n",
    "open_bar_by_contract_count_df['Days Without Open Bar']"
   ]
  },
  {
   "cell_type": "code",
   "execution_count": null,
   "metadata": {},
   "outputs": [],
   "source": [
    "days_to_expiration_open_bar_count_df['Total Days'] = days_to_expiration_open_bar_count_df['Days With Open Bar'] + days_to_expiration_open_bar_count_df['Days Without Open Bar']\n",
    "days_to_expiration_open_bar_count_df['Percentage Missing Open Bar'] = (days_to_expiration_open_bar_count_df['Days Without Open Bar'] / days_to_expiration_open_bar_count_df['Total Days']) * 100"
   ]
  },
  {
   "cell_type": "code",
   "execution_count": null,
   "metadata": {},
   "outputs": [],
   "source": [
    "dte_without_open_fig = go.Figure(data=[\n",
    "    go.Bar(name='Days Without Open Bar', x=unique_dte, y=days_to_expiration_open_bar_count_df['Days Without Open Bar'])\n",
    "])\n",
    "dte_without_open_fig.update_layout(title_text='Number of trading days without An Open Bar By DTE - LE Only')\n",
    "dte_percentage_without_open_fig = go.Figure(data=[\n",
    "    go.Bar(name='Percentage Missing Open Bar', x=unique_dte, y=days_to_expiration_open_bar_count_df['Percentage Missing Open Bar'])\n",
    "])\n",
    "dte_percentage_without_open_fig.update_layout(title_text='Percentage of trading days without An Open Bar By DTE - LE Only')\n",
    "dte_percentage_without_open_fig.show()\n",
    "dte_without_open_fig.show()"
   ]
  }
 ],
 "metadata": {
  "interpreter": {
   "hash": "4b9f85f12761d09f7a2bbb0ba8aed12d953e646140e52906acff268c71fcaa35"
  },
  "kernelspec": {
   "display_name": "Python 3 (ipykernel)",
   "language": "python",
   "name": "python3"
  },
  "language_info": {
   "codemirror_mode": {
    "name": "ipython",
    "version": 3
   },
   "file_extension": ".py",
   "mimetype": "text/x-python",
   "name": "python",
   "nbconvert_exporter": "python",
   "pygments_lexer": "ipython3",
   "version": "3.9.7"
  }
 },
 "nbformat": 4,
 "nbformat_minor": 4
}
